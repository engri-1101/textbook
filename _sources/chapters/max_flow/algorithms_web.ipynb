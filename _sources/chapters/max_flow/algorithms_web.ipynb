{
 "cells": [
  {
   "cell_type": "markdown",
   "id": "d805157f",
   "metadata": {},
   "source": [
    "# Algorithms\n",
    "\n",
    "We will now outline an algorithm that essentially follows the basic ideas that we have just implemented on the previous example. This algorithm will take a given feasible flow $f$ and either finds a new feasible flow of greater value or else proves that the current flow is optimal. The key element of this algorithm is something called the *residual graph*, which is constructed anew for each current feasible flow $f$."
   ]
  },
  {
   "cell_type": "markdown",
   "id": "21cbcf43",
   "metadata": {},
   "source": [
    "Residual graph: $G_f = (V,E_f)$ (for current flow $f$)\n",
    "1. As indicated above, the node set is $V$, the same as for the input $G$.\n",
    "\n",
    "2. For each arc $(v,w) \\in E$ such that $f(v,w) < u(v,w)$ put $(v,w)$ in $E_f$ with residual capacity equal to $u(v,w) - f(v,w)$ (How much can flow on $(v,w)$ be increased?)\n",
    "\n",
    "3. For each $(v,w) \\in E$ with $f(v,w) > 0$ put $(w,v) \\in E_f$ (not $(v,w)$!) with residual capacity equal to $f(v,w)$ (How much can flow on $(v,w)$ be decreased?)"
   ]
  },
  {
   "cell_type": "markdown",
   "id": "a69132de",
   "metadata": {},
   "source": [
    "The arcs added in step 2 are called *forward arcs* since they correspond to moving the flow forward on real arcs of the input; on the other hand, the arcs added in step 3 are called *backward arcs* since flow moving on one of these corresponds to flow moving backwards on an arc of the input.\n",
    "\n",
    "If there is a path from $s$ to $t$ in $G_f$, then $f$ is not optimal; we will indicate in the algorithm how this path can be used to generate a better feasible flow.\n",
    "\n",
    "If there is no path from $s$ to $t$ in $G_f$, let $S$ be the set of nodes in $V$ for which there is a path from $s$ (and $T$ corresponds to the restof the nodes, $V\\setminus S$). Then we claim that $(S,T)$ is a cut of capacity equal to the value of flow $f$. We next show why this is true. First, we know that for each arc $(v,w) \\in D(S,T)$, it must be the case that $f(v,w)=u(v,w)$. The reason for this is easy: if $f(v,w)$ was less than $u(v,w)$, then $(v,w)$ would be an arc in the residual graph; if $v \\in S$, then there is a path from $s$ to $v$ in $G_f$, so there must be a path from $s$ to $w$ in $G_f$ too, making $w \\in S$. But this is a contradiction, and hence $f(v,w)=u(v,w)$. Similarly, it must be the case that for each arc $(w,v)$ such that $w \\in T$ and $v \\in S$, $f(w,v)=0$. Otherwise, there would be a backwards arc $(v,w)$ in $G_f$, and since $v \\in S$, $w$ must be in $S$ too, which is a contradiction. The capacity of the cut is therefore equal to the total flow from nodes in $S$ to nodes in $T$ minus the  total flow from nodes in $T$ to nodes in $S$. The only place that flow \"can end up\" is the sink, and thus we can argue that the previous quantity is just the value of this flow $f$. The capacity of the cut $(S,T)$ is equal to the value of the flow $f$.\n",
    "\n",
    "Now we can give the steps of the algorithm that either improves a given feasible flow $f$ or else proves that it is optimal."
   ]
  },
  {
   "cell_type": "markdown",
   "id": "708e51c0",
   "metadata": {},
   "source": [
    "1. Build the residual graph $G_f$.\n",
    "\n",
    "2. Compute the set of nodes that are reachable from $s$ by a path in $G_f$.\n",
    "\n",
    "3. If $t \\in S$, then we have found a path from $s$ to $t$ in $G_f$. Compute the minimum residual capacity of the arcs in this path; call this value $\\delta$.  \n",
    "    <ol style=\"list-style-type: lower-alpha\">\n",
    "     <li>For each forward arc $(v,w)$ in path, increase flow on $(v,w)$ by $\\delta$.</li>\n",
    "     <li>For each backward arc $(w,v)$ in path, decrease flow on $(v,w)$ by $\\delta$.</li>\n",
    "    </ol>\n",
    "\n",
    "    If $t \\notin S$, then $(S,V\\setminus S)$ is a cut that proves the optimality of $f$."
   ]
  },
  {
   "cell_type": "markdown",
   "id": "11ea5232",
   "metadata": {},
   "source": [
    "There are two remaining questions.\n",
    "\n",
    "1\\. How is step 2 done?\n",
    "\n",
    "We will provide a so-called labeling algorithm that computes the set of nodes in a graph that are reachable from a specified source node $s$. (This is just a simplified version of Dijkstra's algorithm.) In the course of its execution, the algorithm marks certain nodes with a $\\surd$. Furthermore, the algorithm maintains a list of checked nodes that it still needs to process. \n",
    "\n",
    "Labeling algorithm\n",
    "1. Mark $s$ with a $\\surd$. Let the list initially contain only node $s$.  \n",
    "2. Until the list is empty:  \n",
    "    * Take any node (e.g., the first one) off of the list. Suppose that $v$ is the name of this node. For each arc leaving $v$, that is, each $(v,w) \\in E_f$, if $w$ is unchecked, check it and add it to the list.\n",
    "\n",
    "The nodes that have been checked are those nodes that are reachable from $s$ by a path in $G_f$.\n",
    "\n",
    "This can be easily implemented. Try to see what happens when you run this algorithm on the last example.\n",
    "\n",
    "2\\. How do we compute an optimal flow from scratch?\n",
    "\n",
    "Up until now, we have focused on the problem: given a feasible flow $f$, decide if it is optimal, and if not, find a better feasible flow. But now, how do we find an optimal flow without any given feasible flow? There is a simple fix for this; the flow in which each arc has flow value equal to 0 is feasible, so we can always start with this one. Then we can apply the algorithm given above until we have a feasible flow that cannot be improved, which is a maximum flow.\n",
    "\n",
    "This algorithm was discovered by Ford and Fulkerson and is usually called the Ford-Fulkerson algorithm."
   ]
  },
  {
   "cell_type": "markdown",
   "id": "f683c24f",
   "metadata": {},
   "source": [
    "**Q:** Can you write out the entire Ford-Fulkerson algorithm?"
   ]
  },
  {
   "cell_type": "markdown",
   "id": "c25b2cf7",
   "metadata": {
    "tags": [
     "web-only"
    ]
   },
   "source": [
    "```{admonition} Note\n",
    "The Ford-Fulkerson algorithm computes both the maximum flow **and** a cut of minimum capacity. While the application that we started with was formulated as a maximum flow problem, there are also many applications in which the primary aim is computing a so-called minimum cut instead. The fact that the capacity of the minimum cut is always equal to the value of the maximum flow is called the *max-flow min-cut theorem*.\n",
    "```"
   ]
  },
  {
   "cell_type": "markdown",
   "id": "cf951605",
   "metadata": {},
   "source": [
    "## Integrality Property\n",
    "\n",
    "There is one final observation that should be made about the Ford-Fulkerson algorithm. Suppose that the input has capacities that are all integers; i.e., $u(v,w)$ is an integer, for each $(v,w) \\in E$. Then it is easy to see that the algorithm always produces an optimal solution in which each flow value $f(v,w)$ is also an integer. This property is *very* important and is called the *integrality property*. \n",
    "\n",
    "This integrality property is extremely useful in formulating other problems as a maximum flow problem, where the original problem is one that you would not have suspected that it has anything to do with flow in a network. We will give two examples; one is quite simple, and one is quite involved."
   ]
  }
 ],
 "metadata": {
  "kernelspec": {
   "display_name": "Python 3 (ipykernel)",
   "language": "python",
   "name": "python3"
  },
  "language_info": {
   "codemirror_mode": {
    "name": "ipython",
    "version": 3
   },
   "file_extension": ".py",
   "mimetype": "text/x-python",
   "name": "python",
   "nbconvert_exporter": "python",
   "pygments_lexer": "ipython3",
   "version": "3.10.9"
  }
 },
 "nbformat": 4,
 "nbformat_minor": 5
}
