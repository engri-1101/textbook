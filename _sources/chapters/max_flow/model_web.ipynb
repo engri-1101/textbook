{
 "cells": [
  {
   "cell_type": "markdown",
   "id": "b8fce955",
   "metadata": {},
   "source": [
    "# Mathematical Model\n",
    "\n",
    "We shall model this problem in the following way. The network of pipes corresponds to a directed graph $G = (V,A)$. Each arc $(v,w) \\in A$ has specified capacity $u(v,w)$. There is a specified source node $s \\in V$ and a specified sink node $t \\in V$. This is the entire input to the maximum flow problem.\n",
    "\n",
    "To specify a solution for this input, we must give a flow value $f(v,w)$ for each arc $(v,w) \\in A$. Such a solution $f$ is feasible if \n",
    "1. $0 \\leq f(v,w) \\leq u(v,w)$ for each $(v,w) \\in A$; and\n",
    "2. $\\displaystyle{\\sum_{(w,v)\\in E} f(w,v) = \\sum_{(v,w)\\in E} f(v,w)}$ for each node $v \\in V \\setminus \\{s,t\\}$\n",
    "(i.e., for each node that is neither the source nor the sink).\n",
    "\n",
    "The first type of constraints, the inequalities, are called capacity constraints; and the second type, the equations, are called node flow conservation constraints.\n",
    "\n",
    "The value of a flow $f$ is the total net flow into $t$, which is equal to\n",
    "\n",
    "$$\\sum_{(w,t) \\in A} f(w,t) - \\sum_{(t,w)\\in A} f(t,w).$$\n",
    "\n",
    "This is the objective function for the maximum flow problem; in other words, we wish to find a feasible flow of maximum value."
   ]
  },
  {
   "cell_type": "markdown",
   "id": "775a9539",
   "metadata": {
    "tags": [
     "web-only"
    ]
   },
   "source": [
    "```{admonition} Maximum flow problem\n",
    "**input:**\n",
    "- directed graph $G=(V,A)$,\n",
    "- a source node $s \\in V$, a sink node $t\\in V$, and\n",
    "- a nonnegative capacity $u(v,w)$ for each arc $(v,w)\\in A$\n",
    "\n",
    "**output:**\n",
    "- a flow value $f(v,w)$ for each arc $(v,w)\\in A$ so that\n",
    "    1. $0 \\leq f(v,w) \\leq u(v,w)$ for each $(v,w) \\in A$; and\n",
    "    2. $\\displaystyle{\\sum_{(w,v)\\in A} f(w,v) = \\sum_{(v,w)\\in A} f(v,w)}$\n",
    "for each node $v \\in V \\setminus \\{s,t\\}$\n",
    "\n",
    "**goal:**\n",
    "maximize the net flow into the sink node, i.e.,\n",
    "\n",
    "$$\\text{maximize} \\sum_{(w,t) \\in A} f(w,t) - \\sum_{(t,w)\\in A} f(t,w)$$\n",
    "```"
   ]
  },
  {
   "cell_type": "markdown",
   "id": "1e58675d",
   "metadata": {},
   "source": [
    "**Q:** Do you understand the difference between a flow and the value of a flow?"
   ]
  }
 ],
 "metadata": {
  "kernelspec": {
   "display_name": "Python 3 (ipykernel)",
   "language": "python",
   "name": "python3"
  },
  "language_info": {
   "codemirror_mode": {
    "name": "ipython",
    "version": 3
   },
   "file_extension": ".py",
   "mimetype": "text/x-python",
   "name": "python",
   "nbconvert_exporter": "python",
   "pygments_lexer": "ipython3",
   "version": "3.10.9"
  }
 },
 "nbformat": 4,
 "nbformat_minor": 5
}
