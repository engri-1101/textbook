{
 "cells": [
  {
   "cell_type": "markdown",
   "metadata": {},
   "source": [
    "# Improving Tours: 2-OPT"
   ]
  },
  {
   "cell_type": "markdown",
   "metadata": {},
   "source": [
    "Above we used heuristics to create TSP tours. However, we can also use heuristics to try and improve tours we have already found. First, let's think about how we may try improving a tour."
   ]
  },
  {
   "cell_type": "code",
   "execution_count": null,
   "metadata": {},
   "outputs": [],
   "source": [
    "G = vl.grid_instance(4,4)\n",
    "tour = [6,9,8,12,13,14,15,11,10,5,4,0,1,2,3,7,6]\n",
    "show(vl.tour_plot(G, tour, width=300, height=300))"
   ]
  },
  {
   "cell_type": "markdown",
   "metadata": {},
   "source": [
    "**Q:** Look at the tour above. How might you improve this tour? How could you generalize this strategy?\n",
    "\n",
    "```{toggle}\n",
    "**A:** There are two edges that cross and we could switch them around! We can generalize this by finding edges that could improve by a switch and making switches until there are no more switches.\n",
    "```"
   ]
  },
  {
   "cell_type": "markdown",
   "metadata": {},
   "source": [
    "We will examine a tour improvement heuristic called 2-OPT in this part. 2-OPT looks for pairs of edges which can be reconnected to strictly improve the tour cost. (Note: there is only one way to reconnect a pair of edges). It continues in this fashion until no more improvements can be made. Let's run 2-OPT on our example from above! We will use `plot_two_opt` to  generate a visualization of 2-OPT. In each iteration, 2 edges will be highlighted red and 2 will be highlighted blue. The red edges indicate the current position and the blue indicate the positon they will be reconnected in."
   ]
  },
  {
   "cell_type": "code",
   "execution_count": null,
   "metadata": {},
   "outputs": [],
   "source": [
    "show(vl.tsp_heuristic_plot(G, '2-OPT', tour=tour, width=300, height=300))"
   ]
  },
  {
   "cell_type": "markdown",
   "metadata": {},
   "source": [
    "Now, we will run 2-OPT after the nearest neighbor heuristic on a 5x5 (euclidian distance) example."
   ]
  },
  {
   "cell_type": "code",
   "execution_count": null,
   "metadata": {},
   "outputs": [],
   "source": [
    "# First, we run the nearest neighbor heuristic to get an initial tour\n",
    "G = vl.grid_instance(5,5, manhattan=False)\n",
    "tour = vl.nearest_neighbor(G)\n",
    "show(vl.tour_plot(G, tour))"
   ]
  },
  {
   "cell_type": "code",
   "execution_count": null,
   "metadata": {},
   "outputs": [],
   "source": [
    "show(vl.tsp_heuristic_plot(G, '2-OPT', tour=list(tour)))"
   ]
  },
  {
   "cell_type": "markdown",
   "metadata": {},
   "source": [
    "**Q:** Run 2-OPT a few times. Do you get the same result every time? Why or why not?\n",
    "\n",
    "```{toggle}\n",
    "**A:** Yes. There is no randomness in this algorithm.\n",
    "```"
   ]
  },
  {
   "cell_type": "markdown",
   "metadata": {},
   "source": [
    "Let's run 2-OPT a few times on a slightly larger grid."
   ]
  },
  {
   "cell_type": "code",
   "execution_count": null,
   "metadata": {},
   "outputs": [],
   "source": [
    "G = vl.grid_instance(9,9, manhattan=False)\n",
    "tour = vl.nearest_neighbor(G)\n",
    "show(vl.tsp_heuristic_plot(G, '2-OPT', tour=list(tour)))"
   ]
  },
  {
   "cell_type": "markdown",
   "metadata": {},
   "source": [
    "**Q:** After running 2-OPT, do you ever get a tour which crosses itself? When using euclidian distances, is this even possible? Explain why or why not.\n",
    "\n",
    "```{toggle}\n",
    "**A:** No. This is not possible. Assume you have a tour that crosses itself. Consider the two edges that cross. You can always reconnect them to be cheaper. Hence, 2-OPT has not been run to completion. It follows that 2-OPT always terminates with a tour with no crosses.\n",
    "```"
   ]
  },
  {
   "cell_type": "markdown",
   "metadata": {},
   "source": [
    "Let's compare the heuristics with and without executing 2-OPT. While we are at it, let's compare to the optimal solution which has already been computed."
   ]
  },
  {
   "cell_type": "code",
   "execution_count": null,
   "metadata": {},
   "outputs": [],
   "source": [
    "G = vl.grid_instance(6,6, manhattan=False)\n",
    "tour = optimal_tour('6x6_grid')\n",
    "optimal_cost = vl.tour_cost(G, tour)\n",
    "show(vl.tour_plot(G, tour))"
   ]
  },
  {
   "cell_type": "code",
   "execution_count": null,
   "metadata": {},
   "outputs": [],
   "source": [
    "n = 50\n",
    "nearest_neighbor_total = 0\n",
    "nearest_insertion_total = 0\n",
    "furthest_insertion_total = 0\n",
    "nearest_neighbor_2_total = 0\n",
    "nearest_insertion_2_total = 0\n",
    "furthest_insertion_2_total = 0\n",
    "optimal_total = 0\n",
    "for i in range(n):\n",
    "    nearest_neighbor_total += vl.tour_cost(G, vl.nearest_neighbor(G))\n",
    "    nearest_insertion_total += vl.tour_cost(G, vl.nearest_insertion(G))\n",
    "    furthest_insertion_total += vl.tour_cost(G, vl.furthest_insertion(G))\n",
    "    nearest_neighbor_2_total += vl.tour_cost(G, vl.two_opt(G, vl.nearest_neighbor(G)))\n",
    "    nearest_insertion_2_total += vl.tour_cost(G, vl.two_opt(G, vl.nearest_insertion(G)))\n",
    "    furthest_insertion_2_total += vl.tour_cost(G, vl.two_opt(G, vl.furthest_insertion(G)))\n",
    "print(\"Nearest Neighbor: %s\" % (nearest_neighbor_total / n))\n",
    "print(\"Nearest Neighbor + 2-OPT: %s\" % (nearest_neighbor_2_total / n))\n",
    "print(\"Nearest Insertion: %s\" % (nearest_insertion_total / n))\n",
    "print(\"Nearest Insertion + 2-OPT: %s\" % (nearest_insertion_2_total / n))\n",
    "print(\"Furthest Insertion: %s\" % (furthest_insertion_total / n))\n",
    "print(\"Furthest Insertion + 2-OPT: %s\" % (furthest_insertion_2_total / n))\n",
    "print(\"Optimal: %s\" % (optimal_cost))"
   ]
  },
  {
   "cell_type": "markdown",
   "metadata": {},
   "source": [
    "**Q:** Compare the heuristics to their before and after 2-OPT performance. Compare them to the optimal.\n",
    "\n",
    "```{toggle}\n",
    "**A:** The nearest neighbor heuristic improved the most from 2-OPT. Both nearest and furthest insertion were often not improved by 2-OPT and came very close to the optimal. After running 2-OPT, the nearest neighbor heuristic was *near* optimal as well.\n",
    "```"
   ]
  },
  {
   "cell_type": "markdown",
   "metadata": {},
   "source": [
    "For fun, let's go back to the 23 US city example. Let's run 2-OPT on the tour you created in **Pre-Lab** (or a new one if you would like). To do this, you will need to define the tour as follows:"
   ]
  },
  {
   "cell_type": "code",
   "execution_count": null,
   "metadata": {},
   "outputs": [],
   "source": [
    "G = vl.create_network(nodes, manhattan=False)\n",
    "show(vl.create_tour_plot(G, width=600, height=375, image='images/us.png'))"
   ]
  },
  {
   "cell_type": "markdown",
   "metadata": {},
   "source": [
    "**Q:** Set the `tour` variable to be the tour you manually created."
   ]
  },
  {
   "cell_type": "code",
   "execution_count": null,
   "metadata": {},
   "outputs": [],
   "source": [
    "# We can define a tour like this:\n",
    "tour = [22,21,19,20,18,15,17,16,14,13,10,12,11,8,1,2,3,4,9,7,0,6,5,22]\n",
    "\n",
    "# After manually creating a tour, you can copy the list associated with that tour from the bottom-right\n",
    "\n",
    "# TODO: Define your tour.\n",
    "tour ="
   ]
  },
  {
   "cell_type": "markdown",
   "metadata": {},
   "source": [
    "Run 2-OPT!"
   ]
  },
  {
   "cell_type": "code",
   "execution_count": null,
   "metadata": {},
   "outputs": [],
   "source": [
    "show(vl.tsp_heuristic_plot(G, '2-OPT', tour=list(tour), width=600, height=375, image='images/us.png'))"
   ]
  },
  {
   "cell_type": "markdown",
   "metadata": {},
   "source": [
    "**Q:** Did 2-OPT improve your tour? By how much?\n",
    "\n",
    "```{toggle}\n",
    "**A:** (Based on example tour) Yes. It went from 9592.0 to 8356.8.\n",
    "```"
   ]
  },
  {
   "cell_type": "markdown",
   "metadata": {},
   "source": [
    "Now, let's look at an optimal solution!"
   ]
  },
  {
   "cell_type": "code",
   "execution_count": null,
   "metadata": {},
   "outputs": [],
   "source": [
    "tour = optimal_tour('us_cities_23')\n",
    "show(vl.tour_plot(G, tour, width=600, height=375, image='images/us.png'))"
   ]
  },
  {
   "cell_type": "markdown",
   "metadata": {},
   "source": [
    "**Q:** Was your tour optimal before or after 2-OPT?\n",
    "\n",
    "```{toggle}\n",
    "**A:** (Based on example tour) It was not optimal before 2-OPT but it become optimal afterwards!\n",
    "```"
   ]
  }
 ],
 "metadata": {
  "kernelspec": {
   "display_name": "Python 3 (ipykernel)",
   "language": "python",
   "name": "python3"
  },
  "language_info": {
   "codemirror_mode": {
    "name": "ipython",
    "version": 3
   },
   "file_extension": ".py",
   "mimetype": "text/x-python",
   "name": "python",
   "nbconvert_exporter": "python",
   "pygments_lexer": "ipython3",
   "version": "3.7.16"
  }
 },
 "nbformat": 4,
 "nbformat_minor": 4
}
