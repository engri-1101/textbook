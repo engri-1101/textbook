{
 "cells": [
  {
   "cell_type": "markdown",
   "metadata": {},
   "source": [
    "# Lab: PCB Drilling"
   ]
  },
  {
   "cell_type": "markdown",
   "metadata": {},
   "source": [
    "In the previous parts of this lab, we have considered the original application of the TSP to touring a set of cities. We also considered an arbitrary grid of nodes. In this part, we will consider a new problem to which the TSP can be applied."
   ]
  },
  {
   "cell_type": "markdown",
   "metadata": {},
   "source": [
    "Consider the manufacturing of printed circuit boards (PCBs). PCBs are used to mount integrated cicuits and combine them with other hardware. Here is a picture of a PCB after the hardware has been mounted."
   ]
  },
  {
   "cell_type": "code",
   "execution_count": null,
   "metadata": {},
   "outputs": [],
   "source": [
    "Image(\"images/pcb.jpg\", width=500, height=380)"
   ]
  },
  {
   "cell_type": "markdown",
   "metadata": {},
   "source": [
    "*Taken from [Wikipedia](https://en.wikipedia.org/wiki/Printed_circuit_board)*\n",
    "\n",
    "Before the hardware can be mounted, a large number of small holes must be drilled in the board. The hardware is the mounted by placing the pins of the component in these holes. Below, you can see the small holes before the hardware is mounted."
   ]
  },
  {
   "cell_type": "code",
   "execution_count": null,
   "metadata": {},
   "outputs": [],
   "source": [
    "Image(\"images/pcb_holes.jpg\", width=444, height=250)"
   ]
  },
  {
   "cell_type": "markdown",
   "metadata": {},
   "source": [
    "*Taken from [AiPCBA](https://www.aipcba.com/pcb/pcb-boards.html)*\n",
    "\n",
    "We are now left with an optimization problem! We have a set of holes that must be drilled in a PCB. We must specify an order to drill these holes to our drilling machine. Our goal is to choose an order that minimizes the total distance the drill travels. This problem is analogous to the TSP!"
   ]
  },
  {
   "cell_type": "markdown",
   "metadata": {},
   "source": [
    "**Q:** What are the \"nodes\" in the PCB dilling problem?\n",
    "\n",
    "**A:** <font color='blue'> The holes that must be drilled.</font>"
   ]
  },
  {
   "cell_type": "markdown",
   "metadata": {},
   "source": [
    "**Q:** What is the distance between two \"nodes\" in the PCB dilling problem? (Assume the drill can travel in a straight line from one hole to the next).\n",
    "\n",
    "**A:** <font color='blue'> The euclidian distance between the two holes.</font>"
   ]
  },
  {
   "cell_type": "markdown",
   "metadata": {},
   "source": [
    "**Q:** In answering **Q18** and **Q19**, you have fully described an input to the TSP. Assume we have a way of solving the TSP. How would you interpret the solution to the TSP (a tour of the nodes) as a solution to the PCB drilling problem?\n",
    "\n",
    "**A:** <font color='blue'>The tour of nodes is equivalent to an ordered list of holes to drill.</font>"
   ]
  },
  {
   "cell_type": "markdown",
   "metadata": {},
   "source": [
    "**Q:** Why is the optimal TSP tour correspond to an optimal PCB drilling solution?\n",
    "\n",
    "**A:** <font color='blue'>The optimal TSP tour minimizes the distance traveled between the nodes which is equivalent to the distance traveled between the holes to be drilled. This is exactly what we wish to minimize in the PCB drilling problem.</font>"
   ]
  },
  {
   "cell_type": "markdown",
   "metadata": {},
   "source": [
    "Let's start by looking at a small PCB drilling instance: `xqf131`."
   ]
  },
  {
   "cell_type": "code",
   "execution_count": null,
   "metadata": {},
   "outputs": [],
   "source": [
    "nodes = pd.read_csv('data/xqf131.csv', index_col=0)\n",
    "nodes.head() # .head() restricts the display to just show the first 5 rows."
   ]
  },
  {
   "cell_type": "code",
   "execution_count": null,
   "metadata": {},
   "outputs": [],
   "source": [
    "# Like before, we need to construct a graph from this dataframe of nodes\n",
    "G = vl.create_network(nodes)"
   ]
  },
  {
   "cell_type": "markdown",
   "metadata": {},
   "source": [
    "Let's apply some of our TSP heuristics and 2-OPT to get some good feasible solutions to this problem!"
   ]
  },
  {
   "cell_type": "code",
   "execution_count": null,
   "metadata": {},
   "outputs": [],
   "source": [
    "# Nearest neighbor\n",
    "tour = vl.nearest_neighbor(G)\n",
    "show(vl.tour_plot(G, tour))"
   ]
  },
  {
   "cell_type": "code",
   "execution_count": null,
   "metadata": {},
   "outputs": [],
   "source": [
    "# Improve with 2-OPT\n",
    "show(vl.tsp_heuristic_plot(G, '2-OPT', tour=list(tour)))"
   ]
  },
  {
   "cell_type": "code",
   "execution_count": null,
   "metadata": {},
   "outputs": [],
   "source": [
    "# Nearest insertion\n",
    "tour = vl.nearest_insertion(G)\n",
    "show(vl.tour_plot(G, tour))"
   ]
  },
  {
   "cell_type": "code",
   "execution_count": null,
   "metadata": {},
   "outputs": [],
   "source": [
    "# Optimal\n",
    "tour = optimal_tour('xqf131')\n",
    "show(vl.tour_plot(G, tour))"
   ]
  },
  {
   "cell_type": "markdown",
   "metadata": {},
   "source": [
    "**Q:** What were the following tour costs: nearest neighbor, nearest neighbor + 2-OPT, nearest insertion, and optimal? Which heuristic was closest to the optimal?\n",
    "\n",
    "**A:** <font color='blue'>Will vary. I had 713.9, 608.3, 661.2, and 567.1. Nearest neighbor + 2-OPT  was the closest to optimal. </font>"
   ]
  },
  {
   "cell_type": "markdown",
   "metadata": {},
   "source": [
    "Lastly, let's look at a well cited PCB instance in TSP literature: `pcb442`."
   ]
  },
  {
   "cell_type": "code",
   "execution_count": null,
   "metadata": {},
   "outputs": [],
   "source": [
    "nodes = pd.read_csv('data/pcb442.csv', index_col=0)\n",
    "G = vl.create_network(nodes)"
   ]
  },
  {
   "cell_type": "code",
   "execution_count": null,
   "metadata": {},
   "outputs": [],
   "source": [
    "# Furthest insertion\n",
    "tour = vl.furthest_insertion(G)\n",
    "show(vl.tour_plot(G, tour))"
   ]
  },
  {
   "cell_type": "code",
   "execution_count": null,
   "metadata": {},
   "outputs": [],
   "source": [
    "# Optimal\n",
    "tour = optimal_tour('pcb442')\n",
    "show(vl.tour_plot(G, tour))"
   ]
  }
 ],
 "metadata": {
  "kernelspec": {
   "display_name": "Python 3 (ipykernel)",
   "language": "python",
   "name": "python3"
  },
  "language_info": {
   "codemirror_mode": {
    "name": "ipython",
    "version": 3
   },
   "file_extension": ".py",
   "mimetype": "text/x-python",
   "name": "python",
   "nbconvert_exporter": "python",
   "pygments_lexer": "ipython3",
   "version": "3.7.16"
  }
 },
 "nbformat": 4,
 "nbformat_minor": 4
}
