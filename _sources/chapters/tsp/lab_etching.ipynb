{
 "cells": [
  {
   "cell_type": "markdown",
   "metadata": {},
   "source": [
    "# Lab: PCB Etching"
   ]
  },
  {
   "cell_type": "markdown",
   "metadata": {},
   "source": [
    "In this final part, we will continue to think about TSP applications arising in PCB manufacturing. We will introduce two added complications. \n",
    "\n",
    "First, in **Part IV**, we ignored a crucial part of the problem: where does the drill bit start? The drill bit must start and end in the same location. It is not good enough to just provide a tour of the holes to be drilled."
   ]
  },
  {
   "cell_type": "markdown",
   "metadata": {},
   "source": [
    "**Q:** If we just consider a tour of the holes, we miss two distances that must be travelled. What are they?\n",
    "\n",
    "**A:** <font color='blue'>The distance from the start position to the first hole drilled and the distance from the last hole drilled back to the start position.</font>"
   ]
  },
  {
   "cell_type": "markdown",
   "metadata": {},
   "source": [
    "Let's assume the start position of the drill is in the bottom left at $(0,0)$ and all of the holes to be drilled are at positions $(x,y)$ for $x,y > 0$"
   ]
  },
  {
   "cell_type": "markdown",
   "metadata": {},
   "source": [
    "**Q:** How can we adjust our TSP input to account for this? (Hint: how do the set of nodes change and what are the distances between them?)\n",
    "\n",
    "**A:** <font color='blue'>We introduce an additional node for the start position. The distances between the start position and holes is still just the euclidian distance.</font>"
   ]
  },
  {
   "cell_type": "markdown",
   "metadata": {},
   "source": [
    "If you look back at `pcb442`, you can see that the bottom left node actually represents the drill start location not a hole that needs to be drilled!"
   ]
  },
  {
   "cell_type": "markdown",
   "metadata": {},
   "source": [
    "Let's add the final complication. Suppose, instead of drilling holes, we need to make a series of etchings in the boards. Each etching has a starting location and an ending location. Hence, once the etching machine arrives at a starting location, it must make the etching and go to the corresponding ending location immediately. Below, we have an example of an etching instance. The bottom-left node represents the starting location for the etching machine. Each etching segment has a blue start location and a red end location."
   ]
  },
  {
   "cell_type": "code",
   "execution_count": null,
   "metadata": {},
   "outputs": [],
   "source": [
    "nodes = pd.read_csv('data/xqf131_etching.csv', index_col=0)\n",
    "G = vl.create_network(nodes, directed=True, manhattan=False, x_i='x_start', y_i='y_start', x_j='x_end', y_j='y_end')\n",
    "show(etching_tour_plot(G, [], width=600))"
   ]
  },
  {
   "cell_type": "markdown",
   "metadata": {},
   "source": [
    "**Q:** What are the \"nodes\" in the PCB etching problem? (Hint: Don't forget about the starting location of the etching machine.)\n",
    "\n",
    "**A:** <font color='blue'> Each etching (a combination of a starting and ending location) is a node. The final node is an etching with the same starting and ending location.</font>"
   ]
  },
  {
   "cell_type": "markdown",
   "metadata": {},
   "source": [
    "*Ask a TA if you are struggling with **Q**. Once you get that, the next questions will become clearer!*"
   ]
  },
  {
   "cell_type": "markdown",
   "metadata": {},
   "source": [
    "**Q:** What is the distance between two \"nodes\" in the PCB etching problem? (Assume the drill can travel in a straight line between two locations).\n",
    "\n",
    "**A:** <font color='blue'> The distance between node $i$ and node $j$ is the distance from the ending location of node $i$ to the starting location of node $j$.</font>"
   ]
  },
  {
   "cell_type": "markdown",
   "metadata": {},
   "source": [
    "**Q:** Our past TSP examples have been *symmetric* in that the distance from node $i$ to node $j$ was the same as the distance from node $j$ to node $i$. Is the TSP input for a PCB etching problem symmetric? Why or why not?\n",
    "\n",
    "**A:** <font color='blue'> No. The distance from the end of $i$ to the start of $j$ may be different than the distance from the end of $j$ to the start of $i$</font>"
   ]
  },
  {
   "cell_type": "markdown",
   "metadata": {},
   "source": [
    "Again, we find we can still use the TSP to solve this new problem! Let's start by applying some of our TSP heuristics. When printing the solution, the dashed lines indicate when the etching machine is moving between etchings. "
   ]
  },
  {
   "cell_type": "code",
   "execution_count": null,
   "metadata": {},
   "outputs": [],
   "source": [
    "# Nearest neighbor\n",
    "show(etching_tour_plot(G, vl.nearest_neighbor(G), width=600))"
   ]
  },
  {
   "cell_type": "code",
   "execution_count": null,
   "metadata": {},
   "outputs": [],
   "source": [
    "# Nearest insertion\n",
    "show(etching_tour_plot(G, vl.nearest_insertion(G), width=600))"
   ]
  },
  {
   "cell_type": "code",
   "execution_count": null,
   "metadata": {},
   "outputs": [],
   "source": [
    "# Furthest insertion\n",
    "show(etching_tour_plot(G, vl.furthest_insertion(G, initial_tour=[0,70,0]), width=600))"
   ]
  },
  {
   "cell_type": "markdown",
   "metadata": {},
   "source": [
    "Let's see how these solutions compare to the optimal tour!"
   ]
  },
  {
   "cell_type": "code",
   "execution_count": null,
   "metadata": {},
   "outputs": [],
   "source": [
    "# Optimal\n",
    "show(etching_tour_plot(G, optimal_tour('xqf131_etching'), width=600))\n"
   ]
  },
  {
   "cell_type": "markdown",
   "metadata": {},
   "source": [
    "**Q:** Compare the heuristics performance. How did they compare to the optimal solution?\n",
    "\n",
    "**A:** <font color='blue'>Will vary. Nearest neighbor did 879.2, nearest insertion did 715.5, furthest insertion did 667.1, and the optimal was 591.7. Furthest insertion did the best and was within 13% of the optimal value.</font> "
   ]
  },
  {
   "cell_type": "markdown",
   "metadata": {},
   "source": [
    "You may have noticed that we did not use 2-OPT to try and improve the tours. In fact, 2-OPT only applies when the distances are symmetric. In **Q**, you should have found that is not the case for the PCB drilling problem."
   ]
  },
  {
   "cell_type": "markdown",
   "metadata": {},
   "source": [
    "**Bonus:** Why does 2-OPT only apply when the distances are symmetric?\n",
    "\n",
    "**A:** <font color='blue'> When we reconnect the edges, a section of the tour is now traversed in the opposite direction. When the distances are symmetric, this does not have any affect on the objective value. However, with asymmetric distances, this *does* affect the objective value!</font>"
   ]
  }
 ],
 "metadata": {
  "kernelspec": {
   "display_name": "Python 3 (ipykernel)",
   "language": "python",
   "name": "python3"
  },
  "language_info": {
   "codemirror_mode": {
    "name": "ipython",
    "version": 3
   },
   "file_extension": ".py",
   "mimetype": "text/x-python",
   "name": "python",
   "nbconvert_exporter": "python",
   "pygments_lexer": "ipython3",
   "version": "3.7.16"
  }
 },
 "nbformat": 4,
 "nbformat_minor": 4
}
