{
 "cells": [
  {
   "cell_type": "markdown",
   "metadata": {},
   "source": [
    "# Lab: Heuristics\n",
    "\n",
    "A *heuristic* aims to find a good feasible solution to a problem although it is not guaranteed to be optimal. We will consider 4 different TSP heuristics. Before we move on, we will abstract the TSP to finding an optimal tour on a set of *nodes* rather than cities. These nodes could represent anything.\n",
    "\n",
    "- **Random Neighbor:** Start at some node. Randomly select one of the nodes which has not been visited to visit next. Continue doing so until all nodes have been visited. Return to the start.\n",
    "- **Nearest Neighbor:** Start at some node. Visit the closest unvisited node next (if there are multiple closest nodes, choose one randomly). Continue doing so until all nodes have been visited. Return to the start.\n",
    "- **Nearest Insertion:** Start with a “tour” on two of the nodes (e.g., the closest pair of nodes). Find the closest unvisited node to any node currently in tour. Insert the node into the tour at the best place (if there are multiple closest nodes, choose one to add randomly).\n",
    "- **Furthest Insertion:** Start with a “tour” on two of the nodes (e.g., the closest pair of nodes). Find the node whose smallest distance to a node already in the tour is maximized. Insert the node into the tour at the best place (if there are multiple furthest nodes, choose one to add randomly)."
   ]
  },
  {
   "cell_type": "markdown",
   "metadata": {},
   "source": [
    "**Q:** Which heuristic to you expect to perform the best? Which do you expect to perform the worst?\n",
    "\n",
    "**A:**"
   ]
  },
  {
   "cell_type": "markdown",
   "metadata": {},
   "source": [
    "To compare the heuristics, we will use a simple 6x8 grid of nodes. The cell below creates this instance. Note that we will initally use the manhattan distance."
   ]
  },
  {
   "cell_type": "code",
   "execution_count": null,
   "metadata": {},
   "outputs": [],
   "source": [
    "# nodes is the list of nodes and their position and G is the distance matrix\n",
    "G = vl.grid_instance(6, 8, manhattan=True)"
   ]
  },
  {
   "cell_type": "markdown",
   "metadata": {},
   "source": [
    "Let's use random neighbor (a terrible heuristic) to get a baseline for the length of a tour. We will use a function called `plot_tsp_heuristic` to see the mechanics of the algorithm. Run the cell and use the `Previous` and `Next` buttons to move through the iterations of the algorithm. The tour cost will update in the bottom-left. `done.` will appear in the bottom-right when the heuristic has finished.  "
   ]
  },
  {
   "cell_type": "code",
   "execution_count": null,
   "metadata": {},
   "outputs": [],
   "source": [
    "show(vl.tsp_heuristic_plot(G, 'random_neighbor', i=0))"
   ]
  },
  {
   "cell_type": "markdown",
   "metadata": {},
   "source": [
    "To view the complete tour right away, we can use the function `random_neighbor` to run the random neighbor heuristic and the function `plot_tour` to plot the tour and its cost in the lower-left."
   ]
  },
  {
   "cell_type": "code",
   "execution_count": null,
   "metadata": {},
   "outputs": [],
   "source": [
    "tour = vl.random_neighbor(G)\n",
    "# tour is an ordered list of the nodes starting and ending at the same node\n",
    "print(tour)\n",
    "show(vl.tour_plot(G, tour))"
   ]
  },
  {
   "cell_type": "markdown",
   "metadata": {},
   "source": [
    "**Q:** Does this look like a good tour to you? Run it a few times and see what the average tour cost is.\n",
    "\n",
    "```{toggle}\n",
    "**A:** No. Average around 230.\n",
    "```"
   ]
  },
  {
   "cell_type": "markdown",
   "metadata": {},
   "source": [
    "Now, let's look at the nearest neighbor heuristic."
   ]
  },
  {
   "cell_type": "code",
   "execution_count": null,
   "metadata": {},
   "outputs": [],
   "source": [
    "show(vl.tsp_heuristic_plot(G, 'nearest_neighbor', i=0))"
   ]
  },
  {
   "cell_type": "markdown",
   "metadata": {},
   "source": [
    "**Q:** As you iterate through, examine the \"choices\" made by the algorithm at each step. What does it do well? What does it do poorly?\n",
    "\n",
    "```{toggle}\n",
    "**A:** It does better than random neighbor because it often moves to a node close to the one it is currently on. However, it can essentially box itself out of certain regions of the graph. In the end, it often has to make lengthy jumps to get nodes it missed along the way.\n",
    "```"
   ]
  },
  {
   "cell_type": "markdown",
   "metadata": {},
   "source": [
    "**Q:** Run this a few times. Do you get the same tour every time? Why or why not?\n",
    "\n",
    "```{toggle}\n",
    "**A:** No, because if there are multiple choices for the closest node, one is chosen randomly.\n",
    "```"
   ]
  },
  {
   "cell_type": "markdown",
   "metadata": {},
   "source": [
    "Now, let's look at the nearest insertion heuristic."
   ]
  },
  {
   "cell_type": "code",
   "execution_count": null,
   "metadata": {},
   "outputs": [],
   "source": [
    "show(vl.tsp_heuristic_plot(G, 'nearest_insertion', initial_tour=[0,1,0]))"
   ]
  },
  {
   "cell_type": "markdown",
   "metadata": {},
   "source": [
    "**Q:** Run this a few times. How does is compare to the previous heuristics?\n",
    "\n",
    "```{toggle}\n",
    "**A:** This is the best heuristic yet. By starting with a small tour and expanding it, the boxing out issue nearest neighbor experienced is reduced.\n",
    "```"
   ]
  },
  {
   "cell_type": "markdown",
   "metadata": {},
   "source": [
    "Now, let's look at the furthest insertion heuristic."
   ]
  },
  {
   "cell_type": "code",
   "execution_count": null,
   "metadata": {},
   "outputs": [],
   "source": [
    "show(vl.tsp_heuristic_plot(G, 'furthest_insertion', initial_tour=[0,47,0]))"
   ]
  },
  {
   "cell_type": "markdown",
   "metadata": {},
   "source": [
    "**Q:** Run this a few times. How does is compare to the previous heuristics?\n",
    "\n",
    "```{toggle}\n",
    "**A:** This heuristic is comparable to nearest insertion although there may be certain circumstanes where one would be more likely to outperform the other.\n",
    "```"
   ]
  },
  {
   "cell_type": "markdown",
   "metadata": {},
   "source": [
    "To compare the heuristics further, lets run each on the 6x8 grid say, 250 times."
   ]
  },
  {
   "cell_type": "markdown",
   "metadata": {},
   "source": [
    "**Q:** Now that you have seen each heuristic, which do you think will do the best and which will do the worst?\n",
    "\n",
    "```{toggle}\n",
    "**A:** Random neighbor will do the worst and either nearest or furthest insertion will do the best.\n",
    "```"
   ]
  },
  {
   "cell_type": "code",
   "execution_count": null,
   "metadata": {},
   "outputs": [],
   "source": [
    "n = 250\n",
    "random_neighbor_total = 0\n",
    "nearest_neighbor_total = 0\n",
    "nearest_insertion_total = 0\n",
    "furthest_insertion_total = 0\n",
    "for i in range(n):\n",
    "    random_neighbor_total += vl.tour_cost(G, vl.random_neighbor(G))\n",
    "    nearest_neighbor_total += vl.tour_cost(G, vl.nearest_neighbor(G))\n",
    "    nearest_insertion_total += vl.tour_cost(G, vl.nearest_insertion(G))\n",
    "    furthest_insertion_total += vl.tour_cost(G, vl.furthest_insertion(G))\n",
    "print(\"Heuristic Averages:\")\n",
    "print(\"Random Neighbor: %s\" % (random_neighbor_total / n))\n",
    "print(\"Nearest Neighbor: %s\" % (nearest_neighbor_total / n))\n",
    "print(\"Nearest Insertion: %s\" % (nearest_insertion_total / n))\n",
    "print(\"Furthest Insertion: %s\" % (furthest_insertion_total / n))"
   ]
  },
  {
   "cell_type": "markdown",
   "metadata": {},
   "source": [
    "**Q:** What were the results? Was this what you expected?\n",
    "\n",
    "```{toggle}\n",
    "**A:** Random neighbor did significantly worse. Furthest insertion did the best with nearest insertion and nearest neighbor not to much worse. This was what I expected.\n",
    "```"
   ]
  },
  {
   "cell_type": "markdown",
   "metadata": {},
   "source": [
    "Let's look at 9x9 grid using the euclidian distance now. Run each of the cells below to see each heuristic executed on the new instance."
   ]
  },
  {
   "cell_type": "code",
   "execution_count": null,
   "metadata": {},
   "outputs": [],
   "source": [
    "G = vl.grid_instance(9, 9, manhattan=False)"
   ]
  },
  {
   "cell_type": "code",
   "execution_count": null,
   "metadata": {},
   "outputs": [],
   "source": [
    "tour = vl.random_neighbor(G)\n",
    "show(vl.tour_plot(G, tour))"
   ]
  },
  {
   "cell_type": "code",
   "execution_count": null,
   "metadata": {},
   "outputs": [],
   "source": [
    "# show(vl.tsp_heuristic_plot(G, 'nearest_neighbor', i=0))\n",
    "tour = vl.nearest_neighbor(G, i=0)\n",
    "show(vl.tour_plot(G, tour))"
   ]
  },
  {
   "cell_type": "code",
   "execution_count": null,
   "metadata": {},
   "outputs": [],
   "source": [
    "# show(vl.tsp_heuristic_plot(G, 'nearest_insertion', initial_tour=[0,1,0]))\n",
    "tour = vl.nearest_insertion(G, initial_tour=[0,1,0])\n",
    "show(vl.tour_plot(G, tour))"
   ]
  },
  {
   "cell_type": "code",
   "execution_count": null,
   "metadata": {},
   "outputs": [],
   "source": [
    "# show(vl.tsp_heuristic_plot(G, 'furthest_insertion', initial_tour=[0,80,0]))\n",
    "tour = vl.furthest_insertion(G, initial_tour = [0,80,0])\n",
    "show(vl.tour_plot(G, tour))"
   ]
  },
  {
   "cell_type": "markdown",
   "metadata": {},
   "source": [
    "**Q:** How did the results compare to the 6x8 grid using manhattan distances?\n",
    "\n",
    "```{toggle}\n",
    "**A:** Similar.\n",
    "```"
   ]
  },
  {
   "cell_type": "markdown",
   "metadata": {},
   "source": [
    "Again, let's run each heuristic numerous times and see how they compare."
   ]
  },
  {
   "cell_type": "code",
   "execution_count": null,
   "metadata": {},
   "outputs": [],
   "source": [
    "n = 100\n",
    "random_neighbor_total = 0\n",
    "nearest_neighbor_total = 0\n",
    "nearest_insertion_total = 0\n",
    "furthest_insertion_total = 0\n",
    "for i in range(n):\n",
    "    random_neighbor_total += vl.tour_cost(G, vl.random_neighbor(G))\n",
    "    nearest_neighbor_total += vl.tour_cost(G, vl.nearest_neighbor(G))\n",
    "    nearest_insertion_total += vl.tour_cost(G, vl.nearest_insertion(G))\n",
    "    furthest_insertion_total += vl.tour_cost(G, vl.furthest_insertion(G))\n",
    "print(\"Heuristic Averages:\")\n",
    "print(\"Random Neighbor: %s\" % (random_neighbor_total / n))\n",
    "print(\"Nearest Neighbor: %s\" % (nearest_neighbor_total / n))\n",
    "print(\"Nearest Insertion: %s\" % (nearest_insertion_total / n))\n",
    "print(\"Furthest Insertion: %s\" % (furthest_insertion_total / n))"
   ]
  },
  {
   "cell_type": "markdown",
   "metadata": {},
   "source": [
    "**Q:** How did the results compare to the 6x8 grid using manhattan distances?\n",
    "\n",
    "```{toggle}\n",
    "**A:** Similar.\n",
    "```"
   ]
  }
 ],
 "metadata": {
  "kernelspec": {
   "display_name": "Python 3 (ipykernel)",
   "language": "python",
   "name": "python3"
  },
  "language_info": {
   "codemirror_mode": {
    "name": "ipython",
    "version": 3
   },
   "file_extension": ".py",
   "mimetype": "text/x-python",
   "name": "python",
   "nbconvert_exporter": "python",
   "pygments_lexer": "ipython3",
   "version": "3.7.16"
  }
 },
 "nbformat": 4,
 "nbformat_minor": 4
}
