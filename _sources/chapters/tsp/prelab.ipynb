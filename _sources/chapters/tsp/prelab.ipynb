{
 "cells": [
  {
   "cell_type": "markdown",
   "id": "f14126e1",
   "metadata": {},
   "source": [
    "# Pre-Lab\n",
    "\n",
    "Consider the following TSP problem consisting of 23 US cities. Fun fact: this instance comes from the Beyoncé *On the Run II Tour*."
   ]
  },
  {
   "cell_type": "code",
   "execution_count": null,
   "id": "ec760775",
   "metadata": {},
   "outputs": [],
   "source": [
    "# Imports -- make sure you run this cell!\n",
    "# This cell contains multiple import statements. Each import statement gives the notebook access to pre-bundled\n",
    "# python code that serves some functionality. The first import statement imports all of the python code in the\n",
    "# file tsp.py. You can open this file and examine it if you so choose!\n",
    "\n",
    "from tsp import *\n",
    "import vinal as vl\n",
    "import pandas as pd\n",
    "from IPython.display import Image\n",
    "from bokeh.io import output_notebook, show\n",
    "output_notebook()"
   ]
  },
  {
   "cell_type": "code",
   "execution_count": null,
   "id": "eb0c3d0f",
   "metadata": {},
   "outputs": [],
   "source": [
    "# Imports -- make sure you run this cell!\n",
    "# This cell contains multiple import statements. Each import statement gives the notebook access to pre-bundled\n",
    "# python code that serves some functionality. The first import statement imports all of the python code in the\n",
    "# file tsp.py. You can open this file and examine it if you so choose!\n",
    "\n",
    "from tsp import *\n",
    "import vinal as vl\n",
    "import pandas as pd\n",
    "from IPython.display import Image\n",
    "from bokeh.io import output_notebook, show\n",
    "output_notebook()"
   ]
  },
  {
   "cell_type": "markdown",
   "id": "309de507",
   "metadata": {},
   "source": [
    "We can use the function `vl.create_network()` to create an graph from this CSV file of nodes."
   ]
  },
  {
   "cell_type": "code",
   "execution_count": null,
   "id": "d3f483bf",
   "metadata": {},
   "outputs": [],
   "source": [
    "# The help command returns information about what parameters this function takes\n",
    "help(vl.create_network)"
   ]
  },
  {
   "cell_type": "markdown",
   "id": "b3d97960",
   "metadata": {},
   "source": [
    "Since we only have a dataframe of nodes, this function will generate the distances between them. The parameter `manhattan` indicates how the distances should be computed.  If manhattan is true, the manhatten distance is computed. Otherwise, the euclidean distance is computed. For a city located at $(a,b)$ and a city at $(c,d)$, the manhattan distance is $|c-a| + |d-b|$ (horizontal distance plus the vertical distance). The euclidean distance is $\\sqrt{(c-a)^2 + (d-b)^2}$ (striaght-line distance)."
   ]
  },
  {
   "cell_type": "code",
   "execution_count": null,
   "id": "9bcf7125",
   "metadata": {},
   "outputs": [],
   "source": [
    "# Create the graph using the euclidean distances\n",
    "G = vl.create_network(nodes, manhattan=False)"
   ]
  },
  {
   "cell_type": "markdown",
   "id": "b06fd100",
   "metadata": {},
   "source": [
    "Now we can find a tour manually. Running the cell below will generate a visual of the 23 cities. Click on the cities one at a time to create a tour. Clicking on the last node will automatically complete the tour. In the lower-left, you will see the cost of the tour update as you create it. In the lower-right, you will see the tour."
   ]
  },
  {
   "cell_type": "code",
   "execution_count": null,
   "id": "f7cbfb86",
   "metadata": {},
   "outputs": [],
   "source": [
    "# Reminder: Click this cell and press either CTRL+Enter or Shift+Enter to run the cell\n",
    "show(vl.create_tour_plot(G, width=600, height=375, image='images/us.png'))"
   ]
  },
  {
   "cell_type": "markdown",
   "id": "7c48ed08",
   "metadata": {},
   "source": [
    "**Q:** What was the smallest tour cost you found?"
   ]
  }
 ],
 "metadata": {
  "kernelspec": {
   "display_name": "Python 3 (ipykernel)",
   "language": "python",
   "name": "python3"
  },
  "language_info": {
   "codemirror_mode": {
    "name": "ipython",
    "version": 3
   },
   "file_extension": ".py",
   "mimetype": "text/x-python",
   "name": "python",
   "nbconvert_exporter": "python",
   "pygments_lexer": "ipython3",
   "version": "3.7.16"
  }
 },
 "nbformat": 4,
 "nbformat_minor": 5
}
