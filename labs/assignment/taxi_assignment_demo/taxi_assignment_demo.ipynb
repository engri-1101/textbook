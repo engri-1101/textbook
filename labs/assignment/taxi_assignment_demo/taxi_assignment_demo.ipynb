{
 "cells": [
  {
   "cell_type": "markdown",
   "id": "35fd644f",
   "metadata": {},
   "source": [
    "This notebook was adapted heavily from Joe Ye's nyc_taxi_assignment_problem notebook."
   ]
  },
  {
   "cell_type": "code",
   "execution_count": null,
   "id": "8460edb7",
   "metadata": {},
   "outputs": [],
   "source": [
    "import pandas as pd\n",
    "import numpy as np\n",
    "import networkx as nx\n",
    "from ortools.graph import pywrapgraph\n",
    "from ortools.linear_solver import pywraplp as OR\n",
    "import copy\n",
    "\n",
    "from bokeh import palettes\n",
    "from bokeh.plotting import figure, show\n",
    "from bokeh.io import output_notebook\n",
    "from bokeh.tile_providers import get_provider, Vendors\n",
    "from bokeh.models import (GraphRenderer, Circle, Rect, MultiLine, StaticLayoutProvider,\n",
    "                          HoverTool, TapTool, EdgesAndLinkedNodes, NodesAndLinkedEdges,\n",
    "                          ColumnDataSource, LabelSet, NodesOnly, Legend)\n",
    "\n",
    "output_notebook()"
   ]
  },
  {
   "cell_type": "code",
   "execution_count": null,
   "id": "242adcd5",
   "metadata": {},
   "outputs": [],
   "source": [
    "# Defines the time periods to use for pickup and dropoff, this example starts at 5:00 PM\n",
    "dropoff_window_start = 1020\n",
    "dropoff_window_duration = 5\n",
    "gap_interval_duration = 3\n",
    "pickup_window_duration = 5\n",
    "\n",
    "# Window for travel time\n",
    "travel_window = 10\n",
    "# Enforces travel time to be less than the travel window. Also uses travel times as cost instead of wait time \n",
    "use_travel_time_as_cost = True\n",
    "\n",
    "# If this is True, will slide the dropoff window back until there are at least as many dropoffs as pickups\n",
    "slide_dropoff_window = True"
   ]
  },
  {
   "cell_type": "markdown",
   "id": "6562cd90",
   "metadata": {},
   "source": [
    "## Data Processing"
   ]
  },
  {
   "cell_type": "code",
   "execution_count": null,
   "id": "fbaccf2c",
   "metadata": {},
   "outputs": [],
   "source": [
    "# Get data from the csv\n",
    "trips_df = pd.read_csv('data/2013-09-01_trip_data_manhattan.csv').drop(columns='id')\n",
    "nodes_df = pd.read_csv('data/nyc_nodes_manhattan.csv').drop(columns='Unnamed: 0')"
   ]
  },
  {
   "cell_type": "code",
   "execution_count": null,
   "id": "4562eb28",
   "metadata": {},
   "outputs": [],
   "source": [
    "def get_trips(start_time, duration):\n",
    "    \"\"\"Returns all trips between start_time and start_time+duration\"\"\"\n",
    "    end_time = start_time + duration\n",
    "    trips = trips_df.copy()\n",
    "    trips = trips[(trips.start_time >= start_time) & \n",
    "              (trips.start_time + trips.trip_time <= end_time)].copy()\n",
    "    return trips"
   ]
  },
  {
   "cell_type": "code",
   "execution_count": null,
   "id": "7ea55099",
   "metadata": {},
   "outputs": [],
   "source": [
    "# Load all pickups from the relevant window. Tuple of (Location id, pickup time, trip id, 'PU')\n",
    "PU_nodes = []\n",
    "trips = get_trips(dropoff_window_start+dropoff_window_duration+gap_interval_duration, pickup_window_duration)\n",
    "for index, row in trips.iterrows():\n",
    "    s = row['start_node']\n",
    "    s_t = row['start_time']\n",
    "    PU_node = (int(s), s_t, index, 'PU')\n",
    "    PU_nodes.append(PU_node)"
   ]
  },
  {
   "cell_type": "code",
   "execution_count": null,
   "id": "c9756ef4",
   "metadata": {},
   "outputs": [],
   "source": [
    "# Load all dropoffs from the relevant window. Tuple of (Location id, dropoff time, trip id, 'DO')\n",
    "sliding = True\n",
    "while sliding:\n",
    "    DO_nodes = []\n",
    "    trips = get_trips(dropoff_window_start, dropoff_window_duration)\n",
    "    for index, row in trips.iterrows():\n",
    "        t = row['end_node']\n",
    "        s_t = row['start_time']\n",
    "        t_t = row['trip_time']    \n",
    "        DO_node = (int(t), s_t + t_t, index, 'DO')\n",
    "        DO_nodes.append(DO_node)\n",
    "    if len(DO_nodes) >= len(PU_nodes) or not slide_dropoff_window or dropoff_window_start <= 0:\n",
    "        sliding = False\n",
    "    else:\n",
    "        dropoff_window_start -= 1\n",
    "        dropoff_window_duration += 1"
   ]
  },
  {
   "cell_type": "code",
   "execution_count": null,
   "id": "da58b2e0",
   "metadata": {},
   "outputs": [],
   "source": [
    "# Sort nodes by time\n",
    "DO_nodes.sort(key = lambda x: x[1])\n",
    "PU_nodes.sort(key = lambda x: x[1])\n",
    "\n",
    "# Assign each node a unique integer id\n",
    "identifier = 0\n",
    "for i, node in enumerate(DO_nodes):\n",
    "    DO_nodes[i] = tuple(list(node) + [identifier])\n",
    "    identifier += 1\n",
    "for i, node in enumerate(PU_nodes):\n",
    "    PU_nodes[i] = tuple(list(node) + [identifier])\n",
    "    identifier += 1"
   ]
  },
  {
   "cell_type": "code",
   "execution_count": null,
   "id": "632a0da8",
   "metadata": {},
   "outputs": [],
   "source": [
    "print(f'There are {len(DO_nodes)} dropoff nodes.')"
   ]
  },
  {
   "cell_type": "code",
   "execution_count": null,
   "id": "6bc47f2a",
   "metadata": {},
   "outputs": [],
   "source": [
    "print(f'There are {len(PU_nodes)} pickup nodes.')"
   ]
  },
  {
   "cell_type": "code",
   "execution_count": null,
   "id": "a2dc4dbe",
   "metadata": {},
   "outputs": [],
   "source": [
    "# Generate time to travel from a DO node to a PU nodes, assumes 2 minutes per km\n",
    "# Could instead use a precomputed structure for each node pair \n",
    "def compute_time(DO, PU):\n",
    "    lat1 = nodes_df.loc[DO_node[0], 'lat']\n",
    "    lon1 = nodes_df.loc[DO_node[0], 'lon']\n",
    "    lat2 = nodes_df.loc[PU_node[0], 'lat']\n",
    "    lon2 = nodes_df.loc[PU_node[0], 'lon']\n",
    "    R = 6371 # Radius of earth in km\n",
    "    distance = 0.01 + R * np.sqrt((lon1 - lon2)**2 + (lat1 - lat2)**2) * np.pi / 180\n",
    "    return 2 * distance"
   ]
  },
  {
   "cell_type": "code",
   "execution_count": null,
   "id": "3d0e63d5",
   "metadata": {},
   "outputs": [],
   "source": [
    "# Create an arc from each DO node to a PU node iff the taxi can make it in time and within travel window\n",
    "# [(Start node, end node, cost), ...]\n",
    "arcs = []\n",
    "for DO_node in DO_nodes:\n",
    "    for PU_node in PU_nodes:\n",
    "        if PU_node[1] >= DO_node[1]:\n",
    "            time = compute_time(DO_node, PU_node)\n",
    "            arrival_time = DO_node[1] + time\n",
    "            latest_valid_arrival = PU_node[1] + pickup_window_duration\n",
    "            if arrival_time <= latest_valid_arrival and time <= travel_window:\n",
    "                cost = arrival_time - PU_node[1]\n",
    "                if use_travel_time_as_cost:\n",
    "                    cost = time\n",
    "                cost = 0 if cost <= 0 else int(cost * 1000)\n",
    "                arcs.append((DO_node, PU_node, cost))"
   ]
  },
  {
   "cell_type": "markdown",
   "id": "e0c8e83f",
   "metadata": {},
   "source": [
    "## Bipartite Graph Assignment"
   ]
  },
  {
   "cell_type": "code",
   "execution_count": null,
   "id": "b39db970",
   "metadata": {},
   "outputs": [],
   "source": [
    "# Uses networkx to solve a bipartite matching formulation\n",
    "def find_optimal_matching():\n",
    "    B = nx.Graph()\n",
    "    B.add_nodes_from(DO_nodes, bipartite=0)\n",
    "    B.add_nodes_from(PU_nodes, bipartite=1)\n",
    "    B.add_edges_from([arc[:2] for arc in arcs])\n",
    "    \n",
    "    top_nodes = {n for n, d in B.nodes(data = True) if d[\"bipartite\"] == 0}\n",
    "    \n",
    "    return nx.bipartite.maximum_matching(B, DO_nodes)\n",
    "    \n",
    "match = find_optimal_matching()"
   ]
  },
  {
   "cell_type": "code",
   "execution_count": null,
   "id": "42a48f24",
   "metadata": {},
   "outputs": [],
   "source": [
    "optimal_cardinality = int(len(match) / 2)\n",
    "print('Max cardinality:', optimal_cardinality)"
   ]
  },
  {
   "cell_type": "code",
   "execution_count": null,
   "id": "e8602a9b",
   "metadata": {},
   "outputs": [],
   "source": [
    "print('Unmatched pickups:', len(PU_nodes) - optimal_cardinality)"
   ]
  },
  {
   "cell_type": "markdown",
   "id": "0f0307a0",
   "metadata": {},
   "source": [
    "So, to fulfill the most orders, we follow the assignment below."
   ]
  },
  {
   "cell_type": "code",
   "execution_count": null,
   "id": "44e3a44a",
   "metadata": {},
   "outputs": [],
   "source": [
    "max_match_paths = []\n",
    "for do, pu in match.items():\n",
    "    if pu[3] == 'DO':\n",
    "        continue\n",
    "    max_match_paths.append([(do[:4],pu[:4],False)])\n",
    "    print(f'The taxi from trip #{do[2]} should pick up the passenger from trip #{pu[2]}.')"
   ]
  },
  {
   "cell_type": "code",
   "execution_count": null,
   "id": "4ef76a18",
   "metadata": {},
   "outputs": [],
   "source": [
    "# Calculate passenger wait time for the solution\n",
    "# Creates a dictionary for quick arc cost lookups\n",
    "arc_dict = {(arc[0], arc[1]): arc[2] for arc in arcs}\n",
    "wait_time = sum(arc_dict[(do,pu)] for do, pu in match.items() if pu[3] != 'DO')\n",
    "if use_travel_time_as_cost:\n",
    "    print(f'The total travel time is {wait_time / 1000} minutes.')\n",
    "else:\n",
    "    print(f'The passengers have to wait a total of {wait_time / 1000} minutes.')\n",
    "# Free the lookup dictionary\n",
    "del arc_dict"
   ]
  },
  {
   "cell_type": "markdown",
   "id": "b3dfef2a",
   "metadata": {},
   "source": [
    "## Min-Cost Flow Model"
   ]
  },
  {
   "cell_type": "markdown",
   "id": "83f9f635",
   "metadata": {},
   "source": [
    "We can also model this problem as a minimum-cost flow problem. This way we can minimize the amount of time that customers spend waiting.\n",
    "\n",
    "For a valid solution to exist, however, we need to know the maximum number of pickups that we can fill. Luckily, we recently found just that! We stored the value in the optimal_cardinality variable."
   ]
  },
  {
   "cell_type": "code",
   "execution_count": null,
   "id": "716fdfa6",
   "metadata": {},
   "outputs": [],
   "source": [
    "# Create a source and sink node\n",
    "source = (0,0,0,'SOURCE',identifier)\n",
    "identifier += 1\n",
    "sink = (0,0,0,'SINK',identifier)\n",
    "identifier += 1\n",
    "\n",
    "# Add arc from source to each dropoff with cost 0\n",
    "for node in DO_nodes:\n",
    "    arcs.append((source, node, 0))\n",
    "\n",
    "# Add arc from each pickup to the sink with cost 0\n",
    "for node in PU_nodes:\n",
    "    arcs.append((node, sink, 0))"
   ]
  },
  {
   "cell_type": "code",
   "execution_count": null,
   "id": "4a163e81",
   "metadata": {},
   "outputs": [],
   "source": [
    "start_nodes = [arc[0][4] for arc in arcs]\n",
    "end_nodes = [arc[1][4] for arc in arcs]\n",
    "capacities = [1] * len(arcs)\n",
    "unit_costs = [arc[2] for arc in arcs]\n",
    "\n",
    "supplies = [0] * (identifier)\n",
    "supplies[source[4]], supplies[sink[4]] = optimal_cardinality, -1 * optimal_cardinality"
   ]
  },
  {
   "cell_type": "code",
   "execution_count": null,
   "id": "5c2f3784",
   "metadata": {},
   "outputs": [],
   "source": [
    "min_cost_flow = pywrapgraph.SimpleMinCostFlow()\n",
    "\n",
    "for arc in zip(start_nodes, end_nodes, capacities, unit_costs):\n",
    "        min_cost_flow.AddArcWithCapacityAndUnitCost(*arc)\n",
    "        \n",
    "for count, supply in enumerate(supplies):\n",
    "        min_cost_flow.SetNodeSupply(count, supply)"
   ]
  },
  {
   "cell_type": "code",
   "execution_count": null,
   "id": "1387b12e",
   "metadata": {},
   "outputs": [],
   "source": [
    "status = min_cost_flow.Solve()\n",
    "\n",
    "if status != min_cost_flow.OPTIMAL:\n",
    "        print('There was an issue with the min cost flow input.')\n",
    "        print(f'Status: {status}')\n",
    "if use_travel_time_as_cost:\n",
    "    print(f'The total travel time is {min_cost_flow.OptimalCost() / 1000} minutes.')\n",
    "else:\n",
    "    print(f'The passengers have to wait a total of {min_cost_flow.OptimalCost() / 1000} minutes.')"
   ]
  },
  {
   "cell_type": "markdown",
   "id": "697d672b",
   "metadata": {},
   "source": [
    "So, if we follow the assignment below, the passengers only need to wait this long for their taxis!"
   ]
  },
  {
   "cell_type": "code",
   "execution_count": null,
   "id": "e8b8ae07",
   "metadata": {},
   "outputs": [],
   "source": [
    "# Find the taxi assignments\n",
    "# Creates a dictionary for fast lookups\n",
    "trip_dict = {node[4]: node for node in DO_nodes + PU_nodes}\n",
    "# Holds the path of each taxi\n",
    "min_cost_paths = []\n",
    "for i in range(min_cost_flow.NumArcs()):\n",
    "    if min_cost_flow.Flow(i) == 1 and min_cost_flow.Tail(i) != source[4] and min_cost_flow.Head(i) != sink[4]:\n",
    "        do = trip_dict[min_cost_flow.Tail(i)]\n",
    "        pu = trip_dict[min_cost_flow.Head(i)]\n",
    "        min_cost_paths.append([(do[:4], pu[:4], False)])\n",
    "        print(f'The taxi from trip #{do[2]} should pick up the passenger from trip #{pu[2]}.')\n",
    "# Free the lookup dictionary\n",
    "del trip_dict"
   ]
  },
  {
   "cell_type": "markdown",
   "id": "c15bfab6",
   "metadata": {},
   "source": [
    "## Visualization"
   ]
  },
  {
   "cell_type": "code",
   "execution_count": null,
   "id": "d4510c79",
   "metadata": {},
   "outputs": [],
   "source": [
    "def plot_taxi_locations(starts, ends, title):\n",
    "\n",
    "    # lists for initial location nodes\n",
    "    start_nodes = []\n",
    "    end_nodes = []\n",
    "\n",
    "    for node in starts:\n",
    "        # add start node information\n",
    "        start_nodes.append(node[0])\n",
    "\n",
    "    for node in ends:\n",
    "        # add end node information\n",
    "        end_nodes.append(node[0])\n",
    "\n",
    "    # parallel lists for nodes\n",
    "    nodes = nodes_df.loc[list(set(start_nodes + end_nodes))]\n",
    "    node_ids = nodes.name.values.tolist()\n",
    "    x = nodes.x.values.tolist()\n",
    "    y = nodes.y.values.tolist()\n",
    "\n",
    "    # get plot boundaries\n",
    "    min_x, max_x = -8240298.040280505, -8230749.832964136\n",
    "    min_y, max_y = 4968176.938664163, 4984234.650659162\n",
    "\n",
    "    # get plot boundaries\n",
    "    if len(nodes.x >= 1):\n",
    "        min_x, max_x = min(nodes.x)-1000, max(nodes.x)+1000\n",
    "    if len(nodes.y >= 1):\n",
    "        min_y, max_y = min(nodes.y)-1000, max(nodes.y)+1000\n",
    "\n",
    "    plot = figure(x_range=(min_x, max_x), y_range=(min_y, max_y),\n",
    "                  x_axis_type=\"mercator\", y_axis_type=\"mercator\",\n",
    "                  title=title, plot_width=600, plot_height=470)\n",
    "    plot.add_tile(get_provider(Vendors.CARTODBPOSITRON_RETINA))\n",
    "\n",
    "    graph = GraphRenderer()\n",
    "\n",
    "    end_graph = GraphRenderer()\n",
    "\n",
    "    # define initial location nodes\n",
    "    graph.node_renderer.data_source.add(start_nodes, 'index')\n",
    "    graph.node_renderer.glyph = Circle(size=7,line_width=0,fill_alpha=1, fill_color='green')\n",
    "\n",
    "    # define end location nodes\n",
    "    end_graph.node_renderer.data_source.add(end_nodes, 'index')\n",
    "    end_graph.node_renderer.glyph = Rect(height=7,width=7,\n",
    "                                         height_units='screen',\n",
    "                                         width_units='screen',\n",
    "                                         line_width=0,fill_alpha=1, fill_color='red')\n",
    "\n",
    "    # set node locations\n",
    "    graph_layout = dict(zip(node_ids, zip(x, y)))\n",
    "    graph.layout_provider = StaticLayoutProvider(graph_layout=graph_layout)\n",
    "\n",
    "    end_graph.layout_provider = StaticLayoutProvider(graph_layout=graph_layout)\n",
    "    \n",
    "    legend = Legend(items=[(\"dropoff locations\", [graph.node_renderer]),\n",
    "                            (\"pickup locations\", [end_graph.node_renderer])],\n",
    "                 location=\"top_left\", background_fill_alpha=0.8)\n",
    "\n",
    "    plot.renderers.append(graph)\n",
    "    plot.renderers.append(end_graph)\n",
    "    plot.add_layout(legend)\n",
    "    show(plot)"
   ]
  },
  {
   "cell_type": "code",
   "execution_count": null,
   "id": "08b50bda",
   "metadata": {},
   "outputs": [],
   "source": [
    "def plot_taxi_route(paths, title='Taxi Routes'):\n",
    "    \"\"\"Plot the path of every taxi in the given list on the Manhattan grid.\"\"\"\n",
    "    \n",
    "    # parallel lists for every arc\n",
    "    start = []  # start node\n",
    "    end = []  # end node\n",
    "    color = []  # color code by taxi\n",
    "    alpha = []  # opacity lower on trip arcs\n",
    "\n",
    "    # parallel lists for initial location nodes\n",
    "    start_nodes = []\n",
    "    start_colors = []\n",
    "    \n",
    "    end_nodes = []\n",
    "    end_colors = []\n",
    "\n",
    "    colors = palettes.Category10[10]\n",
    "    c = 0\n",
    "\n",
    "    for path in paths:\n",
    "\n",
    "        # add start node information for this taxi\n",
    "        start_nodes.append(path[0][0][0])\n",
    "        start_colors.append(colors[c])\n",
    "        \n",
    "        # adds a colored node to the end of paths\n",
    "        end_nodes.append(path[0][1][0])\n",
    "        end_colors.append(colors[c])\n",
    "\n",
    "        for comp in path:\n",
    "            start.append(comp[0][0])\n",
    "            end.append(comp[1][0])\n",
    "            alpha.append({True : 0.3, False : 1}[comp[2]])\n",
    "            color.append(colors[c])\n",
    "\n",
    "        c = c + 1 if c < len(colors)-1 else 0\n",
    "    \n",
    "    # parallel lists for nodes\n",
    "    nodes = nodes_df.loc[list(set(start + end))]\n",
    "    node_ids = nodes.name.values.tolist()\n",
    "    x = nodes.x.values.tolist()\n",
    "    y = nodes.y.values.tolist()\n",
    "\n",
    "    # get plot boundaries\n",
    "    min_x, max_x = -8240298.040280505, -8230749.832964136\n",
    "    min_y, max_y = 4968176.938664163, 4984234.650659162\n",
    "        \n",
    "    # get plot boundaries\n",
    "    if len(nodes.x >= 1):\n",
    "        min_x, max_x = min(nodes.x)-1000, max(nodes.x)+1000\n",
    "    if len(nodes.y >= 1):\n",
    "        min_y, max_y = min(nodes.y)-1000, max(nodes.y)+1000\n",
    "\n",
    "    plot = figure(x_range=(min_x, max_x), y_range=(min_y, max_y),\n",
    "                  x_axis_type=\"mercator\", y_axis_type=\"mercator\",\n",
    "                  title=title, plot_width=600, plot_height=470)\n",
    "    plot.add_tile(get_provider(Vendors.CARTODBPOSITRON_RETINA))\n",
    "\n",
    "    graph = GraphRenderer()\n",
    "    \n",
    "    end_graph = GraphRenderer()\n",
    "\n",
    "    # define initial location nodes\n",
    "    graph.node_renderer.data_source.add(start_nodes, 'index')\n",
    "    graph.node_renderer.data_source.add(start_colors, 'start_colors')\n",
    "    graph.node_renderer.glyph = Circle(size=7,line_width=0,fill_alpha=1, fill_color='start_colors')\n",
    "    \n",
    "    # define end location nodes\n",
    "    end_graph.node_renderer.data_source.add(end_nodes, 'index')\n",
    "    end_graph.node_renderer.data_source.add(end_colors, 'end_colors')\n",
    "    end_graph.node_renderer.glyph = Rect(height=7,width=7,height_units='screen',width_units='screen',line_width=0,fill_alpha=1, fill_color='end_colors')\n",
    "\n",
    "     # define network edges\n",
    "    graph.edge_renderer.data_source.data = dict(start=list(start),\n",
    "                                                end=list(end),\n",
    "                                                color=list(color),\n",
    "                                                alpha=list(alpha))\n",
    "    graph.edge_renderer.glyph = MultiLine(line_color='color', line_alpha='alpha',\n",
    "                                         line_width=3,line_cap='round')\n",
    "\n",
    "    # set node locations\n",
    "    graph_layout = dict(zip(node_ids, zip(x, y)))\n",
    "    graph.layout_provider = StaticLayoutProvider(graph_layout=graph_layout)\n",
    "    \n",
    "    end_graph.layout_provider = StaticLayoutProvider(graph_layout=graph_layout)\n",
    "\n",
    "    plot.renderers.append(graph)\n",
    "    plot.renderers.append(end_graph)\n",
    "    show(plot)"
   ]
  },
  {
   "cell_type": "code",
   "execution_count": null,
   "id": "529c8b28",
   "metadata": {},
   "outputs": [],
   "source": [
    "plot_taxi_locations(DO_nodes, PU_nodes, \"Taxi Locations\")"
   ]
  },
  {
   "cell_type": "code",
   "execution_count": null,
   "id": "9ea1c611",
   "metadata": {},
   "outputs": [],
   "source": [
    "plot_taxi_route(max_match_paths, 'Maximum Matching')"
   ]
  },
  {
   "cell_type": "code",
   "execution_count": null,
   "id": "7e8d645f",
   "metadata": {},
   "outputs": [],
   "source": [
    "plot_taxi_route(min_cost_paths, 'Minimum Cost Maximum Matching')"
   ]
  },
  {
   "cell_type": "markdown",
   "id": "ae7b470b",
   "metadata": {},
   "source": [
    "## IP Formulation"
   ]
  },
  {
   "cell_type": "markdown",
   "id": "bf8502e0",
   "metadata": {},
   "source": [
    "We can also use integer programming to find the optimal number of assignments and the minimum cost flow for those assignments."
   ]
  },
  {
   "cell_type": "code",
   "execution_count": null,
   "id": "481e52f4",
   "metadata": {},
   "outputs": [],
   "source": [
    "# Remove the arcs from the source and sink nodes (skip this cell if the min cost flow was skipped)\n",
    "for i in range(len(arcs))[::-1]:\n",
    "    arc = arcs[i]\n",
    "    if arc[0] == source or arc[1] == sink:\n",
    "        del arcs[i]"
   ]
  },
  {
   "cell_type": "markdown",
   "id": "f5ae28c8",
   "metadata": {},
   "source": [
    "First we find the optimal number of assignments"
   ]
  },
  {
   "cell_type": "code",
   "execution_count": null,
   "id": "748a9f51",
   "metadata": {},
   "outputs": [],
   "source": [
    "# Define the solver\n",
    "m = OR.Solver('taxi_assignment', OR.Solver.CBC_MIXED_INTEGER_PROGRAMMING)\n",
    "\n",
    "# Decision variables\n",
    "x = {}\n",
    "for i, j, k in arcs:\n",
    "    x[i,j] = m.IntVar(0, 1, f'{i[2]}, {j[2]}')\n",
    "\n",
    "# Objective function\n",
    "m.Maximize(sum(x[i,j] for i,j,k in arcs))\n",
    "\n",
    "# Only one arc out of each dropoff\n",
    "for node in DO_nodes:\n",
    "    m.Add(sum(x[i,j] for i,j,k in arcs if i == node) <= 1)\n",
    "    \n",
    "# Only one arc into each pickup\n",
    "for node in PU_nodes:\n",
    "    m.Add(sum(x[i,j] for i,j,k in arcs if j == node) <= 1)\n",
    "    \n",
    "m.Solve()\n",
    "\n",
    "print('Solution:')\n",
    "print('Objective value =', m.Objective().Value())\n",
    "optimal_assignment = int(m.Objective().Value())"
   ]
  },
  {
   "cell_type": "markdown",
   "id": "7f8a4fa1",
   "metadata": {},
   "source": [
    "Then we find the lowest cost assignment with the optimal number of assignments"
   ]
  },
  {
   "cell_type": "code",
   "execution_count": null,
   "id": "0610db5a",
   "metadata": {},
   "outputs": [],
   "source": [
    "# Define the solver\n",
    "m = OR.Solver('taxi_assignment', OR.Solver.CBC_MIXED_INTEGER_PROGRAMMING)\n",
    "\n",
    "# Decision variables\n",
    "x = {}\n",
    "for i, j, k in arcs:\n",
    "    x[i,j] = m.IntVar(0, 1, f'{i[2]}, {j[2]}')\n",
    "\n",
    "# Objective function\n",
    "m.Minimize(sum(k*x[i,j] for i,j,k in arcs))\n",
    "\n",
    "# Only one arc out of each dropoff\n",
    "for node in DO_nodes:\n",
    "    m.Add(sum(x[i,j] for i,j,k in arcs if i == node) <= 1)\n",
    "    \n",
    "# Only one arc into each pickup\n",
    "for node in PU_nodes:\n",
    "    m.Add(sum(x[i,j] for i,j,k in arcs if j == node) <= 1)\n",
    "    \n",
    "# Enforce the optimal number of assignments\n",
    "m.Add(sum(x[i,j] for i,j,k in arcs) == optimal_assignment)\n",
    "    \n",
    "m.Solve()\n",
    "\n",
    "print('Solution:')\n",
    "print('Objective value =', m.Objective().Value())"
   ]
  },
  {
   "cell_type": "code",
   "execution_count": null,
   "id": "c4a4418d",
   "metadata": {},
   "outputs": [],
   "source": [
    "if use_travel_time_as_cost:\n",
    "    print(f'The total travel time is {m.Objective().Value() / 1000} minutes.')\n",
    "else:\n",
    "    print(f'The passengers have to wait a total of {m.Objective().Value() / 1000} minutes.')"
   ]
  },
  {
   "cell_type": "code",
   "execution_count": null,
   "id": "e9b5af3d",
   "metadata": {},
   "outputs": [],
   "source": [
    "for var in m.variables():\n",
    "    if var.solution_value() == 1:\n",
    "        do_trip = var.name()[:var.name().find(', ')]\n",
    "        pu_trip = var.name()[var.name().find(', ')+2:]\n",
    "        print(f'The taxi from trip #{do_trip} should pick up the passenger from trip #{pu_trip}.')"
   ]
  }
 ],
 "metadata": {
  "language_info": {
   "name": "python"
  }
 },
 "nbformat": 4,
 "nbformat_minor": 5
}
