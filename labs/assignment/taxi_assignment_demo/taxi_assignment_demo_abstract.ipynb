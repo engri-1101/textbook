{
 "cells": [
  {
   "cell_type": "code",
   "execution_count": null,
   "id": "2074440a",
   "metadata": {},
   "outputs": [],
   "source": [
    "from bokeh.plotting import figure, show\n",
    "from bokeh.io import output_notebook\n",
    "output_notebook()\n",
    "\n",
    "import taxi_assignment_graph_generator"
   ]
  },
  {
   "cell_type": "code",
   "execution_count": null,
   "id": "6b43045f",
   "metadata": {},
   "outputs": [],
   "source": [
    "# Changing any values in this cell requires the ENTIRE notebook to be rerun\n",
    "# Changes the target start time of day, 1020 is 5:00 PM\n",
    "taxi_assignment_graph_generator.dropoff_window_start = 1020\n",
    "# Changes the window for the dropoffs, in minutes\n",
    "taxi_assignment_graph_generator.dropoff_window_duration = 7\n",
    "# Changes the window where no pickups or dropoffs are looked at, in minutes\n",
    "taxi_assignment_graph_generator.gap_interval_duration = 3\n",
    "# Changes the window for pickups, in minutes\n",
    "taxi_assignment_graph_generator.pickup_window_duration = 6\n",
    "\n",
    "# If this is True, it will slide the dropoff window back until there are more dropoffs than pickups\n",
    "taxi_assignment_graph_generator.slide_dropoff_window = True"
   ]
  },
  {
   "cell_type": "code",
   "execution_count": null,
   "id": "141fd3cc",
   "metadata": {},
   "outputs": [],
   "source": [
    "# Creates the plots, the parameter to the plot function influences the maximum time a taxi can spend moving from dropoff to pickup\n",
    "max_cardinality_plot, min_cost_plot = taxi_assignment_graph_generator.plot(0.5)\n",
    "\n",
    "show(max_cardinality_plot)\n",
    "show(min_cost_plot)"
   ]
  }
 ],
 "metadata": {
  "language_info": {
   "name": "python"
  }
 },
 "nbformat": 4,
 "nbformat_minor": 5
}
