{
 "cells": [
  {
   "cell_type": "markdown",
   "metadata": {},
   "source": [
    "Donovan, Brian; Work, Dan (2016): New York City Taxi Trip Data (2010-2013). University of Illinois at Urbana-Champaign. https://doi.org/10.13012/J8PN93H8\n",
    "\n",
    "### Field Descriptions (from paper):\n",
    "\n",
    "- **medallion**: a permit to operate a yellow taxi cab in New York City, it is effectively a\n",
    "(randomly assigned) car ID. See also medallions.\n",
    "- **hack license**: a license to drive the vehicle, it is effectively a (randomly assigned) driver\n",
    "ID. See also hack license.\n",
    "- **vender id**: e.g., Verifone Transportation Systems (VTS), or Mobile Knowledge Systems\n",
    "Inc (CMT), implemented as part of the Technology Passenger Enhancements Project.\n",
    "- **rate_code**: taximeter rate, see NYCT&L description.\n",
    "- **store_and_fwd_flag**: unknown attribute.\n",
    "- **pickup datetime**: start time of the trip, mm-dd-yyyy hh24:mm:ss EDT.\n",
    "- **dropoff datetime**: end time of the trip, mm-dd-yyyy hh24:mm:ss EDT.\n",
    "- **passenger count**: number of passengers on the trip, default value is one.\n",
    "- **trip time in secs**: trip time measured by the taximeter in seconds.\n",
    "- **trip distance**: trip distance measured by the taximeter in miles.\n",
    "- **pickup_longitude** and **pickup_latitude**: GPS coordinates at the start of the trip.\n",
    "- **dropoff longitude** and **dropoff latitude**: GPS coordinates at the end of the trip."
   ]
  },
  {
   "cell_type": "code",
   "execution_count": null,
   "metadata": {},
   "outputs": [],
   "source": [
    "import math \n",
    "import pandas as pd\n",
    "import numpy as np\n",
    "from datetime import datetime"
   ]
  },
  {
   "cell_type": "code",
   "execution_count": null,
   "metadata": {},
   "outputs": [],
   "source": [
    "def compute_distance(lat1,lon1,lat2,lon2):\n",
    "    '''Calculate the Euclidean distance between two locations.'''\n",
    "    R = 6371  # Radius of the earth in km\n",
    "    return R * np.sqrt((lon1 - lon2)**2 + (lat1 - lat2)**2) * np.pi / 180"
   ]
  },
  {
   "cell_type": "code",
   "execution_count": null,
   "metadata": {},
   "outputs": [],
   "source": [
    "# Choose an arbitrary day 2013-09-01 to get data from ~385k rides\n",
    "trip_data = pd.read_csv('data/2013-09-01_trip_data.csv', index_col=0)\n",
    "trip_data = trip_data.rename(columns={k: k.strip() for k in trip_data.columns})  # fix column names\n",
    "\n",
    "# Drop irrelavent columns and NAs\n",
    "trip_data = trip_data.drop(columns=['store_and_fwd_flag', 'vendor_id', 'rate_code'])\n",
    "trip_data = trip_data.dropna()\n",
    "\n",
    "# Transform into datetime objects\n",
    "trip_data.pickup_datetime = trip_data.pickup_datetime.apply(lambda x: datetime.strptime(x, \"%Y-%m-%d %H:%M:%S\"))\n",
    "trip_data.dropoff_datetime = trip_data.dropoff_datetime.apply(lambda x: datetime.strptime(x, \"%Y-%m-%d %H:%M:%S\"))\n",
    "\n",
    "# Reset trip_time_in_secs by calculating from pickup and dropoff datetime (recommended)\n",
    "trip_data.trip_time_in_secs = trip_data.dropoff_datetime - trip_data.pickup_datetime\n",
    "trip_data.trip_time_in_secs = trip_data.trip_time_in_secs.apply(lambda x: x.total_seconds())\n",
    "\n",
    "# Ensure that trip distance is less than straight line distance (recommended)\n",
    "trip_data.trip_distance = trip_data.trip_distance.apply(lambda x: x*1.60934)  # miles to km conversion\n",
    "trip_data['straight_line_dist'] = trip_data.apply(lambda x: compute_distance(x.pickup_latitude,\n",
    "                                                                             x.pickup_longitude,\n",
    "                                                                             x.dropoff_latitude,\n",
    "                                                                             x.dropoff_longitude), axis=1)\n",
    "trip_data = trip_data[trip_data.trip_distance > trip_data.straight_line_dist].drop(columns='straight_line_dist')\n",
    "\n",
    "# Check for unreasonable travel times [<= 125km/hr or 78mph] (recommended)\n",
    "trip_data = trip_data[trip_data.trip_time_in_secs > 0] # remove trips of zero time\n",
    "trip_data = trip_data[~(trip_data.pickup_latitude == 0.0) & \n",
    "                      ~(trip_data.pickup_longitude == 0.0) & \n",
    "                      ~(trip_data.dropoff_latitude == 0.0) & \n",
    "                      ~(trip_data.dropoff_longitude == 0.0)] # remove (0.0 GPS coords.)\n",
    "trip_data['speed'] = trip_data.apply(lambda x: x.trip_distance / (x.trip_time_in_secs/3600), axis=1)\n",
    "trip_data = trip_data[trip_data.speed <= 120].drop(columns='speed')"
   ]
  },
  {
   "cell_type": "code",
   "execution_count": null,
   "metadata": {},
   "outputs": [],
   "source": [
    "# Export cleaned date to CSV\n",
    "trip_data.to_csv('data/2013-09-01_trip_data_clean.csv')"
   ]
  },
  {
   "cell_type": "markdown",
   "metadata": {},
   "source": [
    "### Clean and Discretize Location Data"
   ]
  },
  {
   "cell_type": "code",
   "execution_count": null,
   "metadata": {},
   "outputs": [],
   "source": [
    "# Load nodes and links\n",
    "nodes = pd.read_csv('data/nyc_nodes.csv')\n",
    "links = pd.read_csv('data/nyc_links.csv')"
   ]
  },
  {
   "cell_type": "code",
   "execution_count": null,
   "metadata": {},
   "outputs": [],
   "source": [
    "# Filter to just manhattan locations\n",
    "nodes = nodes[nodes.name <= 42460000]\n",
    "links = links.merge(nodes[['name']].rename(columns={'name' : 'start'}), on='start')\n",
    "links = links.merge(nodes[['name']].rename(columns={'name' : 'end'}), on='end')"
   ]
  },
  {
   "cell_type": "code",
   "execution_count": null,
   "metadata": {},
   "outputs": [],
   "source": [
    "# Reset index\n",
    "nodes = nodes.reset_index().drop(columns='index')\n",
    "new_index = {v: k for k, v in nodes[['name']].to_dict()['name'].items()}  # dictionary from old to new index\n",
    "links.start = links.start.apply(lambda x: new_index[x])\n",
    "links.end = links.end.apply(lambda x: new_index[x])\n",
    "nodes.name = nodes.name.apply(lambda x: new_index[x])"
   ]
  },
  {
   "cell_type": "code",
   "execution_count": null,
   "metadata": {},
   "outputs": [],
   "source": [
    "# Discretize trip times on all arcs\n",
    "links['trip_time'] = links.delay5pm.apply(lambda x: max(1,round(x/60)))\n",
    "links = links[['start', 'end', 'street_name', 'trip_time']]"
   ]
  },
  {
   "cell_type": "code",
   "execution_count": null,
   "metadata": {},
   "outputs": [],
   "source": [
    "# Write cleaned CSVs\n",
    "nodes.to_csv('data/nyc_nodes_manhattan.csv')\n",
    "links.to_csv('data/nyc_links_manhattan.csv')"
   ]
  },
  {
   "cell_type": "markdown",
   "metadata": {},
   "source": [
    "### Discretize Trips Data"
   ]
  },
  {
   "cell_type": "code",
   "execution_count": null,
   "metadata": {},
   "outputs": [],
   "source": [
    "trip_data = pd.read_csv('data/2013-09-01_trip_data_clean.csv', index_col=0)\n",
    "trip_data.dropoff_datetime = trip_data.dropoff_datetime.apply(lambda x: datetime.strptime(x, \"%Y-%m-%d %H:%M:%S\"))\n",
    "trip_data.pickup_datetime = trip_data.pickup_datetime.apply(lambda x: datetime.strptime(x, \"%Y-%m-%d %H:%M:%S\"))"
   ]
  },
  {
   "cell_type": "code",
   "execution_count": null,
   "metadata": {},
   "outputs": [],
   "source": [
    "# Get data for NYC intersections\n",
    "nodes = pd.read_csv('data/nyc_nodes_manhattan.csv')[['name','lon','lat']]\n",
    "nodes['lon_rounded'] = nodes.lon.apply(lambda x: round(x,3))\n",
    "nodes['lat_rounded'] = nodes.lat.apply(lambda x: round(x,3))"
   ]
  },
  {
   "cell_type": "code",
   "execution_count": null,
   "metadata": {},
   "outputs": [],
   "source": [
    "# Create a field with a unique trip id\n",
    "trip_data = trip_data.reset_index().drop(columns='index').reset_index().rename(columns={'index' : 'id'})"
   ]
  },
  {
   "cell_type": "code",
   "execution_count": null,
   "metadata": {},
   "outputs": [],
   "source": [
    "# Discretize pickup and dropoff location to one of the NYC street intersection nodes\n",
    "trip_data['lon_rounded'] = trip_data.pickup_longitude.apply(lambda x: round(x,3))\n",
    "trip_data['lat_rounded'] = trip_data.pickup_latitude.apply(lambda x: round(x,3))\n",
    "trip_data = (trip_data.merge(nodes, on=['lon_rounded', 'lat_rounded'])\n",
    "                      .groupby('id').first()\n",
    "                      .drop(columns=['lon', 'lat', 'pickup_longitude', 'pickup_latitude'])\n",
    "                      .rename(columns={'name' : 'start_node'})\n",
    "                      .reset_index()\n",
    "                      .rename(columns={'index' : 'id'}))\n",
    "\n",
    "trip_data['lon_rounded'] = trip_data.dropoff_longitude.apply(lambda x: round(x,3))\n",
    "trip_data['lat_rounded'] = trip_data.dropoff_latitude.apply(lambda x: round(x,3))\n",
    "trip_data = (trip_data.merge(nodes, on=['lon_rounded', 'lat_rounded'])\n",
    "                      .groupby('id').first()\n",
    "                      .drop(columns=['lon', 'lat', 'dropoff_longitude', 'dropoff_latitude'])\n",
    "                      .rename(columns={'name' : 'end_node'})\n",
    "                      .drop(columns=['lon_rounded', 'lat_rounded']))"
   ]
  },
  {
   "cell_type": "code",
   "execution_count": null,
   "metadata": {},
   "outputs": [],
   "source": [
    "# Discretize times into minutes\n",
    "trip_data = trip_data[trip_data.trip_time_in_secs >= 30] # Remove the (very few) trips under 30 seconds\n",
    "trip_data['start_time'] = (trip_data.pickup_datetime\n",
    "                          .apply(lambda x: round((x - datetime(2013,9,1,0,0,0)).total_seconds()/60)))\n",
    "trip_data['trip_time'] = trip_data.trip_time_in_secs.apply(lambda x: round(x/60))"
   ]
  },
  {
   "cell_type": "code",
   "execution_count": null,
   "metadata": {},
   "outputs": [],
   "source": [
    "# Only keep needed fields\n",
    "trip_data = trip_data[['medallion','start_node', 'end_node', 'start_time', 'trip_time']]"
   ]
  },
  {
   "cell_type": "code",
   "execution_count": null,
   "metadata": {},
   "outputs": [],
   "source": [
    "# Export discretized form\n",
    "trip_data.to_csv('data/2013-09-01_trip_data_manhattan.csv')"
   ]
  }
 ],
 "metadata": {
  "language_info": {
   "name": "python"
  }
 },
 "nbformat": 4,
 "nbformat_minor": 4
}
