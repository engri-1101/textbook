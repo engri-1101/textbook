{
 "cells": [
  {
   "cell_type": "markdown",
   "metadata": {
    "colab_type": "text",
    "id": "KLc2I9kCdHKX"
   },
   "source": [
    "# Diet Problem\n",
    "Based on chapter 2 of the AMPL book and section 6.2 of *Decision Making, Models and Algorithms: A First Course* by Saul I. Gass."
   ]
  },
  {
   "cell_type": "markdown",
   "metadata": {
    "colab_type": "text",
    "id": "rxIJwDNtdHKX"
   },
   "source": [
    "**Objectives**\n",
    "- Introduce a historically important linear program\n",
    "- Think about solving linear programs and tweaking solutions\n",
    "- Demonstrate the idea of sensitivity analysis in linear programming\n",
    "\n",
    "**Reading:** This lab uses a diet problem instance provided by NEOS. Their online diet problem solver can be found [HERE](https://neos-guide.org/content/diet-problem-solver). Please read the following description of the diet problem and its history: https://neos-guide.org/content/diet-problem\n",
    "\n",
    "**Brief description:** In this lab, we will consider one of the most famous (and one of the earliest) applications of linear programming — the diet problem.\n",
    "\n",
    "<font color='blue'> <b>Solutions are shown blue.</b> </font> <br>\n",
    "<font color='red'> <b>Instuctor comments are shown in red.</b> </font>"
   ]
  },
  {
   "cell_type": "code",
   "execution_count": null,
   "metadata": {},
   "outputs": [],
   "source": [
    "# imports -- don't forget to run this cell\n",
    "import pandas as pd\n",
    "from ortools.linear_solver import pywraplp as OR"
   ]
  },
  {
   "cell_type": "markdown",
   "metadata": {
    "colab_type": "text",
    "id": "qEkU8S5udHKY"
   },
   "source": [
    "## Part 1: The Diet Problem"
   ]
  },
  {
   "cell_type": "markdown",
   "metadata": {
    "colab_type": "text",
    "id": "I5TdgUljdHKY"
   },
   "source": [
    "Suppose that you have a choice of two cereals for breakfast: Krunchies (K) or Crispies (C). Breakfast is the\n",
    "most important meal of the day, so you want to get sufficient Thiamine, Niacin, and caloric intake for breakfast. Being a college student, you want to do so as cheaply as possible – taste gets thrown into the wind! Price and nutritional info for these two cereals is summarized in the two tables below:"
   ]
  },
  {
   "cell_type": "code",
   "execution_count": null,
   "metadata": {},
   "outputs": [],
   "source": [
    "cereals = pd.read_csv('data/diet_cereal/cereal_foods.csv', index_col=0)\n",
    "cereal_nutrients = pd.read_csv('data/diet_cereal/cereal_nutrients.csv', index_col=0)\n",
    "display(cereals)\n",
    "display(cereal_nutrients)"
   ]
  },
  {
   "cell_type": "markdown",
   "metadata": {
    "colab_type": "text",
    "id": "8HiPUTRPdHKc"
   },
   "source": [
    "**Q:** Suppose you just ate Krunchies. How many ounces of Krunchies would you need to eat to satisfy the\n",
    "three nutritional requirements? How much would this cost?\n",
    "\n",
    "**A:** <font color='blue'>10 ounces to meet Thiamine requirement. 5 ounces to meet Niacin requirement. 3.636 ounces to satisfy Calories requirement. Hence, 10 ounces to satisfy all three. This costs 38. </font>"
   ]
  },
  {
   "cell_type": "markdown",
   "metadata": {
    "colab_type": "text",
    "id": "bwSTz0CFdHKc"
   },
   "source": [
    "**Q:** Suppose you just ate Crispies. How many ounces of Crispies would you need to eat to satisfy the three\n",
    "nutritional requirements? How much would this cost?\n",
    "\n",
    "**A:** <font color='blue'>4 ounces to meet Thiamine requirement. 20 ounces to meet Niacin requirement. 3.333 ounces to satisfy Calories requirement. Hence, 20 ounces to satisfy all three. This costs 84. </font>"
   ]
  },
  {
   "cell_type": "markdown",
   "metadata": {
    "colab_type": "text",
    "id": "iNJGdWnCdHKd"
   },
   "source": [
    "**Q:** Now let’s write an optimization problem to model this problem. Let $K$ be a decision variable for the amount of Krunchies you eat and $C$ be a decision variable for the amount of Crispies you eat. Write an objective function, encoding that you minimize total cost (as a function of $K$ and $C$).\n",
    "\n",
    "**A:** <font color='blue'> $\\min 3.8K + 4.2C$ </font>"
   ]
  },
  {
   "cell_type": "markdown",
   "metadata": {
    "colab_type": "text",
    "id": "t9d6CHTodHKe"
   },
   "source": [
    "**Q:** Write three constraints: one enforcing that you get at least 1 mg of Thiamine, one enforcing that you\n",
    "get at least 5 mg of Niacin, and one enforcing that you get at least 400 calories. Also write constraints\n",
    "that $K$ and $C$ are nonnegative.\n",
    "\n",
    "**A:** <font color='blue'> $$0.1K + 0.25C \\geq 1$$ \n",
    "$$1K + 0.25C \\geq 5$$ \n",
    "$$110K + 120C \\geq 400$$ \n",
    "$$K,C \\geq 0$$ \n",
    "</font>"
   ]
  },
  {
   "cell_type": "markdown",
   "metadata": {},
   "source": [
    "**Q:** Implement this model in OR-Tools. The basic structure has been given to you."
   ]
  },
  {
   "cell_type": "code",
   "execution_count": null,
   "metadata": {},
   "outputs": [],
   "source": [
    "def small_diet():\n",
    "    \"\"\"A linear program for solving a diet problem.\"\"\"\n",
    "    # define the model\n",
    "    m = OR.Solver('cereal_diet', OR.Solver.CLP_LINEAR_PROGRAMMING);\n",
    "\n",
    "    # TODO: Define the decision variables.\n",
    "    # name = m.NumVar(lower_bound, upper_bound, name)\n",
    "    # If you want to use infinity as a bound, you can use m.infinity()\n",
    "\n",
    "    ### BEGIN SOLUTION\n",
    "    K = m.NumVar(0, m.infinity(), 'K');\n",
    "    C = m.NumVar(0, m.infinity(), 'C');\n",
    "    ### END SOLUTION\n",
    "\n",
    "    # objective function\n",
    "    # TODO: Define the objective function.\n",
    "    # m.Minimize() or m.Maximize()\n",
    "\n",
    "    ### BEGIN SOLUTION\n",
    "    m.Minimize(3.8*K + 4.2*C);\n",
    "    ### END SOLUTION\n",
    "\n",
    "    # constraints\n",
    "    # TODO: Define the constraints.\n",
    "    # m.Add()\n",
    "\n",
    "    ### BEGIN SOLUTION\n",
    "    m.Add(0.1*K + 0.25*C >= 1);\n",
    "    m.Add(1*K + 0.25*C >= 5);\n",
    "    m.Add(110*K + 120*C >= 400);\n",
    "    ### END SOLUTION\n",
    "    \n",
    "    return m, m.variables()"
   ]
  },
  {
   "cell_type": "code",
   "execution_count": null,
   "metadata": {},
   "outputs": [],
   "source": [
    "def solve(m):\n",
    "    m.Solve()\n",
    "    print('Solution:')\n",
    "    print('Objective value =', m.Objective().Value())\n",
    "    for var in m.variables():\n",
    "        print(var.name(), ':',  var.solution_value())"
   ]
  },
  {
   "cell_type": "code",
   "execution_count": null,
   "metadata": {},
   "outputs": [],
   "source": [
    "m,x = small_diet()\n",
    "solve(m)"
   ]
  },
  {
   "cell_type": "markdown",
   "metadata": {},
   "source": [
    "**Q** Run the cell above. What was the optimal solution and its objective value?\n",
    "\n",
    "**A:** <font color='blue'> The optimal solution was 4.444 servings of Krunchies and 2.222 servings of Crispies with a cost of 26.222. </font>"
   ]
  },
  {
   "cell_type": "markdown",
   "metadata": {},
   "source": [
    "## Part 2: Generalizing the Diet Problem"
   ]
  },
  {
   "cell_type": "markdown",
   "metadata": {},
   "source": [
    "We now know that if we expect to live a long and healthy life, we must have a well-balanced diet. Too much fat or sodium in our diet can lead to serious health problems. Similarly, diets deficient in essential vitamins and minerals should be avoided. \n",
    "\n",
    "This part of the lab is aimed at formulating this problem as a linear programming problem. We can view the diet problem in the following way. We are given a variety of foods that we could buy to achieve a balanced diet. For example, we might consider a diet consisting of 2% milk, spaghetti (with sauce), peanut butter, wheat bread, tomato soup, and bagels. To make things simpler, we will specify the variables of this linear programming formulation. We will use $x$_$\\textit{(food-type)}$ to specify the number of daily servings of food-type that you are willing to consume. First of all, we wish to write constraints that capture whether one can satisfy certain daily requirements with just these foods."
   ]
  },
  {
   "cell_type": "markdown",
   "metadata": {},
   "source": [
    "**Q:** Write constraints to ensure we eat at most 10 servings/day of each food-type (We can call this the boredom constraint).\n",
    "\n",
    "**A:** <font color='blue'> Let $F$ be the set of foods. We have $x_i \\leq 10$ for $i \\in F$. </font>"
   ]
  },
  {
   "cell_type": "markdown",
   "metadata": {},
   "source": [
    "Next, consider the total number of calories consumed. A proper diet requires that you consume between 2000 and 2250 calories per day. "
   ]
  },
  {
   "cell_type": "markdown",
   "metadata": {},
   "source": [
    "**Q:** Write two constraints to ensure we eat an appropriate number of total calories. To write this constraint you need to know how many calories are in one serving of each of the food-types. Let $a_{ij}$ be the amount of nutrient $j$ in one serving of food $i$.\n",
    "\n",
    "**A:**  <font color='blue'> $\\sum_{i\\in F} a_{ij}x_i \\geq 2000$ and $\\sum_{i\\in F} a_{ij}x_i \\leq 2250$ where $j$ = calories.</font>"
   ]
  },
  {
   "cell_type": "markdown",
   "metadata": {},
   "source": [
    "Of course, we could repeat this sort of constraint with any number of nutritional requirement, such as cholesterol, fat, sodium, dietary fiber, carbohydrates, protein, vitamin A, vitamin C, calcium, and iron."
   ]
  },
  {
   "cell_type": "markdown",
   "metadata": {},
   "source": [
    "**Q:** The objective function is to minimize the cost of each day’s diet. Express this objective function in terms of the decision variables, given that $c_i$ is the cost of one serving of food $i$.\n",
    "\n",
    "**A:** <font color='blue'> $\\min \\sum_{i\\in F} c_ix_i$ </font>"
   ]
  },
  {
   "cell_type": "markdown",
   "metadata": {},
   "source": [
    "**Q:** What does it mean if your linear program for this diet problem is infeasible?\n",
    "\n",
    "**A:** <font color='blue'> There is not a diet that meets all nutritional requirements while staying within the serving limit bounds. This could be caused by various things. Maybe you still can't meet the minimum requirement for some nutrient even if you take thre max serving of every food. Maybe you can but this causes you to be above the max for some other nutrient. There are many different explanations.</font>"
   ]
  },
  {
   "cell_type": "markdown",
   "metadata": {},
   "source": [
    "**Q:** How might you correct this?\n",
    "    \n",
    "**A:** <font color='blue'> It depends on what specifically is causing the infeasibility but a few options would be to make the bound for some nutrient wider, allow a more \"boring\" diet, and add more food options. </font>"
   ]
  },
  {
   "cell_type": "markdown",
   "metadata": {},
   "source": [
    "Let's use OR-Tools to implement this generalized diet problem model!"
   ]
  },
  {
   "cell_type": "markdown",
   "metadata": {},
   "source": [
    "**Q:** Complete the model below."
   ]
  },
  {
   "cell_type": "code",
   "execution_count": null,
   "metadata": {},
   "outputs": [],
   "source": [
    "def diet(foods, nutrients, integer=False):\n",
    "    \"\"\"A model for solving the diet problem.\n",
    "    \n",
    "    Args:\n",
    "        foods (pd.DataFrame): Foods with cost per serving, min and max servings, and nutrients per serving.\n",
    "        nutrients (pd.DataFrame): Nutrients with min and max bounds.\n",
    "    \"\"\"\n",
    "    FOODS = list(foods.index)                                 # foods\n",
    "    NUTRIENTS = list(nutrients.index)                         # nutrients\n",
    "    c = foods['Cost'].to_dict()                               # cost per serving of food \n",
    "    f_min = foods['Min'].to_dict()                            # lower bound of food serving\n",
    "    f_max = foods['Max'].to_dict()                            # upper bound of food serving\n",
    "    n_min = nutrients['Min'].to_dict()                        # lower bound of nutrient\n",
    "    n_max = nutrients['Max'].to_dict()                        # upper bound of nutrient  \n",
    "    a = foods[list(nutrients.index)].transpose().to_dict()    # amt of nutrients per serving of food\n",
    "    \n",
    "    # define model\n",
    "    if integer:\n",
    "        m = OR.Solver('diet', OR.Solver.CBC_MIXED_INTEGER_PROGRAMMING)\n",
    "    else:\n",
    "        m = OR.Solver('diet', OR.Solver.GLOP_LINEAR_PROGRAMMING)\n",
    "        \n",
    "    # decision variables\n",
    "    x = {}    \n",
    "    for i in FOODS:\n",
    "        if integer:\n",
    "            x[i] = m.IntVar(0, m.infinity(), 'x_%s' % (i)) \n",
    "        else:\n",
    "            x[i] = m.NumVar(0, m.infinity(), 'x_%s' % (i)) \n",
    "        \n",
    "    # objective function.\n",
    "    # TODO: Define the objective function.\n",
    "    # m.Minimize() or m.Maximize()\n",
    "\n",
    "    ### BEGIN SOLUTION \n",
    "    m.Minimize(sum(c[i]*x[i] for i in FOODS))\n",
    "    ### END SOLUTION\n",
    "    \n",
    "    # enforce lower and upper bound on food servings\n",
    "    for i in FOODS:\n",
    "        m.Add(x[i] >= f_min[i], name='lb_%s' % (i))\n",
    "        m.Add(x[i] <= f_max[i], name='ub_%s' % (i))\n",
    "    \n",
    "    # enforce lower and upper bound on nutrients \n",
    "    for j in NUTRIENTS:\n",
    "        m.Add(sum(a[i][j]*x[i] for i in FOODS) >= n_min[j], name='lb_%s' % (j))\n",
    "        m.Add(sum(a[i][j]*x[i] for i in FOODS) <= n_max[j], name='ub_%s' % (j))\n",
    "        \n",
    "    return m, x"
   ]
  },
  {
   "cell_type": "code",
   "execution_count": null,
   "metadata": {},
   "outputs": [],
   "source": [
    "def solve(m):\n",
    "    '''Used to solve a model m.'''\n",
    "    if m.Solve() == m.INFEASIBLE:\n",
    "        print('infeasible.')\n",
    "    else:\n",
    "        print('Objective = %f \\n' % (m.Objective().Value()))  \n",
    "        x = {var.name() : var.solution_value() for var in m.variables()}\n",
    "        for i in x:\n",
    "            if x[i] != 0:\n",
    "                print('%s: %s' % (i, x[i]))\n",
    "                \n",
    "def dual_values(m):\n",
    "    '''Return the non-zero dual values.'''\n",
    "    for i in m.constraints():\n",
    "        name = i.name()\n",
    "        dual_value = i.dual_value()\n",
    "        if dual_value != 0:\n",
    "            print(i.name(), i.dual_value())\n",
    "            \n",
    "def nutrient_values(x, m, foods, nutrients):\n",
    "    '''Return the value of each nutrient in this solution.'''\n",
    "    FOODS = list(foods.index)                                 \n",
    "    NUTRIENTS = list(nutrients.index)                         \n",
    "    a = foods[list(nutrients.index)].transpose().to_dict()    \n",
    "    for j in NUTRIENTS:\n",
    "        value = sum(a[i][j]*x[i].solution_value() for i in FOODS)\n",
    "        print('%s: %f' % (j, value))"
   ]
  },
  {
   "cell_type": "markdown",
   "metadata": {},
   "source": [
    "To make sure our model is correct, let's use it to solve the cereal input from **Part 1**. In order to use this new model, we will have to slightly modify our input. Recall the cereal input:"
   ]
  },
  {
   "cell_type": "code",
   "execution_count": null,
   "metadata": {},
   "outputs": [],
   "source": [
    "display(cereals)\n",
    "display(cereal_nutrients)"
   ]
  },
  {
   "cell_type": "markdown",
   "metadata": {},
   "source": [
    "**Q:** We need to specify an upper bound \"Max\" for each nutrient and both lower and upper bounds (\"Min\" and \"Max\") for each food. What shoud these be?\n",
    "\n",
    "**A:** <font color='blue'> The upper bounds for both each nutrient and each food should be infinity. The lower bound for each food should be 0. </font>"
   ]
  },
  {
   "cell_type": "markdown",
   "metadata": {},
   "source": [
    "**Q:** Implement your answer from **Q13**."
   ]
  },
  {
   "cell_type": "code",
   "execution_count": null,
   "metadata": {},
   "outputs": [],
   "source": [
    "# TODO: Set the values below.\n",
    "# Hint: use float('inf') for infinity.\n",
    "\n",
    "# cereals['Min'] =  \n",
    "# cereals['Max'] = \n",
    "# nutrients['Max'] = \n",
    "\n",
    "### BEGIN SOLUTION\n",
    "cereals['Min'] = 0 \n",
    "cereals['Max'] = float('inf') \n",
    "cereal_nutrients['Max'] = float('inf') \n",
    "### END SOLUTION"
   ]
  },
  {
   "cell_type": "code",
   "execution_count": null,
   "metadata": {},
   "outputs": [],
   "source": [
    "m,x = diet(cereals, cereal_nutrients)\n",
    "solve(m)"
   ]
  },
  {
   "cell_type": "markdown",
   "metadata": {},
   "source": [
    "**Q:** Run the cell above to solve the model. Did you get the same solution as you did in **Part 1**?\n",
    "\n",
    "**A:** <font color='blue'> Yes. </font>"
   ]
  },
  {
   "cell_type": "markdown",
   "metadata": {},
   "source": [
    "## Part 3: Solving the Diet Problem"
   ]
  },
  {
   "cell_type": "markdown",
   "metadata": {},
   "source": [
    "Let's start by solving the diet problem input given in the beginning of **Part 2**. It uses a subset of all the foods in the NEOS dataset. Try to solve the model. You should see it is infeasible."
   ]
  },
  {
   "cell_type": "code",
   "execution_count": null,
   "metadata": {},
   "outputs": [],
   "source": [
    "foods = pd.read_csv('data/diet_neos/neos_foods.csv', index_col=0)\n",
    "sm_foods = foods.loc[['2% Lowfat Milk', 'Spaghetti W/ Sauce', \n",
    "                      'Peanut Butter', 'Wheat Bread', 'Tomato Soup', 'Bagels']]\n",
    "nutrients = pd.read_csv('data/diet_neos/neos_nutrients.csv', index_col=0)"
   ]
  },
  {
   "cell_type": "code",
   "execution_count": null,
   "metadata": {},
   "outputs": [],
   "source": [
    "display(sm_foods.head())\n",
    "display(nutrients)"
   ]
  },
  {
   "cell_type": "code",
   "execution_count": null,
   "metadata": {},
   "outputs": [],
   "source": [
    "m,x = diet(sm_foods, nutrients)\n",
    "solve(m)"
   ]
  },
  {
   "cell_type": "markdown",
   "metadata": {},
   "source": [
    "**Q:** Take a look at the specifics of the nutrient requirements and the nutrient contents, and try to understand why there is no feasible solution. What do think caused it to be infeasible? (I don’t know of a simple answer to this.)\n",
    "\n",
    "**A:** <font color='blue'> Answers will vary. Maybe something like the foods with the highest dietary fiber also have high sodium. This is very restrictive as the diet must have enough dietary fiber but not too much sodium.   </font>"
   ]
  },
  {
   "cell_type": "code",
   "execution_count": null,
   "metadata": {},
   "outputs": [],
   "source": [
    "m,x = diet(foods, nutrients)\n",
    "solve(m)"
   ]
  },
  {
   "cell_type": "markdown",
   "metadata": {},
   "source": [
    "**Q:** Now consider a much wider set of food-types (this diet problem is solved above). What is the optimal solution and objective value? (Hint: the solve function does not print foods with 0 servings in the solution.)\n",
    "\n",
    "**A:** <font color='blue'> 0.236 Carrots, 3.545 Baked Potatoes, 2.168 Skim Milk, 3.601 Peanut Butter, and 4.823 Popcorn for 0.956 dollars.</font>"
   ]
  },
  {
   "cell_type": "markdown",
   "metadata": {},
   "source": [
    "**Q:** How many different food-types are included in this diet (There were 62 potential foods)? Is this surprising to you?\n",
    "\n",
    "**A:** <font color='blue'> There are only 5 foods in the diet of the 62 that could have been. This is kind of surprising..</font>"
   ]
  },
  {
   "cell_type": "code",
   "execution_count": null,
   "metadata": {},
   "outputs": [],
   "source": [
    "nutrient_values(x, m, foods, nutrients)"
   ]
  },
  {
   "cell_type": "markdown",
   "metadata": {},
   "source": [
    "**Q:** The function above returns how much of each nutrient you will actually consume. For which nutrients are you at your upper limit? Such a constraint is said to be tight.\n",
    "\n",
    "**A:** <font color='blue'> Total Fat and Carbohydrates.</font>"
   ]
  },
  {
   "cell_type": "markdown",
   "metadata": {},
   "source": [
    "**Q:** For which are you at your lower limit? (That is, which lower limits are tight?)\n",
    "\n",
    "**A:** <font color='blue'> Calories, Vitamin A, and Calcium. </font>"
   ]
  },
  {
   "cell_type": "markdown",
   "metadata": {},
   "source": [
    "**Q:** Are any of the minimum and maximum number of serving constraints tight?\n",
    "\n",
    "**A:** <font color='blue'> None of the maximum serving constraints are tight. The minimum serving constraint is tight for every food we did not include in our diet. </font>"
   ]
  },
  {
   "cell_type": "markdown",
   "metadata": {},
   "source": [
    "You should have included carbohydrates in the list of nutrients that is at its upper limit in your diet. Use the function below to get the dual values of this solution. (Hint: this function only shows non-zero dual values.)"
   ]
  },
  {
   "cell_type": "code",
   "execution_count": null,
   "metadata": {},
   "outputs": [],
   "source": [
    "dual_values(m)"
   ]
  },
  {
   "cell_type": "markdown",
   "metadata": {},
   "source": [
    "**Q:** Suppose you increase the allowance for carbohydrates to 301 grams. How does the optimal diet change? By how much does its cost change? How does this relate to the dual value for the constraint that upper bounds carbohydrates.\n",
    "\n",
    "**A:** <font color='blue'> This diet shifts slightly but contains the same foods. The cost goes down by $0.956008 - 0.949861  = 0.006147$. Notice the change in cost is the same as the dual value.</font>"
   ]
  },
  {
   "cell_type": "code",
   "execution_count": null,
   "metadata": {},
   "outputs": [],
   "source": [
    "tmp = nutrients.copy()\n",
    "tmp.at['Carbohydrates', 'Max'] = 301\n",
    "m,x = diet(foods, tmp)\n",
    "solve(m)"
   ]
  },
  {
   "cell_type": "markdown",
   "metadata": {},
   "source": [
    "Return to the dual information. The dual value for the carbohydrates upper bound constraints is given there. This information can be used in the following way. Suppose that a dual value for a particular nutrient's upper bound constraint is $−c$ , (i.e., it is negative). Now suppose that we may have one more unit of this nutrient in our diet, and when we find the optimal solution for this modified data, the foods that make up the optimal diet are unchanged."
   ]
  },
  {
   "cell_type": "markdown",
   "metadata": {},
   "source": [
    "**Q:** How does the cost of the optimal solution to the new data compare to the optimal solution to the original data?    \n",
    "\n",
    "**A:** <font color='blue'> The cost of the optimal solution decreases by $c$.</font>"
   ]
  },
  {
   "cell_type": "markdown",
   "metadata": {},
   "source": [
    "**Q:** In fact, the dual cost tells how much cheaper the new solution will be: it will be $c$ units cheaper. If we were to increase the max on total fat by 1 (making it 66), what would you expect the new cost to be? Solve the model to see if it was as expected.\n",
    "\n",
    "**A:**  <font color='blue'> Expect $0.956008 - 0.014001 = 0.942007$. It was as expected. </font>"
   ]
  },
  {
   "cell_type": "code",
   "execution_count": null,
   "metadata": {},
   "outputs": [],
   "source": [
    "tmp = nutrients.copy()\n",
    "tmp.at['Total_Fat', 'Max'] = 66\n",
    "m,x = diet(foods, tmp)\n",
    "solve(m)"
   ]
  },
  {
   "cell_type": "markdown",
   "metadata": {},
   "source": [
    "**Q:** Now allow up to 320 grams of carbohydrates in your diet. How does this change things? Does the analogous calculation to the one that you just did still work? Why do you think that this is?\n",
    "\n",
    "**A:** <font color='blue'> The cost goes down by $0.956008 - 0.930294 = 0.025714$ although the analogous calculation would expect a decrease of $20(0.00615) = 0.12294$. It no longer works. That is because the dual value changed with each increment of the carbohydrates max.</font>"
   ]
  },
  {
   "cell_type": "code",
   "execution_count": null,
   "metadata": {},
   "outputs": [],
   "source": [
    "tmp = nutrients.copy()\n",
    "tmp.at['Carbohydrates', 'Max'] = 320\n",
    "m,x = diet(foods, tmp)\n",
    "solve(m)"
   ]
  },
  {
   "cell_type": "markdown",
   "metadata": {},
   "source": [
    "**Q:** Go back to the default data, its optimal solution, and the dual and constraint information for it. Which constraint do you think it would be most profitable to violate by one unit? Can you give an intuitive explanation of this?\n",
    "    \n",
    "**A:** <font color='blue'> It would be most profitable to violate the upper bound on Total Fat by one unit because it yeilds the largest decrease in the objective value.</font>"
   ]
  },
  {
   "cell_type": "markdown",
   "metadata": {},
   "source": [
    "**Q:** As you can tell from the output, the optimal solution largely calls for non-integral numbers of servings of the various food-types. Why might this be problematic? Is there any explanation of the set-up for the problem that would allow us to consider such fractional solutions?\n",
    "\n",
    "**A:** <font color='blue'> It is unlikely one could buy / measure out such specific quantities. These fractional solutions might make more sense in the form of a recipe.</font>"
   ]
  },
  {
   "cell_type": "markdown",
   "metadata": {},
   "source": [
    "**Q:** Suppose that you are buying just one day’s worth of food, and you must buy an integral number of servings of each food-type. Can you still use this output to construct a diet? Is this new selection an optimal diet subject to the restriction that the number of servings bought be integral?\n",
    "\n",
    "**A:** <font color='blue'> We could not use this output because the solution is not integral.</font>"
   ]
  },
  {
   "cell_type": "markdown",
   "metadata": {},
   "source": [
    "**Q:** Without worrying about how to compute the optimal integer solution, how does the cost of the optimal integer solution compare to the cost of our linear program’s optimal solution? \n",
    "\n",
    "**A:** <font color='blue'>The cost of the optimal integral solution will be greater because we are removing feasible (linear) solutions.</font>"
   ]
  },
  {
   "cell_type": "code",
   "execution_count": null,
   "metadata": {},
   "outputs": [],
   "source": [
    "m,x = diet(foods, nutrients, integer=True)\n",
    "solve(m)"
   ]
  },
  {
   "cell_type": "markdown",
   "metadata": {},
   "source": [
    "**Q:** Solve the model with the restriction that servings must be integer. What is the optimal solution and objective value? How does it compare to the linear relaxation?\n",
    "\n",
    "**A:** <font color='blue'>The optimal solution is almost 20 cents more expensive. It involves the same foods except for the addition of chocolate chip cookies and poached eggs.</font>"
   ]
  },
  {
   "cell_type": "markdown",
   "metadata": {},
   "source": [
    "**Q:** What do you think about eating the diet proposed by the output? How might you modify the constraints to get something more to your liking?\n",
    "\n",
    "**A:** <font color='blue'>Answers will vary.</font>"
   ]
  }
 ],
 "metadata": {
  "kernelspec": {
   "display_name": "Python 3 (ipykernel)",
   "language": "python",
   "name": "python3"
  },
  "language_info": {
   "codemirror_mode": {
    "name": "ipython",
    "version": 3
   },
   "file_extension": ".py",
   "mimetype": "text/x-python",
   "name": "python",
   "nbconvert_exporter": "python",
   "pygments_lexer": "ipython3",
   "version": "3.10.1"
  }
 },
 "nbformat": 4,
 "nbformat_minor": 1
}
