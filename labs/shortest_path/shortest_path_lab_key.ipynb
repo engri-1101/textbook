{
 "cells": [
  {
   "cell_type": "markdown",
   "metadata": {},
   "source": [
    "# Shortest Path Problem"
   ]
  },
  {
   "cell_type": "markdown",
   "metadata": {},
   "source": [
    "**Objectives**\n",
    "\n",
    "- Introduce students to the concept of a shortest path tree\n",
    "- Show students the inner workings of a combinatorial algorithm\n",
    "- Demonstrate the usefulness of sensitivity analysis in problem solving\n",
    "\n",
    "**Reading:** Read Handout 3 on the shortest path problem.\n",
    "\n",
    "**Brief description:** In this lab, we review some motivation and observations behind Dijkstra's algorithm for shortest path computation, and analyze how sensitive the solution to the shortest path problem is to changes in the input data.\n",
    "\n",
    "<font color='blue'> <b>Solutions are shown blue.</b> </font> <br>\n",
    "<font color='red'> <b>Instuctor comments are shown in red.</b> </font>"
   ]
  },
  {
   "cell_type": "code",
   "execution_count": null,
   "metadata": {},
   "outputs": [],
   "source": [
    "# Imports -- don't forget to run this cell!\n",
    "import vinal as vl\n",
    "import pandas as pd\n",
    "from IPython.display import Image\n",
    "from bokeh.io import output_notebook, show\n",
    "import numpy as np\n",
    "import math\n",
    "import itertools\n",
    "import networkx as nx\n",
    "output_notebook()"
   ]
  },
  {
   "cell_type": "markdown",
   "metadata": {},
   "source": [
    "## Part I: The Shortest Path Problem and Dijkstra's Algorithm\n",
    "\n",
    "As an Entrepreneurial first-year student, you plan to start a pizza delivery company: Good Pizza, Inc.  You will base Good Pizza out of the kitchen on your floor of Jameson Hall and deliver pizzas via bike.  You want to guarantee delivery anywhere on campus in 15 minutes or less; in order to maximize the amount of your tips, you want to deliver as many pizzas as you can and deliver\n",
    "them as fast as you can.  As a first-year, however, you're still figuring out your way around campus.  You've quickly realized that, because of pedestrian traffic, lights, obstacles, and  placement of bike stands  it is not always best to take the route that covers the shortest distance.  Instead, you would like to know the\n",
    "quickest way of getting from the your dorm room to various parts of campus.\n",
    "\n",
    "To help you in finding the quickest routes, you map the travel time between some of the most-happening locations on campus.  Below is an attached map showing the key points on campus. "
   ]
  },
  {
   "cell_type": "code",
   "execution_count": null,
   "metadata": {},
   "outputs": [],
   "source": [
    "Image(\"images/campus_map.png\", width=500)"
   ]
  },
  {
   "cell_type": "markdown",
   "metadata": {},
   "source": [
    "Let's load two dataframes with the data for each node and edge of this graph respectively."
   ]
  },
  {
   "cell_type": "code",
   "execution_count": null,
   "metadata": {},
   "outputs": [],
   "source": [
    "nodes = pd.read_csv('data/cornell_pizza_nodes.csv', index_col=0)\n",
    "display(nodes)\n",
    "edges = pd.read_csv('data/cornell_pizza_edges.csv', index_col=0)\n",
    "display(edges.head())"
   ]
  },
  {
   "cell_type": "markdown",
   "metadata": {},
   "source": [
    "Now, let's pass these to `create_network` and create a graph which we can visualize."
   ]
  },
  {
   "cell_type": "code",
   "execution_count": null,
   "metadata": {},
   "outputs": [],
   "source": [
    "G = vl.create_network(nodes, edges)\n",
    "show(vl.tree_plot(G, tree=[], width=500, height=500, show_cost=False))"
   ]
  },
  {
   "cell_type": "markdown",
   "metadata": {},
   "source": [
    "**Q:** Your company is based out of Jameson Hall, which is node 1 on the map. What is the index of this node in the graph above? (Hint: Hover over nodes to see their index).\n",
    "\n",
    "**A:** <font color='blue'> Jameson Hall is node 0. </font> "
   ]
  },
  {
   "cell_type": "markdown",
   "metadata": {},
   "source": [
    "**Q:** Let's define our source $s$ to be Jameson Hall."
   ]
  },
  {
   "cell_type": "code",
   "execution_count": null,
   "metadata": {},
   "outputs": [],
   "source": [
    "# TODO: Uncomment and set s to the index which corresponds to Jameson Hall\n",
    "# s = XXX\n",
    "\n",
    "### BEGIN SOLUTION\n",
    "s = 0\n",
    "### END SOLUTION"
   ]
  },
  {
   "cell_type": "markdown",
   "metadata": {},
   "source": [
    "**Q:** What is the node that is closest to Jameson Hall (not considering Jameson Hall itself)? In case of ties, choose any of them. Can there be a quicker route to get to this destination (call it point X) than just to go directly there from Jameson Hall? Why or why not?\n",
    "\n",
    "**A:** <font color='blue'> 10 (High Rise 5) is closest. There is not a quicker way because every other edge out of 0 is already at least as large. Hence, any other path out of 0 to 10 will have a length at least as large as the direct path. </font> "
   ]
  },
  {
   "cell_type": "markdown",
   "metadata": {},
   "source": [
    "**Q:** Explain why the predecessor (“prev$(X)$” from class) of $X$ must be the 0 (Jameson Hall).\n",
    "\n",
    "**A:** <font color='blue'> By the logic in **Q3**, the shortest path between 0 and 10 is (0,10). Since 0 is the source, this means that we will define prev(10) = 0.</font>"
   ]
  },
  {
   "cell_type": "markdown",
   "metadata": {},
   "source": [
    "Run the cell below to generate an interactive plot running Dijkstra's algorithm. If you answered **Q** and **Q2** correctly, the node corresponding to Jameson hall will be red.\n",
    "\n",
    "After running the cell, click node 0 (in red) and then node 10 (High Rise 5)"
   ]
  },
  {
   "cell_type": "code",
   "execution_count": null,
   "metadata": {},
   "outputs": [],
   "source": [
    "show(vl.assisted_dijkstras_plot(G, s=s, width=500, height=500, show_cost=False))"
   ]
  },
  {
   "cell_type": "markdown",
   "metadata": {},
   "source": [
    "After clicking those two nodes, you should notice that several things happen:\n",
    "\n",
    "- Node 0 and 10 turn solid dark blue\n",
    "- The current shortest path tree is shown by highlighting edges in dark grey\n",
    "- The table on the bottom updates, and you can see the current version of the Dijkstra table \n",
    "- In the current table, node 10 is now starred and prev(10) is marked as node 0"
   ]
  },
  {
   "cell_type": "markdown",
   "metadata": {},
   "source": [
    "**Q:** The graph shows three styles of nodes (solid dark blue, red, and light blue). What does each style of node represent?\n",
    "\n",
    "**A:** <font color='blue'> Solid dark blue nodes are starred (settled), red nodes are neighbors of starred nodes (frontier), and light blue nodes are the reamining unexplored ones (far away).</font>"
   ]
  },
  {
   "cell_type": "markdown",
   "metadata": {},
   "source": [
    "How do we find the next edge to add to the tree (i.e., the next edge to “darken”)? One way is as follows. Compute the travel times for all routes that either go directly from Jameson Hall (0) to a destination or go from Jameson Hall (0) to High Rise 5 (10) and then directly to a destination. Take the shortest of all these routes and add it to the tree. For instance, in this case, we consider the following routes. Node IDs are in parenthesis.\n",
    "\n",
    "\n",
    "| Route | Travel Time |\n",
    "|-------|-------------|\n",
    "|Jameson Hall (0) - High Rise 5 (10) | **2**\n",
    "|Jameson Hall (0) - Clara Dickson Hall (1) | 2*\n",
    "|Jameson Hall (0) - Helen Newman (11) | 3\n",
    "|Jameson Hall (0) - Lynah Hockey Rink (13) | 17\n",
    "|Jameson Hall (0) - High Rise 5 (10) - Holland International Living Center (9) | 3\n",
    "|Jameson Hall (0) - High Rise 5 (10) - Helen Newman (11) | 7"
   ]
  },
  {
   "cell_type": "markdown",
   "metadata": {},
   "source": [
    "**Q:** Consider all of the nodes we can reach by these paths (0, 10, 1, 11, 13, and 9). What is true about those nodes (and only those nodes) in the current iteration of Dijkstra's.\n",
    "\n",
    "**A:** <font color='blue'> They are all dark blue or red and have a finite distance to the source node in the table. </font>"
   ]
  },
  {
   "cell_type": "markdown",
   "metadata": {},
   "source": [
    "**Q:** There are two paths to node 11 listed above. Look at node 11 in the table. Which of those two paths is indicated in the table? Using just the table – without referring back to the original graph or edge lengths – how can you identify this path?\n",
    "\n",
    "**A:** <font color='blue'> The path (0,11) is indicated in the table because prev(11) is 0. If prev(11) = 10 and prev(10) = 0, it would have indicated the other path.</font>"
   ]
  },
  {
   "cell_type": "markdown",
   "metadata": {},
   "source": [
    "Now back to Dijkstra and we pick Clara Dickson (1). Jameson Hall to Clara Dickson is the shortest route on this list (we’ve marked it with a *). "
   ]
  },
  {
   "cell_type": "markdown",
   "metadata": {},
   "source": [
    "**Q:** Can there be a shorter route to Clara Dickson (1) than the one that we just added? Why or why not? Answer this question in as much generality as possible. (Hint: suppose that there were some shorter path that went from Jameson (0) – SOMEWHERE ELSE – Clara Dickson (1). How would the length of the first edge in this path have to compare to the length of the edge directly between Jameson (0) and Clara Dickson (1)?)\n",
    "\n",
    "**A:** <font color='blue'>No. The first edge in any path of the form source – SOMEWHERE ELSE – Clara Dickson (1) would as great or greater than the one we just added. This is becuase we selected the one for which this distance was the shortest!</font>"
   ]
  },
  {
   "cell_type": "markdown",
   "metadata": {},
   "source": [
    "Now we update the table for the next iteration: if two entries have the same destination we drop the more expensive one (e.g., we drop the Jameson Hall (0) - High Rise 5 (10) - Helen Newman (11) route, since it takes longer than the direct Jameson Hall (0) - Helen Newman (11) route). Then for each destination that can be reached from Clara Dickson (1), we compute the length of the path using only nodes already marked, with Clara Dickson (1) being the second-to-last node on the path."
   ]
  },
  {
   "cell_type": "markdown",
   "metadata": {},
   "source": [
    "**Q:** Fill in the missing entries in the table below. Then, as before, cross out any redundant paths (like the Jameson Hall (0) - High Rise 5 (10) - Helen Newman (11) path which we previously dropped).\n",
    "\n",
    "**A:**\n",
    "\n",
    "| Route | Travel Time |\n",
    "|-------|-------------|\n",
    "|Jameson Hall (0) - High Rise 5 (10) | **2**\n",
    "|Jameson Hall (0) - Clara Dickson Hall (1) | 2*\n",
    "|Jameson Hall (0) - Helen Newman (11) | 3\n",
    "|Jameson Hall (0) - Lynah Hockey Rink (13) | 17\n",
    "|Jameson Hall (0) - High Rise 5 (10) - Holland International Living Center (9) | 3\n",
    "|Jameson Hall (0) - Clara Dickson Hall (1) - ? | ?\n",
    "|Jameson Hall (0) - Clara Dickson Hall (1) - ? | ?\n",
    "|Jameson Hall (0) - Clara Dickson Hall (1) - ? | ?\n",
    "\n",
    "<font color='blue'> \n",
    "    \n",
    "| Route | Travel Time |\n",
    "|-------|-------------|\n",
    "|Jameson Hall (0) - High Rise 5 (10) | **2**\n",
    "|Jameson Hall (0) - Clara Dickson Hall (1) | 2*\n",
    "|Jameson Hall (0) - Helen Newman (11) | 3\n",
    "|Jameson Hall (0) - Lynah Hockey Rink (13) | 17 (CROSS OUT)\n",
    "|Jameson Hall (0) - High Rise 5 (10) - Holland International Living Center (9) | 3\n",
    "|Jameson Hall (0) - Clara Dickson Hall (1) - Helen Newman (11) | 5 (CROSS OUT)\n",
    "|Jameson Hall (0) - Clara Dickson Hall (1) - Hockey Rink (13) | 16\n",
    "|Jameson Hall (0) - Clara Dickson Hall (1) - Willard Straight (2) | 20\n",
    "</font>\n"
   ]
  },
  {
   "cell_type": "markdown",
   "metadata": {},
   "source": [
    "On the graph, click Clara Dickson Hall (2). Use the updated table to verify your work. Notice that we discovered a shorter path to Lynah Hockey Rink through Clara Dickson and we see the highlighted edges change according! "
   ]
  },
  {
   "cell_type": "markdown",
   "metadata": {},
   "source": [
    "**Q:** Which node should be clicked next? Call it $X$. What is prev(X) and the shortest path from  Jameson Hall to X?\n",
    "\n",
    "**A:** <font color='blue'>The next node to be clicked is Holland International Living Center (9), prev(9) = 10, and the shortest path is (0,10),(10,9).</font>"
   ]
  },
  {
   "cell_type": "markdown",
   "metadata": {},
   "source": [
    "Dijkstra’s Algorithm continues in this manner. In the next step, we compute the travel times to destinations not already marked (i.e. starred/solid dark blue) that are adjacent to the lastly marked node, using routes that involve only already marked nodes as intermediate steps."
   ]
  },
  {
   "cell_type": "markdown",
   "metadata": {},
   "source": [
    "**Q:** Do the next iteration of the algorithm by hand based on your previous answer: write down the nodes that get marked and/or have their labels updated in this iteration.\n",
    "\n",
    "**A:** <font color='blue'> Cornell High Energy (8) is marked and prev(8) = 9 </font>"
   ]
  },
  {
   "cell_type": "markdown",
   "metadata": {},
   "source": [
    "Finish executing Dijkstra's algorithm by clicking the next node to mark at each step. Feel free to use the instance below to avoid scrolling."
   ]
  },
  {
   "cell_type": "code",
   "execution_count": null,
   "metadata": {},
   "outputs": [],
   "source": [
    "show(vl.assisted_dijkstras_plot(G, s=s, width=500, height=500, show_cost=False))"
   ]
  },
  {
   "cell_type": "markdown",
   "metadata": {},
   "source": [
    "**Q:** How can you read out the shortest path from Jameson Hall to other places on campus from the shortest path tree?\n",
    "\n",
    "**A:** <font color='blue'> Because this is a tree, there is exactly one simple path between any pairs of nodes. For any path between Jameson Hall and another node, this path is a shortest path.</font>"
   ]
  },
  {
   "cell_type": "markdown",
   "metadata": {},
   "source": [
    "**Q:** What is the shortest path (both the route and length) from Jameson Hall (0) to Rhodes Hall (7)?\n",
    "\n",
    "**A:** <font color='blue'> (0,10),(10,9),(9,8),(8,7) of length 23.</font>"
   ]
  },
  {
   "cell_type": "markdown",
   "metadata": {},
   "source": [
    "**Q:** Is the 15 minute guarantee a good one? What about a 30 minute guarantee, assuming some reasonably small fluctuations in the actual travel time due to traffic, etc.\n",
    "\n",
    "**A:** <font color='blue'> 15 minute guarantee is no good but a 30 minute guarantee would probably be reasonable.</font>"
   ]
  },
  {
   "cell_type": "markdown",
   "metadata": {},
   "source": [
    "**Q:** Is the shortest path always unique? If yes, why? If no, can you give an example of two nodes in the graph for this lab that have more than one shortest path between them?\n",
    "\n",
    "**A:** <font color='blue'> No, consider routes (0,11),(11,12),(12,6),(6,7) and (0,10),(10,9),(9,8),(8,7) both of length 23 to Rhodes (7).</font>"
   ]
  },
  {
   "cell_type": "markdown",
   "metadata": {},
   "source": [
    "## Part II: Sensitivity analysis\n",
    "\n",
    "The next several questions ask you to analyze how sensitive your output is to the precise data that has been used. This is called “performing sensitivity analysis” for the input."
   ]
  },
  {
   "cell_type": "markdown",
   "metadata": {},
   "source": [
    "**Q:** Suppose that there was a parade on campus so that the time to go from Holland International (9) to Cornell High Energy (8) directly was increased to 20 minutes.\n",
    "Would this change the shortest path tree? How would the shortest path tree change?\n",
    "\n",
    "**A:** <font color='blue'> Yes, the shortest path to Cornell High Energy is now (0,11),(11,12),(12,8) and the shortest path to Rhodes Hall is now (0,11),(11,12),(12,6),(6,7).</font>"
   ]
  },
  {
   "cell_type": "markdown",
   "metadata": {},
   "source": [
    "**Q:** Can such an increase affect any of the routes that did not originally include the leg from Holland International (9) to Cornell High Energy (8)? Why or why not?\n",
    "\n",
    "<font color='blue'> As long as the change is an increase, then no because there is no way this would introduce a shorter path.</font>"
   ]
  },
  {
   "cell_type": "markdown",
   "metadata": {},
   "source": [
    "Run the cell below to change the weight and generate a plot running Dijkstra's algorithm. Press the next button to see each iteration until all nodes are marked."
   ]
  },
  {
   "cell_type": "code",
   "execution_count": null,
   "metadata": {},
   "outputs": [],
   "source": [
    "G[9][8]['weight'] = 20  # change weight\n",
    "show(vl.dijkstras_plot(G, s=s, width=500, height=500, show_cost=False))"
   ]
  },
  {
   "cell_type": "markdown",
   "metadata": {},
   "source": [
    "**Q:** Did you make any mistakes in **Q16** and **Q17**?\n",
    "\n",
    "<font color='blue'>Answers will vary.</font>"
   ]
  },
  {
   "cell_type": "markdown",
   "metadata": {},
   "source": [
    "**Q:** Suppose the travel time from node (9) to node (8) increased from 14 minutes, but not all the way to 20 minutes. By how much could the travel time increase without the shortest path route to node (8) changing?\n",
    "\n",
    "<font color='blue'>The next shortest path is of length 20: (0,11),(11,12),(12,8) so the travel time could increase to 17 but no further.</font>"
   ]
  },
  {
   "cell_type": "markdown",
   "metadata": {},
   "source": [
    "Suppose that your competitor, Better-Than-Adequate Pizza, decides to promote their brand by installing a moving walkway that takes students from Clara Dickson on North Campus to the Lynah hockey rink. This has the effect of reducing the travel time from Clara Dickson (1) to Lynah (13) so that it only takes 5 minutes."
   ]
  },
  {
   "cell_type": "markdown",
   "metadata": {},
   "source": [
    "**Q:** Would this change or alter the shortest path tree? Does this affect any of the routes that did not originally include the leg from Clara Dickson to Lynah? Why or why not?\n",
    "\n",
    "<font color='blue'>Yes, it changes it dramatically. It can affect other routes that did not originally include the leg from Clara Dickson to Lynah by making them shorter.</font>"
   ]
  },
  {
   "cell_type": "code",
   "execution_count": null,
   "metadata": {},
   "outputs": [],
   "source": [
    "G[9][8]['weight'] = 14  # change this weight back t original\n",
    "G[1][13]['weight'] = 5  # change this weight\n",
    "show(vl.dijkstras_plot(G, s=s, width=500, height=500, show_cost=False))"
   ]
  },
  {
   "cell_type": "markdown",
   "metadata": {},
   "source": [
    "**Q:** Suppose that all the travel times obeyed the following inequality:\n",
    "\n",
    "$$\\text{(travel time from A to C) ≤ (travel time from A to B) + (travel time from B to C)}$$\n",
    "\n",
    "for all nodes A, B and C. This is called the triangle inequality. Suppose our input was the complete graph (that is, there is an edge between every pair of nodes). If the travel times on this input obeyed the triangle inequality, what would the shortest path tree look like?\n",
    "\n",
    "**A:** <font color='blue'>It would contain all and only edges of the form $(s,i)$ for source $s$ and node $i$</font>"
   ]
  },
  {
   "cell_type": "markdown",
   "metadata": {},
   "source": [
    "## Part III: Making it Big - Delivering Pizza in NYC\n",
    "\n",
    "In this part of the lab, we solve a larger instance of the pizza delivery problem that will otherwise be extremely time-consuming to compute by hand. \n",
    "\n",
    "Your pizza delivery service has enjoyed much success and opens up a new shop based at Cornell Tech. You are told that the central location on Roosevelt Island makes it possible to deliver pizzas anywhere in the city within 40 minutes. Your task is to find the best driving routes and to decide whether the 40-minute guarantee is realistic.\n",
    "\n",
    "Here you will use the actual NYC road network. In this network, a node represents any intersection; edges are road segments that connect intersections. Most streets in New York City are included. Approximate travel times are estimated from millions of Yellow Cab travel times.  \n",
    "\n",
    "Begin by loading the data files $\\texttt{nyc_nodes.csv}$ and $\\texttt{nyc_links.csv}$ from the $\\texttt{data}$ folder. (Data originally from: https://lab-work.github.io/data/). The data is kept in pandas dataframes. To view the data as tables, run the cells belows."
   ]
  },
  {
   "cell_type": "code",
   "execution_count": null,
   "metadata": {},
   "outputs": [],
   "source": [
    "# load nodes\n",
    "data = pd.read_csv('data/nyc_nodes.csv')\n",
    "dfn = pd.DataFrame(data)\n",
    "# load edges\n",
    "data = pd.read_csv('data/nyc_links.csv')\n",
    "dfl = pd.DataFrame(data)\n",
    "\n",
    "print('Loaded %d nodes and %d edges.' % (dfn.shape[0], dfl.shape[0]))"
   ]
  },
  {
   "cell_type": "markdown",
   "metadata": {},
   "source": [
    "Use $\\texttt{dfl.head}()$ to inspect the link data. Note that some streets have multiple edges. This is because there are multiple road segments on some streets. Also included are two delay columns: one for NYC at 8 pm, another at 5pm."
   ]
  },
  {
   "cell_type": "code",
   "execution_count": null,
   "metadata": {},
   "outputs": [],
   "source": [
    "dfl.head()"
   ]
  },
  {
   "cell_type": "markdown",
   "metadata": {},
   "source": [
    "We will restrict our focus to a handful of nodes that we treat as Points of Interest ($\\texttt{PoIs}$). Our goal is to decide if pizza can be delivered to these locations in a timely fashion."
   ]
  },
  {
   "cell_type": "code",
   "execution_count": null,
   "metadata": {},
   "outputs": [],
   "source": [
    "# define points of interest (poi)\n",
    "poi = list((1241986499, 42446461, 42439861,\n",
    "            103864622, 42428391, 599270647,\n",
    "            42466966, 42487873))\n",
    "origin = poi[0] # Roosevelt Island\n",
    "\n",
    "# define results dataframe\n",
    "results = pd.DataFrame({'node_id':poi})"
   ]
  },
  {
   "cell_type": "markdown",
   "metadata": {},
   "source": [
    "Run the cell below to plot the road network and $\\texttt{PoIs}$. All nodes except the Points of Interest ($\\texttt{PoIs}$) have been made invisible to keep clutter at a minimum. Do you recognize them?"
   ]
  },
  {
   "cell_type": "code",
   "execution_count": null,
   "metadata": {},
   "outputs": [],
   "source": [
    "from graph_tools import plotNetwork\n",
    "plotNetwork(dfn, dfl, title=\"NYC road network\", targets=poi, on_map=True)"
   ]
  },
  {
   "cell_type": "markdown",
   "metadata": {},
   "source": [
    "Next, load the data into a networkx model and solve. Networkx is a library for dealing with graphs and graph algorithms in Python. Here we use one of networkx's built-in shortest path solvers, but later in the course, we will write our own.\n",
    "\n",
    "Recall that edges (see dfl) were defined by the 'start' node and the 'end' node. We load the data as a graph in the next cell by specifying (1) that our data sits in dfl, (2) that edges start at nodes from the 'start' column, (3) that edges end in nodes in the 'end' column, and (4) that edge costs are in the 'cost' column formatted as such:\n",
    "\n",
    "$$\\texttt{G = nx.from_pandas_edgelist(<dataframe of edges>, <start col name>, <end col name>, <cost col name>)} $$\n",
    "\n",
    "Most pizza is delivered around 8pm, so use delay8pm as $\\texttt{costs}$. Explore the travels times to the various Points of Interest. Is a 30-minute guarantee reasonable?"
   ]
  },
  {
   "cell_type": "code",
   "execution_count": null,
   "metadata": {},
   "outputs": [],
   "source": [
    "# load networkx model from edge dataset\n",
    "G = nx.from_pandas_edgelist(dfl, 'start', 'end', ['delay8pm', 'delay5pm'])"
   ]
  },
  {
   "cell_type": "code",
   "execution_count": null,
   "metadata": {},
   "outputs": [],
   "source": [
    "# set delay variable to be 8pm delays\n",
    "delay = 'delay8pm'"
   ]
  },
  {
   "cell_type": "code",
   "execution_count": null,
   "metadata": {},
   "outputs": [],
   "source": [
    "# solve shortest paths\n",
    "out = nx.single_source_dijkstra(G, origin, weight=delay)\n",
    "# record output times\n",
    "results[delay] = results['node_id'].map(out[0]) / 60"
   ]
  },
  {
   "cell_type": "code",
   "execution_count": null,
   "metadata": {},
   "outputs": [],
   "source": [
    "# inspect the output\n",
    "results"
   ]
  },
  {
   "cell_type": "markdown",
   "metadata": {},
   "source": [
    "Next, plot the shortest path tree. Because there are so many nodes, we're only interested in plotting the shortest paths to the  $\\texttt{PoIs}$. What do you see about the paths? Are there edges (roads / bridges / driveways) that the shortest paths seem to rely heavily on?"
   ]
  },
  {
   "cell_type": "code",
   "execution_count": null,
   "metadata": {},
   "outputs": [],
   "source": [
    "from graph_tools import plotShortestPathTree\n",
    "plotShortestPathTree(dfn, dfl, out, poi)"
   ]
  },
  {
   "cell_type": "markdown",
   "metadata": {},
   "source": [
    "As you many have noticed, all deliveries to the west of Roosevelt Island take the Queensboro Bridge. Aside from Hoboken, is seems feasible to deliver to to all $\\texttt{PoIs}$ in close to 30 minutes. But what if there is a traffic jam on the Queensboro Bridge? Add 10 minutes to the costs of edges using the Queensboro Bridge and re-solve the model. Print the resulting table and shortest path tree."
   ]
  },
  {
   "cell_type": "code",
   "execution_count": null,
   "metadata": {},
   "outputs": [],
   "source": [
    "# get all edges with 'QueensboroBridge' in their name\n",
    "queensboro = dfl['street_name'].str.contains('QueensboroBridge')\n",
    "# define a new cost variable 'qb-cost'\n",
    "dfl['qb_cost'] = dfl['delay8pm']\n",
    "# Change the cost of all QueensboroBridge-related edges\n",
    "dfl.loc[queensboro, 'qb_cost'] = dfl['delay8pm'] + 600 # add 10 minutes"
   ]
  },
  {
   "cell_type": "code",
   "execution_count": null,
   "metadata": {},
   "outputs": [],
   "source": [
    "# load networkx model from edge dataset\n",
    "G = nx.from_pandas_edgelist(dfl, 'start', 'end', ['delay8pm', 'delay5pm', 'qb_cost'])\n",
    "\n",
    "# set delay variable to be 8pm delays\n",
    "delay = 'qb_cost'\n",
    "# solve shortest paths\n",
    "out = nx.single_source_dijkstra(G, origin, weight=delay)\n",
    "# record output times\n",
    "results[delay] = results['node_id'].map(out[0]) / 60\n",
    "\n",
    "# inspect the output\n",
    "results"
   ]
  },
  {
   "cell_type": "code",
   "execution_count": null,
   "metadata": {},
   "outputs": [],
   "source": [
    "# plot new paths\n",
    "plotShortestPathTree(dfn, dfl, out, poi)"
   ]
  },
  {
   "cell_type": "markdown",
   "metadata": {},
   "source": [
    "You have found the shortest path!"
   ]
  },
  {
   "cell_type": "markdown",
   "metadata": {},
   "source": [
    "<font color='red'>**TODO:** Modeling example through text splitting (past HW question).</font>"
   ]
  }
 ],
 "metadata": {
  "language_info": {
   "name": "python"
  }
 },
 "nbformat": 4,
 "nbformat_minor": 4
}
