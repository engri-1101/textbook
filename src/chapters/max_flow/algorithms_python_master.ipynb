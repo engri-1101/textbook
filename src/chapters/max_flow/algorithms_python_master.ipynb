{
 "cells": [
  {
   "cell_type": "markdown",
   "metadata": {
    "colab_type": "text",
    "id": "1VBKC-XHcTdG"
   },
   "source": [
    "# Ford-Fulkerson in Python"
   ]
  },
  {
   "cell_type": "markdown",
   "metadata": {
    "colab_type": "text",
    "id": "1__lkeTYcTdG"
   },
   "source": [
    "We will now use Python to help us run the Ford-Fulkerson algorithm.\n",
    "\n",
    "We start by defining the input in Python. We will use the package \"NetworkX\" to manipulate and display graphs. We will consider a new maximum flow instance. The nodes in this instance are numbered 1, 2, 3, 4, 5 and 6, and we want to find the maximum flow from node 1 to node 6.\n",
    "\n",
    "Read the code below, and run it."
   ]
  },
  {
   "cell_type": "code",
   "execution_count": null,
   "metadata": {},
   "outputs": [],
   "source": [
    "# To use a package, we use the command \"import\" in Python\n",
    "import networkx as nx\n",
    "\n",
    "# G is directed graph \n",
    "G = nx.DiGraph() \n",
    "\n",
    "# We define G based on the edges and the capacity on each edge.\n",
    "# One way to do this is to specify a list of edges with each endpoint and the edge capacity.\n",
    "# For instance, edge (1,2) has capacity 2, (1,3) has capacity 5, etc.\n",
    "edgeList = [(1,2,2),(1,3,5),(2,4,1),(3,2,1),(3,5,3),(4,6,6),(5,2,1),(5,4,2),(5,6,1)]\n",
    "\n",
    "# We create the graph based on this list.\n",
    "G.add_weighted_edges_from(edgeList, 'cap')\n",
    "\n",
    "# Each edge will have a flow associated with it. At the start of the algorithm, the flow on each edge is 0.\n",
    "# We initialize this by iterating through the edges in a for-loop and setting the attribute 'flow' to 0.\n",
    "for i, j in G.edges:\n",
    "    G.edges[i,j]['flow'] = 0"
   ]
  },
  {
   "cell_type": "markdown",
   "metadata": {
    "tags": [
     "web-only"
    ]
   },
   "source": [
    "```{admonition} Note\n",
    "Pay attention to the white space in the code. In Python, white space indentation is used to signal that certain commands are part of a group; for example, the last command above is part of the `for`-loop.\n",
    "```"
   ]
  },
  {
   "cell_type": "markdown",
   "metadata": {
    "colab_type": "text",
    "id": "ZSq5k9aEJYE0",
    "tags": [
     "non-web"
    ]
   },
   "source": [
    "**NOTE**: Pay attention to the white space in the code. In Python, white space indentation is used to signal that certain commands are part of a group; for example, the last command above is part of the `for`-loop."
   ]
  },
  {
   "cell_type": "markdown",
   "metadata": {
    "colab_type": "text",
    "id": "FFAD0iCDcTdQ"
   },
   "source": [
    "The code above initializes the graph, but it does not display anything. Let's run some code that shows what we are doing --- run the code below."
   ]
  },
  {
   "cell_type": "code",
   "execution_count": null,
   "metadata": {},
   "outputs": [],
   "source": [
    "pos = ((0,0),(0,10),(10,20),(10,0),(30,20),(30,0),(40,10)) # node positions\n",
    "nx.draw_networkx(G,pos,node_size=500,node_color='darkorange') # draw graph"
   ]
  },
  {
   "cell_type": "markdown",
   "metadata": {
    "colab_type": "text",
    "id": "25scIxv1cTdU"
   },
   "source": [
    "As you can see, the flows and capacities are not displayed on the graph. To do this, you can run the following code."
   ]
  },
  {
   "cell_type": "code",
   "execution_count": null,
   "metadata": {},
   "outputs": [],
   "source": [
    "# Define edge labels\n",
    "label = {}\n",
    "for i, j in G.edges:\n",
    "    label[(i,j)] = str( G.edges[i,j][\"flow\"] ) + \" / \" + str( G.edges[i,j][\"cap\"] )\n",
    "\n",
    "nx.draw_networkx(G,pos,node_size=500,node_color='darkorange') # draw graph\n",
    "nx.draw_networkx_edge_labels(G,pos,edge_labels=label); # draw labels"
   ]
  },
  {
   "cell_type": "markdown",
   "metadata": {
    "colab_type": "text",
    "id": "f7N9odfvcTdc"
   },
   "source": [
    "So this is the input that we want to run the Ford-Fulkerson algorithm on. As a reminder, every iteration of the algorithm works as follows:\n",
    "\n",
    "- Create the residual graph $G_f$ based on the current flow\n",
    "- Find a path in $G_f$ from $s$ to $t$ (here from 1 to 6)\n",
    "    * If a path exists, update the flow\n",
    "    * Otherwise, you have found a maximum flow\n",
    "    \n",
    "So first we want to create the residual graph $G_f$. Recall that we create this graph by adding forward edges with residual capacity equal to the remaining capacity of the edge on which flow could be pushed and backward edges with residual capacity equal to the flow on that edge."
   ]
  },
  {
   "cell_type": "markdown",
   "metadata": {},
   "source": [
    "**Q:** Assume we have a feasible flow. Consider an edge with capacity $c$ and flow $f$. What inequality must hold true for $c$ and $f$? Why?"
   ]
  },
  {
   "cell_type": "markdown",
   "metadata": {
    "tags": [
     "remove-cell",
     "web-only"
    ]
   },
   "source": [
    "**A:** "
   ]
  },
  {
   "cell_type": "markdown",
   "metadata": {
    "tags": [
     "non-web"
    ]
   },
   "source": [
    "**A:** <font color='blue'> $f \\leq c$ because of the capacity constraint. </font>"
   ]
  },
  {
   "cell_type": "markdown",
   "metadata": {},
   "source": [
    "**Q:** Now, assume $f > 0$. What residual edges will be created? For each residual edge created, state whether the edge is a forward or backward edge, and give its residual capacity in terms of $c$ and $f$."
   ]
  },
  {
   "cell_type": "markdown",
   "metadata": {
    "tags": [
     "remove-cell",
     "web-only"
    ]
   },
   "source": [
    "**A:** "
   ]
  },
  {
   "cell_type": "markdown",
   "metadata": {
    "tags": [
     "non-web"
    ]
   },
   "source": [
    "**A:** <font color='blue'> Forward edge with capacity $c-f$ and backward edge with capacity $f$.</font>"
   ]
  },
  {
   "cell_type": "markdown",
   "metadata": {},
   "source": [
    "The following code implements the logic you just described."
   ]
  },
  {
   "cell_type": "code",
   "execution_count": null,
   "metadata": {},
   "outputs": [],
   "source": [
    "residualGraph = nx.DiGraph() # blank graph\n",
    "\n",
    "for i, j in G.edges:\n",
    "    c = G.edges[ i,j ]['cap'] # capacity on edge (i,j)\n",
    "    f = G.edges[ i,j ]['flow'] # flow on edge (i,j)\n",
    "    \n",
    "    # If there is leftover capacity\n",
    "    if( c > f ):\n",
    "        residualGraph.add_edge(i,j)\n",
    "        residualGraph.edges[i,j]['residual capacity'] = c-f\n",
    "        residualGraph.edges[i,j]['forward edge'] = True \n",
    "     \n",
    "    # If there is nonzero flow\n",
    "    if ( f > 0 ):\n",
    "        residualGraph.add_edge(j,i)\n",
    "        residualGraph.edges[j,i]['residual capacity'] = f\n",
    "        residualGraph.edges[j,i]['forward edge'] = False "
   ]
  },
  {
   "cell_type": "markdown",
   "metadata": {
    "colab_type": "text",
    "id": "l5vBpi9vcTdg"
   },
   "source": [
    "Now, the code below plots the residual graph."
   ]
  },
  {
   "cell_type": "code",
   "execution_count": null,
   "metadata": {},
   "outputs": [],
   "source": [
    "nx.draw_networkx(residualGraph,pos,node_size=500,node_color='limegreen',connectionstyle='arc3, rad=0.1')\n",
    "residualcap = nx.get_edge_attributes(residualGraph, 'residual capacity')        \n",
    "nx.draw_networkx_edge_labels(residualGraph,pos,edge_labels=residualcap,label_pos=0.66);"
   ]
  },
  {
   "cell_type": "markdown",
   "metadata": {
    "colab_type": "text",
    "id": "JjU-TI53cTdm"
   },
   "source": [
    "The nodes are drawn in green as a visual reminder that we are looking at the residual graph. Also, the edges are drawn with a slight bend because we know there will often be both an arc $(i,j)$ and $(j,i)$ in the residual graph. The residual capacities are given closer to the tail of the edges.\n",
    "\n",
    "Let's now do an iteration of Ford-Fulkerson. \n",
    "\n",
    "**Q:** Find a path from 1 to 6 in the residual graph, and define delta to be the minimum residual capacity of the edges in this path.\n",
    "\n",
    "You can define a path in Python by listing the edges in the path as follows:\n",
    "\n",
    "`flowpath = [(1,2),(2,3)]` \n",
    "\n",
    "defines the variable \"flowpath\" as the path with edges (1,2) and (2,3)."
   ]
  },
  {
   "cell_type": "code",
   "execution_count": null,
   "metadata": {
    "tags": [
     "web-only"
    ]
   },
   "outputs": [],
   "source": [
    "# TODO\n",
    "flowpath = []\n",
    "delta = "
   ]
  },
  {
   "cell_type": "code",
   "execution_count": null,
   "metadata": {
    "tags": [
     "non-web"
    ]
   },
   "outputs": [],
   "source": [
    "# TODO\n",
    "flowpath = []\n",
    "delta = \n",
    "\n",
    "### BEGIN SOLUTION\n",
    "flowpath = [(1,3),(3,5),(5,6)]\n",
    "delta = 1\n",
    "### END SOLUTION"
   ]
  },
  {
   "cell_type": "markdown",
   "metadata": {
    "colab_type": "text",
    "id": "A5ji3iTfcTdr"
   },
   "source": [
    "**Q:** How will the flow change on the edges in the original graph with a corresponding forward edge in the s-t path in the residual graph? What about those with a corresponding backward edge in the s-t path in the residual graph?"
   ]
  },
  {
   "cell_type": "markdown",
   "metadata": {
    "tags": [
     "remove-cell",
     "web-only"
    ]
   },
   "source": [
    "**A:** "
   ]
  },
  {
   "cell_type": "markdown",
   "metadata": {
    "tags": [
     "non-web"
    ]
   },
   "source": [
    "**A:** <font color='blue'> The flow on edges with a corresponding forward edge in the s-t path in the residual graph will increase by delta while the flow on edges with a corresponding backward edge in the s-t path in the residual graph will decrease by delta. </font>"
   ]
  },
  {
   "cell_type": "markdown",
   "metadata": {},
   "source": [
    "The following code implements the logic you just described."
   ]
  },
  {
   "cell_type": "code",
   "execution_count": null,
   "metadata": {},
   "outputs": [],
   "source": [
    "for i, j in flowpath:\n",
    "    if residualGraph.edges[i,j]['forward edge']:\n",
    "        G.edges[i,j]['flow'] = G.edges[i,j]['flow'] + delta\n",
    "    else:\n",
    "        G.edges[j,i]['flow'] = G.edges[j,i]['flow'] - delta"
   ]
  },
  {
   "cell_type": "markdown",
   "metadata": {
    "colab_type": "text",
    "id": "i9lj4yTkcTdy"
   },
   "source": [
    "Now, we plot the new flow!"
   ]
  },
  {
   "cell_type": "code",
   "execution_count": null,
   "metadata": {},
   "outputs": [],
   "source": [
    "# Define edge labels\n",
    "label = {}\n",
    "for i, j in G.edges:\n",
    "    label[(i,j)] = str( G.edges[i,j][\"flow\"] ) + \" / \" + str( G.edges[i,j][\"cap\"] )\n",
    "\n",
    "nx.draw_networkx(G,pos,node_size=500,node_color='darkorange') # draw graph\n",
    "nx.draw_networkx_edge_labels(G,pos,edge_labels=label); # draw labels"
   ]
  },
  {
   "cell_type": "markdown",
   "metadata": {
    "colab_type": "text",
    "id": "URnoHJtxcTd2"
   },
   "source": [
    "This concludes the first iteration of the Ford-Fulkerson algorithm! Let's do this again! Did you notice we used the same code to plot the flow graph? When we have code we want to reuse, we should make a \"function\". You can do this in Python using the keyword `def`. As an example, let's define a function to plot the graph with the current flow, called `plot_flow`."
   ]
  },
  {
   "cell_type": "code",
   "execution_count": null,
   "metadata": {},
   "outputs": [],
   "source": [
    "def plot_flow():\n",
    "    # Define edge labels\n",
    "    label = {}\n",
    "    for i, j in G.edges:\n",
    "        label[(i,j)] = str( G.edges[i,j][\"flow\"] ) + \" / \" + str( G.edges[i,j][\"cap\"] )\n",
    "\n",
    "    nx.draw_networkx(G,pos,node_size=500,node_color='darkorange') # draw graph\n",
    "    nx.draw_networkx_edge_labels(G,pos,edge_labels=label); # draw labels"
   ]
  },
  {
   "cell_type": "markdown",
   "metadata": {
    "colab_type": "text",
    "id": "3GTyno-TcTd8"
   },
   "source": [
    "After running the code in the cell above, it now suffices to just type `plot_flow()` to see the current flow."
   ]
  },
  {
   "cell_type": "code",
   "execution_count": null,
   "metadata": {},
   "outputs": [],
   "source": [
    "plot_flow()"
   ]
  },
  {
   "cell_type": "markdown",
   "metadata": {},
   "source": [
    "Great! Let's do the same thing for plotting the residual graph. (The `global` keyword ensures the variable `residualGraph` has a scope outside this function. Speaking of scope, this is outside the scope of this course)."
   ]
  },
  {
   "cell_type": "code",
   "execution_count": null,
   "metadata": {},
   "outputs": [],
   "source": [
    "def plot_residual_graph():\n",
    "\n",
    "    global residualGraph\n",
    "    \n",
    "    residualGraph = nx.DiGraph() # blank graph\n",
    "\n",
    "    for i, j in G.edges:\n",
    "        c = G.edges[ i,j ]['cap'] # capacity on edge (i,j)\n",
    "        f = G.edges[ i,j ]['flow'] # flow on edge (i,j)\n",
    "\n",
    "        # If there is leftover capacity\n",
    "        if( c > f ):\n",
    "            residualGraph.add_edge(i,j)\n",
    "            residualGraph.edges[i,j]['residual capacity'] = c-f\n",
    "            residualGraph.edges[i,j]['forward edge'] = True \n",
    "\n",
    "        # If there is nonzero flow\n",
    "        if ( f > 0 ):\n",
    "            residualGraph.add_edge(j,i)\n",
    "            residualGraph.edges[j,i]['residual capacity'] = f\n",
    "            residualGraph.edges[j,i]['forward edge'] = False \n",
    "            \n",
    "    nx.draw_networkx(residualGraph,pos,node_size=500,node_color='limegreen',connectionstyle='arc3, rad=0.1')\n",
    "    residualcap = nx.get_edge_attributes(residualGraph, 'residual capacity')        \n",
    "    nx.draw_networkx_edge_labels(residualGraph,pos,edge_labels=residualcap,label_pos=0.66);"
   ]
  },
  {
   "cell_type": "markdown",
   "metadata": {},
   "source": [
    "Again, we can now plot the residual graph using `plot_residual_graph()`."
   ]
  },
  {
   "cell_type": "code",
   "execution_count": null,
   "metadata": {},
   "outputs": [],
   "source": [
    "plot_residual_graph()"
   ]
  },
  {
   "cell_type": "markdown",
   "metadata": {
    "tags": [
     "web-only"
    ]
   },
   "source": [
    "```{admonition} Note\n",
    "The residual capacities are given closer to the tail of the edges than the head, again, because there will often be two edges between a pair of nodes.\n",
    "```"
   ]
  },
  {
   "cell_type": "markdown",
   "metadata": {
    "colab_type": "text",
    "id": "C9L9XJQZNMgM",
    "tags": [
     "non-web"
    ]
   },
   "source": [
    "**NOTE:** The residual capacities are given closer to the tail of the edges than the head, again, because there will often be two edges between a pair of nodes."
   ]
  },
  {
   "cell_type": "markdown",
   "metadata": {
    "colab_type": "text",
    "id": "XU0c3TXRcTeJ"
   },
   "source": [
    "**Q:** Find another 1 to 6 path in the residual graph, and find the minimum residual capacity of the edges on this path."
   ]
  },
  {
   "cell_type": "code",
   "execution_count": null,
   "metadata": {
    "tags": [
     "web-only"
    ]
   },
   "outputs": [],
   "source": [
    "# TODO\n",
    "flowpath = []\n",
    "delta = "
   ]
  },
  {
   "cell_type": "code",
   "execution_count": null,
   "metadata": {
    "tags": [
     "non-web"
    ]
   },
   "outputs": [],
   "source": [
    "# TODO\n",
    "flowpath = []\n",
    "delta = \n",
    "\n",
    "### BEGIN SOLUTION\n",
    "flowpath = [(1,2),(2,4),(4,6)]\n",
    "delta = 1\n",
    "### END SOLUTION"
   ]
  },
  {
   "cell_type": "markdown",
   "metadata": {
    "colab_type": "text",
    "id": "p9udBRBAcTeN"
   },
   "source": [
    "Let's update the flow again. But first, we will reduce repeated code by introducing a function."
   ]
  },
  {
   "cell_type": "code",
   "execution_count": null,
   "metadata": {},
   "outputs": [],
   "source": [
    "def update_flow():\n",
    "    for i, j in flowpath:\n",
    "        if residualGraph.edges[i,j]['forward edge']:\n",
    "            G.edges[i,j]['flow'] = G.edges[i,j]['flow'] + delta\n",
    "        else:\n",
    "            G.edges[j,i]['flow'] = G.edges[j,i]['flow'] - delta"
   ]
  },
  {
   "cell_type": "markdown",
   "metadata": {
    "colab_type": "text",
    "id": "NcjvDy1TcTeS"
   },
   "source": [
    "Run this cell to update the flow."
   ]
  },
  {
   "cell_type": "code",
   "execution_count": null,
   "metadata": {},
   "outputs": [],
   "source": [
    "update_flow()"
   ]
  },
  {
   "cell_type": "markdown",
   "metadata": {
    "colab_type": "text",
    "id": "Uz86KsuGcTeW"
   },
   "source": [
    "And run this cell to view the new flow graph."
   ]
  },
  {
   "cell_type": "code",
   "execution_count": null,
   "metadata": {},
   "outputs": [],
   "source": [
    "plot_flow()"
   ]
  },
  {
   "cell_type": "markdown",
   "metadata": {
    "colab_type": "text",
    "id": "3hDKkgHccTea"
   },
   "source": [
    "Let's do another iteration! Here is the updated residual graph:"
   ]
  },
  {
   "cell_type": "code",
   "execution_count": null,
   "metadata": {},
   "outputs": [],
   "source": [
    "plot_residual_graph()"
   ]
  },
  {
   "cell_type": "markdown",
   "metadata": {
    "colab_type": "text",
    "id": "h_-cOBdlcTee"
   },
   "source": [
    "**Q:** Find another path."
   ]
  },
  {
   "cell_type": "code",
   "execution_count": null,
   "metadata": {
    "tags": [
     "web-only"
    ]
   },
   "outputs": [],
   "source": [
    "# TODO\n",
    "flowpath = []\n",
    "delta = "
   ]
  },
  {
   "cell_type": "code",
   "execution_count": null,
   "metadata": {
    "tags": [
     "non-web"
    ]
   },
   "outputs": [],
   "source": [
    "# TODO\n",
    "flowpath = []\n",
    "delta = \n",
    "\n",
    "### BEGIN SOLUTION\n",
    "flowpath = [(1,3),(3,5),(5,4),(4,6)]\n",
    "delta = 2\n",
    "### END SOLUTION"
   ]
  },
  {
   "cell_type": "code",
   "execution_count": null,
   "metadata": {},
   "outputs": [],
   "source": [
    "update_flow()"
   ]
  },
  {
   "cell_type": "code",
   "execution_count": null,
   "metadata": {},
   "outputs": [],
   "source": [
    "plot_flow()"
   ]
  },
  {
   "cell_type": "code",
   "execution_count": null,
   "metadata": {},
   "outputs": [],
   "source": [
    "plot_residual_graph()"
   ]
  },
  {
   "cell_type": "markdown",
   "metadata": {},
   "source": [
    "Did we find an optimal flow?  If you did the previous iterations correctly, there is no longer a path from 1 to 6 in the residual graph. Recall, this means that the flow is optimal, and you can show this by providing a cut that has capacity equal to the flow value. This cut can be found using a \"labeling algorithm\" that maintains a list of checked nodes that it still needs to process."
   ]
  },
  {
   "cell_type": "markdown",
   "metadata": {},
   "source": [
    "## Labeling Algorithm"
   ]
  },
  {
   "cell_type": "markdown",
   "metadata": {
    "colab_type": "text",
    "id": "wQYXgnJMcTer"
   },
   "source": [
    "Labeling algorithm\n",
    "- Mark $s$ with a $\\checkmark$. Let the list initially contain only node $s$.\n",
    "- Until the list is empty:\n",
    "    * Take any node (e.g., the first one) off of the list. Suppose that $i$ is the name of this node. For each arc leaving $i$, that is, each $(i,j) \\in E_f$, if $j$ is unchecked, check it and add it to the list.\n",
    "\n",
    "The nodes that have been checked are those nodes that are reachable from $s$ by a path in $G_f$. Note that the labeling algorithm is extremely similar to Dijkstra's shortest path algorithm. However, it does not care about distance, only if a node is reachable.\n",
    "\n",
    "We implement the labeling algorithm below."
   ]
  },
  {
   "cell_type": "code",
   "execution_count": null,
   "metadata": {},
   "outputs": [],
   "source": [
    "# Uncheck all nodes except for 1\n",
    "for i in G.nodes:\n",
    "    G.nodes[i][\"check\"] = False\n",
    "G.nodes[1][\"check\"] = True\n",
    "\n",
    "# Initialize the list of checked nodes that we still need to process\n",
    "list = { 1 }\n",
    "\n",
    "# Until the list is empty\n",
    "while (len( list ) > 0):\n",
    "    # Take any node off of the list\n",
    "    i = list.pop() \n",
    "    \n",
    "    # For each arc in the residual graph leaving i\n",
    "    for j in residualGraph.neighbors(i):\n",
    "        # If j is unchecked        \n",
    "        if not G.nodes[j][\"check\"]:\n",
    "            G.nodes[j][\"check\"] = True  # check it\n",
    "            list.add( j )  # and add it to the list\n",
    "\n",
    "# Output the checked nodes\n",
    "for i in G.nodes:\n",
    "    if G.nodes[i][\"check\"]:\n",
    "        print( i )"
   ]
  },
  {
   "cell_type": "markdown",
   "metadata": {
    "colab_type": "text",
    "id": "EXP9OuyEcTev"
   },
   "source": [
    "**Q:** What is the cut that the labeling algorithm finds? What is the capacity of the cut?"
   ]
  },
  {
   "cell_type": "markdown",
   "metadata": {
    "tags": [
     "non-web"
    ]
   },
   "source": [
    "**A:** "
   ]
  },
  {
   "cell_type": "markdown",
   "metadata": {
    "tags": [
     "non-web"
    ]
   },
   "source": [
    "**A:** <font color='blue'> The cut that the labeling algorithm finds is $S = \\{1,2,3\\}$ with capacity 4. </font>"
   ]
  },
  {
   "cell_type": "markdown",
   "metadata": {
    "colab_type": "text",
    "id": "hzfOGrlLcTex"
   },
   "source": [
    "We can modify the code to find a path in the residual graph if there is one by keeping track of the node $i$ we came from when we first check a node $j$. We can do this by adding another attribute to the nodes, called \"prev\", and defining this in the algorithm. As soon as we encounter node 6 we can backtrack using \"prev\" to find the path.\n",
    "\n",
    "We implement this idea below. Look for the slight change in implementation from the previous one."
   ]
  },
  {
   "cell_type": "code",
   "execution_count": null,
   "metadata": {},
   "outputs": [],
   "source": [
    "def labeling_algorithm():\n",
    "    # Uncheck all nodes except for 1\n",
    "    for i in G.nodes:\n",
    "        G.nodes[i][\"check\"] = False\n",
    "    G.nodes[1][\"check\"] = True\n",
    "\n",
    "    # Initialize the list of checked nodes that we still need to process\n",
    "    list = { 1 }\n",
    "\n",
    "    # Until the list is empty\n",
    "    while ( len( list ) > 0 ):\n",
    "        # Take any node off of the list\n",
    "        i = list.pop() \n",
    "\n",
    "        # For each arc in the residual graph leaving i\n",
    "        for j in residualGraph.neighbors(i):\n",
    "            # If j is unchecked        \n",
    "            if not G.nodes[j][\"check\"]:\n",
    "                G.nodes[j][\"check\"] = True  # check it\n",
    "                G.nodes[j][\"prev\"] = i  # set prev\n",
    "                list.add( j )  # and add it to the list"
   ]
  },
  {
   "cell_type": "markdown",
   "metadata": {
    "colab_type": "text",
    "id": "mfdg1FWDcTe2"
   },
   "source": [
    "Let's restart with the same graph again."
   ]
  },
  {
   "cell_type": "code",
   "execution_count": null,
   "metadata": {},
   "outputs": [],
   "source": [
    "G = nx.DiGraph()  # blank directed graph\n",
    "edgeList = [(1,2,2),(1,3,5),(2,4,1),(3,2,1),(3,5,3),(4,6,6),(5,2,1),(5,4,2),(5,6,1)]  # create edges / capacities\n",
    "G.add_weighted_edges_from( edgeList, 'cap' )  # add edges / capacities to graph\n",
    "for i, j in G.edges:\n",
    "    G.edges[i,j]['flow'] = 0 # set flows to zero"
   ]
  },
  {
   "cell_type": "markdown",
   "metadata": {
    "colab_type": "text",
    "id": "4v2VwLubcTe5"
   },
   "source": [
    "Let's plot the flow and the residual graphs."
   ]
  },
  {
   "cell_type": "code",
   "execution_count": null,
   "metadata": {},
   "outputs": [],
   "source": [
    "plot_flow()"
   ]
  },
  {
   "cell_type": "code",
   "execution_count": null,
   "metadata": {},
   "outputs": [],
   "source": [
    "plot_residual_graph()"
   ]
  },
  {
   "cell_type": "markdown",
   "metadata": {
    "colab_type": "text",
    "id": "EmxoTdJOcTfB"
   },
   "source": [
    "Before using our function `labeling_algorithm` to run the labeling algorithm on this instance, we will use a visual and interactive implementation."
   ]
  },
  {
   "cell_type": "code",
   "execution_count": null,
   "metadata": {
    "tags": [
     "web-only"
    ]
   },
   "outputs": [],
   "source": [
    "import urllib.request\n",
    "urllib.request.urlretrieve('https://engri-1101.github.io/textbook/modules/max_flow.py', \"max_flow.py\")\n",
    "from max_flow import *\n",
    "\n",
    "pos = ((0,0),(0,10),(10,20),(10,0),(30,20),(30,0),(40,10))\n",
    "for i in range(1,7):\n",
    "    G.nodes[i]['pos'] = pos[i]\n",
    "\n",
    "ex = max_flow(G)\n",
    "ex.label(s=1,auto=False,show=True)"
   ]
  },
  {
   "cell_type": "code",
   "execution_count": null,
   "metadata": {
    "tags": [
     "non-web"
    ]
   },
   "outputs": [],
   "source": [
    "from max_flow import *\n",
    "\n",
    "pos = ((0,0),(0,10),(10,20),(10,0),(30,20),(30,0),(40,10))\n",
    "for i in range(1,7):\n",
    "    G.nodes[i]['pos'] = pos[i]\n",
    "\n",
    "ex = max_flow(G)\n",
    "ex.label(s=1,auto=False,show=True)"
   ]
  },
  {
   "cell_type": "markdown",
   "metadata": {},
   "source": [
    "Now let's use our implementation!"
   ]
  },
  {
   "cell_type": "code",
   "execution_count": null,
   "metadata": {},
   "outputs": [],
   "source": [
    "labeling_algorithm()"
   ]
  },
  {
   "cell_type": "markdown",
   "metadata": {},
   "source": [
    "We can use the attribute \"check\" to see whether node 6 is reachable from node 1 in the residual graph."
   ]
  },
  {
   "cell_type": "code",
   "execution_count": null,
   "metadata": {},
   "outputs": [],
   "source": [
    "print(G.nodes[6][\"check\"])"
   ]
  },
  {
   "cell_type": "markdown",
   "metadata": {
    "colab_type": "text",
    "id": "bCynevo2cTfD"
   },
   "source": [
    "**Q:** Is node 6 reachable from node 1 in the residual graph? Why?"
   ]
  },
  {
   "cell_type": "markdown",
   "metadata": {
    "tags": [
     "remove-cell",
     "web-only"
    ]
   },
   "source": [
    "**A:** "
   ]
  },
  {
   "cell_type": "markdown",
   "metadata": {
    "tags": [
     "non-web"
    ]
   },
   "source": [
    "**A:** <font color='blue'> Yes, it was checked off after running the labeling algorithm. </font>"
   ]
  },
  {
   "cell_type": "markdown",
   "metadata": {
    "colab_type": "text",
    "id": "TSk8J4nvcTfG"
   },
   "source": [
    "Let's use the \"prev\" attribute to find a path from 1 to 6 in the residual graph. Run the cell to generate the augmenting path in the residual graph."
   ]
  },
  {
   "cell_type": "code",
   "execution_count": null,
   "metadata": {},
   "outputs": [],
   "source": [
    "j = 6\n",
    "flowpath = []\n",
    "while j != 1:\n",
    "    i = G.nodes[j][\"prev\"]\n",
    "    flowpath.insert( 0, (i,j) )\n",
    "    j = i\n",
    "print(flowpath)"
   ]
  },
  {
   "cell_type": "markdown",
   "metadata": {
    "colab_type": "text",
    "id": "LkxaLiNtcTfK"
   },
   "source": [
    "And let's find the minimum residual capacity on this path. First, we can get a list of the residual capacities for every edge in the path. Then, we use `min` to find the smallest which we call delta."
   ]
  },
  {
   "cell_type": "code",
   "execution_count": null,
   "metadata": {},
   "outputs": [],
   "source": [
    "path_capacities = [residualGraph.edges[i,j]['residual capacity'] for i,j in flowpath]\n",
    "print(path_capacities)\n",
    "delta = min(path_capacities)\n",
    "print(delta)"
   ]
  },
  {
   "cell_type": "markdown",
   "metadata": {
    "colab_type": "text",
    "id": "joOCQlFccTfM"
   },
   "source": [
    "Now we can use the function defined earlier to update the flow!"
   ]
  },
  {
   "cell_type": "code",
   "execution_count": null,
   "metadata": {},
   "outputs": [],
   "source": [
    "update_flow()\n",
    "plot_flow()"
   ]
  },
  {
   "cell_type": "code",
   "execution_count": null,
   "metadata": {},
   "outputs": [],
   "source": [
    "plot_residual_graph()"
   ]
  },
  {
   "cell_type": "markdown",
   "metadata": {
    "colab_type": "text",
    "id": "f-TdlBtscTfR"
   },
   "source": [
    "Let's run the labeling algorithm again."
   ]
  },
  {
   "cell_type": "code",
   "execution_count": null,
   "metadata": {},
   "outputs": [],
   "source": [
    "labeling_algorithm()"
   ]
  },
  {
   "cell_type": "markdown",
   "metadata": {
    "colab_type": "text",
    "id": "ldvEa3YacTfV"
   },
   "source": [
    "Let's define a new function to find and print an $s-t$ path in the residual graph and its corresponding delta."
   ]
  },
  {
   "cell_type": "code",
   "execution_count": null,
   "metadata": {},
   "outputs": [],
   "source": [
    "def print_path_and_delta():\n",
    "    global flowpath, delta\n",
    "    \n",
    "    j = 6\n",
    "    flowpath = []\n",
    "    while j != 1:\n",
    "        i = G.nodes[j][\"prev\"]\n",
    "        flowpath.insert( 0, (i,j) )\n",
    "        j = i\n",
    "    print(flowpath)\n",
    "    \n",
    "    path_capacities = [residualGraph.edges[i,j]['residual capacity'] for i,j in flowpath]\n",
    "    delta = min(path_capacities)\n",
    "    print(delta)"
   ]
  },
  {
   "cell_type": "markdown",
   "metadata": {
    "colab_type": "text",
    "id": "tQJO9Bt_cTfY"
   },
   "source": [
    "Run this cell to make sure your function works as expected."
   ]
  },
  {
   "cell_type": "code",
   "execution_count": null,
   "metadata": {},
   "outputs": [],
   "source": [
    "print_path_and_delta()"
   ]
  },
  {
   "cell_type": "markdown",
   "metadata": {
    "colab_type": "text",
    "id": "xblHSCCdcTfc"
   },
   "source": [
    "Let's update the flow again."
   ]
  },
  {
   "cell_type": "code",
   "execution_count": null,
   "metadata": {},
   "outputs": [],
   "source": [
    "update_flow()\n",
    "plot_flow()"
   ]
  },
  {
   "cell_type": "code",
   "execution_count": null,
   "metadata": {},
   "outputs": [],
   "source": [
    "print_path_and_delta()"
   ]
  },
  {
   "cell_type": "markdown",
   "metadata": {},
   "source": [
    "## Putting Everything Together"
   ]
  },
  {
   "cell_type": "markdown",
   "metadata": {
    "colab_type": "text",
    "id": "_zNjfih7cTfg"
   },
   "source": [
    "You're probably getting a bit sick from running each cell every time. Let's automate the procedure!"
   ]
  },
  {
   "cell_type": "code",
   "execution_count": null,
   "metadata": {},
   "outputs": [],
   "source": [
    "import matplotlib.pyplot as plt\n",
    "\n",
    "def ford_fulkerson(G):\n",
    "    for i, j in G.edges:\n",
    "        G.edges[i,j]['flow'] = 0\n",
    "\n",
    "    plot_residual_graph() # plot the residual graph\n",
    "    labeling_algorithm() # run the labeling algorithm to find a s-t path in the residual graph\n",
    "    while G.nodes[6][\"check\"]: # while there is an s-t path in the residual graph\n",
    "        plt.figure()\n",
    "        print_path_and_delta() # show it\n",
    "        update_flow() # update the flow\n",
    "        plot_residual_graph() # plot the new residual graph\n",
    "        labeling_algorithm() # run the labeling algorithm to find a s-t path in the new residual graph"
   ]
  },
  {
   "cell_type": "code",
   "execution_count": null,
   "metadata": {},
   "outputs": [],
   "source": [
    "# Define the input graph\n",
    "G = nx.DiGraph() \n",
    "edgeList = [(1,2,2),(1,3,5),(2,4,1),(3,2,1),(3,5,3),(4,6,6),(5,2,1),(5,4,2),(5,6,1)]\n",
    "G.add_weighted_edges_from(edgeList, 'cap')\n",
    "\n",
    "# Run Ford-Fulkerson\n",
    "ford_fulkerson(G)"
   ]
  },
  {
   "cell_type": "markdown",
   "metadata": {
    "colab_type": "text",
    "id": "MW-ce1NwcTfl"
   },
   "source": [
    "Let's have a look at the maximum flow."
   ]
  },
  {
   "cell_type": "code",
   "execution_count": null,
   "metadata": {},
   "outputs": [],
   "source": [
    "plot_flow()"
   ]
  },
  {
   "cell_type": "markdown",
   "metadata": {},
   "source": [
    "Use the visual/interactive labeling algorithm to identify the checked nodes."
   ]
  },
  {
   "cell_type": "code",
   "execution_count": null,
   "metadata": {},
   "outputs": [],
   "source": [
    "pos = ((0,0),(0,10),(10,20),(10,0),(30,20),(30,0),(40,10))\n",
    "for i in range(1,7):\n",
    "    G.nodes[i]['pos'] = pos[i]\n",
    "\n",
    "ex = max_flow(G)\n",
    "ex.ford_fulkerson(s=1, t=6, show=False)\n",
    "ex.label(s=1, auto=False, show=True)"
   ]
  },
  {
   "cell_type": "markdown",
   "metadata": {
    "colab_type": "text",
    "id": "kb4TekNdcTf0"
   },
   "source": [
    "**Q:** Which nodes were checked in the last run of the labeling algorithm? Use this to give a minimum cut. What is its capacity? How does it relate to the value of the optimal flow?"
   ]
  },
  {
   "cell_type": "markdown",
   "metadata": {
    "tags": [
     "remove-cell",
     "web-only"
    ]
   },
   "source": [
    "**A:** "
   ]
  },
  {
   "cell_type": "markdown",
   "metadata": {
    "tags": [
     "non-web"
    ]
   },
   "source": [
    "**A:** <font color='blue'> A minimum cut is $S = \\{1,2,3\\}$ with value 4 which equals the value of the optimal flow. </font>"
   ]
  },
  {
   "cell_type": "markdown",
   "metadata": {
    "colab_type": "text",
    "id": "OmXmdV9FcTf4"
   },
   "source": [
    "We have now implemented the Ford-Fulkerson algorithm in Python! With a few more tweaks, you could use this on any graph."
   ]
  },
  {
   "cell_type": "markdown",
   "metadata": {
    "colab_type": "text",
    "id": "RzYirUzccTf4"
   },
   "source": [
    "**Bonus:** You have seen all the ingredients necessary to also implement Dijkstra's algorithm for the shortest path problem. Implement this algorithm in Python."
   ]
  }
 ],
 "metadata": {
  "kernelspec": {
   "display_name": "Python 3 (ipykernel)",
   "language": "python",
   "name": "python3"
  },
  "language_info": {
   "codemirror_mode": {
    "name": "ipython",
    "version": 3
   },
   "file_extension": ".py",
   "mimetype": "text/x-python",
   "name": "python",
   "nbconvert_exporter": "python",
   "pygments_lexer": "ipython3",
   "version": "3.10.9"
  }
 },
 "nbformat": 4,
 "nbformat_minor": 1
}
