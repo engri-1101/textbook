{
 "cells": [
  {
   "cell_type": "markdown",
   "id": "b8fce955",
   "metadata": {},
   "source": [
    "# The Maximum Flow Problem\n",
    "\n",
    "The next mathematical model that we shall consider is called\n",
    "the *maximum flow problem*. This problem can be motivated\n",
    "by the following setting. Imagine that you have a network of\n",
    "pipes that are used to ship, for example, oil from its source\n",
    "to where it is refined. Each pipe in the network can maintain\n",
    "a certain capacity of flow (per second), which depends on its\n",
    "cross-section and other less significant factors. At what rate\n",
    "can we deliver oil to the refinery?"
   ]
  }
 ],
 "metadata": {
  "kernelspec": {
   "display_name": "Python 3 (ipykernel)",
   "language": "python",
   "name": "python3"
  },
  "language_info": {
   "codemirror_mode": {
    "name": "ipython",
    "version": 3
   },
   "file_extension": ".py",
   "mimetype": "text/x-python",
   "name": "python",
   "nbconvert_exporter": "python",
   "pygments_lexer": "ipython3",
   "version": "3.10.9"
  }
 },
 "nbformat": 4,
 "nbformat_minor": 5
}
