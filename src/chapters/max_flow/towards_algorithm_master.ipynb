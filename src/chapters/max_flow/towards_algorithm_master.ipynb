{
 "cells": [
  {
   "cell_type": "markdown",
   "id": "ab885c47",
   "metadata": {},
   "source": [
    "# Towards an Algorithm\n",
    "\n",
    "We will give an algorithm that generates a flow and cut simultaneously, such that the value of the flow is equal to the capacity of the cut; hence, the algorithm not only computes the maximum flow, but also computes something that verifies the optimality of this flow.\n",
    "\n",
    "But now consider a closely related question. Given a feasible flow, how can you tell (quickly) if the flow is optimal? To answer this question, first consider the following example. In the figure below, the number next to each arc represents its capacity. The boxed number next to each arc specifies a flow value for that arc; this currently shows a feasible flow of value 11."
   ]
  },
  {
   "cell_type": "markdown",
   "id": "ba92e47a",
   "metadata": {
    "tags": [
     "web-only"
    ]
   },
   "source": [
    "```{image} ./images/maxflow1.png\n",
    ":alt: graph with flow of 11\n",
    ":width: 500px\n",
    ":align: center\n",
    "```"
   ]
  },
  {
   "cell_type": "markdown",
   "id": "466dcdfe",
   "metadata": {
    "tags": [
     "non-web"
    ]
   },
   "source": [
    "<div style=\"align: left; text-align:center;\">\n",
    "  <img src=\"./images/maxflow1.png\" alt=\"graph with flow of 11\" height=\"50%\" width=\"50%\">\n",
    "</div>"
   ]
  },
  {
   "cell_type": "markdown",
   "id": "8148fd61",
   "metadata": {},
   "source": [
    "Is the boxed flow optimal? No. We can find a path from $s$ to $t$"
   ]
  },
  {
   "cell_type": "markdown",
   "id": "77880df8",
   "metadata": {
    "tags": [
     "web-only"
    ]
   },
   "source": [
    "```{image} ./images/maxflow2.png\n",
    ":alt: path 1 -> 2 -> 3 -> 6\n",
    ":width: 500px\n",
    ":align: center\n",
    "```"
   ]
  },
  {
   "cell_type": "markdown",
   "id": "49face69",
   "metadata": {
    "tags": [
     "non-web"
    ]
   },
   "source": [
    "<div style=\"align: left; text-align:center;\">\n",
    "  <img src=\"./images/maxflow2.png\" alt=\"path 1 -> 2 -> 3 -> 6\" height=\"50%\" width=\"50%\">\n",
    "</div>"
   ]
  },
  {
   "cell_type": "markdown",
   "id": "6291a68a",
   "metadata": {},
   "source": [
    "such that each arc in this path is not used to its capacity, i.e., each has some *residual capacity*. In this example, the arcs of the path have residual capacity equal to 2, 2, and 1, respectively. As a result, flow along this path can be increased by 1 unit (that is, the minimum residual capacity on path).\n",
    "\n",
    "Is the new flow optimal?"
   ]
  },
  {
   "cell_type": "markdown",
   "id": "75b54d2c",
   "metadata": {
    "tags": [
     "web-only"
    ]
   },
   "source": [
    "```{image} ./images/maxflow3.png\n",
    ":alt: graph with flow of 12\n",
    ":width: 500px\n",
    ":align: center\n",
    "```"
   ]
  },
  {
   "cell_type": "markdown",
   "id": "d23dc85f",
   "metadata": {
    "tags": [
     "non-web"
    ]
   },
   "source": [
    "<div style=\"align: left; text-align:center;\">\n",
    "  <img src=\"./images/maxflow3.png\" alt=\"graph with flow of 12\" height=\"50%\" width=\"50%\">\n",
    "</div>"
   ]
  },
  {
   "cell_type": "markdown",
   "id": "6ec4a90d",
   "metadata": {},
   "source": [
    "We can make the following observations about the current example.\n",
    "\n",
    "1\\. Focus on the following arc:"
   ]
  },
  {
   "cell_type": "markdown",
   "id": "941c2cae",
   "metadata": {
    "tags": [
     "web-only"
    ]
   },
   "source": [
    "```{image} ./images/maxflow4.png\n",
    ":alt: flow on (5,3) seems like a mistake\n",
    ":width: 300px\n",
    ":align: center\n",
    "```"
   ]
  },
  {
   "cell_type": "markdown",
   "id": "8b88702a",
   "metadata": {
    "tags": [
     "non-web"
    ]
   },
   "source": [
    "<div style=\"align: left; text-align:center;\">\n",
    "  <img src=\"./images/maxflow4.png\" alt=\"flow on (5,3) seems like a mistake\" width=\"300px\">\n",
    "</div>"
   ]
  },
  {
   "cell_type": "markdown",
   "id": "e701a56b",
   "metadata": {},
   "source": [
    "2\\. We can change the current flow not only by increasing the flow on a particular arc but also by decreasing flow on some arcs.\n",
    "\n",
    "3\\. Decreasing flow on an arc is like sending flow back (\"return to sender\").\n",
    "\n",
    "Consider the sequence of arcs highlighted in the figure below. Notice that this is not a path in the input graph, since one of the arcs included, $(3,5)$, is not actually an arc in the graph but instead appears in the input in the opposite direction, as $(5,3)$."
   ]
  },
  {
   "cell_type": "markdown",
   "id": "766f6fc9",
   "metadata": {
    "tags": [
     "web-only"
    ]
   },
   "source": [
    "```{image} ./images/maxflow5.png\n",
    ":alt: using edge (5,3) as (3,5)\n",
    ":width: 500px\n",
    ":align: center\n",
    "```"
   ]
  },
  {
   "cell_type": "markdown",
   "id": "a8dea8a0",
   "metadata": {
    "tags": [
     "non-web"
    ]
   },
   "source": [
    "<div style=\"align: left; text-align:center;\">\n",
    "  <img src=\"./images/maxflow5.png\" alt=\"using edge (5,3) as (3,5)\" height=\"50%\" width=\"50%\">\n",
    "</div>"
   ]
  },
  {
   "cell_type": "markdown",
   "id": "35a56589",
   "metadata": {},
   "source": [
    "Now we make a crucial observation. Suppose that we change the flow for each of these arcs (where this means we change the flow value for $(5,3)$, not $(3,5)$ since the latter is not an arc in the input) by the same amount $\\delta$. However, we \n",
    "don't increase the flow by $\\delta$ on each arc; instead, we increase the flow for arcs $(1,2)$, $(2,3)$, and $(5,6)$ and decrease the flow value on $(5,3)$. No matter how we choose $\\delta$, the new flow will satisfy the node flow conservation constraints. (Make sure you try this out and see why this is true!) Of course, we might no longer satisfy the capacity constraints if we set $\\delta$ to be too large.\n",
    "\n",
    "If we set $\\delta = 1$, then we can use this change to get the following new feasible solution."
   ]
  },
  {
   "cell_type": "markdown",
   "id": "db4e732b",
   "metadata": {
    "tags": [
     "web-only"
    ]
   },
   "source": [
    "```{image} ./images/maxflow6.png\n",
    ":alt: optimal flow with cut\n",
    ":width: 550px\n",
    ":align: center\n",
    "```"
   ]
  },
  {
   "cell_type": "markdown",
   "id": "22e3c0e1",
   "metadata": {
    "tags": [
     "non-web"
    ]
   },
   "source": [
    "<div style=\"align: left; text-align:center;\">\n",
    "  <img src=\"./images/maxflow6.png\" alt=\"optimal flow with cut\" height=\"55%\" width=\"55%\">\n",
    "</div>"
   ]
  },
  {
   "cell_type": "markdown",
   "id": "598f6a9a",
   "metadata": {},
   "source": [
    "Is this an optimal flow? We have also indicated a cut $(S,T)$, where $S=\\{1,2,3,4\\}$ and $T=\\{5,6\\}$. The capacity of $(S,T)$ is 13, and since the current flow has value equal to 13, the current flow is optimal.\n",
    "\n",
    "The current flow $f$ also has other useful properties. For each arc $(v,w) \\in D(S,T)$, we have that\n",
    "\n",
    "$$f(v,w) = u(v,w);$$\n",
    "\n",
    "on the other hand, for each arc $(w,v) \\in E$, such that $w \\in T, v \\in S$ we have that\n",
    "\n",
    "$$f(w,v) = 0.$$\n",
    "\n",
    "This will always be true at optimality!"
   ]
  }
 ],
 "metadata": {
  "kernelspec": {
   "display_name": "Python 3 (ipykernel)",
   "language": "python",
   "name": "python3"
  },
  "language_info": {
   "codemirror_mode": {
    "name": "ipython",
    "version": 3
   },
   "file_extension": ".py",
   "mimetype": "text/x-python",
   "name": "python",
   "nbconvert_exporter": "python",
   "pygments_lexer": "ipython3",
   "version": "3.10.9"
  }
 },
 "nbformat": 4,
 "nbformat_minor": 5
}
