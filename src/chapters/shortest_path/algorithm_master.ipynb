{
 "cells": [
  {
   "cell_type": "markdown",
   "id": "4194251a",
   "metadata": {},
   "source": [
    "# Algorithm\n",
    "\n",
    "Next we need an algorithm to solve this mathematical model. In this case, we will be able to give a very simple algorithm that for any input, finds an optimal solution. First think about finding a node that is closest to the source $s$. In some trivial sense, $s$ is the closest node to itself, so we will set $\\text{Closest}(1)=s$. Now we wish to find some other node $i$ for which the shortest path from $s$ to $i$ is as short as possible.  We shall call this node $\\text{Closest}(2)$. Clearly, there might be several nodes that are all the same distance from $s$, but for at least one of these nodes $i$, there is an arc $(s,i)$ since if you can reach $i$ from $s$ only by passing through some other node along the way, that other node must be at least as close to $s$ as $i$. (Would this still be true if an arc could have a negative length?) So $\\text{Closest}(2)$ can be identified by considering all arcs of the form $(s,i)$; let $(s,i^*)$ be the arc leaving $s$ that is shortest. Then $\\text{Closest}(2) = i^*$, and the shortest path from $s$ to $i^*$ consists of the single arc $(s,i^*)$. Next consider finding the node that is next closest to $s$ (counting ties, so it might be just as close as $\\text{Closest}(2)$). The shortest path might be just one arc from $s$, or it might first pass through $\\text{Closest}(2)$ before reaching the node. By considering all of the paths of this form, we can identify the next closest node, $\\text{Closest}(3)$. We can continue in this way until we have assigned each node to be $\\text{Closest}(j)$ for some $j=1,\\ldots,n$. At each stage, we know that the shortest path to $\\text{Closest}(j)$ must consist of the shortest path to $\\text{Closest}(i)$, for some $i=1,\\ldots,j-1$, and then one arc from $\\text{Closest}(i)$ to $\\text{Closest}(j)$.\n",
    "\n",
    "We will now describe the algorithm to compute the shortest path from $s$ to each other node in the graph in a more formal way. The fact that the algorithm always finds the correct solution is a direct consequence of the previous discussion. Since this algorithm was first proposed by E. Dijkstra, it is commonly called *Dijkstra's algorithm*."
   ]
  },
  {
   "cell_type": "markdown",
   "id": "f7b8fd98",
   "metadata": {
    "tags": [
     "web-only"
    ]
   },
   "source": [
    "```{prf:algorithm} Dijkstra's algorithm\n",
    ":label: my-algorithm\n",
    "\n",
    "**(Initialize)** Set $\\text{Label}(s)\\leftarrow 0$, and $\\text{Label}(i)\\leftarrow  + \\infty$ for all other nodes $i$ in $N$. Set $j\\leftarrow 0$. <br>\n",
    "Let $\\text{Prev}(i)$ be undefined for each node $i$ in $N$; all \n",
    "nodes are unmarked.\n",
    "\n",
    "**(Main Loop)** Until all nodes are marked with a $*$, do the following:\n",
    "1. Set $j\\leftarrow j+1$;\n",
    "2. Among all unmarked nodes, select a node $i$ for which the label is minimum;\n",
    "3. Mark node $i$ with a $*$; set $\\text{Closest}(j)\\leftarrow i$;\n",
    "4. For each arc of the form $(i,j)$, or in other words, for each arc leaving node $i$, compare $\\text{Label}(j)$ with $\\text{Label}(i)+ \\ell(i,j)$; if the latter is smaller, then set $\\text{Label}(j) \\leftarrow \\text{Label}(i) + \\ell(i,j)$, and set $\\text{Prev}(j)\\leftarrow i$. <br>\n",
    "(Note: in fact, it suffices to consider all arcs leaving $i$ that go to unmarked nodes $j$.)\n",
    "```"
   ]
  },
  {
   "cell_type": "markdown",
   "id": "c1e85c51",
   "metadata": {
    "tags": [
     "non-web"
    ]
   },
   "source": [
    "---\n",
    "🛈 **Dijkstra's algorithm**\n",
    "\n",
    "**(Initialize)** Set $\\text{Label}(s)\\leftarrow 0$, and $\\text{Label}(i)\\leftarrow  + \\infty$ for all other nodes $i$ in $N$. Set $j\\leftarrow 0$. <br>\n",
    "Let $\\text{Prev}(i)$ be undefined for each node $i$ in $N$; all \n",
    "nodes are unmarked.\n",
    "\n",
    "**(Main Loop)** Until all nodes are marked with a $*$, do the following:\n",
    "1. Set $j\\leftarrow j+1$;\n",
    "2. Among all unmarked nodes, select a node $i$ for which the label is minimum;\n",
    "3. Mark node $i$ with a $*$; set $\\text{Closest}(j)\\leftarrow i$;\n",
    "4. For each arc of the form $(i,j)$, or in other words, for each arc leaving node $i$, compare $\\text{Label}(j)$ with $\\text{Label}(i)+ \\ell(i,j)$; if the latter is smaller, then set $\\text{Label}(j) \\leftarrow \\text{Label}(i) + \\ell(i,j)$, and set $\\text{Prev}(j)\\leftarrow i$. <br>\n",
    "(Note: in fact, it suffices to consider all arcs leaving $i$ that go to unmarked nodes $j$.)\n",
    "\n",
    "---"
   ]
  },
  {
   "cell_type": "markdown",
   "id": "8e46635a",
   "metadata": {},
   "source": [
    "It is not clear that, when this algorithm finishes, you have computed any path from $s$ to each other node, let alone a shortest path for each of these nodes. Let us first run Dijkstra's algorithm on the example in Figure 2.4, where node 1 is the specified source."
   ]
  },
  {
   "cell_type": "markdown",
   "id": "e3546f77",
   "metadata": {
    "tags": [
     "web-only"
    ]
   },
   "source": [
    "```{image} ./images/graph_len.png\n",
    ":width: 500px\n",
    ":alt: example directed graph with arc lengths\n",
    ":align: center\n",
    "```"
   ]
  },
  {
   "cell_type": "markdown",
   "id": "4050a442",
   "metadata": {
    "tags": [
     "non-web"
    ]
   },
   "source": [
    "<div style=\"align: left; text-align:center;\">\n",
    "  <img src=\"./images/graph_len.png\" alt=\"example directed graph with arc lengths\" width=\"500px\">\n",
    "\n",
    "  <div class=\"caption\">Figure 2.4: A graph with arc lengths</div>\n",
    "</div>"
   ]
  },
  {
   "cell_type": "markdown",
   "id": "be75e565",
   "metadata": {},
   "source": [
    "Initialization:"
   ]
  },
  {
   "cell_type": "markdown",
   "id": "eab62bb1",
   "metadata": {
    "tags": [
     "web-only"
    ]
   },
   "source": [
    "```{image} ./images/init.png\n",
    ":alt: initialization\n",
    ":width: 370px\n",
    ":align: center\n",
    "```\n",
    "<br>"
   ]
  },
  {
   "cell_type": "markdown",
   "id": "da346fb0",
   "metadata": {
    "tags": [
     "non-web"
    ]
   },
   "source": [
    "| Node      | 1 | 2  | 3  | 4  | 5  | 6  |\n",
    "|-----------|---|----|----|----|----|----|\n",
    "| **Label** | 0 | +∞ | +∞ | +∞ | +∞ | +∞ |\n",
    "| **Prev**  | - | -  | -  | -  | -  | -  |"
   ]
  },
  {
   "cell_type": "markdown",
   "id": "feabca6b",
   "metadata": {},
   "source": [
    "Clearly, node 1 is the one to be marked, that is, $i=1$. There are two arcs leaving node 1: $(1,2)$ and $(1,3)$. Since $\\text{Label}(2)=+\\infty$, $\\text{Label}(1)=0$, and $\\ell(1,2)=6$, it follows that we should update $\\text{Label}(2)=6$ and $\\text{Prev}(2)=1$. This can be interpreted as follows: we have found a shorter path to node 2 that is taking the shortest path to node 1 (which is no path at all) and then taking arc $(1,2)$. Since the node previous to 2 in this path is node 1, we have set $\\text{Prev}(2)=1$. Similarly, we set $\\text{Label}(3)=2$, and $\\text{Prev}(3)=1$.\n",
    "\n",
    "After the first iteration of the main loop:"
   ]
  },
  {
   "cell_type": "markdown",
   "id": "76d30a85",
   "metadata": {
    "tags": [
     "web-only"
    ]
   },
   "source": [
    "```{image} ./images/iter1.png\n",
    ":alt: first iteration\n",
    ":width: 370px\n",
    ":align: center\n",
    "```"
   ]
  },
  {
   "cell_type": "markdown",
   "id": "9450759e",
   "metadata": {
    "tags": [
     "non-web"
    ]
   },
   "source": [
    "| Node      | 1* | 2 | 3 | 4  | 5  | 6  |\n",
    "|-----------|----|---|---|----|----|----|\n",
    "| **Label** | 0  | 6 | 2 | +∞ | +∞ | +∞ |\n",
    "| **Prev**  | -  | 1 | 1 | -  | -  | -  |"
   ]
  },
  {
   "cell_type": "markdown",
   "id": "edb09bcc",
   "metadata": {},
   "source": [
    "Now node 3 is the next one to be marked. There are arcs leaving 3 to nodes 2 and 5. For the first of these, $\\text{Label}(2)=6$ whereas $\\text{Label}(3)+\\ell(3,2)=2+5=7$, so we leave $\\text{Label}(2)$ unchanged; we did not find an improved path to node 2. For node 5, we set $\\text{Label}(5)=3$ and $\\text{Prev}(5)=3$. As above, this means that the best path we have found from 1 to 5 consists of taking the best path that we have found from 1 to 3 (which consists of just the arc $(1,3)$) and then arc $(3,5)$.\n",
    "\n",
    "After the second iteration of the main loop:"
   ]
  },
  {
   "cell_type": "markdown",
   "id": "c8ca7e2d",
   "metadata": {
    "tags": [
     "web-only"
    ]
   },
   "source": [
    "```{image} ./images/iter2.png\n",
    ":alt: second iteration\n",
    ":width: 370px\n",
    ":align: center\n",
    "```"
   ]
  },
  {
   "cell_type": "markdown",
   "id": "480ffd27",
   "metadata": {
    "tags": [
     "non-web"
    ]
   },
   "source": [
    "| Node      | 1* | 2 | 3* | 4  | 5 | 6  |\n",
    "|-----------|----|---|----|----|---|----|\n",
    "| **Label** | 0  | 6 | 2  | +∞ | 3 | +∞ |\n",
    "| **Prev**  | -  | 1 | 1  | -  | 3 | -  |\n"
   ]
  },
  {
   "cell_type": "markdown",
   "id": "b0f2be13",
   "metadata": {},
   "source": [
    "Now node 5 is the next node to be marked. There are two arcs leaving node 5, to nodes 2 and 6. In the former case, we discover a path of length 3+1=4 to node 2, so we set $\\text{Label}(2)=4$ and $\\text{Prev}(2)=5$. For the latter, we set $\\text{Label}(6)=3+2=5$ and $\\text{Prev}(6)=5$.\n",
    "\n",
    "After the third iteration of the main loop:"
   ]
  },
  {
   "cell_type": "markdown",
   "id": "b3dba4be",
   "metadata": {
    "tags": [
     "web-only"
    ]
   },
   "source": [
    "```{image} ./images/iter3.png\n",
    ":alt: third iteration\n",
    ":width: 370px\n",
    ":align: center\n",
    "```"
   ]
  },
  {
   "cell_type": "markdown",
   "id": "88986abb",
   "metadata": {
    "tags": [
     "non-web"
    ]
   },
   "source": [
    "| Node      | 1* | 2 | 3* | 4  | 5* | 6 |\n",
    "|-----------|----|---|----|----|----|---|\n",
    "| **Label** | 0  | 4 | 2  | +∞ | 3  | 5 |\n",
    "| **Prev**  | -  | 5 | 1  | -  | 3  | 5 |"
   ]
  },
  {
   "cell_type": "markdown",
   "id": "698ca535",
   "metadata": {},
   "source": [
    "Check that you get the results tabulated below for the remainder of the execution of the algorithm on this graph. The only point to mention is that in processing the arcs leaving node 2 (the next marked node) we need only consider the arc $(2,4)$, since the arc $(2,3)$ leads to a node that is already marked.\n",
    "\n",
    "After the fourth iteration of the main loop:"
   ]
  },
  {
   "cell_type": "markdown",
   "id": "849f8cfd",
   "metadata": {
    "tags": [
     "web-only"
    ]
   },
   "source": [
    "```{image} ./images/iter4.png\n",
    ":alt: fourth iteration\n",
    ":width: 370px\n",
    ":align: center\n",
    "```"
   ]
  },
  {
   "cell_type": "markdown",
   "id": "ed9e46ef",
   "metadata": {
    "tags": [
     "non-web"
    ]
   },
   "source": [
    "| Node      | 1* | 2* | 3* | 4 | 5* | 6 |\n",
    "|-----------|----|----|----|---|----|---|\n",
    "| **Label** | 0  | 4  | 2  | 7 | 3  | 5 |\n",
    "| **Prev**  | -  | 5  | 1  | 2 | 3  | 5 |"
   ]
  },
  {
   "cell_type": "markdown",
   "id": "be0265d3",
   "metadata": {},
   "source": [
    "After the fifth iteration of the main loop:"
   ]
  },
  {
   "cell_type": "markdown",
   "id": "e9b5f115",
   "metadata": {
    "tags": [
     "web-only"
    ]
   },
   "source": [
    "```{image} ./images/iter5.png\n",
    ":alt: fifth iteration\n",
    ":width: 370px\n",
    ":align: center\n",
    "```"
   ]
  },
  {
   "cell_type": "markdown",
   "id": "1275859e",
   "metadata": {
    "tags": [
     "non-web"
    ]
   },
   "source": [
    "| Node      | 1* | 2* | 3* | 4 | 5* | 6* |\n",
    "|-----------|----|----|----|---|----|----|\n",
    "| **Label** | 0  | 4  | 2  | 7 | 3  | 5  |\n",
    "| **Prev**  | -  | 5  | 1  | 2 | 3  | 5  |"
   ]
  },
  {
   "cell_type": "markdown",
   "id": "9b07c532",
   "metadata": {},
   "source": [
    "And finally, after the sixth iteration of the main loop:"
   ]
  },
  {
   "cell_type": "markdown",
   "id": "3b2ea522",
   "metadata": {
    "tags": [
     "web-only"
    ]
   },
   "source": [
    "```{image} ./images/iter6.png\n",
    ":alt: sixth iteration\n",
    ":width: 370px\n",
    ":align: center\n",
    "```"
   ]
  },
  {
   "cell_type": "markdown",
   "id": "565f20ba",
   "metadata": {
    "tags": [
     "non-web"
    ]
   },
   "source": [
    "| Node      | 1* | 2* | 3* | 4* | 5* | 6* |\n",
    "|-----------|----|----|----|----|----|----|\n",
    "| **Label** | 0  | 4  | 2  | 7  | 3  | 5  |\n",
    "| **Prev**  | -  | 5  | 1  | 2  | 3  | 5  |"
   ]
  },
  {
   "cell_type": "markdown",
   "id": "2f916a6e",
   "metadata": {},
   "source": [
    "By now it should be clear how to deduce the shortest paths from this information. Take node 4, for example. We get there by coming from $\\text{Prev}(4)=2$. But how do we get to node 2? From node $\\text{Prev}(2)=5$. And we get to node 5 from node $\\text{Prev}(5)=3$. And we get to node 3 from node $\\text{Prev}(3)=1$, which is the source. (We can detect that we have traced back to the source by the fact that its $\\text{Prev}(\\cdot)$ value is still  undefined.) So the shortest path from node 1 to node 4 is $(1,3), (3,5), (5,2), (2, 4)$.\n",
    "\n",
    "While we can perform this tracing back each time we wish to determine a shortest path, we can also give a nice way to concisely describe all of the shortest paths. For each node $i$ that is not the source, highlight the arc from $\\text{Prev}(i)$ to $i$. This is done for our example in the figure below."
   ]
  },
  {
   "cell_type": "markdown",
   "id": "9927dff0",
   "metadata": {
    "tags": [
     "web-only"
    ]
   },
   "source": [
    "```{figure} ./images/shortest_path_tree.png\n",
    "---\n",
    "width: 500px\n",
    "name: shortest path tree of our example\n",
    "---\n",
    "Shortest path tree\n",
    "```"
   ]
  },
  {
   "cell_type": "markdown",
   "id": "1b1bc45f",
   "metadata": {
    "tags": [
     "non-web"
    ]
   },
   "source": [
    "<div style=\"align: left; text-align:center;\">\n",
    "  <img src=\"./images/shortest_path_tree.png\" alt=\"shortest path tree of our example\" width=\"500px\">\n",
    "\n",
    "  <div class=\"caption\">Figure 2.5: Shortest path tree</div>\n",
    "</div>"
   ]
  },
  {
   "cell_type": "markdown",
   "id": "979cfdbe",
   "metadata": {},
   "source": [
    "This collection of arcs is called the *shortest path tree*. With an active imagination (and turning your head 90 degrees clockwise), you can think of this as a tree growing up from the source node. Its importance should be clear. For each node $i$ we have highlighted the shortest path from 1 to $i$."
   ]
  },
  {
   "cell_type": "markdown",
   "id": "b00de6b2",
   "metadata": {
    "tags": [
     "web-only"
    ]
   },
   "source": [
    "```{admonition} Note\n",
    "The solution to the shortest path problem can be summarized by a *shortest path tree*. The unique path from $s$ to $i$ in this tree is exactly the shortest path from $s$ to $i$ in the input graph, for every node $i\\in N$.\n",
    "```"
   ]
  },
  {
   "cell_type": "markdown",
   "id": "f60a63f3",
   "metadata": {
    "tags": [
     "non-web"
    ]
   },
   "source": [
    "<div class=\"alert alert-info\">The solution to the shortest path problem can be summarized by a <i>shortest path tree</i>. The unique path from $s$ to $i$ in this tree is exactly the shortest path from $s$ to $i$ in the input graph, for every node $i\\in N$.</div>"
   ]
  }
 ],
 "metadata": {
  "kernelspec": {
   "display_name": "Python [conda env:engri_1101] *",
   "language": "python",
   "name": "conda-env-engri_1101-py"
  },
  "language_info": {
   "codemirror_mode": {
    "name": "ipython",
    "version": 3
   },
   "file_extension": ".py",
   "mimetype": "text/x-python",
   "name": "python",
   "nbconvert_exporter": "python",
   "pygments_lexer": "ipython3",
   "version": "3.10.10"
  }
 },
 "nbformat": 4,
 "nbformat_minor": 5
}
