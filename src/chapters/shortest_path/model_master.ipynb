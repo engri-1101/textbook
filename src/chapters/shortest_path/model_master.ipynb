{
 "cells": [
  {
   "cell_type": "markdown",
   "id": "9932bfde",
   "metadata": {},
   "source": [
    "# Mathematical Model"
   ]
  },
  {
   "cell_type": "markdown",
   "id": "c2e605cd",
   "metadata": {
    "tags": [
     "web-only"
    ]
   },
   "source": [
    "```{admonition} Shortest path problem\n",
    "**input:**\n",
    "- a directed graph $G=(N,A)$,\n",
    "- a source node $s \\in N$, and\n",
    "- a nonnegative length $\\ell(i,j)$ for each arc $(i,j)\\in A$\n",
    "\n",
    "**output:**\n",
    "- a path from $s$ to each node $i \\in N$\n",
    "\n",
    "**goal:**\n",
    "minimize the length of the path from $s$ to $i$, for each $i \\in N$\n",
    "```"
   ]
  },
  {
   "cell_type": "markdown",
   "id": "5307089e",
   "metadata": {
    "tags": [
     "non-web"
    ]
   },
   "source": [
    "---\n",
    "🛈 **Shortest path problem**\n",
    "\n",
    "**input:**\n",
    "- a directed graph $G=(N,A)$,\n",
    "- a source node $s \\in N$, and\n",
    "- a nonnegative length $\\ell(i,j)$ for each arc $(i,j)\\in A$\n",
    "\n",
    "**output:**\n",
    "- a path from $s$ to each node $i \\in N$\n",
    "\n",
    "**goal:**\n",
    "minimize the length of the path from $s$ to $i$, for each $i \\in N$\n",
    "\n",
    "---"
   ]
  },
  {
   "cell_type": "markdown",
   "id": "1770aa96",
   "metadata": {},
   "source": [
    "Note that unlike the traveling salesman problem, we do not need to go through all other nodes on the way.\n",
    "\n",
    "As the next step, we shall explain why this problem can be used to model our problem of finding the quickest way to the office. We can model the map of our city by a graph as follows. Introduce a node for each intersection on the map. For each pair of intersections (say, 7th Ave. & 33rd St. and 7th Ave. & 32nd St.), we introduce an arc from the node corresponding to the first intersection to the node corresponding to the second intersection if there is a street that connects them (allowing traffic to go in that direction) and does not cross any other intersection along the way. In our example, 7th Ave. is one-way going downtown, so there is only an arc pointed 33rd to 32nd, and not in reverse. The length of an arc is the length of time to drive between the two intersections in that direction. By solving the shortest path problem for the graph derived from our city map, we can compute routes in the city."
   ]
  }
 ],
 "metadata": {
  "kernelspec": {
   "display_name": "Python [conda env:engri_1101] *",
   "language": "python",
   "name": "conda-env-engri_1101-py"
  },
  "language_info": {
   "codemirror_mode": {
    "name": "ipython",
    "version": 3
   },
   "file_extension": ".py",
   "mimetype": "text/x-python",
   "name": "python",
   "nbconvert_exporter": "python",
   "pygments_lexer": "ipython3",
   "version": "3.10.10"
  }
 },
 "nbformat": 4,
 "nbformat_minor": 5
}
