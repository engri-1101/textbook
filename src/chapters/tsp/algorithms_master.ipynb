{
 "cells": [
  {
   "cell_type": "markdown",
   "metadata": {},
   "source": [
    "# Solving a Problem -- Algorithms\n",
    "\n",
    "Let us return to the definition of operations research given in the previous handout. One aspect that we did not touch upon is that we require the mathematical model be *analyzed*, so it can provide guidance in the given decision-making setting. For an optimization model, the element is thereby an algorithm, a computation procedure that can solve the task at hand. And just as we have described a generic computational task, there should also be a generic procedure that can handle all possible inputs. One can think of this as a sufficiently robust software package that can handle any of the inputs you might \"reasonably\" want to solve.\n",
    "\n",
    "For the traveling salesman problem, there is a quite simple algorithm that is guaranteed to produce an optimal solution. One might \"simply\" enumerate all possible permutations, one after the other, evaluate the cost associated with each permutation, and then output the permutation with the cheapest cost. This certainly works correctly for any input. So are we done? Actually, no. The problem is that there are too many permutations for this to be of much practical use. For $n=100$, how many permutations are there? There are 100 choices for the first city, and for each of those there are 99 choices for the second, and then 98 for the third, and so forth. So it seems like there are $100!$ (100 factorial). However, this is a bit overdone because recall that it does not matter which city we start at, so in fact the same tour is counted 100 times. But $99!$ is still big enough. It is greater than $10^{155}$, which is more than the number of atoms in our universe. \n",
    "\n",
    "Therefore, the simple algorithm is too slow. There are a few options to consider. One approach is to develop much more sophisticated algorithms. Throughout this course, you will learn many of the elements used by the best solver for the traveling salesman problem, a package called Concorde (which you can install on your iPhone - you are encouraged to do so). Concorde can easily solve inputs with 1000's or even 10,000 cities, but even that code has its limits. \n",
    "\n",
    "Another approach is to design simple algorithms that do not necessarily produce an optimal solution but instead produce good solutions. One natural one is called the *nearest neighbor rule*: start at one city and iteratively choose the next city as the one not yet visited that is currently nearest. There are a number of simple algorithms such as this one that will be demonstrated below."
   ]
  },
  {
   "cell_type": "markdown",
   "metadata": {},
   "source": [
    "## Heuristics\n",
    "\n",
    "A *heuristic* aims to find a good feasible solution to a problem although it is not guaranteed to be optimal. We will consider 4 different TSP heuristics. Before we move on, we will abstract the TSP to finding an optimal tour on a set of *nodes* rather than cities. These nodes can represent anything.\n",
    "\n",
    "To compare the heuristics, we will use a simple 6x8 grid of nodes. The cell below creates this instance. Note that we will initially use the Manhattan distance."
   ]
  },
  {
   "cell_type": "code",
   "execution_count": null,
   "metadata": {
    "tags": [
     "thebe-init",
     "hide-cell",
     "web-only"
    ]
   },
   "outputs": [],
   "source": [
    "# Imports\n",
    "import urllib.request\n",
    "urllib.request.urlretrieve('https://engri-1101.github.io/textbook/modules/tsp.py', \"tsp.py\")\n",
    "from tsp import *\n",
    "urllib.request.urlretrieve('https://engri-1101.github.io/textbook/data/tsp/optimal_tours.pickle', \"optimal_tours.pickle\")\n",
    "import vinal as vl\n",
    "import pandas as pd\n",
    "from IPython.display import Image\n",
    "from bokeh.io import output_notebook, show\n",
    "output_notebook()"
   ]
  },
  {
   "cell_type": "code",
   "execution_count": null,
   "metadata": {},
   "outputs": [],
   "source": [
    "G = vl.grid_instance(6, 8, manhattan=True)"
   ]
  },
  {
   "cell_type": "markdown",
   "metadata": {},
   "source": [
    "1\\. **Random Neighbor:** Start at some node. Randomly select one of the nodes which has not been visited to visit next. Continue doing so until all nodes have been visited. Return to the start."
   ]
  },
  {
   "cell_type": "markdown",
   "metadata": {},
   "source": [
    "Let's use random neighbor (a terrible heuristic) to get a baseline for the cost of a tour. We will use a function called `plot_tsp_heuristic` to see the mechanics of the algorithm. Run the cell, and use the `Previous` and `Next` buttons to move through the iterations of the algorithm. The tour cost will update in the bottom left. `done.` will appear in the bottom right when the heuristic has finished.  "
   ]
  },
  {
   "cell_type": "code",
   "execution_count": null,
   "metadata": {},
   "outputs": [],
   "source": [
    "show(vl.tsp_heuristic_plot(G, 'random_neighbor', i=0))"
   ]
  },
  {
   "cell_type": "markdown",
   "metadata": {},
   "source": [
    "To view the complete tour right away, we can use the function `random_neighbor` to run the random neighbor heuristic and the function `plot_tour` to plot the tour and its cost in the lower left."
   ]
  },
  {
   "cell_type": "code",
   "execution_count": null,
   "metadata": {},
   "outputs": [],
   "source": [
    "tour = vl.random_neighbor(G)\n",
    "# 'tour' is an ordered list of the nodes starting and ending at the same node\n",
    "print(tour)\n",
    "show(vl.tour_plot(G, tour))"
   ]
  },
  {
   "cell_type": "markdown",
   "metadata": {},
   "source": [
    "**Q:** Does this look like a good tour to you? Run it a few times, and see what the average tour cost is."
   ]
  },
  {
   "cell_type": "markdown",
   "metadata": {
    "tags": [
     "remove-cell",
     "web-only"
    ]
   },
   "source": [
    "**A:**"
   ]
  },
  {
   "cell_type": "markdown",
   "metadata": {
    "tags": [
     "non-web"
    ]
   },
   "source": [
    "**A:** <font color='blue'> No. Average around 230. </font>"
   ]
  },
  {
   "cell_type": "markdown",
   "metadata": {},
   "source": [
    "2\\. **Nearest Neighbor:** Start at some node. Visit the closest unvisited node next (if there are multiple closest nodes, choose one randomly). Continue doing so until all nodes have been visited. Return to the start."
   ]
  },
  {
   "cell_type": "markdown",
   "metadata": {},
   "source": [
    "Now, let's look at the nearest neighbor heuristic."
   ]
  },
  {
   "cell_type": "code",
   "execution_count": null,
   "metadata": {},
   "outputs": [],
   "source": [
    "show(vl.tsp_heuristic_plot(G, 'nearest_neighbor', i=0))"
   ]
  },
  {
   "cell_type": "markdown",
   "metadata": {},
   "source": [
    "**Q:** As you iterate through, examine the \"choices\" made by the algorithm at each step. What does it do well? What does it do poorly?"
   ]
  },
  {
   "cell_type": "markdown",
   "metadata": {
    "tags": [
     "remove-cell",
     "web-only"
    ]
   },
   "source": [
    "**A:**"
   ]
  },
  {
   "cell_type": "markdown",
   "metadata": {
    "tags": [
     "non-web"
    ]
   },
   "source": [
    "**A:** <font color='blue'> It does better than random neighbor because it often moves to a node close to the one it is currently on. However, it can essentially box itself out of certain regions of the graph. In the end, it often has to make lengthy jumps to get nodes it missed along the way. </font>"
   ]
  },
  {
   "cell_type": "markdown",
   "metadata": {},
   "source": [
    "**Q:** Run this a few times. Do you get the same tour every time? Why or why not?"
   ]
  },
  {
   "cell_type": "markdown",
   "metadata": {
    "tags": [
     "remove-cell",
     "web-only"
    ]
   },
   "source": [
    "**A:**"
   ]
  },
  {
   "cell_type": "markdown",
   "metadata": {
    "tags": [
     "non-web"
    ]
   },
   "source": [
    "**A:** <font color='blue'> No, because if there are multiple choices for the closest node, one is chosen randomly. </font>"
   ]
  },
  {
   "cell_type": "markdown",
   "metadata": {},
   "source": [
    "3\\. **Nearest Insertion:** Start with a “tour” on two of the nodes (e.g., the closest pair of nodes). Find the closest unvisited node to any node currently in the tour. Insert the node into the tour at the best place (if there are multiple closest nodes, choose one to add randomly)."
   ]
  },
  {
   "cell_type": "markdown",
   "metadata": {},
   "source": [
    "Now, let's look at the nearest insertion heuristic."
   ]
  },
  {
   "cell_type": "code",
   "execution_count": null,
   "metadata": {},
   "outputs": [],
   "source": [
    "show(vl.tsp_heuristic_plot(G, 'nearest_insertion', initial_tour=[0,1,0]))"
   ]
  },
  {
   "cell_type": "markdown",
   "metadata": {},
   "source": [
    "**Q:** Run this a few times. How does it compare to the previous heuristics?"
   ]
  },
  {
   "cell_type": "markdown",
   "metadata": {
    "tags": [
     "remove-cell",
     "web-only"
    ]
   },
   "source": [
    "**A:**"
   ]
  },
  {
   "cell_type": "markdown",
   "metadata": {
    "tags": [
     "non-web"
    ]
   },
   "source": [
    "**A:** <font color='blue'> This is the best heuristic yet. By starting with a small tour and expanding it, the boxing out issue nearest neighbor experienced is reduced. </font>"
   ]
  },
  {
   "cell_type": "markdown",
   "metadata": {},
   "source": [
    "4\\. **Furthest Insertion:** Start with a “tour” on two of the nodes (e.g., the closest pair of nodes). Find the node whose smallest distance to a node already in the tour is maximized. Insert the node into the tour at the best place (if there are multiple furthest nodes, choose one to add randomly)."
   ]
  },
  {
   "cell_type": "markdown",
   "metadata": {},
   "source": [
    "Now, let's look at the furthest insertion heuristic."
   ]
  },
  {
   "cell_type": "code",
   "execution_count": null,
   "metadata": {},
   "outputs": [],
   "source": [
    "show(vl.tsp_heuristic_plot(G, 'furthest_insertion', initial_tour=[0,47,0]))"
   ]
  },
  {
   "cell_type": "markdown",
   "metadata": {},
   "source": [
    "**Q:** Run this a few times. How does it compare to the previous heuristics?"
   ]
  },
  {
   "cell_type": "markdown",
   "metadata": {
    "tags": [
     "remove-cell",
     "web-only"
    ]
   },
   "source": [
    "**A:**"
   ]
  },
  {
   "cell_type": "markdown",
   "metadata": {
    "tags": [
     "non-web"
    ]
   },
   "source": [
    "**A:** <font color='blue'> This heuristic is comparable to nearest insertion although there may be certain circumstances where one would be more likely to outperform the other. </font>"
   ]
  },
  {
   "cell_type": "markdown",
   "metadata": {},
   "source": [
    "To compare the heuristics further, let's run each on the 6x8 grid say, 250 times."
   ]
  },
  {
   "cell_type": "markdown",
   "metadata": {},
   "source": [
    "**Q:** Now that you have seen each heuristic, which do you think will do the best, and which will do the worst?"
   ]
  },
  {
   "cell_type": "markdown",
   "metadata": {
    "tags": [
     "remove-cell",
     "web-only"
    ]
   },
   "source": [
    "**A:**"
   ]
  },
  {
   "cell_type": "markdown",
   "metadata": {
    "tags": [
     "non-web"
    ]
   },
   "source": [
    "**A:** <font color='blue'> Random neighbor will do the worst, and either nearest or furthest insertion will do the best. </font>"
   ]
  },
  {
   "cell_type": "code",
   "execution_count": null,
   "metadata": {},
   "outputs": [],
   "source": [
    "# Run each heuristic n times\n",
    "n = 250\n",
    "random_neighbor_total = 0\n",
    "nearest_neighbor_total = 0\n",
    "nearest_insertion_total = 0\n",
    "furthest_insertion_total = 0\n",
    "for i in range(n):\n",
    "    random_neighbor_total += vl.tour_cost(G, vl.random_neighbor(G))\n",
    "    nearest_neighbor_total += vl.tour_cost(G, vl.nearest_neighbor(G))\n",
    "    nearest_insertion_total += vl.tour_cost(G, vl.nearest_insertion(G))\n",
    "    furthest_insertion_total += vl.tour_cost(G, vl.furthest_insertion(G))\n",
    "print(\"Heuristic Averages:\")\n",
    "print(\"Random Neighbor: %s\" % (random_neighbor_total / n))\n",
    "print(\"Nearest Neighbor: %s\" % (nearest_neighbor_total / n))\n",
    "print(\"Nearest Insertion: %s\" % (nearest_insertion_total / n))\n",
    "print(\"Furthest Insertion: %s\" % (furthest_insertion_total / n))"
   ]
  },
  {
   "cell_type": "markdown",
   "metadata": {},
   "source": [
    "**Q:** What were the results? Was this what you expected?"
   ]
  },
  {
   "cell_type": "markdown",
   "metadata": {
    "tags": [
     "remove-cell",
     "web-only"
    ]
   },
   "source": [
    "**A:**"
   ]
  },
  {
   "cell_type": "markdown",
   "metadata": {
    "tags": [
     "non-web"
    ]
   },
   "source": [
    "**A:** <font color='blue'> Random neighbor did significantly worse. Furthest insertion did the best with nearest insertion and nearest neighbor not too much worse. This was what I expected. </font>"
   ]
  },
  {
   "cell_type": "markdown",
   "metadata": {},
   "source": [
    "Let's look at a 9x9 grid using the Euclidean distance now. Run each of the cells below to see each heuristic executed on the new instance."
   ]
  },
  {
   "cell_type": "code",
   "execution_count": null,
   "metadata": {},
   "outputs": [],
   "source": [
    "G = vl.grid_instance(9, 9, manhattan=False)"
   ]
  },
  {
   "cell_type": "code",
   "execution_count": null,
   "metadata": {},
   "outputs": [],
   "source": [
    "print(\"Random Neighbor\")\n",
    "tour = vl.random_neighbor(G)\n",
    "show(vl.tour_plot(G, tour))"
   ]
  },
  {
   "cell_type": "code",
   "execution_count": null,
   "metadata": {},
   "outputs": [],
   "source": [
    "print(\"Nearest Neighbor\")\n",
    "tour = vl.nearest_neighbor(G, i=0)\n",
    "show(vl.tour_plot(G, tour))"
   ]
  },
  {
   "cell_type": "code",
   "execution_count": null,
   "metadata": {},
   "outputs": [],
   "source": [
    "print(\"Nearest Insertion\")\n",
    "tour = vl.nearest_insertion(G, initial_tour=[0,1,0])\n",
    "show(vl.tour_plot(G, tour))"
   ]
  },
  {
   "cell_type": "code",
   "execution_count": null,
   "metadata": {},
   "outputs": [],
   "source": [
    "print(\"Furthest Insertion\")\n",
    "tour = vl.furthest_insertion(G, initial_tour = [0,80,0])\n",
    "show(vl.tour_plot(G, tour))"
   ]
  },
  {
   "cell_type": "markdown",
   "metadata": {},
   "source": [
    "**Q:** How did the results compare to the 6x8 grid using Manhattan distances?"
   ]
  },
  {
   "cell_type": "markdown",
   "metadata": {
    "tags": [
     "remove-cell",
     "web-only"
    ]
   },
   "source": [
    "**A:**"
   ]
  },
  {
   "cell_type": "markdown",
   "metadata": {
    "tags": [
     "non-web"
    ]
   },
   "source": [
    "**A:** <font color='blue'> Similar. </font>"
   ]
  },
  {
   "cell_type": "markdown",
   "metadata": {},
   "source": [
    "Again, let's run each heuristic numerous times and see how they compare."
   ]
  },
  {
   "cell_type": "code",
   "execution_count": null,
   "metadata": {},
   "outputs": [],
   "source": [
    "n = 100\n",
    "random_neighbor_total = 0\n",
    "nearest_neighbor_total = 0\n",
    "nearest_insertion_total = 0\n",
    "furthest_insertion_total = 0\n",
    "for i in range(n):\n",
    "    random_neighbor_total += vl.tour_cost(G, vl.random_neighbor(G))\n",
    "    nearest_neighbor_total += vl.tour_cost(G, vl.nearest_neighbor(G))\n",
    "    nearest_insertion_total += vl.tour_cost(G, vl.nearest_insertion(G))\n",
    "    furthest_insertion_total += vl.tour_cost(G, vl.furthest_insertion(G))\n",
    "print(\"Heuristic Averages:\")\n",
    "print(\"Random Neighbor: %s\" % (random_neighbor_total / n))\n",
    "print(\"Nearest Neighbor: %s\" % (nearest_neighbor_total / n))\n",
    "print(\"Nearest Insertion: %s\" % (nearest_insertion_total / n))\n",
    "print(\"Furthest Insertion: %s\" % (furthest_insertion_total / n))"
   ]
  },
  {
   "cell_type": "markdown",
   "metadata": {},
   "source": [
    "**Q:** How did the results compare to the 6x8 grid using Manhattan distances?"
   ]
  },
  {
   "cell_type": "markdown",
   "metadata": {
    "tags": [
     "remove-cell",
     "web-only"
    ]
   },
   "source": [
    "**A:**"
   ]
  },
  {
   "cell_type": "markdown",
   "metadata": {
    "tags": [
     "non-web"
    ]
   },
   "source": [
    "**A:** <font color='blue'> Similar. </font>"
   ]
  },
  {
   "cell_type": "markdown",
   "metadata": {},
   "source": [
    "## Improving Tours: 2-OPT"
   ]
  },
  {
   "cell_type": "markdown",
   "metadata": {},
   "source": [
    "Above we used heuristics to create TSP tours. However, we can also use heuristics to try and improve tours we have already found. First, let's think about how we may try improving a tour."
   ]
  },
  {
   "cell_type": "code",
   "execution_count": null,
   "metadata": {},
   "outputs": [],
   "source": [
    "# Load a new tour\n",
    "G = vl.grid_instance(4,4)\n",
    "tour = [6,9,8,12,13,14,15,11,10,5,4,0,1,2,3,7,6]\n",
    "show(vl.tour_plot(G, tour, width=300, height=300))"
   ]
  },
  {
   "cell_type": "markdown",
   "metadata": {},
   "source": [
    "**Q:** Look at the tour above. How might you improve this tour? How could you generalize this strategy?"
   ]
  },
  {
   "cell_type": "markdown",
   "metadata": {
    "tags": [
     "remove-cell",
     "web-only"
    ]
   },
   "source": [
    "**A:**"
   ]
  },
  {
   "cell_type": "markdown",
   "metadata": {
    "tags": [
     "non-web"
    ]
   },
   "source": [
    "**A:** <font color='blue'> There are two edges that cross, and we could switch them around! We can generalize this by finding edges that could improve by a switch and making switches until there are no more switches. </font>"
   ]
  },
  {
   "cell_type": "markdown",
   "metadata": {},
   "source": [
    "We will examine a tour improvement heuristic called *2-OPT* in this part. 2-OPT looks for pairs of edges which can be reconnected to strictly improve the tour cost. (Note: There is only one way to reconnect a pair of edges.) It continues in this fashion until no more improvements can be made. Let's run 2-OPT on the 4x4 example. We will use `plot_two_opt` to  generate a visualization of 2-OPT. In each iteration, 4 edges will be highlighted red: 2 solid and 2 dotted. The solid edges indicate the current position, and the dotted indicate the positon they will be reconnected in."
   ]
  },
  {
   "cell_type": "code",
   "execution_count": null,
   "metadata": {},
   "outputs": [],
   "source": [
    "show(vl.tsp_heuristic_plot(G, '2-OPT', tour=tour, width=300, height=300))"
   ]
  },
  {
   "cell_type": "markdown",
   "metadata": {},
   "source": [
    "Now, we will run 2-OPT after the nearest neighbor heuristic on a 5x5 (Euclidean distance) example."
   ]
  },
  {
   "cell_type": "code",
   "execution_count": null,
   "metadata": {},
   "outputs": [],
   "source": [
    "# First, we run the nearest neighbor heuristic to get an initial tour\n",
    "G = vl.grid_instance(5,5, manhattan=False)\n",
    "tour = vl.nearest_neighbor(G)\n",
    "show(vl.tour_plot(G, tour))"
   ]
  },
  {
   "cell_type": "code",
   "execution_count": null,
   "metadata": {},
   "outputs": [],
   "source": [
    "# Run 2-OPT\n",
    "show(vl.tsp_heuristic_plot(G, '2-OPT', tour=list(tour)))"
   ]
  },
  {
   "cell_type": "markdown",
   "metadata": {},
   "source": [
    "**Q:** Run 2-OPT a few times. Do you get the same result every time? Why or why not?"
   ]
  },
  {
   "cell_type": "markdown",
   "metadata": {
    "tags": [
     "remove-cell",
     "web-only"
    ]
   },
   "source": [
    "**A:**"
   ]
  },
  {
   "cell_type": "markdown",
   "metadata": {
    "tags": [
     "non-web"
    ]
   },
   "source": [
    "**A:** <font color='blue'> Yes. There is no randomness in this algorithm. </font>"
   ]
  },
  {
   "cell_type": "markdown",
   "metadata": {},
   "source": [
    "Let's run 2-OPT a few times on a slightly larger grid."
   ]
  },
  {
   "cell_type": "code",
   "execution_count": null,
   "metadata": {},
   "outputs": [],
   "source": [
    "G = vl.grid_instance(9,9, manhattan=False)\n",
    "tour = vl.nearest_neighbor(G)\n",
    "show(vl.tsp_heuristic_plot(G, '2-OPT', tour=list(tour)))"
   ]
  },
  {
   "cell_type": "markdown",
   "metadata": {},
   "source": [
    "**Q:** After running 2-OPT, do you ever get a tour that crosses itself? When using Euclidean distances, is this even possible? Explain why or why not."
   ]
  },
  {
   "cell_type": "markdown",
   "metadata": {
    "tags": [
     "remove-cell",
     "web-only"
    ]
   },
   "source": [
    "**A:**"
   ]
  },
  {
   "cell_type": "markdown",
   "metadata": {
    "tags": [
     "non-web"
    ]
   },
   "source": [
    "**A:** <font color='blue'> No. This is not possible. Assume you have a tour that crosses itself. Consider the two edges that cross. You can always reconnect them to be cheaper. Hence, 2-OPT has not been run to completion. It follows that 2-OPT always terminates with a tour with no crosses. </font>"
   ]
  },
  {
   "cell_type": "markdown",
   "metadata": {},
   "source": [
    "Let's compare the heuristics (besides random neighbor) with and without executing 2-OPT on a 6x6 example. While we are at it, let's compare them to the optimal solution which has already been computed."
   ]
  },
  {
   "cell_type": "code",
   "execution_count": null,
   "metadata": {},
   "outputs": [],
   "source": [
    "G = vl.grid_instance(6,6, manhattan=False)\n",
    "tour = optimal_tour('6x6_grid')\n",
    "optimal_cost = vl.tour_cost(G, tour)\n",
    "show(vl.tour_plot(G, tour))"
   ]
  },
  {
   "cell_type": "code",
   "execution_count": null,
   "metadata": {},
   "outputs": [],
   "source": [
    "n = 50\n",
    "nearest_neighbor_total = 0\n",
    "nearest_insertion_total = 0\n",
    "furthest_insertion_total = 0\n",
    "nearest_neighbor_2_total = 0\n",
    "nearest_insertion_2_total = 0\n",
    "furthest_insertion_2_total = 0\n",
    "optimal_total = 0\n",
    "for i in range(n):\n",
    "    nearest_neighbor_total += vl.tour_cost(G, vl.nearest_neighbor(G))\n",
    "    nearest_insertion_total += vl.tour_cost(G, vl.nearest_insertion(G))\n",
    "    furthest_insertion_total += vl.tour_cost(G, vl.furthest_insertion(G))\n",
    "    nearest_neighbor_2_total += vl.tour_cost(G, vl.two_opt(G, vl.nearest_neighbor(G)))\n",
    "    nearest_insertion_2_total += vl.tour_cost(G, vl.two_opt(G, vl.nearest_insertion(G)))\n",
    "    furthest_insertion_2_total += vl.tour_cost(G, vl.two_opt(G, vl.furthest_insertion(G)))\n",
    "print(\"Nearest Neighbor: %s\" % (nearest_neighbor_total / n))\n",
    "print(\"Nearest Neighbor + 2-OPT: %s\" % (nearest_neighbor_2_total / n))\n",
    "print(\"Nearest Insertion: %s\" % (nearest_insertion_total / n))\n",
    "print(\"Nearest Insertion + 2-OPT: %s\" % (nearest_insertion_2_total / n))\n",
    "print(\"Furthest Insertion: %s\" % (furthest_insertion_total / n))\n",
    "print(\"Furthest Insertion + 2-OPT: %s\" % (furthest_insertion_2_total / n))\n",
    "print(\"Optimal: %s\" % (optimal_cost))"
   ]
  },
  {
   "cell_type": "markdown",
   "metadata": {},
   "source": [
    "**Q:** Compare the heuristics by their before and after 2-OPT performance. Compare them to the optimal."
   ]
  },
  {
   "cell_type": "markdown",
   "metadata": {
    "tags": [
     "remove-cell",
     "web-only"
    ]
   },
   "source": [
    "**A:**"
   ]
  },
  {
   "cell_type": "markdown",
   "metadata": {
    "tags": [
     "non-web"
    ]
   },
   "source": [
    "**A:** <font color='blue'> The nearest neighbor heuristic improved the most from 2-OPT. Both nearest and furthest insertion were often not improved by 2-OPT and came very close to the optimal. After running 2-OPT, the nearest neighbor heuristic was *near* optimal as well. </font>"
   ]
  },
  {
   "cell_type": "markdown",
   "metadata": {},
   "source": [
    "For fun, let's go back to the 23 US city example. Let's run 2-OPT on the tour you created in the previous section (or a new one if you would like). To do this, you will need to define the tour as follows:"
   ]
  },
  {
   "cell_type": "code",
   "execution_count": null,
   "metadata": {
    "tags": [
     "web-only"
    ]
   },
   "outputs": [],
   "source": [
    "nodes = pd.read_csv('https://engri-1101.github.io/textbook/data/tsp/us_cities_23.csv', index_col=0)\n",
    "G = vl.create_network(nodes, manhattan=False)\n",
    "\n",
    "urllib.request.urlretrieve('https://engri-1101.github.io/textbook/other/us.png', \"us.png\")\n",
    "show(vl.create_tour_plot(G, width=600, height=375, image='us.png'))"
   ]
  },
  {
   "cell_type": "code",
   "execution_count": null,
   "metadata": {
    "tags": [
     "non-web"
    ]
   },
   "outputs": [],
   "source": [
    "nodes = pd.read_csv('data/us_cities_23.csv', index_col=0)\n",
    "G = vl.create_network(nodes, manhattan=False)\n",
    "show(vl.create_tour_plot(G, width=600, height=375, image='images/us.png'))"
   ]
  },
  {
   "cell_type": "markdown",
   "metadata": {},
   "source": [
    "**Q:** Set the `tour` variable to be the tour you manually created."
   ]
  },
  {
   "cell_type": "code",
   "execution_count": null,
   "metadata": {
    "tags": [
     "web-only"
    ]
   },
   "outputs": [],
   "source": [
    "# We can define a tour like this:\n",
    "tour = [22,21,19,20,18,15,17,16,14,13,10,12,11,8,1,2,3,4,9,7,0,6,5,22]\n",
    "\n",
    "# After manually creating a tour, you can copy the list associated with that tour from the bottom-right\n",
    "\n",
    "# TODO: Define your tour.\n",
    "\n"
   ]
  },
  {
   "cell_type": "code",
   "execution_count": null,
   "metadata": {
    "tags": [
     "non-web"
    ]
   },
   "outputs": [],
   "source": [
    "# We can define a tour like this:\n",
    "tour = [22,21,19,20,18,15,17,16,14,13,10,12,11,8,1,2,3,4,9,7,0,6,5,22]\n",
    "\n",
    "# After manually creating a tour, you can copy the list associated with that tour from the bottom-right\n",
    "\n",
    "# TODO: Define your tour.\n",
    "\n",
    "### BEGIN SOLUTION\n",
    "tour = [22,21,19,20,18,15,17,16,14,13,10,12,11,8,1,2,3,4,9,7,0,6,5,22]\n",
    "### END SOLUTION"
   ]
  },
  {
   "cell_type": "markdown",
   "metadata": {},
   "source": [
    "Run 2-OPT!"
   ]
  },
  {
   "cell_type": "code",
   "execution_count": null,
   "metadata": {
    "tags": [
     "web-only"
    ]
   },
   "outputs": [],
   "source": [
    "show(vl.tsp_heuristic_plot(G, '2-OPT', tour=list(tour), width=600, height=375, image='us.png'))"
   ]
  },
  {
   "cell_type": "code",
   "execution_count": null,
   "metadata": {
    "tags": [
     "non-web"
    ]
   },
   "outputs": [],
   "source": [
    "show(vl.tsp_heuristic_plot(G, '2-OPT', tour=list(tour), width=600, height=375, image='images/us.png'))"
   ]
  },
  {
   "cell_type": "markdown",
   "metadata": {},
   "source": [
    "**Q:** Did 2-OPT improve your tour? By how much?"
   ]
  },
  {
   "cell_type": "markdown",
   "metadata": {
    "tags": [
     "remove-cell",
     "web-only"
    ]
   },
   "source": [
    "**A:**"
   ]
  },
  {
   "cell_type": "markdown",
   "metadata": {
    "tags": [
     "non-web"
    ]
   },
   "source": [
    "**A:** <font color='blue'> (Based on example tour) Yes. It went from 6640.0 to 6590.5. </font>"
   ]
  },
  {
   "cell_type": "markdown",
   "metadata": {},
   "source": [
    "Now, let's look at an optimal solution."
   ]
  },
  {
   "cell_type": "code",
   "execution_count": null,
   "metadata": {
    "tags": [
     "web-only"
    ]
   },
   "outputs": [],
   "source": [
    "tour = optimal_tour('us_cities_23')\n",
    "show(vl.tour_plot(G, tour, width=600, height=375, image='us.png'))"
   ]
  },
  {
   "cell_type": "code",
   "execution_count": null,
   "metadata": {
    "tags": [
     "non-web"
    ]
   },
   "outputs": [],
   "source": [
    "tour = optimal_tour('us_cities_23')\n",
    "show(vl.tour_plot(G, tour, width=600, height=375, image='images/us.png'))"
   ]
  },
  {
   "cell_type": "markdown",
   "metadata": {},
   "source": [
    "**Q:** Was your tour optimal before or after 2-OPT?"
   ]
  },
  {
   "cell_type": "markdown",
   "metadata": {
    "tags": [
     "remove-cell",
     "web-only"
    ]
   },
   "source": [
    "**A:**"
   ]
  },
  {
   "cell_type": "markdown",
   "metadata": {
    "tags": [
     "non-web"
    ]
   },
   "source": [
    "**A:** <font color='blue'> (Based on example tour) It was not optimal before 2-OPT, but it became optimal afterwards! </font>"
   ]
  }
 ],
 "metadata": {
  "kernelspec": {
   "display_name": "Python 3",
   "language": "python",
   "name": "python3"
  },
  "language_info": {
   "codemirror_mode": {
    "name": "ipython",
    "version": 3
   },
   "file_extension": ".py",
   "mimetype": "text/x-python",
   "name": "python",
   "nbconvert_exporter": "python",
   "pygments_lexer": "ipython3",
   "version": "3.7.16"
  }
 },
 "nbformat": 4,
 "nbformat_minor": 4
}
