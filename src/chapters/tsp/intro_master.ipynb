{
 "cells": [
  {
   "cell_type": "markdown",
   "id": "2057d70d",
   "metadata": {},
   "source": [
    "# The Traveling Salesman Problem\n",
    "\n",
    "The traveling salesman problem, or TSP, is one of the most notorious optimization problems. The setting for the problem is as follows. A salesman starts at his home and has a given set of cities to visit. That is, if his home is in New York, and he must visit Syracuse, Chicago, San Francisco, Los Angeles, Detroit, and Atlanta, then one possible solution is to go from New York to Chicago to San Francisco to Los Angeles to Detroit to Atlanta to Syracuse, and then to return home to New York. Given that he is traveling to many cities and not staying over a Saturday night, he only qualifies for the standard coach airfare between each consecutive pair of cities that he visits. He knows the airfare between each pair of cities. That is, in our example, he might be given the following table of airfares:\n",
    "\n",
    "|              | NY  | Syracuse | Chicago | SF  | LA  | Detroit | Atlanta |\n",
    "|--------------|-----|----------|---------|-----|-----|---------|---------|\n",
    "| **NY**       | —   | 202      | 135     | 245 | 245 | 169     | 129     |\n",
    "| **Syracuse** | 202 | —        | 309     | 445 | 445 | 230     | 160     |\n",
    "| **Chicago**  | 135 | 309      | —       | 180 | 180 | 105     | 120     |\n",
    "| **SF**       | 245 | 445      | 180     | —   | 39  | 195     | 165     |\n",
    "| **LA**       | 245 | 445      | 180     | 39  | —   | 195     | 165     |\n",
    "| **Detroit**  | 169 | 230      | 105     | 195 | 195 | —       | 135     |\n",
    "| **Atlanta**  | 129 | 160      | 120     | 165 | 165 | 135     | —       |"
   ]
  },
  {
   "cell_type": "markdown",
   "id": "bd0ec338",
   "metadata": {
    "tags": [
     "web-only"
    ]
   },
   "source": [
    "```{figure} ../tsp/images/us_tsp.png\n",
    "---\n",
    "width: 500px\n",
    "name: complete graph on US map\n",
    "---\n",
    "A visualization of the traveling salesman problem\n",
    "```"
   ]
  },
  {
   "cell_type": "markdown",
   "id": "a816f383",
   "metadata": {
    "tags": [
     "non-web"
    ]
   },
   "source": [
    "<div style=\"align: left; text-align:center;\">\n",
    "  <img src=\"../tsp/images/us_tsp.png\" alt=\"complete graph on US map\" height=\"50%\" width=\"50%\">\n",
    "\n",
    "  <div class=\"caption\">Figure 1: A visualization of the traveling salesman problem</div>\n",
    "</div>"
   ]
  },
  {
   "cell_type": "markdown",
   "id": "9a6803f3",
   "metadata": {},
   "source": [
    "Notice that the data contain a few irregularities (common to the airline industry). The airfare from Syracuse to San Francisco is $445$, but the airfare from Syracuse to Atlanta is $160$ and the airfare from Atlanta to San Francisco is $165$, for a total fare of $325$. Unlike in this case, if the table of fares has the property that the cheapest way to go between each pair of cities is to take the non-stop flight, then the fares are said to satisfy the *triangle inequality*. In cases such as the one above, they are said to *violate* the triangle inequality. We shall assume that the salesman is pressed for time and always takes the non-stop flight between each of his stops on his tour. Thus, the cost of the tour proposed above is:\n",
    "\n",
    "$$135 + 180 + 39 + 195 + 135 + 160 + 202 = 1046.$$\n",
    "\n",
    "Alternatively, if he were to go from NY to Syracuse to SF to LA to Chicago to Detroit to Atlanta to NY, then the cost would be\n",
    "\n",
    "$$202 + 445 + 39 + 180 + 105 + 135 + 129 = 1235.$$\n",
    "\n",
    "Clearly, the first tour is better. The salesman would like to choose the order in which to visit the cities so as to minimize the total cost of his trip. For the data given above, is the first proposed tour the cheapest one?"
   ]
  },
  {
   "cell_type": "markdown",
   "id": "8cf178e3",
   "metadata": {},
   "source": [
    "The traveling salesman problem is an *optimization problem*. For any optimization problem, there is some notion of what kind of input is expected. For the traveling salesman problem, the input consists of a table of costs, such as the one given above, and it could involve any number of cities. For any optimization problem, there is also a notion of a *feasible solution*; that is, a possible answer (though not necessarily the best answer). For this problem, a feasible solution is a tour that visits all of the cities and returns to the starting point. And finally, there is the notion of an *objective function* --- the criterion by which we choose which of the feasible solutions is the best one, the *optimal solution*. In this case, the objective function is the sum of the costs of flying between each pair of cities that occur consecutively in the tour, and we want to *minimize* the value associated with the feasible solution. In other problems, we could be dealing with a *maximization*."
   ]
  }
 ],
 "metadata": {
  "kernelspec": {
   "display_name": "Python 3",
   "language": "python",
   "name": "python3"
  },
  "language_info": {
   "codemirror_mode": {
    "name": "ipython",
    "version": 3
   },
   "file_extension": ".py",
   "mimetype": "text/x-python",
   "name": "python",
   "nbconvert_exporter": "python",
   "pygments_lexer": "ipython3",
   "version": "3.7.16"
  }
 },
 "nbformat": 4,
 "nbformat_minor": 5
}
