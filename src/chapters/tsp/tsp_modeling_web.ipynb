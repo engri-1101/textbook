{
 "cells": [
  {
   "cell_type": "markdown",
   "metadata": {},
   "source": [
    "# Modeling with the Traveling Salesman Problem\n",
    "\n",
    "The traveling salesman problem is an important computational model for a variety of reasons. While the particular application of routing our poor salesman is valid enough, this does not really constitute a real-world application. However, it forms a  central component of more complicated models, such as routing a fleet of vehicles for pickups and deliveries, or more concretely, the sort of problem that a UPS depot might solve on a daily basis. It can also be used to model a number of problems that, at first glance, do not seem to be related.\n",
    "\n",
    "Of course, we have already encountered one such example. We can model the problem of determining the order in which the radio telescope observes the set of stars being studied as a traveling salesman problem. The set of stars to be studied corresponds to the set of cities to be visited. The re-positioning times $\\mbox{Focus-time}[i,j]$ correspond directly to the costs $C[i,j]$. A feasible solution is again any permutation $\\pi$ of the stars, and the objective is to minimize the total re-positioning time for the telescope:\n",
    "\n",
    "$$\\sum_{i=1}^{n-1} \\mbox{Focus-time}[\\pi(i),\\pi(i+1)] + \\mbox{Focus-time}[\\pi(n),\\pi(1)].$$\n",
    "\n",
    "It is important to note that this exactly captures what is needed in a 24-hour cycle of stellar observations. Hence, we could take our data for re-positioning the telescope, apply a standard software package for the traveling salesman problem (such as Concorde, which is the state of the art in this case), and be able to interpret the optimal solution for the corresponding traveling salesman input as an (optimal) solution to our telescope problem."
   ]
  },
  {
   "cell_type": "markdown",
   "metadata": {},
   "source": [
    "---\n",
    "💡**Demo**"
   ]
  },
  {
   "cell_type": "markdown",
   "metadata": {
    "tags": [
     "web-only"
    ]
   },
   "source": [
    "(Refresh page if not displaying.)"
   ]
  },
  {
   "cell_type": "code",
   "execution_count": 1,
   "metadata": {
    "tags": [
     "thebe-init",
     "hide-input",
     "web-only"
    ]
   },
   "outputs": [
    {
     "data": {
      "text/html": [
       "\n",
       "        <iframe\n",
       "            width=\"750\"\n",
       "            height=\"550\"\n",
       "            src=\"https://engri-1101.github.io/textbook/other/radio_telescope_demo_improved.html\"\n",
       "            frameborder=\"0\"\n",
       "            allowfullscreen\n",
       "            \n",
       "        ></iframe>\n",
       "        "
      ],
      "text/plain": [
       "<IPython.lib.display.IFrame at 0x244b5ee4460>"
      ]
     },
     "execution_count": 1,
     "metadata": {},
     "output_type": "execute_result"
    }
   ],
   "source": [
    "from IPython.display import IFrame\n",
    "IFrame(src='https://engri-1101.github.io/textbook/other/radio_telescope_demo_improved.html', width=750, height=550)"
   ]
  },
  {
   "cell_type": "markdown",
   "metadata": {},
   "source": [
    "---"
   ]
  },
  {
   "cell_type": "markdown",
   "metadata": {},
   "source": [
    "However, while modeling our telescope problem as a traveling salesman problem seems to make sense, and might work on some data sets, it also can fail miserably. Why?\n",
    "\n",
    "There are both minor and major reasons why this model does not perfectly represent our computational problem. One notable minor issue is that our model of the problem views the telescope positioning problem as a perfect cyclical 24-hour problem. Recall that we had one week of access to the telescope to make observations. At the start of the week, we are taking over from how it was used the previous week by another astronomer. However, this is a minor discrepancy and would have only a small effect on the selection of a regular daily pattern. \n",
    "\n",
    "There is a more fundamental issue that concerns the statement: a feasible solution is again any permutation $\\pi$ of the stars. That is not true for our problem. The telescope cannot be positioned to observe a particular star next if it is no longer above the horizon. Thus, to carefully and correctly model the telescope problem, we actually need a more complicated model that takes into account not just \"travel times\" and \"waiting times\" (while the telescope is observing a given star) but also so-called time-windows for each star that indicate the period of time (within each 24-hour cycle) that it is observable by our telescope as part of the input.\n",
    "\n",
    "Even more generally, this suggests a good rule of thumb - when trying to model a problem in a decision-making setting, start by considering the simplest model! But before attempting to use that model to make actual decisions, it is important to test it to be sure that the \"simplifying assumptions\" made along the way are indeed the kind that can be put aside with minimal effect. Hence, the overall design process of thinking about a model might be viewed as follows:"
   ]
  },
  {
   "cell_type": "markdown",
   "metadata": {
    "tags": [
     "web-only"
    ]
   },
   "source": [
    "```{figure} ../tsp/images/process.png\n",
    "---\n",
    "width: 500px\n",
    "name: model design process\n",
    "---\n",
    "The cyclical process of formulating and analyzing an OR model\n",
    "```"
   ]
  },
  {
   "cell_type": "markdown",
   "metadata": {},
   "source": [
    "## Application: PCB Drilling"
   ]
  },
  {
   "cell_type": "markdown",
   "metadata": {},
   "source": [
    "In this part, we will consider a new problem to which the TSP can be applied: the manufacturing of printed circuit boards (PCBs). PCBs are used to mount integrated circuits and combine them with other hardware. Here is a picture of a PCB after the hardware has been mounted."
   ]
  },
  {
   "cell_type": "markdown",
   "metadata": {
    "tags": [
     "web-only"
    ]
   },
   "source": [
    "```{image} ./images/pcb.jpg\n",
    ":alt: pcb with hardware\n",
    ":width: 400px\n",
    ":align: center\n",
    "```"
   ]
  },
  {
   "cell_type": "markdown",
   "metadata": {},
   "source": [
    "*Taken from [Wikipedia](https://en.wikipedia.org/wiki/Printed_circuit_board)*\n",
    "\n",
    "Before the hardware can be mounted, a large number of small holes must be drilled in the board (see image below). The hardware is then mounted by placing the pins of the component in these holes."
   ]
  },
  {
   "cell_type": "markdown",
   "metadata": {
    "tags": [
     "web-only"
    ]
   },
   "source": [
    "```{image} ./images/pcb_holes.jpg\n",
    ":alt: pcb without hardware\n",
    ":width: 400px\n",
    ":align: center\n",
    "```"
   ]
  },
  {
   "cell_type": "markdown",
   "metadata": {},
   "source": [
    "*Taken from [AiPCBA](https://www.aipcba.com/pcb/pcb-boards.html)*\n",
    "\n",
    "This sets up an optimization problem. Given a set of holes that must be drilled in a PCB, we must specify an order to drill these holes to our drilling machine. Our goal is to choose an order that minimizes the total distance the drill travels. Feeling déjà vu? This problem is analogous to the TSP!"
   ]
  },
  {
   "cell_type": "markdown",
   "metadata": {},
   "source": [
    "**Q:** What are the \"nodes\" in the PCB drilling problem?"
   ]
  },
  {
   "cell_type": "markdown",
   "metadata": {
    "tags": [
     "remove-cell",
     "web-only"
    ]
   },
   "source": [
    "**A:**"
   ]
  },
  {
   "cell_type": "markdown",
   "metadata": {},
   "source": [
    "**Q:** What is the distance between two \"nodes\" in the PCB drilling problem? (Assume the drill can travel in a straight line from one hole to the next.)"
   ]
  },
  {
   "cell_type": "markdown",
   "metadata": {
    "tags": [
     "remove-cell",
     "web-only"
    ]
   },
   "source": [
    "**A:**"
   ]
  },
  {
   "cell_type": "markdown",
   "metadata": {},
   "source": [
    "**Q:** In answering the last two questions, you have fully described an input to the TSP. Assume we have a way of solving the TSP. How would you interpret the solution to the TSP (a tour of the nodes) as a solution to the PCB drilling problem?"
   ]
  },
  {
   "cell_type": "markdown",
   "metadata": {
    "tags": [
     "remove-cell",
     "web-only"
    ]
   },
   "source": [
    "**A:**"
   ]
  },
  {
   "cell_type": "markdown",
   "metadata": {},
   "source": [
    "**Q:** Why does the optimal TSP tour correspond to an optimal PCB drilling solution?"
   ]
  },
  {
   "cell_type": "markdown",
   "metadata": {
    "tags": [
     "remove-cell",
     "web-only"
    ]
   },
   "source": [
    "**A:**"
   ]
  },
  {
   "cell_type": "markdown",
   "metadata": {},
   "source": [
    "Let's start by looking at a small PCB drilling instance: `xqf131`."
   ]
  },
  {
   "cell_type": "code",
   "execution_count": null,
   "metadata": {
    "scrolled": false,
    "tags": [
     "thebe-init",
     "hide-cell",
     "web-only"
    ]
   },
   "outputs": [],
   "source": [
    "# Imports\n",
    "import urllib.request\n",
    "urllib.request.urlretrieve('https://engri-1101.github.io/textbook/modules/tsp.py', \"tsp.py\")\n",
    "from tsp import *\n",
    "urllib.request.urlretrieve('https://engri-1101.github.io/textbook/data/tsp/optimal_tours.pickle', \"optimal_tours.pickle\")\n",
    "import vinal as vl\n",
    "import pandas as pd\n",
    "from IPython.display import Image\n",
    "from bokeh.io import output_notebook, show\n",
    "output_notebook()"
   ]
  },
  {
   "cell_type": "code",
   "execution_count": null,
   "metadata": {
    "scrolled": true,
    "tags": [
     "web-only"
    ]
   },
   "outputs": [],
   "source": [
    "nodes = pd.read_csv('https://engri-1101.github.io/textbook/data/tsp/xqf131.csv', index_col=0)\n",
    "nodes.head() # .head() restricts the display to just show the first 5 rows"
   ]
  },
  {
   "cell_type": "code",
   "execution_count": null,
   "metadata": {
    "scrolled": true
   },
   "outputs": [],
   "source": [
    "# Like before, we need to construct a graph from this dataframe of nodes\n",
    "G = vl.create_network(nodes)"
   ]
  },
  {
   "cell_type": "markdown",
   "metadata": {},
   "source": [
    "Let's apply some of our TSP heuristics and 2-OPT to get some good feasible solutions to this problem!"
   ]
  },
  {
   "cell_type": "code",
   "execution_count": null,
   "metadata": {},
   "outputs": [],
   "source": [
    "# Nearest neighbor\n",
    "tour = vl.nearest_neighbor(G)\n",
    "show(vl.tour_plot(G, tour))"
   ]
  },
  {
   "cell_type": "code",
   "execution_count": null,
   "metadata": {},
   "outputs": [],
   "source": [
    "# Improve with 2-OPT\n",
    "show(vl.tsp_heuristic_plot(G, '2-OPT', tour=list(tour)))"
   ]
  },
  {
   "cell_type": "code",
   "execution_count": null,
   "metadata": {},
   "outputs": [],
   "source": [
    "# Nearest insertion\n",
    "tour = vl.nearest_insertion(G)\n",
    "show(vl.tour_plot(G, tour))"
   ]
  },
  {
   "cell_type": "code",
   "execution_count": null,
   "metadata": {},
   "outputs": [],
   "source": [
    "# Optimal\n",
    "tour = optimal_tour('xqf131')\n",
    "show(vl.tour_plot(G, tour))"
   ]
  },
  {
   "cell_type": "markdown",
   "metadata": {},
   "source": [
    "**Q:** What were the following tour costs: nearest neighbor, nearest neighbor + 2-OPT, nearest insertion, and optimal? Which heuristic was closest to the optimal?"
   ]
  },
  {
   "cell_type": "markdown",
   "metadata": {
    "tags": [
     "remove-cell",
     "web-only"
    ]
   },
   "source": [
    "**A:**"
   ]
  },
  {
   "cell_type": "markdown",
   "metadata": {},
   "source": [
    "Next, let's look at a well-cited PCB instance in TSP literature: `pcb442`."
   ]
  },
  {
   "cell_type": "code",
   "execution_count": null,
   "metadata": {
    "scrolled": true,
    "tags": [
     "web-only"
    ]
   },
   "outputs": [],
   "source": [
    "nodes = pd.read_csv('https://engri-1101.github.io/textbook/data/tsp/pcb442.csv', index_col=0)\n",
    "G = vl.create_network(nodes)"
   ]
  },
  {
   "cell_type": "code",
   "execution_count": null,
   "metadata": {
    "scrolled": false
   },
   "outputs": [],
   "source": [
    "# Furthest insertion\n",
    "tour = vl.furthest_insertion(G)\n",
    "show(vl.tour_plot(G, tour))"
   ]
  },
  {
   "cell_type": "code",
   "execution_count": null,
   "metadata": {
    "scrolled": false
   },
   "outputs": [],
   "source": [
    "# Optimal\n",
    "tour = optimal_tour('pcb442')\n",
    "show(vl.tour_plot(G, tour))"
   ]
  },
  {
   "cell_type": "markdown",
   "metadata": {},
   "source": [
    "To make this problem more realistic, there is an added complication. We ignored where the drill bit starts and ends; it has to be the same location, usually in the corner. It is no longer good enough to just provide a tour of the holes to be drilled."
   ]
  },
  {
   "cell_type": "markdown",
   "metadata": {},
   "source": [
    "**Q:** If we just consider a tour of the holes, we miss two distances that must be traveled. What are they?"
   ]
  },
  {
   "cell_type": "markdown",
   "metadata": {
    "tags": [
     "remove-cell",
     "web-only"
    ]
   },
   "source": [
    "**A:**"
   ]
  },
  {
   "cell_type": "markdown",
   "metadata": {},
   "source": [
    "Let's assume the start position of the drill is in the bottom left at $(0,0)$ and all of the holes to be drilled are at positions $(x,y)$ for $x,y > 0$."
   ]
  },
  {
   "cell_type": "markdown",
   "metadata": {},
   "source": [
    "**Q:** How can we adjust our TSP input to account for this? (Hint: How does the set of nodes change, and what are the distances between them?)"
   ]
  },
  {
   "cell_type": "markdown",
   "metadata": {
    "tags": [
     "remove-cell",
     "web-only"
    ]
   },
   "source": [
    "**A:**"
   ]
  },
  {
   "cell_type": "markdown",
   "metadata": {},
   "source": [
    "If you look back at `pcb442`, you can see that the bottom-left node actually represents the drill start location and not a hole that needs to be drilled!"
   ]
  }
 ],
 "metadata": {
  "kernelspec": {
   "display_name": "Python 3 (ipykernel)",
   "language": "python",
   "name": "python3"
  },
  "language_info": {
   "codemirror_mode": {
    "name": "ipython",
    "version": 3
   },
   "file_extension": ".py",
   "mimetype": "text/x-python",
   "name": "python",
   "nbconvert_exporter": "python",
   "pygments_lexer": "ipython3",
   "version": "3.10.9"
  }
 },
 "nbformat": 4,
 "nbformat_minor": 4
}
