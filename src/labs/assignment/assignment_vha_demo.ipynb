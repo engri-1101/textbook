{
 "cells": [
  {
   "cell_type": "code",
   "execution_count": null,
   "id": "7ff7497e",
   "metadata": {},
   "outputs": [],
   "source": [
    "import vha\n",
    "from random import randint\n",
    "from bokeh.plotting import show\n",
    "from bokeh.io import output_notebook\n",
    "output_notebook()"
   ]
  },
  {
   "cell_type": "code",
   "execution_count": null,
   "id": "c80c60e0",
   "metadata": {},
   "outputs": [],
   "source": [
    "# The visualization tool takes in a cost matrix\n",
    "# It returns a bokeh plot to see each step in the Hungarian algorithm outlined in the coursepack \n",
    "l = [[8,10,7],[10,11,8],[5,6,7]]\n",
    "show(vha.visualize_assignment(l))"
   ]
  },
  {
   "cell_type": "code",
   "execution_count": null,
   "id": "327289f0",
   "metadata": {},
   "outputs": [],
   "source": [
    "# A larger, random example\n",
    "l = [[randint(1,50) for _ in range(8)] for _ in range(8)]\n",
    "show(vha.visualize_assignment(l))"
   ]
  },
  {
   "cell_type": "code",
   "execution_count": null,
   "id": "959284ee",
   "metadata": {},
   "outputs": [],
   "source": [
    "# An unbalanced example\n",
    "l = [[7,9,2,6],[15,3,8,3],[23,17,32,1]]\n",
    "show(vha.visualize_assignment(l))"
   ]
  },
  {
   "cell_type": "code",
   "execution_count": null,
   "id": "f88b11cb",
   "metadata": {},
   "outputs": [],
   "source": [
    "# Because it follows the coursepack algorithm, some situations have nonobvious min-cost assignments (Step 3 below).\n",
    "# This is an example where the visualization tool cheats and chooses the zero-cost assignment with\n",
    "# minimum cost in the original matrix.\n",
    "l = [[1,2,3],[4,5,6]]\n",
    "show(vha.visualize_assignment(l))"
   ]
  },
  {
   "cell_type": "code",
   "execution_count": null,
   "id": "c27d6fba",
   "metadata": {},
   "outputs": [],
   "source": [
    "# The package also wraps a faster implementation for the Hungarian Algorithm\n",
    "# that DOES NOT cache steps for visualization.\n",
    "l = [[8,10,7],[10,11,8],[5,6,7]]\n",
    "print(vha.min_cost_assignment(l))"
   ]
  }
 ],
 "metadata": {
  "language_info": {
   "name": "python"
  }
 },
 "nbformat": 4,
 "nbformat_minor": 5
}
