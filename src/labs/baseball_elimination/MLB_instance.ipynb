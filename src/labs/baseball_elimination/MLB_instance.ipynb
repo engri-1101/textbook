{
 "cells": [
  {
   "cell_type": "code",
   "execution_count": null,
   "metadata": {},
   "outputs": [],
   "source": [
    "# imports\n",
    "from selenium import webdriver\n",
    "from bs4 import BeautifulSoup\n",
    "import pandas as pd\n",
    "from datetime import datetime\n",
    "import re\n",
    "import numpy as np"
   ]
  },
  {
   "cell_type": "code",
   "execution_count": null,
   "metadata": {},
   "outputs": [],
   "source": [
    "driver = webdriver.Chrome(\"/Applications/chromedriver\")\n",
    "url = \"https://www.baseball-reference.com/leagues/MLB/2014-schedule.shtml\"\n",
    "driver.get(url)\n",
    "content = driver.page_source\n",
    "soup = BeautifulSoup(content)"
   ]
  },
  {
   "cell_type": "code",
   "execution_count": null,
   "metadata": {},
   "outputs": [],
   "source": [
    "team_abbrev = {\"Arizona D'Backs\" : 'ARI',\n",
    "'Atlanta Braves' : 'ATL',\n",
    "'Baltimore Orioles' : 'BAL',\n",
    "'Boston Red Sox' : 'BOS',\n",
    "'Chicago Cubs' : 'CHC',\n",
    "'Chicago White Sox' : 'CHW',\n",
    "'Cincinnati Reds' : 'CIN',\n",
    "'Cleveland Indians' : 'CLE',\n",
    "'Colorado Rockies' : 'COL',\n",
    "'Detroit Tigers' : 'DET',\n",
    "'Miami Marlins' : 'MIA',\n",
    "'Houston Astros' : 'HOU',\n",
    "'Kansas City Royals' : 'KCR',\n",
    "'LA Angels of Anaheim' : 'LAA',\n",
    "'Los Angeles Dodgers' : 'LAD',\n",
    "'Milwaukee Brewers' : 'MIL',\n",
    "'Minnesota Twins' : 'MIN',\n",
    "'New York Mets' : 'NYM',\n",
    "'New York Yankees' : 'NYY',\n",
    "'Oakland Athletics' : 'OAK',\n",
    "'Philadelphia Phillies' : 'PHI',\n",
    "'Pittsburgh Pirates' : 'PIT',\n",
    "'San Diego Padres' : 'SDP',\n",
    "'San Francisco Giants' : 'SFG',\n",
    "'Seattle Mariners' : 'SEA',\n",
    "'St. Louis Cardinals' : 'STL',\n",
    "'Tampa Bay Rays' : 'TBR',\n",
    "'Texas Rangers' : 'TEX',\n",
    "'Toronto Blue Jays' : 'TOR',\n",
    "'Washington Nationals' : 'WSN'}\n",
    "\n",
    "team_index = {'ARI' : 0,\n",
    "'ATL' : 1,\n",
    "'BAL' : 2,\n",
    "'BOS' : 3,\n",
    "'CHC' : 4,\n",
    "'CHW' : 5,\n",
    "'CIN' : 6,\n",
    "'CLE' : 7,\n",
    "'COL' : 8,\n",
    "'DET' : 9,\n",
    "'MIA' : 10,\n",
    "'HOU' : 11,\n",
    "'KCR' : 12,\n",
    "'LAA' : 13,\n",
    "'LAD' : 14,\n",
    "'MIL' : 15,\n",
    "'MIN' : 16,\n",
    "'NYM' : 17,\n",
    "'NYY' : 18,\n",
    "'OAK' : 19,\n",
    "'PHI' : 20,\n",
    "'PIT' : 21,\n",
    "'SDP' : 22,\n",
    "'SFG' : 23,\n",
    "'SEA' : 24,\n",
    "'STL' : 25,\n",
    "'TBR' : 26,\n",
    "'TEX' : 27,\n",
    "'TOR' : 28,\n",
    "'WSN' : 29}"
   ]
  },
  {
   "cell_type": "code",
   "execution_count": null,
   "metadata": {},
   "outputs": [],
   "source": [
    "schedule = {}\n",
    "body = soup.find('body', attrs={'class':'br'})\n",
    "wrap = body.find('div', attrs={'id' : 'wrap'})\n",
    "main = wrap.find('div', attrs={'id' : 'content', 'role' : 'main'})\n",
    "section_wrapper = main.find('div', attrs={'class' : 'section_wrapper'})\n",
    "section_content = section_wrapper.find('div', attrs={'class' : 'section_content'})\n",
    "for date in section_content.findAll('div', recursive=False):\n",
    "    date_string = date.find('h3').findAll(text=True)[0]\n",
    "    date_object = datetime.strptime(date_string, '%A, %B %d, %Y')\n",
    "    play_matrix = np.zeros((30,30))\n",
    "    for game in date.findAll('p', attrs={'class':'game'}, recursive=False):\n",
    "        i = team_index[team_abbrev[game.find('a', recursive=False).findAll(text=True)[0]]]\n",
    "        j = team_index[team_abbrev[game.find('strong', recursive=False).find('a').findAll(text=True)[0]]]\n",
    "        play_matrix[i,j] = play_matrix[i,j] + 1\n",
    "        play_matrix[j,i] = play_matrix[j,i] + 1\n",
    "    schedule[date_object] = play_matrix"
   ]
  },
  {
   "cell_type": "code",
   "execution_count": null,
   "metadata": {},
   "outputs": [],
   "source": [
    "def game_matrix(date, prior=True):\n",
    "    \"\"\"Get the games played (prior is True) or games remaining to be played (prior False)\"\"\"\n",
    "    games_played = np.zeros((30,30))\n",
    "    for day in schedule:\n",
    "        if prior:\n",
    "            if day <= date:\n",
    "                games_played = games_played + schedule[day]\n",
    "        else:\n",
    "            if day > date:\n",
    "                games_played = games_played + schedule[day]\n",
    "    df = pd.DataFrame(games_played)\n",
    "    index_to_team = {v: k for k, v in team_index.items()}\n",
    "    df = df.rename(columns=index_to_team, index=index_to_team)\n",
    "    return df.astype(int)"
   ]
  },
  {
   "cell_type": "code",
   "execution_count": null,
   "metadata": {},
   "outputs": [],
   "source": [
    "# generate remaining games\n",
    "game_matrix(datetime(2014,9,1), prior=False).to_csv('data/games_left.csv')"
   ]
  },
  {
   "cell_type": "markdown",
   "metadata": {},
   "source": [
    "## TEST"
   ]
  },
  {
   "cell_type": "code",
   "execution_count": null,
   "metadata": {},
   "outputs": [],
   "source": [
    "import pandas as pd\n",
    "import matplotlib.pyplot as plt\n",
    "import networkx as nx\n",
    "standing = pd.read_csv('data/standing.csv', index_col = 0)\n",
    "games_left = pd.read_csv('data/games_left.csv', index_col = 0)"
   ]
  },
  {
   "cell_type": "code",
   "execution_count": null,
   "metadata": {},
   "outputs": [],
   "source": [
    "team = 'HOU'\n",
    "W = standing.at[team,'W'] + sum(games_left[team])\n",
    "w = {}\n",
    "for index, row in standing.iterrows():\n",
    "    w[index] = W - row['W'] \n",
    "    if w[index] < 0:\n",
    "        raise ValueError('Negative edge weight')"
   ]
  },
  {
   "cell_type": "code",
   "execution_count": null,
   "metadata": {},
   "outputs": [],
   "source": [
    "# creating a new graph\n",
    "G = nx.DiGraph()\n",
    "\n",
    "G.add_node('s', pos=(0,0.5))\n",
    "G.add_node('t', pos=(1,0.5))\n",
    "\n",
    "for i in range(len(standing)):\n",
    "    # create team node\n",
    "    G.add_node('%s'%(standing.index[i]), pos=(0.75,10*i))\n",
    "    for j in range(len(standing)):\n",
    "        if i < j:\n",
    "            # create all pair nodes\n",
    "            G.add_node('%s,%s'%(standing.index[i],standing.index[j]), pos=(0.25,10*(i+j)))\n",
    "            \n",
    "for i in range(len(standing)):\n",
    "\n",
    "    # add team node to sink edges\n",
    "    G.add_edge(standing.index[i], 't', capacity = w[standing.index[i]] )\n",
    "    \n",
    "    for j in range(len(standing)):\n",
    "        if i < j:\n",
    "            pair_node = '%s,%s'%(standing.index[i],standing.index[j])\n",
    "            \n",
    "            # add s to pair nodes edges\n",
    "            G.add_edge('s', pair_node, capacity = games_left.at[standing.index[i],standing.index[j]])\n",
    "            \n",
    "            # create edges from pair nodes to team nodes\n",
    "            G.add_edge(pair_node, '%s'%(standing.index[i]))\n",
    "            G.add_edge(pair_node, '%s'%(standing.index[j]))"
   ]
  },
  {
   "cell_type": "code",
   "execution_count": null,
   "metadata": {},
   "outputs": [],
   "source": [
    "from max_flow import *\n",
    "ex = max_flow(add_infinite_capacities(G)) # create a max flow instance from the graph G\n",
    "ex.ford_fulkerson(show=False) # run Ford-Fulkerson\n",
    "\n",
    "# print the set of checked nodes\n",
    "checked_attr = nx.get_node_attributes(ex.G,'check')\n",
    "for i in checked_attr:\n",
    "    if checked_attr[i]:\n",
    "        print(i)"
   ]
  },
  {
   "cell_type": "code",
   "execution_count": null,
   "metadata": {},
   "outputs": [],
   "source": [
    "games_left.at['LAA','OAK'] + games_left.at['LAA','SEA'] + games_left.at['SEA','OAK']"
   ]
  },
  {
   "cell_type": "code",
   "execution_count": null,
   "metadata": {},
   "outputs": [],
   "source": [
    "w['LAA']+w['OAK']+w['SEA']"
   ]
  }
 ],
 "metadata": {
  "language_info": {
   "name": "python"
  }
 },
 "nbformat": 4,
 "nbformat_minor": 4
}
