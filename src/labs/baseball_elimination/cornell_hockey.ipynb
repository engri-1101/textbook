{
 "cells": [
  {
   "cell_type": "code",
   "execution_count": null,
   "metadata": {},
   "outputs": [],
   "source": [
    "#confirm two main goals of lab: 1) walk students through the modelling generalization, and \n",
    "#2) get them excited about doing it on real data. \n",
    "\n",
    "#"
   ]
  },
  {
   "cell_type": "markdown",
   "metadata": {},
   "source": [
    "# Cornell Hockey Lab - Extention of Baseball Elimination\n",
    "\n",
    "**Objectives:**\n",
    "* edit this\n",
    "* edit this\n",
    "\n",
    "**Key Ideas:**\n",
    "* integrality property edit this!!!!!!!\n",
    "* max-flow min-cut theorem\n",
    "* the baseball elimination problem\n",
    "\n",
    "**Reading Assignment:**\n",
    "* edit this\n",
    "\n",
    "**Brief description:** edit this"
   ]
  },
  {
   "cell_type": "code",
   "execution_count": null,
   "metadata": {},
   "outputs": [],
   "source": [
    "# imports\n",
    "from selenium import webdriver\n",
    "from bs4 import BeautifulSoup\n",
    "import pandas as pd\n",
    "from datetime import datetime, timedelta\n",
    "import re\n",
    "import numpy as np\n",
    "import networkx as nx"
   ]
  },
  {
   "cell_type": "markdown",
   "metadata": {},
   "source": [
    "## Part 1: Hockey Elimination - Toy Exmaple"
   ]
  },
  {
   "cell_type": "markdown",
   "metadata": {},
   "source": [
    "You have seen the Baseball Elimination process, and learned how the max flow problem can determine whether a team is eliminated. Unlike baseball, Hockey has ties. As a result, we have to count points instead of just wins and losses. For each game,\n",
    "* if the result IS NOT tied, the winning team receives 2 points, and the losing team receives 0 points;\n",
    "* if the result IS tied, both teams receive 1 point.\n",
    "\n",
    "Before we can explore Cornell's epic season (both men and women!) in Ice Hockey, here is the data from a toy season for only 4 teams. The 4 teams are numbered 1, 2, 3, and 4. And here are results from the first 8 games.\n",
    "\n",
    "Teams in Games Played | Result \n",
    "--- | ---\n",
    "1,2 | 1 won\n",
    "1,3 | tied\n",
    "2,3 | 2 won\n",
    "3,4 | 3 won\n",
    "1,2 | 1 won\n",
    "1,3 | 1 won\n",
    "2,3 | tied\n",
    "3,4 | 3 won\n",
    "\n",
    "\n",
    "We can calculate points for each team based on game results. `Team 1` has won 3 games and tied one game, so it has 2*3 + 1 = 7 points.\n",
    "\n",
    "**Q1:** Please calculate the points for `team 2` based on game results to make sure you understand the scoring system."
   ]
  },
  {
   "cell_type": "markdown",
   "metadata": {},
   "source": [
    "**A:**\n",
    "\n",
    "<font color='blue'> Team 2 score: 2+1 = 3</font>"
   ]
  },
  {
   "cell_type": "markdown",
   "metadata": {},
   "source": [
    "Below is the current point standing for all the teams after the first 8 games.\n",
    "\n",
    "Team | Points\n",
    "--- | ---\n",
    "1 | 7\n",
    "2 | 3\n",
    "3 | 6\n",
    "4 | 0\n",
    "\n",
    "And the table below shows Games remaining to be played:\n",
    "\n",
    "vs. | 1 | 2 | 3 | 4\n",
    " -- | -- | -- | -- | --\n",
    "**1** | - | 1 | 1 | 2\n",
    "**2** | 1 | - | 2 | 2\n",
    "**3** | 1 | 2 | - | 1\n",
    "**4** | 2 | 2 | 1 | -\n",
    "\n",
    "Team 4, the team we are rooting for, has not won any points so far. We would like to determine whether it still has a chance to finish first at the end of the season (we are satisfied with a tie for first place as well).\n",
    "\n",
    "**Q2:** How many points can team 4 possibly win during the season? Call this number $P$. (Hint: assume that team 4 wins all their remaning games.)"
   ]
  },
  {
   "cell_type": "code",
   "execution_count": null,
   "metadata": {},
   "outputs": [],
   "source": [
    "# TODO: uncomment and set P to the appropriate value\n",
    "# P = \n",
    "\n",
    "### BEGIN SOLUTION\n",
    "P = 10\n",
    "### END SOLUTION"
   ]
  },
  {
   "cell_type": "markdown",
   "metadata": {},
   "source": [
    "Also, we define data for the Hockey Elimination problem as the following:\n",
    "\n",
    "* a collection of teams $1, 2, \\ldots, n$,\n",
    "* the number of games $g(i,j)$ remaining to be played between teams $i$ and $j$ for all pairs of teams $i$ and $j$,\n",
    "* the number of points $p(i)$ team $i$ already has.\n",
    "\n",
    "Team 1 has already won 7 points, or we can say $p(i) = 7$.  \n",
    "\n",
    "**Q3:** At most how many more points is this team allowed to win if we want to make sure that our team comes out first? What about teams 2 and 3?\n",
    "\n",
    "**A:**  <font color='blue'> An upper bound on the number of points team 1 could win is 10 - 7 = 3. Team 2 could win at most 7 more points. Team 3 could win at most 4 more points.</font>"
   ]
  },
  {
   "cell_type": "markdown",
   "metadata": {},
   "source": [
    "**Q4:** How can you express this amount in general (in terms of $P$ and $p(i)$) for team $i$?\n",
    "\n",
    "**A:** <font color='blue'> $P - p(i)$</font>"
   ]
  },
  {
   "cell_type": "markdown",
   "metadata": {},
   "source": [
    "Just like Baseball Elimination before, we are going to create the max flow instance. This description below of max flow is very similar to that of Baseball Elimination, except for `games` become `points`.\n",
    "\n",
    "If one of two teams scheduled to play is team 4, then we assume that the game outcome is decided in our favor (team 4 wins and receives 2 points). For the rest of the games, we would like to assign a winner so that no team wins more points than the number determined above. So for each pair of teams (other than those containing our team) we would like to decide how many of the leftover games between them are going to be won by one team or the other, or be tied.\n",
    "\n",
    "To illustrate this, we draw two sets of nodes: one set for all the pairs of teams not containing our team (these will be called the *pair nodes*) and another one for the individual teams (these are called the *team nodes*). We can interpret $g(i,j)$, the number of games remaining to be played between teams $i$ and $j$, as the amount of \"excess games\" at the pair node. And each excess game has 2 points that can be distributed. These points need to be \"distributed\" between the two corresponding team nodes as represented by edges.  \n",
    "\n",
    "The graph below is generated for you since you have already seen it in Baseball Elimination."
   ]
  },
  {
   "cell_type": "code",
   "execution_count": null,
   "metadata": {},
   "outputs": [],
   "source": [
    "G = nx.DiGraph()\n",
    "# pair nodes\n",
    "G.add_node('1,2', pos=(10,30))\n",
    "G.add_node('1,3', pos=(10,20))\n",
    "G.add_node('2,3', pos=(10,10))\n",
    "# team nodes\n",
    "G.add_node('1', pos=(20,30))\n",
    "G.add_node('2', pos=(20,20))\n",
    "G.add_node('3', pos=(20,10))\n",
    "\n",
    "# Remember that they are directed edges, so the order of endpoints matter\n",
    "G.add_edge('1,2', '1')\n",
    "G.add_edge('1,2', '2')\n",
    "G.add_edge('1,3', '1')\n",
    "G.add_edge('1,3', '3')\n",
    "G.add_edge('2,3', '2')\n",
    "G.add_edge('2,3', '3')\n",
    "\n",
    "# graph display\n",
    "pos=nx.get_node_attributes(G,'pos')\n",
    "nx.draw_networkx(G,pos,node_size=1000,node_color='lightblue')"
   ]
  },
  {
   "cell_type": "markdown",
   "metadata": {},
   "source": [
    "To make a single-source, single-sink flow problem from this model, we introduce two nodes: a node which is the \"source\n",
    "of all games\" and a node which is the \"sink of all played games\".  \n",
    "\n",
    "**Q5:** What should be the capacity of (source, pair node) arcs? What about (team node, sink) arcs? Remember we are sending points instead of wins through the edges!\n",
    "\n",
    "**A:** <font color='blue'> The capacity of (source, pair node) arcs should be 2*g(i,j). The capacity of (team node, sink) arcs should be $P - p(i).$</font>"
   ]
  },
  {
   "cell_type": "markdown",
   "metadata": {},
   "source": [
    "**Q6:** Fill in the capacity values missing in the code below and run the cell to display the graph."
   ]
  },
  {
   "cell_type": "code",
   "execution_count": null,
   "metadata": {},
   "outputs": [],
   "source": [
    "# adding our source node and sink node\n",
    "G.add_node('s', pos=(0,20))\n",
    "G.add_node('t', pos=(30,20))\n",
    "\n",
    "# TODO: Uncomment and fill in the capacities\n",
    "G.add_edge('s', '1,2', capacity = 2)\n",
    "G.add_edge('s', '1,3', capacity = 2)\n",
    "# G.add_edge('s', '2,3', capacity = X)\n",
    "# G.add_edge('1', 't', capacity = X)\n",
    "# G.add_edge('2', 't', capacity = X)\n",
    "# G.add_edge('3', 't', capacity = X)\n",
    "\n",
    "### BEGIN SOLUTION\n",
    "G.add_edge('s', '2,3', capacity = 4)\n",
    "G.add_edge('1', 't', capacity = P-7)\n",
    "G.add_edge('2', 't', capacity = P-3)\n",
    "G.add_edge('3', 't', capacity = P-6)\n",
    "### END SOLUTION\n",
    "\n",
    "# graph display\n",
    "pos=nx.get_node_attributes(G,'pos')\n",
    "cap=nx.get_edge_attributes(G,'capacity')\n",
    "nx.draw_networkx(G,pos,node_size=1000,node_color='lightblue')\n",
    "nx.draw_networkx_edge_labels(G,pos,edge_labels=cap);"
   ]
  },
  {
   "cell_type": "markdown",
   "metadata": {},
   "source": [
    "**Q7:** What does a feasible flow, with all integer flow values, in the above network correspond to? How can we interpret the value of a flow? \n",
    "\n",
    "**A:** <font color='blue'>We can interpret the flow on $(s,(i,j))$ to be the number of new points between teams $i$ and $j$, $((i,j), i)$ arcs to be the number of points team $i$ won aganist team $j$, and $(i,t)$ arcs to be the total number of addtional points team $i$ has. </font>"
   ]
  },
  {
   "cell_type": "markdown",
   "metadata": {},
   "source": [
    "**Q8:** What does the value of the max flow have to equal to for a team to not be eliminated?\n",
    "\n",
    "**A:** <font color='blue'>The value of the max flow has to equal the number of remaining points for all teams $(i,j)$ where $i \\neq 4$, $j \\neq 4$. </font>"
   ]
  },
  {
   "cell_type": "code",
   "execution_count": null,
   "metadata": {},
   "outputs": [],
   "source": [
    "# The max flow problem is solved in this cell.\n",
    "flow_value, flow = nx.maximum_flow(G, 's', 't')\n",
    "print(\"The value of the flow is\", flow_value)\n",
    "for i, j in G.edges:\n",
    "    print(\"The flow on the arc from \"+i+\" to \"+j+\" is\",flow[i][j])"
   ]
  },
  {
   "cell_type": "markdown",
   "metadata": {},
   "source": [
    "If the max flow is equal to the number of remaining points for all teams $(i,j)$ where $i \\neq 4$, $j \\neq 4$, all remaining points are distributed and it's possible that no team gets more points than team 4. We know the value of the max flow is 8 from the cell above.\n",
    "\n",
    "**Q9:** What is the minimum cut (i.e., which nodes are on the set $S$)? Has our team been eliminated already or not yet? If team 4 WAS NOT eliminated, then give the result of the remaining games among the three other teams based on the max flow calculated by the computer program above. Explain everything like you would to someone who knows nothing about max flow or min cut problems.\n",
    "\n",
    "**A:** <font color='blue'>The minimum cut is $S = {s}$. The team has not been eliminated yet. It is possible to have all the points from remaining games amount teams 1, 2, and 3 distributed given that 4 must win. Team 1 and 2 tie the game between 1,2. Team 1 wins the game between 1,3. Team 2 wins the two games between 2,3.  </font>  "
   ]
  },
  {
   "cell_type": "markdown",
   "metadata": {},
   "source": [
    "## Part 2: Proof of Elimination"
   ]
  },
  {
   "cell_type": "markdown",
   "metadata": {},
   "source": [
    "The standing (number of points each team has) is the same. The games remaining to be played change.\n",
    "\n",
    "Team | Points\n",
    "--- | ---\n",
    "1 | 7\n",
    "2 | 3\n",
    "3 | 6\n",
    "4 | 0\n",
    "\n",
    "Games remaining to be played:\n",
    "\n",
    "vs. | 1 | 2 | 3 | 4\n",
    " -- | -- | -- | -- | --\n",
    "**1** | - | 3 | 3 | 2\n",
    "**2** | 3 | - | 2 | 2\n",
    "**3** | 3 | 2 | - | 1\n",
    "**4** | 2 | 2 | 1 | -\n",
    "\n",
    "**Q10:** Finish the code below and display the graph. We are once again cheering for team 4."
   ]
  },
  {
   "cell_type": "code",
   "execution_count": null,
   "metadata": {},
   "outputs": [],
   "source": [
    "# creating a new graph\n",
    "G = nx.DiGraph()\n",
    "G.add_node('s', pos=(0,20))\n",
    "G.add_node('t', pos=(30,20))\n",
    "G.add_node('1,2', pos=(10,30))\n",
    "G.add_node('1,3', pos=(10,20))\n",
    "G.add_node('2,3', pos=(10,10))\n",
    "G.add_node('1', pos=(20,30))\n",
    "G.add_node('2', pos=(20,20))\n",
    "G.add_node('3', pos=(20,10))\n",
    "\n",
    "# TODO: Uncomment and fill in the remaining edges\n",
    "# Remember that they are directed edges, so the order of endpoints matter\n",
    "G.add_edge('1,2', '1')\n",
    "G.add_edge('1,2', '2')\n",
    "G.add_edge('1,3', '1')\n",
    "G.add_edge('1,3', '3')\n",
    "# G.add_edge('XXX', 'X')\n",
    "# G.add_edge('XXX', 'X')\n",
    "\n",
    "### BEGIN SOLUTION\n",
    "G.add_edge('2,3', '2')\n",
    "G.add_edge('2,3', '3')\n",
    "### END SOLUTION\n",
    "\n",
    "# TODO: Uncomment and fill in the capacities\n",
    "# G.add_edge('s', '1,2', capacity = X)\n",
    "# G.add_edge('s', '1,3', capacity = X)\n",
    "# G.add_edge('s', '2,3', capacity = X)\n",
    "# G.add_edge('1', 't', capacity = X)\n",
    "# G.add_edge('2', 't', capacity = X)\n",
    "# G.add_edge('3', 't', capacity = X)\n",
    "\n",
    "### BEGIN SOLUTION\n",
    "G.add_edge('s', '1,2', capacity = 6)\n",
    "G.add_edge('s', '1,3', capacity = 6)\n",
    "G.add_edge('s', '2,3', capacity = 4)\n",
    "G.add_edge('1', 't', capacity = P-7)\n",
    "G.add_edge('2', 't', capacity = P-3)\n",
    "G.add_edge('3', 't', capacity = P-6)\n",
    "### END SOLUTION\n",
    "\n",
    "pos=nx.get_node_attributes(G,'pos')\n",
    "cap=nx.get_edge_attributes(G,'capacity')\n",
    "nx.draw_networkx(G,pos,node_size=1000,node_color='lightblue')\n",
    "nx.draw_networkx_edge_labels(G,pos,edge_labels=cap);"
   ]
  },
  {
   "cell_type": "markdown",
   "metadata": {},
   "source": [
    "**Q11:** Can you tell if team 4 is eliminated without running max flow? Explain why to your friend who doesn't know anything about Operations Research.\n",
    "\n",
    "**A:** <font color='blue'> Team 4 is eliminated. There are a total of 6+6+4=16 points that need to be distributed among team 1, 2, and 3 given 4 must win. However, only 3+7+4=14 points can be won by all 3 teams without causing team 4 to lose. </font>  "
   ]
  },
  {
   "cell_type": "markdown",
   "metadata": {},
   "source": [
    "The previous question can be answered without running max flow algorithm because it has a trivial cut, where the number of points that need to be distributed is larger than the total number of points all 3 other teams can win. And let's look at another scenario where the games left to be played is once again different, while the standing stays the same.\n",
    "\n",
    "The standing:\n",
    "\n",
    "Team | Points\n",
    "--- | ---\n",
    "1 | 7\n",
    "2 | 3\n",
    "3 | 6\n",
    "4 | 0\n",
    "\n",
    "Games remaining to be played:\n",
    "\n",
    "vs. | 1 | 2 | 3 | 4\n",
    " -- | -- | -- | -- | --\n",
    "**1** | - | 1 | 4 | 2\n",
    "**2** | 1 | - | 1 | 2\n",
    "**3** | 4 | 1 | - | 1\n",
    "**4** | 2 | 2 | 1 | -\n",
    "\n",
    "The code to define the graph (nodes, edges, capacities) are written for you below."
   ]
  },
  {
   "cell_type": "code",
   "execution_count": null,
   "metadata": {},
   "outputs": [],
   "source": [
    "# creating a new graph\n",
    "G = nx.DiGraph()\n",
    "G.add_node('s', pos=(0,20))\n",
    "G.add_node('t', pos=(30,20))\n",
    "G.add_node('1,2', pos=(10,30))\n",
    "G.add_node('1,3', pos=(10,20))\n",
    "G.add_node('2,3', pos=(10,10))\n",
    "G.add_node('1', pos=(20,30))\n",
    "G.add_node('2', pos=(20,20))\n",
    "G.add_node('3', pos=(20,10))\n",
    "\n",
    "# Edges\n",
    "G.add_edge('1,2', '1')\n",
    "G.add_edge('1,2', '2')\n",
    "G.add_edge('1,3', '1')\n",
    "G.add_edge('1,3', '3')\n",
    "G.add_edge('2,3', '2')\n",
    "G.add_edge('2,3', '3')\n",
    "\n",
    "# Capacities\n",
    "G.add_edge('s', '1,2', capacity = 2)\n",
    "G.add_edge('s', '1,3', capacity = 8)\n",
    "G.add_edge('s', '2,3', capacity = 2)\n",
    "G.add_edge('1', 't', capacity = P-7)\n",
    "G.add_edge('2', 't', capacity = P-3)\n",
    "G.add_edge('3', 't', capacity = P-6)\n",
    "\n",
    "pos=nx.get_node_attributes(G,'pos')\n",
    "cap=nx.get_edge_attributes(G,'capacity')\n",
    "nx.draw_networkx(G,pos,node_size=1000,node_color='lightblue')\n",
    "nx.draw_networkx_edge_labels(G,pos,edge_labels=cap);"
   ]
  },
  {
   "cell_type": "code",
   "execution_count": null,
   "metadata": {},
   "outputs": [],
   "source": [
    "# Here is the max flow result given by the computer:\n",
    "flow_value, flow = nx.maximum_flow(G, 's', 't')\n",
    "print(\"The value of the flow is\", flow_value)\n",
    "for i, j in G.edges:\n",
    "    print(\"The flow on the arc from \"+i+\" to \"+j+\" is\",flow[i][j])"
   ]
  },
  {
   "cell_type": "markdown",
   "metadata": {},
   "source": [
    "**Q12:** Based on the max flow result, has our team been eliminated? Justify it for a friend that doesn't understnad max flow. What is the minimum cut (i.e., which nodes are on the set $S$)?\n",
    "\n",
    "**A:** <font color='blue'> It has been eliminated. The value of the max flow is less than the total number of remaining points. As discussed in `Q8`, the we can't push all the points needed to be played among the other teams given team 4 wins to the sink. Nodes in set $S$ are `s`, `1,3`, `1`, `3`. </font>  "
   ]
  },
  {
   "cell_type": "markdown",
   "metadata": {},
   "source": [
    "**Q13:** In the previous scenario, we concluded that team 4 is eliminated without running max flow because it has a trivial cut. Here, can you say that team 4 is eliminated without running max flow?\n",
    "\n",
    "**A:** <font color='blue'> We can't say team 4 is eliminated. The number of points in remaining games (12 points) is no more than the total points the three other teams are allowed to win (14 points).</font> "
   ]
  },
  {
   "cell_type": "markdown",
   "metadata": {},
   "source": [
    "**Q14:** Let's interpret the min cut. What does the inclusion of a pair nodes in $S$ say about the inclusion of the corresponding pair of team nodes? Also, explain what including a pair node in the min cut means.\n",
    "\n",
    "**A:** <font color='blue'> If a pair node is included in the min cut, both of the teams most be included in the min cut since the edge capacity between these are infinity. When a pair node is included in the min cut, at least one of the teams will end up receiving more points than our team in interest in the end.</font>  "
   ]
  },
  {
   "cell_type": "markdown",
   "metadata": {},
   "source": [
    "**In conclusion:**\n",
    "\n",
    "* If `max flow value` = the sum over all pairs of teams (i,j) of 2*g(i,j), for all teams $(i,j)$ where $i,j \\neq $ the team we are interested in and and i<j, team i IS NOT eliminated.\n",
    "* If `max flow value` < the sum over all pairs of teams (i,j) of 2*g(i,j), for all teams $(i,j)$ where $i,j \\neq $ the team we are interested in and and i<j, team i IS eliminated."
   ]
  },
  {
   "cell_type": "markdown",
   "metadata": {},
   "source": [
    "**Q15:** Why does the max flow still work for points in hockey instead of wins in baseball? Let's verify this for both of the bullet points above.\n",
    "\n",
    "**A:** <font color='blue'> 1st bullet point: if max flow = the sum over all pairs of teams (i,j) of 2*g(i,j), that means there is a feasible way to assign all the points in the remaining games to all teams but the one we are interested in with our team of interest winning. 2nd bullet point: we can't do what we stated in the first bullet point.</font>  "
   ]
  },
  {
   "cell_type": "markdown",
   "metadata": {},
   "source": [
    "## Part 3: First Look at 2019-20 ECAC Hockey"
   ]
  },
  {
   "cell_type": "markdown",
   "metadata": {},
   "source": [
    "Everyone knows that Cornell has an amazing ice hockey program. In the 2019-20 season, both the men's and women's teams won the ECAC championship (The Ivies minus UPenn and Columbia, plus some other schools in the northeast). We have retrieved the data from the website and our code imports the csv file of the men's season's results into a table. Each row of the dataframe contains a game and its result.\n",
    "\n",
    "`Note:` some of the code in this section is beyond the scope of this course. You do not need to understand all the code here, but instead should focus on how the max flow problem works here."
   ]
  },
  {
   "cell_type": "code",
   "execution_count": null,
   "metadata": {},
   "outputs": [],
   "source": [
    "#the list of teams in ECAC\n",
    "teams = ['Brown','Clarkson','Colgate','Cornell','Dartmouth','Harvard','Princeton','Quinnipiac',\n",
    "         'Rensselaer','St. Lawrence','Union','Yale']"
   ]
  },
  {
   "cell_type": "code",
   "execution_count": null,
   "metadata": {},
   "outputs": [],
   "source": [
    "results = pd.read_csv('data/ECAC_19-20_men.csv')\n",
    "results['date'] = pd.to_datetime(results['date'], format='%m/%d/%y')\n",
    "# To view the results table, just type: results\n",
    "results"
   ]
  },
  {
   "cell_type": "code",
   "execution_count": null,
   "metadata": {},
   "outputs": [],
   "source": [
    "id_to_teams = teams \n",
    "teams_to_id = {id_to_teams[i] : i for i in range(len(teams))}"
   ]
  },
  {
   "cell_type": "markdown",
   "metadata": {},
   "source": [
    "We also give you the function called `instance` that outputs how many points each team has and how many games are left at any given date. The function counts the wins from the `start` date to `now`, and the number of remaning games from `now` to the `end`. You can only input one datetime, `now`, and the default start and end are the start and end of the season. Or you can put in custom start, now, and end dates.\n",
    "\n",
    "`instance` outputs the wins and games left as a vector."
   ]
  },
  {
   "cell_type": "code",
   "execution_count": null,
   "metadata": {},
   "outputs": [],
   "source": [
    "def instance(*args):\n",
    "    if len(args) == 1:\n",
    "        start = datetime(2019, 10, 25)\n",
    "        now = args[0]\n",
    "        end = datetime(2020, 2, 29)\n",
    "    elif len(args) == 3:\n",
    "        start = args[0]\n",
    "        now = args[1]\n",
    "        end = args[2]\n",
    "    w = {}\n",
    "    past = results[(results.date >= start) & (results.date <= now)]\n",
    "    future = results[(results.date > now) & (results.date <= end)]\n",
    "    for team in teams:\n",
    "        w[team] = 2*len(past[past.winner == team])\n",
    "    for index, row in past[past.winner == 'tie'].iterrows():\n",
    "        w[row['team_1']] = w[row['team_1']] + 1\n",
    "        w[row['team_2']] = w[row['team_2']] + 1\n",
    "    w = pd.DataFrame(w, index=[0]).transpose().rename(columns={0 : 'w'})\n",
    "    \n",
    "    games_left = np.zeros((len(teams), len(teams)))\n",
    "    for i in teams:\n",
    "        for j in teams:\n",
    "            rem = len((future[((future.team_1 == i) & (future.team_2 == j)) |\n",
    "                              ((future.team_1 == j) & (future.team_2 == i))]))\n",
    "            games_left[teams_to_id[i], teams_to_id[j]] = rem\n",
    "            games_left[teams_to_id[j], teams_to_id[i]] = rem\n",
    "    games_left = pd.DataFrame(index=teams, columns=teams, data=games_left).astype(int)\n",
    "            \n",
    "    return (w, games_left)"
   ]
  },
  {
   "cell_type": "markdown",
   "metadata": {},
   "source": [
    "The season starts on 10/25/2019, and ends on 02/29/2020. We are interested in the data from the entire season so these two dates are our start and end dates. We are going to look at the standings and games left on 11/02/2019, only 5 games have been played since the start of season. The games that were played are displayed when we first imported the csv file, and is also displayed below. Also, only one game, the one between Yale and Brown was played on 11/02/2019.\n",
    "\n",
    "\n",
    "index | date | team_1 | score_1 | team_2 | score_2 | winner\n",
    "-- | -- | -- | -- | -- | -- | --\n",
    "**0** | 2019-10-25 | Rensselaer | 3 | Union | 2 | Rensselaer\n",
    "**1** | 2019-10-26 | Union | 2 | Rensselaer | 1 | Union\n",
    "**2** | 2019-11-01 | Brown | 2 | Yale | 3 | Yale\n",
    "**3** | 2019-11-01 | Dartmouth | 3 | Harvard | 7 | Harvard\n",
    "**4** | 2019-11-02 | Yale | 1 | Brown | 5 | Brown"
   ]
  },
  {
   "cell_type": "code",
   "execution_count": null,
   "metadata": {},
   "outputs": [],
   "source": [
    "# the line below is how you use the function 'instance'\n",
    "w, games_left = instance(datetime(2019, 10, 25), datetime(2019, 11, 2), datetime(2020, 2, 29))\n",
    "# we reset the index in this case to make our code in the next sections easier\n",
    "w = w.reset_index()\n",
    "#display the dataframe by just typing what we want to show: 'w'\n",
    "w"
   ]
  },
  {
   "cell_type": "markdown",
   "metadata": {},
   "source": [
    "We can very easily check that `w` above can be obtained from calculating points using games played. We can also display games_left, we are not going to verify the calculation here."
   ]
  },
  {
   "cell_type": "code",
   "execution_count": null,
   "metadata": {},
   "outputs": [],
   "source": [
    "games_left"
   ]
  },
  {
   "cell_type": "markdown",
   "metadata": {},
   "source": [
    "We are going to walk through the code that determines whether a team is eliminated (again, no need to understand the code). Obviously, our team of interest or the team we are rooting for is Cornell. And the date of interest is still 11/02/2019, with the start and end date being the start and end of the season."
   ]
  },
  {
   "cell_type": "code",
   "execution_count": null,
   "metadata": {},
   "outputs": [],
   "source": [
    "#we want the id of the team given the name. We use .index() to search for the name in our list teams.\n",
    "interested_team = \"Cornell\"\n",
    "team_id = teams.index(interested_team)\n",
    "#we first see how many points Cornell has won so far by 11/03/2019\n",
    "print('Cornell has won this many points so far: ', w.iloc[team_id,1])\n",
    "#we then find the sum of all g(Cornell, j), the total number of games left for Cornell to play\n",
    "potential_games = 0\n",
    "for i in range(len(teams)):\n",
    "    potential_games += games_left.iloc[team_id,i]\n",
    "#the total number of points possible is 2*potential number of games + points so far\n",
    "tot_pts = 2*potential_games + w.iloc[team_id,1]\n",
    "\n",
    "print('Cornell can at best win this many points this season: ', tot_pts)"
   ]
  },
  {
   "cell_type": "code",
   "execution_count": null,
   "metadata": {},
   "outputs": [],
   "source": [
    "#we are making the max flow instance for the rest of the 11 teams, and we call that list of teams 'teams_11'\n",
    "teams_11 = teams.copy()\n",
    "teams_11.remove(interested_team)"
   ]
  },
  {
   "cell_type": "markdown",
   "metadata": {},
   "source": [
    "We are going to create the max flow graph. Notice that we don't display the graph here because the number of nodes make it impossible to visualize. We don't have enough space on the screen and it takes very long."
   ]
  },
  {
   "cell_type": "code",
   "execution_count": null,
   "metadata": {},
   "outputs": [],
   "source": [
    "G = nx.DiGraph()\n",
    "\n",
    "# pair nodes\n",
    "node_name_list = []\n",
    "for i in range(len(teams_11)):\n",
    "    for j in range(len(teams_11)):\n",
    "        if i<j:\n",
    "            node_name = str(teams_11[i]+', '+teams_11[j])\n",
    "            node_name_list.append(node_name)\n",
    "            G.add_node(node_name, pos=(10, len(teams_11)-i))\n",
    "\n",
    "# team nodes\n",
    "for i in range(len(teams_11)):\n",
    "    G.add_node(teams_11[i], pos=(20, len(teams_11)-i))\n",
    "\n",
    "# add edges between pair nodes and team nodes\n",
    "for i in range(len(teams_11)):\n",
    "    for j in range(len(teams_11)):\n",
    "            if i<j:\n",
    "                node_name = str(teams_11[i]+', '+teams_11[j])\n",
    "                G.add_edge(node_name, teams_11[i])\n",
    "                G.add_edge(node_name, teams_11[j])\n",
    "\n",
    "# adding our source node and sink node\n",
    "G.add_node('s', pos=(0,20))\n",
    "G.add_node('t', pos=(30,20))\n",
    "\n",
    "# fills in capacities\n",
    "tot_left_others = 0\n",
    "for i in range(len(teams_11)):\n",
    "    for j in range(len(teams_11)):\n",
    "            if i<j:\n",
    "                node_name = str(teams_11[i]+', '+teams_11[j])\n",
    "                G.add_edge('s', node_name, capacity=2*games_left.iloc[i,j])\n",
    "                tot_left_others += 2*games_left.iloc[i,j]\n",
    "sum_allowed = 0\n",
    "for i in range(len(teams_11)):\n",
    "    G.add_edge(teams_11[i], 't', capacity=tot_pts-w.iloc[i,1])\n",
    "    sum_allowed += (tot_pts-w.iloc[i,1])"
   ]
  },
  {
   "cell_type": "markdown",
   "metadata": {},
   "source": [
    "Based on the conclusion in part 2, \n",
    "* If `max flow value` = the sum over all pairs of teams (i,j) of 2*g(i,j), for all teams $(i,j)$ where $i,j \\neq $ the team we are interested in and and i<j, team i IS NOT eliminated.\n",
    "* If `max flow value` < the sum over all pairs of teams (i,j) of 2*g(i,j), for all teams $(i,j)$ where $i,j \\neq $ the team we are interested in and and i<j, team i IS eliminated.\n",
    "\n",
    "From the cell above, we have already stored $\\sum_{i=1}^{n} 2*g(i,j)$ in `tot_left_others`, and also stored the sum of all $P - p(i)$ in `sum_allowed`.\n",
    "\n",
    "**Q16:** Complete the code in the next cell, by typing in tot_left_others and sum_allowed in the appropriate question mark."
   ]
  },
  {
   "cell_type": "code",
   "execution_count": null,
   "metadata": {},
   "outputs": [],
   "source": [
    "# TODO: uncomment and fill in the variable name that would go in the question marks\n",
    "#print('Total sum of points left among all teams but the team in interest: ', ?)\n",
    "#print('Total points allowed if team in interest must win: ', ?)\n",
    "\n",
    "### BEGIN SOLUTION\n",
    "print('Total sum of points left among all teams but the team in interest: ', tot_left_others)\n",
    "print('Total points allowed if team in interest must win: ', sum_allowed)\n",
    "### END SOLUTION"
   ]
  },
  {
   "cell_type": "markdown",
   "metadata": {},
   "source": [
    "Let's solve for the max flow using the computer since we have already set up the graph:"
   ]
  },
  {
   "cell_type": "code",
   "execution_count": null,
   "metadata": {},
   "outputs": [],
   "source": [
    "flow_value, flow = nx.maximum_flow(G, 's', 't')\n",
    "print(\"The value of the flow is\", flow_value)"
   ]
  },
  {
   "cell_type": "markdown",
   "metadata": {},
   "source": [
    "**Q17:** Based on the max flow, is Cornell eliminated? Why or why not?\n",
    "\n",
    "**A:** <font color='blue'>Cornell is not eliminated, because the value of the max flow = sum of points left among all teams but the team in interest.</font>  "
   ]
  },
  {
   "cell_type": "markdown",
   "metadata": {},
   "source": [
    "## Part 4: General Hockey Elimination in ECAC"
   ]
  },
  {
   "cell_type": "markdown",
   "metadata": {},
   "source": [
    "Now that we know how to look at whether a specific team has been eliminated at a specific date, we can write a general function to check whether a team is eliminated. Please fill in the cell below based on the code in Part 3.\n",
    "\n",
    "**Q18:** Fill in the condition at the end of the next code block. It should be one of these two options: \"flow_value>tot_left_others\" and \"flow_value<tot_left_others\""
   ]
  },
  {
   "cell_type": "code",
   "execution_count": null,
   "metadata": {},
   "outputs": [],
   "source": [
    "def if_eliminated(team, date):\n",
    "    w, games_left = instance(datetime(2019, 10, 25), date, datetime(2020, 2, 29))\n",
    "    w = w.reset_index()\n",
    "    team_id = teams.index(team)\n",
    "    #team_id = 11\n",
    "    #figure out the P\n",
    "    potential_games = 0\n",
    "    for i in range(len(teams)):\n",
    "        potential_games += games_left.iloc[team_id,i]\n",
    "    tot_pts = 2*potential_games + w.iloc[team_id,1]\n",
    "    teams_11 = teams.copy()\n",
    "    teams_11.remove(team)\n",
    "\n",
    "    G = nx.DiGraph()\n",
    "    #pair nodes\n",
    "    node_name_list = []\n",
    "    for i in range(len(teams_11)):\n",
    "        for j in range(len(teams_11)):\n",
    "            if i<j:\n",
    "                node_name = str(teams_11[i]+', '+teams_11[j])\n",
    "                node_name_list.append(node_name)\n",
    "                G.add_node(node_name, pos=(10, len(teams_11)-i))\n",
    "    #team nodes\n",
    "    for i in range(len(teams_11)):\n",
    "        G.add_node(teams_11[i], pos=(20, len(teams_11)-i))\n",
    "    #add edges between pair nodes and team nodes\n",
    "    for i in range(len(teams_11)):\n",
    "        for j in range(len(teams_11)):\n",
    "                if i<j:\n",
    "                    node_name = str(teams_11[i]+', '+teams_11[j])\n",
    "                    G.add_edge(node_name, teams_11[i])\n",
    "                    G.add_edge(node_name, teams_11[j])\n",
    "    #adding our source node and sink node\n",
    "    G.add_node('s', pos=(0,20))\n",
    "    G.add_node('t', pos=(30,20))\n",
    "    #fill in capacities\n",
    "    tot_left_others = 0\n",
    "    for i in range(len(teams_11)):\n",
    "        for j in range(len(teams_11)):\n",
    "                if i<j:\n",
    "                    node_name = str(teams_11[i]+', '+teams_11[j])\n",
    "                    G.add_edge('s', node_name, capacity=2*games_left.iloc[i,j])\n",
    "                    tot_left_others += 2*games_left.iloc[i,j]\n",
    "    sum_allowed = 0\n",
    "    for i in range(len(teams_11)):\n",
    "        G.add_edge(teams_11[i], 't', capacity=tot_pts-w.iloc[i,1])\n",
    "        sum_allowed += (tot_pts-w.iloc[i,1])\n",
    "    \n",
    "    #if sum of capacities of (s, pair nodes) > sum of (teams, t), the team gets eliminated\n",
    "    if tot_left_others>sum_allowed:\n",
    "        return True\n",
    "    #use max flow to check whether a team is eliminated\n",
    "    flow_value, flow = nx.maximum_flow(G, 's', 't')\n",
    "    \n",
    "    # TODO: uncomment and fill in the condition for the if statement below\n",
    "    #if ?<?:\n",
    "        #return True\n",
    "    \n",
    "    ### BEGIN SOLUTION\n",
    "    if flow_value<tot_left_others:\n",
    "        return True\n",
    "    ### END SOLUTION\n",
    "    \n",
    "    return False"
   ]
  },
  {
   "cell_type": "markdown",
   "metadata": {},
   "source": [
    "Now, if you want to do what we did in Part 3, you just type the line below:"
   ]
  },
  {
   "cell_type": "code",
   "execution_count": null,
   "metadata": {},
   "outputs": [],
   "source": [
    "if_eliminated('Cornell', datetime(2019, 11, 2))"
   ]
  },
  {
   "cell_type": "markdown",
   "metadata": {},
   "source": [
    "It checks out with part 3, Cornell was not eliminated on 11/02/2019.\n",
    "\n",
    "**Q19:** Please write code to check whether `St.Lawrence` was elimated on 01/01/2020 and 02/01/2020.\n",
    "\n",
    "**A:** <font color='blue'>St. Lawrence was eliminated on 02/01/2020 but not on 01/01/2020</font>  "
   ]
  },
  {
   "cell_type": "code",
   "execution_count": null,
   "metadata": {},
   "outputs": [],
   "source": [
    "# write code here\n",
    "\n",
    "### BEGIN SOLUTION\n",
    "if_eliminated('St. Lawrence', datetime(2020, 1, 1))\n",
    "if_eliminated('St. Lawrence', datetime(2020, 2, 1))\n",
    "### END SOLUTION"
   ]
  },
  {
   "cell_type": "markdown",
   "metadata": {},
   "source": [
    "## Part 4: Elimination vs. Winning"
   ]
  },
  {
   "cell_type": "markdown",
   "metadata": {},
   "source": [
    "The code below displays the order in which teams are eliminated in the 2019-2020 men's ECAC season. Note that more than one team can be eliminated at the same time (on the same day). The run time of the cell below will be about 50 seconds."
   ]
  },
  {
   "cell_type": "code",
   "execution_count": null,
   "metadata": {},
   "outputs": [],
   "source": [
    "teams_left = teams.copy()\n",
    "\n",
    "for i in range(len(results['date'])):\n",
    "    current_date = results.iloc[i,0]\n",
    "    #is team_1 eliminated?\n",
    "    team1 = results.iloc[i,1]\n",
    "    if (if_eliminated(team1, current_date)) and (team1 in teams_left):\n",
    "        print(current_date)\n",
    "        print(team1)\n",
    "        teams_left.remove(team1)\n",
    "    #is team_2 eliminated\n",
    "    team2 = results.iloc[i,3]\n",
    "    if (if_eliminated(team2, current_date)) and (team2 in teams_left):\n",
    "        print(current_date)\n",
    "        print(team2)\n",
    "        teams_left.remove(team2)"
   ]
  },
  {
   "cell_type": "markdown",
   "metadata": {},
   "source": [
    "The code below to produces a ranking of all teams at the end of the season. We display the teams by descending number of points, with the most number of points on the top and least number of points on the bottom."
   ]
  },
  {
   "cell_type": "code",
   "execution_count": null,
   "metadata": {},
   "outputs": [],
   "source": [
    "w, games_left = instance(datetime(2019, 10, 25), datetime(2020, 2, 29), datetime(2020, 2, 29))\n",
    "w = w.sort_values(by=['w'], ascending=False)\n",
    "w"
   ]
  },
  {
   "cell_type": "markdown",
   "metadata": {},
   "source": [
    "**Q20:** Is the order of elimination the same as winning? In other words, does a team being eliminated first guarantee it's ranked the lowest at the end of the season?\n",
    "\n",
    "**A:** <font color='blue'>No, they are not the same thing. Two teams can both be eliminated, but they still have more games left to play in the season. And the team eliminated first can end up winning more points in the remainder of the season. We just know that a team cannot win the whole season after being eliminated.</font>  "
   ]
  },
  {
   "cell_type": "markdown",
   "metadata": {},
   "source": [
    "**Q21:** What does hockey elimination inform us about in terms of the team(s) that never get eliminated?\n",
    "\n",
    "**A:** <font color='blue'>The winner must be among one of those teams. Those are the only teams with a chance of winning.</font>"
   ]
  },
  {
   "cell_type": "code",
   "execution_count": null,
   "metadata": {},
   "outputs": [],
   "source": [
    "#also clean up women's data for people to just run code and see?"
   ]
  },
  {
   "cell_type": "code",
   "execution_count": null,
   "metadata": {},
   "outputs": [],
   "source": [
    "#put it in .py file, and import to hide code\n",
    "#if max flow is unique, there are necessary outcomes for what games need to happen"
   ]
  }
 ],
 "metadata": {
  "language_info": {
   "name": "python"
  }
 },
 "nbformat": 4,
 "nbformat_minor": 4
}
