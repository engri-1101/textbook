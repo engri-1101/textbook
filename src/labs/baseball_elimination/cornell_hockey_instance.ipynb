{
 "cells": [
  {
   "cell_type": "code",
   "execution_count": null,
   "metadata": {},
   "outputs": [],
   "source": [
    "# imports\n",
    "from selenium import webdriver\n",
    "from bs4 import BeautifulSoup\n",
    "import pandas as pd\n",
    "from datetime import datetime\n",
    "import re\n",
    "import numpy as np"
   ]
  },
  {
   "cell_type": "code",
   "execution_count": null,
   "metadata": {},
   "outputs": [],
   "source": [
    "driver = webdriver.Chrome(\"/Applications/chromedriver\")\n",
    "url = \"https://ivyleague.com/calendar.aspx?path=mhockey\"\n",
    "driver.get(url)\n",
    "content = driver.page_source\n",
    "soup = BeautifulSoup(content)"
   ]
  },
  {
   "cell_type": "code",
   "execution_count": null,
   "metadata": {},
   "outputs": [],
   "source": [
    "results = []\n",
    "main = soup.find('main')\n",
    "tables = main.find('div', attrs={'class' : 'sidearm-calendar-list'})\n",
    "for table in tables.findAll('table', attrs={'class' : 'sidearm-calendar-list-group sidearm-calendar-table'}):\n",
    "    date_str = table.find('caption').find('span').findAll(text=True)[0]\n",
    "    date = datetime.strptime(date_str, '%A, %B %d, %Y')\n",
    "    rows = table.find('tbody')\n",
    "    for row in rows.findAll('tr'):\n",
    "        result = {'date' : date}\n",
    "        cells = row.findAll('td')\n",
    "        for i in [1,2]:   \n",
    "            team = (cells[i].find('span', attrs={'class': 'sidearm-calendar-list-group-list-game-team-title'})\n",
    "                            .find('a').findAll(text=True)[0])\n",
    "            try:\n",
    "                score = (cells[i].find('span', attrs={'class': \n",
    "                                                  'sidearm-calendar-list-group-list-game-team-score text-no-wrap'})\n",
    "                                 .findAll(text=True)[0])\n",
    "            except:\n",
    "                print(date_str, team)\n",
    "                score = input('score: ')\n",
    "            result[i] = dict(team=team, score=score)\n",
    "        results.append(result)"
   ]
  },
  {
   "cell_type": "code",
   "execution_count": null,
   "metadata": {},
   "outputs": [],
   "source": [
    "cleaned_results = []\n",
    "for result in results:\n",
    "    cleaned_result = {}\n",
    "    cleaned_result['date'] = result['date']\n",
    "    cleaned_result['team_1'] = result[1]['team']\n",
    "    cleaned_result['score_1'] = int(result[1]['score'])\n",
    "    cleaned_result['team_2'] = result[2]['team']\n",
    "    cleaned_result['score_2'] = int(result[2]['score'])\n",
    "    if cleaned_result['score_1'] > cleaned_result['score_2']:\n",
    "        cleaned_result['winner'] = cleaned_result['team_1']\n",
    "    elif cleaned_result['score_2'] > cleaned_result['score_1']:\n",
    "        cleaned_result['winner'] = cleaned_result['team_2']\n",
    "    else:\n",
    "        cleaned_result['winner'] = 'tie'\n",
    "    cleaned_results.append(cleaned_result)"
   ]
  },
  {
   "cell_type": "code",
   "execution_count": null,
   "metadata": {},
   "outputs": [],
   "source": [
    "results = pd.DataFrame(cleaned_results)\n",
    "teams = list(set(list(results['team_1'].unique()) + list(results['team_2'].unique())))\n",
    "id_to_teams = teams\n",
    "teams_to_id = {id_to_teams[i] : i for i in range(len(teams))}"
   ]
  },
  {
   "cell_type": "code",
   "execution_count": null,
   "metadata": {},
   "outputs": [],
   "source": [
    "def instance(start, now, end):\n",
    "    past = results[(results.date >= start) & (results.date <= now)]\n",
    "    future = results[(results.date > now) & (results.date <= end)]\n",
    "    w = {}\n",
    "    for team in teams:\n",
    "        w[team] = 2*len(past[past.winner == team])\n",
    "    for index, row in past[past.winner == 'tie'].iterrows():\n",
    "        w[row['team_1']] = w[row['team_1']] + 1\n",
    "        w[row['team_2']] = w[row['team_2']] + 1\n",
    "    w = pd.DataFrame(w, index=[0]).transpose().rename(columns={0 : 'w'})\n",
    "    \n",
    "    games_left = np.zeros((len(teams), len(teams)))\n",
    "    for i in teams:\n",
    "        for j in teams:\n",
    "            rem = len((future[((future.team_1 == i) & (future.team_2 == j)) |\n",
    "                              ((future.team_1 == j) & (future.team_2 == i))]))\n",
    "            games_left[teams_to_id[i], teams_to_id[j]] = rem\n",
    "            games_left[teams_to_id[j], teams_to_id[i]] = rem\n",
    "    games_left = pd.DataFrame(index=teams, columns=teams, data=games_left).astype(int)\n",
    "            \n",
    "    return (w, games_left)"
   ]
  },
  {
   "cell_type": "code",
   "execution_count": null,
   "metadata": {},
   "outputs": [],
   "source": [
    "w, games_left = instance(datetime(2019, 11, 1), datetime(2019, 11, 3), datetime(2020, 3, 8))"
   ]
  },
  {
   "cell_type": "code",
   "execution_count": null,
   "metadata": {},
   "outputs": [],
   "source": [
    "w"
   ]
  },
  {
   "cell_type": "code",
   "execution_count": null,
   "metadata": {},
   "outputs": [],
   "source": [
    "games_left"
   ]
  }
 ],
 "metadata": {
  "language_info": {
   "name": "python"
  }
 },
 "nbformat": 4,
 "nbformat_minor": 4
}
