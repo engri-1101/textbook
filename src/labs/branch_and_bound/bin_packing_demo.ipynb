{
 "cells": [
  {
   "cell_type": "code",
   "execution_count": null,
   "metadata": {},
   "outputs": [],
   "source": [
    "# Imports\n",
    "import numpy as np\n",
    "import pickle\n",
    "import scipy.stats as ss\n",
    "import gurobipy as gp\n",
    "from gurobipy import GRB"
   ]
  },
  {
   "cell_type": "markdown",
   "metadata": {},
   "source": [
    "### Bin Packing"
   ]
  },
  {
   "cell_type": "code",
   "execution_count": null,
   "metadata": {},
   "outputs": [],
   "source": [
    "def DiscreteRand(mean, std, lb, ub):\n",
    "    '''Sample from a discretized gaussian distribution truncated to [lb,ub].'''\n",
    "    x = np.arange(lb, ub+1)\n",
    "    xU, xL = x + 0.5, x - 0.5 \n",
    "    prob = ss.norm.cdf(xU, loc=mean ,scale = std) - ss.norm.cdf(xL, loc=mean, scale = std)\n",
    "    prob = prob / prob.sum() #normalize the probabilities so their sum is 1\n",
    "    return np.random.choice(x, p = prob)"
   ]
  },
  {
   "cell_type": "code",
   "execution_count": null,
   "metadata": {},
   "outputs": [],
   "source": [
    "def PerfectBinPacking(mean, std, n, v):\n",
    "    '''Create a perfect bin packing problem with piece size ~N(mean,std) with n bins of volume v'''\n",
    "    items = {}\n",
    "    for bins in range(n):\n",
    "        b = v\n",
    "        while b > 0:\n",
    "            if b >= mean:\n",
    "                item = DiscreteRand(mean,std,0,b)\n",
    "            else:\n",
    "                item = b\n",
    "            b -= item\n",
    "            if item in items.keys():\n",
    "                items[item] += 1\n",
    "            else:\n",
    "                items.update({item : 1})    \n",
    "    return items"
   ]
  },
  {
   "cell_type": "code",
   "execution_count": null,
   "metadata": {},
   "outputs": [],
   "source": [
    "def PackBins(items, volume, integer = False):\n",
    "    '''A model for a bin packing problem.\n",
    "    \n",
    "    Args:\n",
    "        items (Dict[int,int]): Dictionary from item size to number of those items\n",
    "        volume (int): Volume of bins.\n",
    "        integer (bool): Solve LP-relaxation if False; otherwise, solve IP.\n",
    "    '''\n",
    "    ITEMS = items.keys()\n",
    "    BINS = range(sum(items.values())) # one item per bin\n",
    "    v = volume\n",
    "    count = items\n",
    "    \n",
    "    # define model\n",
    "    m = gp.Model(\"pack_bins\")\n",
    "    \n",
    "    # decision variables\n",
    "    \n",
    "    x = {} # the number of items of size i that are put in bin j\n",
    "    for i in ITEMS:\n",
    "        for j in BINS:\n",
    "            if integer:\n",
    "                x[i,j] = m.addVar(vtype=GRB.INTEGER, lb=0, ub=GRB.INFINITY, name=('(i%s, b%s)' % (i,j)))\n",
    "            else:\n",
    "                x[i,j] = m.addVar(vtype=GRB.CONTINUOUS, lb=0, ub=GRB.INFINITY, name=('(i%s, b%s)' % (i,j)))\n",
    "                \n",
    "    y = {} # 1 if bin i is used; 0 otherwise\n",
    "    for i in BINS:\n",
    "        if integer:\n",
    "            y[i] = m.addVar(vtype=GRB.BINARY, name=('%s' % (i)))\n",
    "        else:\n",
    "            y[i] = m.addVar(vtype=GRB.CONTINUOUS, lb=0, ub=1, name=('%s' % (i)))\n",
    "            \n",
    "     # objective function\n",
    "    m.setObjective(sum(y[i] for i in BINS), GRB.MINIMIZE)\n",
    "    \n",
    "    # constraints\n",
    "    \n",
    "    # subject to: bin volume\n",
    "    for j in BINS:        \n",
    "        m.addConstr(sum(x[i,j]*i for i in ITEMS) <= v, 'volume_%d' % (j))\n",
    "        \n",
    "    # subject to: all items packed\n",
    "    for i in ITEMS:\n",
    "        m.addConstr(sum(x[i,j] for j in BINS) == count[i], 'packed_%d' % (i))\n",
    "        \n",
    "    # subject to: bin used or not\n",
    "    for j in BINS:\n",
    "        M = v\n",
    "        m.addConstr(sum(x[i,j]*i for i in ITEMS) <= M*y[j], 'used_%d' % (j))\n",
    "    \n",
    "    m.optimize()"
   ]
  },
  {
   "cell_type": "code",
   "execution_count": null,
   "metadata": {},
   "outputs": [],
   "source": [
    "#PerfectBinPacking(mean=35, std=5, n=50, v=150)\n",
    "with open('data-bin_packing/items_168s.pickle', 'rb') as handle:\n",
    "    items = pickle.load(handle)"
   ]
  },
  {
   "cell_type": "code",
   "execution_count": null,
   "metadata": {},
   "outputs": [],
   "source": [
    "PackBins(items, volume=150)"
   ]
  },
  {
   "cell_type": "code",
   "execution_count": null,
   "metadata": {},
   "outputs": [],
   "source": [
    "PackBins(items, volume=150, integer=True)"
   ]
  },
  {
   "cell_type": "code",
   "execution_count": null,
   "metadata": {},
   "outputs": [],
   "source": []
  }
 ],
 "metadata": {
  "language_info": {
   "name": "python"
  }
 },
 "nbformat": 4,
 "nbformat_minor": 4
}
