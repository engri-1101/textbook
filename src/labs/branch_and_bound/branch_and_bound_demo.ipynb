{
 "cells": [
  {
   "cell_type": "code",
   "execution_count": null,
   "metadata": {},
   "outputs": [],
   "source": [
    "import gilp\n",
    "import numpy as np\n",
    "from ortools.linear_solver import pywraplp as OR"
   ]
  },
  {
   "cell_type": "markdown",
   "metadata": {},
   "source": [
    "## Integer Program Examples"
   ]
  },
  {
   "cell_type": "markdown",
   "metadata": {},
   "source": [
    "Consider the following 2D integer program:\n",
    "\n",
    "$$\\begin{align*}\n",
    "\\max \\quad & 5x_1+8x_2\\\\\n",
    "\\text{s.t.} \\quad & x_1 + x_2 \\leq 6 \\\\\n",
    "& 5x_1 + 9x_2 \\leq 45 \\\\\n",
    "& x_1, x_2 \\geq 0, \\quad \\text{integer}\n",
    "\\end{align*}$$"
   ]
  },
  {
   "cell_type": "code",
   "execution_count": null,
   "metadata": {},
   "outputs": [],
   "source": [
    "# Create the LP object\n",
    "ip_2d = gilp.LP(A=[[1,1],\n",
    "                   [5,9]],\n",
    "                b=[6,45],\n",
    "                c=[5,8])"
   ]
  },
  {
   "cell_type": "code",
   "execution_count": null,
   "metadata": {},
   "outputs": [],
   "source": [
    "# Visualize branch and bound with manually selecting the branched on variable\n",
    "gilp.bnb_visual(ip_2d, manual=True);"
   ]
  },
  {
   "cell_type": "markdown",
   "metadata": {},
   "source": [
    "# Consider the following integer program:\n",
    "\n",
    "$$\\begin{align*}\n",
    "\\mbox{minimize } x_1 + x_2 + x_3 + x_4 + x_5 + x_6 + x_7\\\\\n",
    "\\mbox{subject to }\\qquad \n",
    "x_1 + x_4 + x_5 + x_6 + x_7 & \\ge 17 \\\\\n",
    "x_1 + x_2 + x_5 + x_6 + x_7 & \\ge 13 \\\\\n",
    "x_1 + x_2 + x_3 + x_6 + x_7 & \\ge 15 \\\\\n",
    "x_1 + x_2 + x_3 + x_4 + x_7 & \\ge 19 \\\\\n",
    "x_1 + x_2 + x_3 + x_4 + x_5 & \\ge 14 \\\\\n",
    "x_2 + x_3 + x_4 + x_5 + x_6 & \\ge 16 \\\\\n",
    "x_3 + x_4 + x_5 + x_6 + x_7 & \\ge 11 \\\\\n",
    "x_i & \\ge 0, \\ \\ i=1,\\ldots,7, \\mbox{ integer}\n",
    "\\end{align*}$$"
   ]
  },
  {
   "cell_type": "code",
   "execution_count": null,
   "metadata": {},
   "outputs": [],
   "source": [
    "def Old_Work_Sched():\n",
    "    # define model\n",
    "    m = OR.Solver('ex', OR.Solver.CBC_MIXED_INTEGER_PROGRAMMING)\n",
    "    \n",
    "    # decision variables\n",
    "    x = {}    \n",
    "    for i in range(1,8):\n",
    "        x[i] = m.NumVar(0, m.infinity(), 'x_%d' % (i)) \n",
    "        \n",
    "    # define objective function here\n",
    "    m.Minimize(sum(x[i] for i in range(1,8)))\n",
    "    \n",
    "    # constraints\n",
    "    m.Add(x[1]               + x[4] + x[5] + x[6] + x[7] >= 17)\n",
    "    m.Add(x[1] + x[2]               + x[5] + x[6] + x[7] >= 13)\n",
    "    m.Add(x[1] + x[2] + x[3]               + x[6] + x[7] >= 15)\n",
    "    m.Add(x[1] + x[2] + x[3] + x[4]               + x[7] >= 19)\n",
    "    m.Add(x[1] + x[2] + x[3] + x[4] + x[5]               >= 14)\n",
    "    m.Add(       x[2] + x[3] + x[4] + x[5] + x[6]        >= 16)\n",
    "    m.Add(              x[3] + x[4] + x[5] + x[6] + x[7] >= 11)\n",
    "    \n",
    "    return (m, x)  # return the model and the decision variables"
   ]
  },
  {
   "cell_type": "code",
   "execution_count": null,
   "metadata": {},
   "outputs": [],
   "source": [
    "def solve(m):\n",
    "    m.Solve()  \n",
    "    print('Objective = %f' % (np.round(m.Objective().Value(),5))) \n",
    "    for var in m.variables():\n",
    "        print((\"%s: %f\" % (var.name(), np.round(var.solution_value(),5))))"
   ]
  },
  {
   "cell_type": "code",
   "execution_count": null,
   "metadata": {},
   "outputs": [],
   "source": [
    "m, x = Old_Work_Sched()\n",
    "solve(m)"
   ]
  },
  {
   "cell_type": "markdown",
   "metadata": {},
   "source": [
    "<img src=\"images-demo/old_work_sched/tree1.png\" width=\"500\">"
   ]
  },
  {
   "cell_type": "code",
   "execution_count": null,
   "metadata": {},
   "outputs": [],
   "source": [
    "m, x = Old_Work_Sched()\n",
    "m.Add(x[1] >= 2)\n",
    "solve(m)"
   ]
  },
  {
   "cell_type": "markdown",
   "metadata": {},
   "source": [
    "<img src=\"images-demo/old_work_sched/tree2.png\" width=\"600\">"
   ]
  },
  {
   "cell_type": "code",
   "execution_count": null,
   "metadata": {},
   "outputs": [],
   "source": [
    "m, x = Old_Work_Sched()\n",
    "m.Add(x[1] <= 1)\n",
    "solve(m)"
   ]
  },
  {
   "cell_type": "markdown",
   "metadata": {},
   "source": [
    "<img src=\"images-demo/old_work_sched/tree3.png\" width=\"700\">"
   ]
  },
  {
   "cell_type": "code",
   "execution_count": null,
   "metadata": {},
   "outputs": [],
   "source": [
    "m, x = Old_Work_Sched()\n",
    "m.Add(x[1] >= 2)\n",
    "m.Add(x[2] <= 5)\n",
    "solve(m)"
   ]
  },
  {
   "cell_type": "markdown",
   "metadata": {},
   "source": [
    "<img src=\"images-demo/old_work_sched/tree4.png\" width=\"700\">"
   ]
  },
  {
   "cell_type": "code",
   "execution_count": null,
   "metadata": {},
   "outputs": [],
   "source": [
    "m, x = Old_Work_Sched()\n",
    "m.Add(x[1] >= 2)\n",
    "m.Add(x[2] >= 6)\n",
    "solve(m)"
   ]
  },
  {
   "cell_type": "markdown",
   "metadata": {},
   "source": [
    "<img src=\"images-demo/old_work_sched/tree5.png\" width=\"700\">"
   ]
  },
  {
   "cell_type": "code",
   "execution_count": null,
   "metadata": {},
   "outputs": [],
   "source": [
    "def Work_Sched(bonus = False):\n",
    "    # define model\n",
    "    m = OR.Solver('ex', OR.Solver.CBC_MIXED_INTEGER_PROGRAMMING)\n",
    "    \n",
    "    # decision variables\n",
    "    x = {}    \n",
    "    for i in range(1,8):\n",
    "        x[i] = m.NumVar(0, m.infinity(), 'x_%d' % (i)) \n",
    "        \n",
    "    # objective function\n",
    "    if not bonus:\n",
    "        m.Minimize(36*x[1] + 40*x[2] + 36*x[3] + 32*x[4] + 32*x[5] + 32*x[6] + 32*x[7])\n",
    "    else:\n",
    "        m.Minimize(39.6*x[1] + 40*x[2] + 39.6*x[3] + 38.4*x[4] + 38.4*x[5] + 38.4*x[6] + 38.4*x[7])\n",
    "    \n",
    "    # constraints\n",
    "    m.Add(x[1]               + x[4] + x[5] + x[6] + x[7] >= 3)  # Sunday\n",
    "    m.Add(x[1] + x[2]               + x[5] + x[6] + x[7] >= 13) # Monday\n",
    "    m.Add(x[1] + x[2] + x[3]               + x[6] + x[7] >= 14) # Tuesday\n",
    "    m.Add(x[1] + x[2] + x[3] + x[4]               + x[7] >= 16) # Wednesday\n",
    "    m.Add(x[1] + x[2] + x[3] + x[4] + x[5]               >= 17) # Thursday\n",
    "    m.Add(       x[2] + x[3] + x[4] + x[5] + x[6]        >= 15) # Friday \n",
    "    m.Add(              x[3] + x[4] + x[5] + x[6] + x[7] >= 6)  # Saturday\n",
    "        \n",
    "    m.Add(45*x[1] + 54*x[2] + 51*x[3] + 44*x[4] + 44*x[5] + 48*x[6] + 44*x[7] >= 920)\n",
    "    \n",
    "    return (m, x)  # return the model and the decision variables"
   ]
  },
  {
   "cell_type": "markdown",
   "metadata": {},
   "source": [
    "## Solve Without Weekend Bonus"
   ]
  },
  {
   "cell_type": "code",
   "execution_count": null,
   "metadata": {},
   "outputs": [],
   "source": [
    "m, x = Work_Sched()\n",
    "solve(m)"
   ]
  },
  {
   "cell_type": "markdown",
   "metadata": {},
   "source": [
    "<img src=\"images-demo/work_sched_1/tree1.png\" width=\"250\">"
   ]
  },
  {
   "cell_type": "code",
   "execution_count": null,
   "metadata": {},
   "outputs": [],
   "source": [
    "m, x = Work_Sched()\n",
    "m.Add(x[2] >= 12)\n",
    "solve(m)"
   ]
  },
  {
   "cell_type": "markdown",
   "metadata": {},
   "source": [
    "<img src=\"images-demo/work_sched_1/tree2.png\" width=\"250\">"
   ]
  },
  {
   "cell_type": "code",
   "execution_count": null,
   "metadata": {},
   "outputs": [],
   "source": [
    "m, x = Work_Sched()\n",
    "m.Add(x[2] <= 11)\n",
    "solve(m)"
   ]
  },
  {
   "cell_type": "markdown",
   "metadata": {},
   "source": [
    "<img src=\"images-demo/work_sched_1/tree3.png\" width=\"350\">"
   ]
  },
  {
   "cell_type": "code",
   "execution_count": null,
   "metadata": {},
   "outputs": [],
   "source": [
    "m, x = Work_Sched()\n",
    "m.Add(x[2] <= 11)\n",
    "m.Add(x[7] <= 0)\n",
    "solve(m)"
   ]
  },
  {
   "cell_type": "markdown",
   "metadata": {},
   "source": [
    "<img src=\"images-demo/work_sched_1/tree4.png\" width=\"350\">"
   ]
  },
  {
   "cell_type": "code",
   "execution_count": null,
   "metadata": {},
   "outputs": [],
   "source": [
    "m, x = Work_Sched()\n",
    "m.Add(x[2] <= 11)\n",
    "m.Add(x[7] >= 1)\n",
    "solve(m)"
   ]
  },
  {
   "cell_type": "markdown",
   "metadata": {},
   "source": [
    "<img src=\"images-demo/work_sched_1/tree5.png\" width=\"350\">"
   ]
  },
  {
   "cell_type": "markdown",
   "metadata": {},
   "source": [
    "## Solve With Weekend Bonus"
   ]
  },
  {
   "cell_type": "code",
   "execution_count": null,
   "metadata": {},
   "outputs": [],
   "source": [
    "m, x = Work_Sched(True)\n",
    "solve(m)"
   ]
  },
  {
   "cell_type": "markdown",
   "metadata": {},
   "source": [
    "<img src=\"images-demo/work_sched_2/tree1.png\" width=\"400\">"
   ]
  },
  {
   "cell_type": "code",
   "execution_count": null,
   "metadata": {},
   "outputs": [],
   "source": [
    "m, x = Work_Sched(True)\n",
    "m.Add(x[5] >= 1)\n",
    "solve(m)"
   ]
  },
  {
   "cell_type": "markdown",
   "metadata": {},
   "source": [
    "<img src=\"images-demo/work_sched_2/tree2.png\" width=\"500\">"
   ]
  },
  {
   "cell_type": "code",
   "execution_count": null,
   "metadata": {},
   "outputs": [],
   "source": [
    "m, x = Work_Sched(True)\n",
    "m.Add(x[5] >= 1)\n",
    "m.Add(x[2] >= 12)\n",
    "solve(m)"
   ]
  },
  {
   "cell_type": "markdown",
   "metadata": {},
   "source": [
    "<img src=\"images-demo/work_sched_2/tree3.png\" width=\"500\">"
   ]
  },
  {
   "cell_type": "code",
   "execution_count": null,
   "metadata": {},
   "outputs": [],
   "source": [
    "m, x = Work_Sched(True)\n",
    "m.Add(x[5] >= 1)\n",
    "m.Add(x[2] <= 11)\n",
    "solve(m)"
   ]
  },
  {
   "cell_type": "markdown",
   "metadata": {},
   "source": [
    "<img src=\"images-demo/work_sched_2/tree4.png\" width=\"550\">"
   ]
  },
  {
   "cell_type": "code",
   "execution_count": null,
   "metadata": {},
   "outputs": [],
   "source": [
    "m, x = Work_Sched(True)\n",
    "m.Add(x[5] >= 1)\n",
    "m.Add(x[2] <= 11)\n",
    "m.Add(x[6] >= 1)\n",
    "solve(m)"
   ]
  },
  {
   "cell_type": "markdown",
   "metadata": {},
   "source": [
    "<img src=\"images-demo/work_sched_2/tree5.png\" width=\"550\">"
   ]
  },
  {
   "cell_type": "code",
   "execution_count": null,
   "metadata": {},
   "outputs": [],
   "source": [
    "m, x = Work_Sched(True)\n",
    "m.Add(x[5] >= 1)\n",
    "m.Add(x[2] <= 11)\n",
    "m.Add(x[6] <= 0)\n",
    "solve(m)"
   ]
  },
  {
   "cell_type": "markdown",
   "metadata": {},
   "source": [
    "<img src=\"images-demo/work_sched_2/tree6.png\" width=\"550\">"
   ]
  },
  {
   "cell_type": "code",
   "execution_count": null,
   "metadata": {},
   "outputs": [],
   "source": [
    "m, x = Work_Sched(True)\n",
    "m.Add(x[5] >= 1)\n",
    "m.Add(x[2] <= 11)\n",
    "m.Add(x[6] <= 0)\n",
    "m.Add(x[5] >= 2)\n",
    "solve(m)"
   ]
  },
  {
   "cell_type": "markdown",
   "metadata": {},
   "source": [
    "<img src=\"images-demo/work_sched_2/tree7.png\" width=\"550\">"
   ]
  },
  {
   "cell_type": "code",
   "execution_count": null,
   "metadata": {},
   "outputs": [],
   "source": [
    "m, x = Work_Sched(True)\n",
    "m.Add(x[5] >= 1)\n",
    "m.Add(x[2] <= 11)\n",
    "m.Add(x[6] <= 0)\n",
    "m.Add(x[5] <= 1)\n",
    "solve(m)"
   ]
  },
  {
   "cell_type": "markdown",
   "metadata": {},
   "source": [
    "<img src=\"images-demo/work_sched_2/tree8.png\" width=\"550\">"
   ]
  },
  {
   "cell_type": "code",
   "execution_count": null,
   "metadata": {},
   "outputs": [],
   "source": [
    "m, x = Work_Sched(True)\n",
    "m.Add(x[5] >= 1)\n",
    "m.Add(x[2] <= 11)\n",
    "m.Add(x[6] <= 0)\n",
    "m.Add(x[5] <= 1)\n",
    "m.Add(x[7] >= 1)\n",
    "solve(m)"
   ]
  },
  {
   "cell_type": "markdown",
   "metadata": {},
   "source": [
    "<img src=\"images-demo/work_sched_2/tree9.png\" width=\"550\">"
   ]
  },
  {
   "cell_type": "code",
   "execution_count": null,
   "metadata": {},
   "outputs": [],
   "source": [
    "m, x = Work_Sched(True)\n",
    "m.Add(x[5] >= 1)\n",
    "m.Add(x[2] <= 11)\n",
    "m.Add(x[6] <= 0)\n",
    "m.Add(x[5] <= 1)\n",
    "m.Add(x[7] <= 0)\n",
    "solve(m)"
   ]
  },
  {
   "cell_type": "markdown",
   "metadata": {},
   "source": [
    "<img src=\"images-demo/work_sched_2/tree10.png\" width=\"550\">"
   ]
  },
  {
   "cell_type": "code",
   "execution_count": null,
   "metadata": {},
   "outputs": [],
   "source": [
    "m, x = Work_Sched(True)\n",
    "m.Add(x[5] <= 0)\n",
    "solve(m)"
   ]
  },
  {
   "cell_type": "markdown",
   "metadata": {},
   "source": [
    "<img src=\"images-demo/work_sched_2/tree11.png\" width=\"550\">"
   ]
  }
 ],
 "metadata": {
  "language_info": {
   "name": "python"
  }
 },
 "nbformat": 4,
 "nbformat_minor": 4
}
