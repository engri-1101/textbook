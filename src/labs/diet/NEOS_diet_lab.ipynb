{
 "cells": [
  {
   "cell_type": "code",
   "execution_count": null,
   "metadata": {},
   "outputs": [],
   "source": [
    "# imports\n",
    "from selenium import webdriver\n",
    "from bs4 import BeautifulSoup\n",
    "import pandas as pd\n",
    "from datetime import datetime\n",
    "import re\n",
    "import numpy as np"
   ]
  },
  {
   "cell_type": "code",
   "execution_count": null,
   "metadata": {},
   "outputs": [],
   "source": [
    "driver = webdriver.Chrome(\"/Applications/chromedriver\")\n",
    "url = \"https://neos-guide.org/content/diet-problem-solver\"\n",
    "driver.get(url)\n",
    "content = driver.page_source\n",
    "soup = BeautifulSoup(content)"
   ]
  },
  {
   "cell_type": "code",
   "execution_count": null,
   "metadata": {},
   "outputs": [],
   "source": [
    "foods = pd.DataFrame()\n",
    "table = soup.find('div', attrs={'id':'foods_selection'}).find('table').find('tbody')\n",
    "\n",
    "headers = []\n",
    "for header in table.findAll('tr', recursive=False)[1].findAll('td', recursive=False)[1:]:\n",
    "    headers.append(header.findAll(text=True)[0])\n",
    "    \n",
    "for row in table.findAll('tr', recursive=False)[2:]:\n",
    "    entries = []\n",
    "    for cell in row.findAll('td', recursive=False)[1:]:\n",
    "        if cell.find('input') is not None:\n",
    "            entries.append(str(cell.find('input')).split('=')[-1].split('\"')[1])\n",
    "        else:\n",
    "            entries.append((cell.findAll(text=True)[0]))\n",
    "    foods = foods.append({headers[i] : entries[i] for i in range(5)}, ignore_index=True)\n",
    "    \n",
    "foods = foods[headers]"
   ]
  },
  {
   "cell_type": "code",
   "execution_count": null,
   "metadata": {},
   "outputs": [],
   "source": [
    "nutrients = pd.DataFrame()\n",
    "table = soup.find('div', attrs={'id':'nutrients_selection'}).find('table').find('tbody')\n",
    "\n",
    "headers = []\n",
    "for header in table.findAll('tr', recursive=False)[1].findAll('td', recursive=False)[1:]:\n",
    "    headers.append(header.findAll(text=True)[0])\n",
    "    \n",
    "for row in table.findAll('tr', recursive=False)[2:]:\n",
    "    entries = []\n",
    "    for cell in row.findAll('td', recursive=False)[1:]:\n",
    "        if cell.find('input') is not None:\n",
    "            entries.append(str(cell.find('input')).split('=')[-1].split('\"')[1])\n",
    "        else:\n",
    "            entries.append((cell.findAll(text=True)[0]))\n",
    "    nutrients = nutrients.append({headers[i] : entries[i] for i in range(4)}, ignore_index=True)\n",
    "    \n",
    "nutrients = nutrients[headers]"
   ]
  },
  {
   "cell_type": "code",
   "execution_count": null,
   "metadata": {},
   "outputs": [],
   "source": [
    "nutrients_info = pd.DataFrame()\n",
    "table = soup.find('div', attrs={'id':'nutrient_info'}).find('table').find('tbody')\n",
    "table\n",
    "headers = []\n",
    "for header in table.findAll('tr', recursive=False)[0].findAll('td', recursive=False):\n",
    "    headers.append(header.findAll(text=True)[0])\n",
    "    \n",
    "for row in table.findAll('tr', recursive=False)[1:]:\n",
    "    entries = []\n",
    "    for cell in row.findAll('td', recursive=False):\n",
    "        if len(cell.findAll(text=True)) != 0:\n",
    "            entries.append((cell.findAll(text=True)[0]))\n",
    "    if len(entries) == 12:\n",
    "        nutrients_info = nutrients_info.append({headers[i] : entries[i] for i in range(12)}, ignore_index=True)\n",
    "        \n",
    "nutrients_info = nutrients_info[headers]"
   ]
  },
  {
   "cell_type": "code",
   "execution_count": null,
   "metadata": {},
   "outputs": [],
   "source": [
    "nutrients.head()"
   ]
  },
  {
   "cell_type": "code",
   "execution_count": null,
   "metadata": {},
   "outputs": [],
   "source": [
    "foods = foods.merge(nutrients_info, on='Name', how='left').dropna()\n",
    "foods.head()"
   ]
  },
  {
   "cell_type": "code",
   "execution_count": null,
   "metadata": {},
   "outputs": [],
   "source": [
    "# export\n",
    "foods.set_index('Name').rename(columns={'Price/Serving ($)' : 'Cost'}).to_csv('neos_foods.csv')\n",
    "nutrients.set_index('Name').to_csv('neos_nutrients.csv')"
   ]
  }
 ],
 "metadata": {
  "language_info": {
   "name": "python"
  }
 },
 "nbformat": 4,
 "nbformat_minor": 4
}
