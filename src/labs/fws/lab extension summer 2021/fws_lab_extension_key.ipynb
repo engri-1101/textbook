{
 "cells": [
  {
   "cell_type": "markdown",
   "metadata": {},
   "source": [
    "# First-Year Writing Seminars: Extension\n",
    "\n",
    "**Objectives:**\n",
    "* Formulate a new approach to the FWS assignment problem using ideas from min-cost flow.\n",
    "* Discuss how an integer program can be improved by updating decision variables, constraints, and the objective function.\n",
    "* Get comfortable with ORTools syntax.\n",
    "\n",
    "**Key Ideas:**\n",
    "* integrality property\n",
    "* the min-cost flow problem\n",
    "* the transportation problem\n",
    "* the assignment problem\n",
    "\n",
    "**Reading Assignment:**\n",
    "* Read Handout 7.5 on the min-cost flow problem.\n",
    "* Read through the FWS lab to refresh your memory on key concepts.\n",
    "\n",
    "**Brief description:** If you recall pre-enroll, there was a separate ballot you completed by listing your top 5 picks for FWS that semester. You were later notified which class you got placed into, probably hoping it was your first choice. By now, this should not seem like magic; problems like these often enlist help from Operations Research especially as the scale increases. Disclaimer: the following models are not actually used by Cornell."
   ]
  },
  {
   "cell_type": "code",
   "execution_count": null,
   "metadata": {},
   "outputs": [],
   "source": [
    "# imports -- don't forget to run this cell!\n",
    "import numpy as np\n",
    "import pandas as pd\n",
    "import math, itertools\n",
    "import matplotlib.pyplot as plt\n",
    "from ortools.linear_solver import pywraplp as OR\n",
    "from ortools.graph import pywrapgraph as ORMC\n",
    "from fws_lab_ext import inputData"
   ]
  },
  {
   "cell_type": "markdown",
   "metadata": {},
   "source": [
    "# Part 0: A Quick Recap"
   ]
  },
  {
   "cell_type": "markdown",
   "metadata": {},
   "source": [
    "In the FWS lab, we dealt with an *assignment problem*: we were trying to assign students to different First-Year Writing Seminar sections, given a list of each student's preferences. This is a special case of the *transportation problem*, where we want to ship units from supply nodes to demand nodes. (Here, we are \"shipping\" students to classes!)\n",
    "\n",
    "A small input for such a problem might be as follows: we have 4 classes (ABCD) that can each hold 2 students. There are 7 students available, whose preferred classes are listed in the table below.\n",
    "\n",
    "| Student | First | Second |\n",
    "|:-------:|:-----:|:------:|\n",
    "|    1    |   A   |    B   |\n",
    "|    2    |   D   |    C   |\n",
    "|    3    |   A   |    C   |\n",
    "|    4    |   B   |    D   |\n",
    "|    5    |   C   |    B   |\n",
    "|    6    |   A   |    B   |\n",
    "|    7    |   B   |    A   |\n",
    "\n",
    "To solve this problem, we might set up a graph like the following:"
   ]
  },
  {
   "cell_type": "code",
   "execution_count": null,
   "metadata": {},
   "outputs": [],
   "source": [
    "from fws_lab_ext import small_ex\n",
    "\n",
    "S = [1,2,3,4,5,6,7]\n",
    "D = ['A','B','C','D']\n",
    "E = {(1,'A'):1, \n",
    "     (1,'B'):2, \n",
    "     (2,'D'):1, \n",
    "     (2,'C'):2, \n",
    "     (3,'A'):1, \n",
    "     (3,'C'):2, \n",
    "     (4,'B'):1, \n",
    "     (4,'D'):2, \n",
    "     (5,'C'):1, \n",
    "     (5,'B'):2, \n",
    "     (6,'A'):1, \n",
    "     (6,'B'):2, \n",
    "     (7,'B'):1, \n",
    "     (7,'A'):2 }\n",
    "\n",
    "small_ex(S, D, E)"
   ]
  },
  {
   "cell_type": "markdown",
   "metadata": {},
   "source": [
    "The supply nodes (representing students) are on the left, and the demand nodes (representing classes) are on the right. A directed edge $(i,j)$ from a supply node $i$ to a demand node $j$ means that we can \"send\" (assign) student $i$ to class $j$, at some unit cost $c[i,j]$. Note that \"first-choice\" edges are in blue, and \"second-choice\" edges are in orange."
   ]
  },
  {
   "cell_type": "markdown",
   "metadata": {},
   "source": [
    "**Q:** Right now, we have a demand of $(4)(2) = 8$ students, but we can only supply 7 students. What additional nodes and edges do we need to include in our graph to make sure we can satisfy our demand?\n",
    "\n",
    "**A:** <font color='blue'>Include a \"dummy\" supply node that has arcs going from it to every demand node. </font>"
   ]
  },
  {
   "cell_type": "markdown",
   "metadata": {},
   "source": [
    "Now our graph looks something like this:"
   ]
  },
  {
   "cell_type": "code",
   "execution_count": null,
   "metadata": {},
   "outputs": [],
   "source": [
    "S_dummy = S + ['dummy']\n",
    "D_dummy = D\n",
    "E_dummy = dict(E)\n",
    "E_dummy.update({('dummy','A'):3,\n",
    "                ('dummy','B'):3,\n",
    "                ('dummy','C'):3,\n",
    "                ('dummy','D'):3})\n",
    "\n",
    "small_ex(S_dummy,D_dummy,E_dummy)"
   ]
  },
  {
   "cell_type": "markdown",
   "metadata": {},
   "source": [
    "If we drew a graph for the actual FWS input, it would look similar to this, except with thousands of student supply nodes and hundreds of class demand nodes! \n",
    "\n",
    "As a reminder, in the real-world problem, each student gives up to 5 preferences and each class section is capped at 17 students."
   ]
  },
  {
   "cell_type": "markdown",
   "metadata": {},
   "source": [
    "# Part 1: Min-Cost Flow Formulation"
   ]
  },
  {
   "cell_type": "markdown",
   "metadata": {},
   "source": [
    "**Review** \n",
    "\n",
    "Recall the min-cost flow problem. It takes as input\n",
    "* A directed graph $G = (V,A)$,\n",
    "* costs $c(i,j)$ for shipping one unit of good from node $i$ to node $j$ for each arc $(i,j) \\in A$,\n",
    "* capacities $u(i,j)$ for each arc $(i,j) \\in A$,\n",
    "* supply values $b(i)$ for each node $i \\in V$, such that $\\sum_{i \\in V} b(i) = 0$.\n",
    "\n",
    "Remember also that at each node $i$, our supply value $b(i)$ is greater than 0 if there is supply at node $i$, less than 0 if there is demand at node $i$, and equal to 0 if there is neither supply nor demand at node $i$ (i.e., node $i$ is a transit node). Using max-flow terminology, supply nodes are \"sources,\" demand nodes are \"sinks,\" and transit nodes are interior nodes.\n",
    "\n",
    "Our goal is to find a feasible flow that satisfies both flow-capacity constraints and flow-conservation constraints; that is, we wish to find a flow $f(i,j)$ on all arcs such that $0 \\leq f(i,j) \\leq u(i,j)$ for every arc $(i,j) \\in A$ and $\\sum_{(i,j) \\in A} f(i,j) - \\sum_{(j,i) \\in A} f(j,i) = b(i)$ for every node $i \\in V$.\n",
    "\n",
    "The objective value of a feasible solution is given by $\\sum_{(i,j) \\in A} c(i,j)*f(i,j)$. We'd like to minimize this cost function&mdash;in other words, find a \"min-cost\" flow.\n",
    "\n",
    "(For a more in-depth discussion, see Handout 7.5 and the min-cost flow lab.)"
   ]
  },
  {
   "cell_type": "markdown",
   "metadata": {},
   "source": [
    "**Formulating the model**\n",
    "\n",
    "In Handout 7.5, we learned that the transportation problem is really just a specific case of the min-cost flow problem. Let's use this fact, along with the transportation model we've already created in the FWS lab, to formulate a min-cost flow model. As we'll see, using a min-cost flow approach allows us to incorporate new information into our model."
   ]
  },
  {
   "cell_type": "markdown",
   "metadata": {},
   "source": [
    "Nodes for each student and class section, as well as the special 'dummy' supply node, remain the same as before, as do our arcs and edge costs; all we need to do to create a min-cost flow input is define (1) the arc capacities and (2) the supply values at each node, and we'll be all set!"
   ]
  },
  {
   "cell_type": "markdown",
   "metadata": {},
   "source": [
    "**Q:** What should the capacity $u(i,j)$ on each arc $(i,j)$ be? (An arc $(i,j)$ connects a student node $i$ to a class node $j$.)\n",
    "\n",
    "**A:** <font color='blue'>1</font>"
   ]
  },
  {
   "cell_type": "markdown",
   "metadata": {},
   "source": [
    "**Q:** We also need to define the capacity $u(dummy,j)$ on each arc leaving the 'dummy' node to a class node. What is the maximum number of dummy students we can send to each class?\n",
    "\n",
    "**A:** <font color='blue'> Set $u(dummy,j) = 17$. More generally, we set $u(dummy,j) = $ (max number of 'real' students) $ - $ (min number of 'real' students), or (in this case) $17 - 0 = 17$.</font>"
   ]
  },
  {
   "cell_type": "markdown",
   "metadata": {},
   "source": [
    "Next, let's define our supply values $b(i)$."
   ]
  },
  {
   "cell_type": "markdown",
   "metadata": {},
   "source": [
    "**Q:** For a student node $i$, what should the supply value $b(i)$ be?\n",
    "\n",
    "**A:** <font color='blue'>1</font>"
   ]
  },
  {
   "cell_type": "markdown",
   "metadata": {},
   "source": [
    "**Q:** For a class node $j$, what should the supply value $b(j)$ be? (If there is demand at a node $k$, then $b(k) < 0$.)\n",
    "\n",
    "**A:** <font color='blue'>-17</font>"
   ]
  },
  {
   "cell_type": "markdown",
   "metadata": {},
   "source": [
    "Once again, we must account for our dummy supply node. Recall that for a min-cost flow input to be valid, the \"net supply/demand\" summed up over all nodes should be equal to 0:  $\\sum_{i \\in V} b(i) = 0$. \n",
    "\n",
    "Suppose we have $n$ students selecting from $m$ classes, each of which can have up to 17 students. "
   ]
  },
  {
   "cell_type": "markdown",
   "metadata": {},
   "source": [
    "**Q:** Using this information, what should the supply value $b(dummy)$ be?\n",
    "\n",
    "**A:** <font color='blue'>To satisfy our input condition $\\sum_{i \\in V} b(i) = 0$, we must have $\\sum_{students,i} b(i)$ + $\\sum_{classes,j} b(j)$ + $b(dummy) = 0$. Thus $n(1) - m(17) + b(dummy) = 0$, which gives $b(dummy) = 17m - n$.</font>"
   ]
  },
  {
   "cell_type": "markdown",
   "metadata": {},
   "source": [
    "This should make sense intuitively; essentially, we are saying that after every student has been assigned a class, whatever spots are left over should be filled by our \"fake students.\" (Of course, this assumes there are enough spots for every \"real\" student!)\n",
    "\n",
    "We now have everything we need to formulate the model. As a reminder, we set the unit cost of an edge $(i,j)$ from a student node to the class node representing their $k$th preference to be $k$. For \"dummy\" edges, we set the unit cost to be an arbitrarily large number (100,000) to discourage the solver from sending flow across those edges unless it absolutely has to.\n",
    "\n",
    "Run the cell below, which implements our min-cost flow model in Python. (You can read through the code if you'd like.)"
   ]
  },
  {
   "cell_type": "code",
   "execution_count": null,
   "metadata": {},
   "outputs": [],
   "source": [
    "# ORTools min-cost flow implementation  \n",
    "# Based off of https://developers.google.com/optimization/flow/mincostflow\n",
    "#\n",
    "# 'dataset' is the name of the datafile\n",
    "# 'csize' is the desired class size, filled with a combination of real and 'filler' students\n",
    "# 'minstudents' is the minimum number of (real) students that must be assigned to each section (between 0 and csize)\n",
    "# 'dcost' is the cost of not assigning a student to one of their top 5 preferences (i.e., cost of dummy edge)\n",
    "def mincostflow(dataset='s21_fws_ballots.csv', csize=17, minstudents=0, dcost=100000):\n",
    "    \n",
    "    if minstudents > csize or minstudents < 0:\n",
    "        raise ValueError('Error: minstudents must be in [0,class size].')\n",
    "    \n",
    "    students, classes, edges = inputData(dataset)\n",
    "           \n",
    "    n = len(students) # number of students\n",
    "    m = len(classes) # number of class sections\n",
    "    dcapacity = csize - minstudents # number of dummy students we can send to each class\n",
    "    \n",
    "    # define supply b[i] at each node i\n",
    "    # ORTools spec says nodes must be nonnegative integers indexed starting at 0 (dummy supply node),\n",
    "    # so class numbers are indexed from (n + 1) to (n + m), where \n",
    "    # n is the number of students and m is the number of class sections  \n",
    "    supplies = []\n",
    "    supplies.append(csize*m - n) # dummy supply node\n",
    "    for s in students:\n",
    "        supplies.append(1) # each student node has supply 1\n",
    "    for c in classes:\n",
    "        supplies.append(-1*csize) # each class node has supply -csize (i.e., demand csize)\n",
    "\n",
    "    # define parallel arrays, one index per arc in the min-cost flow graph \n",
    "    start_nodes = []\n",
    "    end_nodes = []\n",
    "    capacities = []\n",
    "    unit_costs = []\n",
    "    \n",
    "    # add student edges    \n",
    "    for i,j in edges:\n",
    "        start_nodes.append(i) # arcs start at student node \n",
    "        end_nodes.append(j+n) # arcs end at class node\n",
    "        capacities.append(1) \n",
    "        unit_costs.append(edges[i,j])\n",
    "        \n",
    "    # add dummy edges\n",
    "    for j in classes:\n",
    "        start_nodes.append(0)\n",
    "        end_nodes.append(j+n)\n",
    "        capacities.append(dcapacity)\n",
    "        unit_costs.append(dcost)\n",
    "    \n",
    "    # create solver\n",
    "    min_cost_flow = ORMC.SimpleMinCostFlow()\n",
    "    \n",
    "    # add arcs, capacities, unit costs to graph\n",
    "    for i in range(0, len(start_nodes)):\n",
    "        min_cost_flow.AddArcWithCapacityAndUnitCost(int(start_nodes[i]), int(end_nodes[i]), capacities[i], unit_costs[i])  \n",
    "    \n",
    "    # add node supplies to graph\n",
    "    for i in range(0,len(supplies)):\n",
    "        min_cost_flow.SetNodeSupply(i, supplies[i])\n",
    "\n",
    "    return min_cost_flow"
   ]
  },
  {
   "cell_type": "code",
   "execution_count": null,
   "metadata": {},
   "outputs": [],
   "source": [
    "m = mincostflow()\n",
    "\n",
    "from fws_lab_ext import printmcf\n",
    "printmcf(m) # helper function to print results"
   ]
  },
  {
   "cell_type": "markdown",
   "metadata": {},
   "source": [
    "Success! If everything ran properly, you should now have a working min-cost flow formulation for the FWS assignment problem."
   ]
  },
  {
   "cell_type": "markdown",
   "metadata": {},
   "source": [
    "**Q:** Use the preference list above to calculate the overall cost of the solution. (There are 141 class sections in total, each with a capacity of 17. The cost of a student receiving their $k$th preference is $k$ and the cost of assigning a dummy student to a class section is 100,000.)\n",
    "\n",
    "**A:** <font color='blue'>The total class capacity is $(141\\:sections)(17\\:\\frac{students}{section}) = 2397$ \"spots,\" of which $1182 + 629 + 299 + 123 + 52 = 2285$ are filled by \"real\" students and $2397 - 2285 = 112$ are filled by \"dummy\" students. Now the overall cost is just the summation of the flow on each edge type times the unit cost of that edge type: \n",
    "$(1182)(1) + (629)(2) + (299)(3) + (123)(4) + (52)(5) + (112)(100,000) = 11,204,089.$\n",
    "\n",
    "You can verify this by adding the following lines to the code cell above:<br><code>m.Solve()</code><br><code>print(m.OptimalCost())</code></font>"
   ]
  },
  {
   "cell_type": "markdown",
   "metadata": {},
   "source": [
    "This is all well and good, but so far we've just repeated what the transportation model already found. What more can we do with min-cost flow?\n",
    "\n",
    "You may have noticed that our formulation is fairly simple in terms of its assumptions. For example, based off your answer to **Q**, a feasible (though expensive) solution might involve assigning 17 fake 'filler' students to a section! It's also easy to imagine our model assigning just one or two \"real\" students to a less interesting section that doesn't rank as high on people's preferences.\n",
    "\n",
    "The folks at the Knight Institute want to avoid the administrative headaches of a class with just one or two students, while at the same time ensuring students take full advantage of the diversity of FWS classes offered. So, they request that each class section have a minimum of six students enrolled, but no more than 17 (as before)."
   ]
  },
  {
   "cell_type": "markdown",
   "metadata": {},
   "source": [
    "**Q:** We need to find a way to \"force\" our model to assign six real (that is, not filler) students to each class. How can we implement this \"minimum class size constraint\"? (Hint: take a look at **Q2**)\n",
    "\n",
    "**A:** <font color='blue'>(taken from answer to Q2) Set $u(dummy,j) = $ (max number of 'real' students) $ - $ (min number of 'real' students), or (in this case) $17 - 6 = 11$. Now we can only send at most 11 dummy students to each class node, but since each class node has a demand of 17, we must fill at least 6 spots with real students.</font>"
   ]
  },
  {
   "cell_type": "markdown",
   "metadata": {},
   "source": [
    "If you read through the Python function, you may have noticed that it can take as input a parameter called 'minstudents', which specifies the minimum number of \"real\" students assigned to each class section. (The code generalizes what you did in **Q**.)"
   ]
  },
  {
   "cell_type": "code",
   "execution_count": null,
   "metadata": {},
   "outputs": [],
   "source": [
    "m = mincostflow(minstudents=0)\n",
    "printmcf(m)"
   ]
  },
  {
   "cell_type": "markdown",
   "metadata": {},
   "source": [
    "**Q:** Try a few different values for the 'minstudents' parameter and see what outputs you get. What do you observe? Can the Knight Institute satisfy their minimum class size constraint? (If not, how might cancelling some classes help?) \n",
    "\n",
    "**A:** <font color='blue'>Should see that a feasible flow only exists if the value of minstudents is 0 or 1. The input becomes infeasible for values of minstudents from 2 to 17. Thus the Knight Institute can't satisfy the minimum class size constraint (6) without cancelling classes, as we'll see. Cancelling classes with low interest mitigates this problem by effectively forcing students into more popular classes. </font>"
   ]
  },
  {
   "cell_type": "markdown",
   "metadata": {},
   "source": [
    "Run the following cell, which outputs the least popular class (or classes) among students' preferences. (Define \"least popular\" as appearing the least on students' list of preferences.) If you'd like, read the comments alongside each line of code to understand what the function does."
   ]
  },
  {
   "cell_type": "code",
   "execution_count": null,
   "metadata": {},
   "outputs": [],
   "source": [
    "# Outputs the least popular FWS class section among students' listed preferences\n",
    "def leastpopular(dataset='s21_fws_ballots.csv'):\n",
    "    data = pd.read_csv(dataset) # reads in dataset\n",
    "    \n",
    "    a = data[['1','2','3','4','5']].values.tolist() # creates a list of all the class preferences students put\n",
    "    a = [x for x in a if x != 0] # deletes preferences left blank\n",
    "    unique, counts = np.unique(np.array(a), return_counts=True) # counts how many of each class appears on the preference list\n",
    "    classdict = dict(zip(unique, counts)) # creates a dictionary of class number : number of preferences\n",
    "    \n",
    "    least_students = min(classdict.values()) # finds the minimum number of preferences in the dictionary\n",
    "    res = [c for c in classdict if classdict[c] == least_students] # finds class number corresponding to min number of prefs.\n",
    "    \n",
    "    print('The class (or classes) with the least students interested is ' + str(res) + '.')\n",
    "    print('Only ' + str(least_students) + ' student(s) put this class as one of their top 5 preferences.') # prints results \n",
    "    \n",
    "leastpopular()"
   ]
  },
  {
   "cell_type": "markdown",
   "metadata": {},
   "source": [
    "**Q:** Does this output make sense based on what you observed in **Q8**? Explain.\n",
    "\n",
    "**A:** <font color='blue'>The function output states that the class with the minimum number of students putting it as a preference has only 1 student interested. Thus only 1 \"real\" student can be assigned this class--so if we set 'minstudents' higher than 1, there aren't enough students interested to satisfy the minimum class size constraint, and the mincostflow function returns 'Infeasible'.</font>"
   ]
  },
  {
   "cell_type": "markdown",
   "metadata": {},
   "source": [
    "To summarize, we started with a transportation model for the FWS assignment problem. Then we translated this into a more flexible min-cost flow model, which allowed us to incorporate new information (the Knight Institute's minimum class size constraint) into our formulation. \n",
    "\n",
    "In the future, we might want to add even more flexibility, such as the capability to cancel class sections. (Stay tuned!)"
   ]
  },
  {
   "cell_type": "markdown",
   "metadata": {},
   "source": [
    "# Part 2: A Better Integer Program"
   ]
  },
  {
   "cell_type": "markdown",
   "metadata": {},
   "source": [
    "In our min-cost flow model for the FWS assignment problem, we discovered that adding a new constraint to our model (that every class must have at least 6 \"live\" students) made the input infeasible because at least one class didn't have enough students interested. \n",
    "\n",
    "We notify the Knight Institute that there seems to be a lack of enthusiasm for class section 1. (Maybe it's at 8 AM on Monday, who knows?) They inquire if they can cancel the section altogether and still find a full matching of students to FWS sections. \n",
    "\n",
    "Of course, this is not the only time where being able to decide which class sections actually get run might be helpful. What if an instructor got sick before the school year, or the FWS budget decreased and some class offerings were cut? \n",
    "\n",
    "Let's see how we can build this idea into our existing model from the FWS lab (copy/pasted below). \n",
    "\n",
    "As a reminder, we formulated this model as an integer program. We have:\n",
    "* decision variables $x[i,j]$ representing the amount of \"student flow\" going from student $i$ to class $j$\n",
    "* a matrix of costs $c[i,j]$ representing the \"cost\" of assigning students to each of their various class preferences (with better preferences costing less)\n",
    "* constraints to ensure each class is full, and no student is assigned multiple classes\n",
    "* additional decision variables $x[dummy,j]$ to fill leftover spots in classes with fake \"filler\" students if needed, with a very high edge cost $c[dummy,j]$ to make sure the solver fills classes with actual students first\n",
    "* an objective function to minimize the total cost of the \"flow\""
   ]
  },
  {
   "cell_type": "code",
   "execution_count": null,
   "metadata": {},
   "outputs": [],
   "source": [
    "# An FWS assignment model\n",
    "\n",
    "# INPUTS:\n",
    "# students: a list of students\n",
    "# classes: a list of classes\n",
    "# edges: a dictionary of edge costs\n",
    "# csize: the class capacity \n",
    "# dcost: the cost of not assigning a student to one of their top 5 picks\n",
    "def Assign(students, classes, edges, csize, dcost, solver):\n",
    "    STUDENT = students + ['dummy']  # create student list add dummy node \n",
    "    CLASS = classes                 # create class list\n",
    "    EDGES = list(edges.keys())      # create edge list\n",
    "    \n",
    "    newedges = list(itertools.product([0], CLASS))\n",
    "    EDGES.extend(newedges)          # add dummy edges\n",
    "    \n",
    "    c = edges.copy()                # define c[i,j]\n",
    "    for edge in newedges:\n",
    "        c.update({edge : dcost})    # add c[i,dummy] costs\n",
    "    \n",
    "    # define model\n",
    "    m = OR.Solver('assignFWS', solver)\n",
    "    \n",
    "    # decision variables\n",
    "    x = {}    \n",
    "    for i,j in EDGES:\n",
    "        # define x(i,j) here\n",
    "        x[i,j] = m.IntVar(0, m.infinity(), ('(%d, %s)' % (i,j))) \n",
    "        \n",
    "    # define objective function here\n",
    "    m.Minimize(sum(c[i,j]*x[i,j] for i,j in EDGES))\n",
    "       \n",
    "    # add constraint to ensure each student (not including the dummy) is assigned to at most one class\n",
    "    # this ensures the model won't break in scenarios where matching every student is impossible\n",
    "    for k in students:\n",
    "        if k != 'dummy':\n",
    "            m.Add(sum(x[i,j] for i,j in EDGES if i==k) <= 1)\n",
    "        \n",
    "    # add constraint to ensure each class is full\n",
    "    for k in classes:\n",
    "        m.Add(sum(x[i,j] for i,j in EDGES if j==k) == csize)\n",
    "    \n",
    "    m.Solve()\n",
    "    \n",
    "    unmatched = []\n",
    "    for k in STUDENT:\n",
    "        if (sum(x[i,j].solution_value() for i,j in EDGES if i==k) == 0) and (k!='dummy'):\n",
    "            unmatched.append(k)\n",
    "    print(\"Unmatched students:\", len(unmatched))\n",
    "    \n",
    "    matched = {}\n",
    "    for i,j in EDGES:\n",
    "        if x[i,j].solution_value() == 1:\n",
    "            if c[i,j] in matched:\n",
    "                matched[c[i,j]] += 1\n",
    "            else:\n",
    "                matched.update({c[i,j] : 1})\n",
    "    if dcost in matched.keys():\n",
    "        del matched[dcost]\n",
    "    \n",
    "    return matched"
   ]
  },
  {
   "cell_type": "code",
   "execution_count": null,
   "metadata": {},
   "outputs": [],
   "source": [
    "# read in the dataset\n",
    "dataset = 's21_fws_ballots.csv' # Spring 2021: 2285 students, 141 class sections\n",
    "data = pd.read_csv(dataset,index_col=0)\n",
    "data.head() # preview"
   ]
  },
  {
   "cell_type": "code",
   "execution_count": null,
   "metadata": {},
   "outputs": [],
   "source": [
    "# format data into lists of student and class nodes and a dictionary of edges to edge costs\n",
    "students, classes, edges = inputData(dataset)\n",
    "\n",
    "# solve the instance\n",
    "data_sol = Assign(students, classes, edges, 17, 100000, OR.Solver.CBC_MIXED_INTEGER_PROGRAMMING)\n",
    "print(data_sol)"
   ]
  },
  {
   "cell_type": "markdown",
   "metadata": {},
   "source": [
    "Notice that the <code>Assign</code> function above doesn't include any notion of the minimum class size (6) that the Knight Institute wants! In terms of class size, we just have a constraint specifying that the number of students (real, dummy, or both) in each class must equal <code>csize</code>, in this case 17."
   ]
  },
  {
   "cell_type": "markdown",
   "metadata": {},
   "source": [
    "**Q:** Let's say we replace the constraint mentioned above with one that is a bit more lenient: each class must have between 6 and 17 students. Do we still need \"dummy\" students in our model? Why? \n",
    "\n",
    "**A:** <font color='blue'>The purpose of including the dummy students at all is to satisfy the constraint that every class must be totally filled to capacity with (real and/or fake) students, by backfilling classes that don't have enough real students. By relaxing this constraint, though, there's really no need to include the dummy student supply node, since each class doesn't have to be full as long as at least 6 (real) students are assigned to it. If a class has less than 6 (real) students assigned to it, it doesn't make sense for us to add dummy students until there are 6 students total, because that doesn't solve the problem of lack of interest. Instead, we should just return infeasible in that case.</font>"
   ]
  },
  {
   "cell_type": "markdown",
   "metadata": {},
   "source": [
    "**Q:** We'd like to update our integer program to account for whether or not a class section runs. To do so, we'll need to define new binary decision variables. What are they?\n",
    "\n",
    "**A:** <font color='blue'>Add a new binary decision variable for each class, set to 1 if the class runs and 0 if the class does not run.</font>"
   ]
  },
  {
   "cell_type": "markdown",
   "metadata": {},
   "source": [
    "**Q:** Suppose we have a class section A that we'd like to run. What are the upper and lower bounds on the number of students we can assign to class A?\n",
    "\n",
    "**A:** <font color='blue'>Upper bound = 17; lower bound = 6.</font>"
   ]
  },
  {
   "cell_type": "markdown",
   "metadata": {},
   "source": [
    "**Q:** Suppose we have a class section B that we do not want to run. What are the upper and lower bounds on the number of students we can assign to class B?\n",
    "\n",
    "**A:** <font color='blue'>Upper bound = 0; lower bound = 0.</font>"
   ]
  },
  {
   "cell_type": "markdown",
   "metadata": {},
   "source": [
    "**Q:** Suppose we have a class section C and a binary variable $y$, such that if class C runs, $y = 1$, and if class C does not run, $y = 0$. In terms of $y$, what are the upper and lower bounds on the number of students we can assign to class C? \n",
    "\n",
    "**A:** <font color='blue'>Upper bound = $17y$; lower bound = $6y$.</font>"
   ]
  },
  {
   "cell_type": "markdown",
   "metadata": {},
   "source": [
    "Below, you'll see a modified version of the <code>Assign</code> function. "
   ]
  },
  {
   "cell_type": "code",
   "execution_count": null,
   "metadata": {},
   "outputs": [],
   "source": [
    "# A modified FWS assignment model, which incorporates minimum class size and the option of not running class sections\n",
    "\n",
    "# INPUTS:\n",
    "# students: a list of students\n",
    "# classes: a list of classes\n",
    "# edges: a dictionary of edge costs\n",
    "# minstudents: minimum number of students per class section\n",
    "# csize: maximum number of students per class section\n",
    "def modifiedAssign(students, classes, edges, minstudents, csize):\n",
    "    STUDENT = students              # create student list\n",
    "    CLASS = classes                 # create class list\n",
    "    EDGES = list(edges.keys())      # create edge list    \n",
    "    \n",
    "    c = edges.copy()                # define c[i,j]\n",
    "    \n",
    "    # define model\n",
    "    m = OR.Solver('assignFWS', OR.Solver.CBC_MIXED_INTEGER_PROGRAMMING)\n",
    "    \n",
    "    # decision variables\n",
    "    x = {}    \n",
    "    for i,j in EDGES:\n",
    "        # define x(i,j) here\n",
    "        x[i,j] = m.IntVar(0, m.infinity(), ('(%d, %s)' % (i,j))) \n",
    "        \n",
    "    y = {}\n",
    "    for j in CLASS:\n",
    "        # define y_j here\n",
    "        y[j] = m.BoolVar('y_%s' % j) # A BoolVar or Boolean variable is similar to an integer variable,\n",
    "                                     # except that it can only take on values in {0,1}, where 0 represents \"false\"\n",
    "                                     # and 1 represents \"true.\" We could have also used an IntVar ranging from 0 to 1.\n",
    "               \n",
    "    # define objective function here\n",
    "    m.Minimize(sum(c[i,j]*x[i,j] for i,j in EDGES))\n",
    "   \n",
    "    # add constraint to ensure each student is assigned exactly one class\n",
    "    for k in students:\n",
    "        m.Add(sum(x[i,j] for i,j in EDGES if i==k) == 1)\n",
    "        \n",
    "    # add constraint to ensure each class that runs satisfies minimum and maximum class size\n",
    "    for k in classes:\n",
    "        m.Add(sum(x[i,j] for i,j in EDGES if j==k) <= csize*y[k])\n",
    "        m.Add(sum(x[i,j] for i,j in EDGES if j==k) >= minstudents*y[k])\n",
    "    \n",
    "    # solve\n",
    "    status = m.Solve()\n",
    "\n",
    "    if status == OR.Solver.INFEASIBLE:\n",
    "        print('Infeasible')\n",
    "        return\n",
    "\n",
    "    print('All students matched.')\n",
    "    \n",
    "    classes_run = int(sum(y[j].solution_value() for j in CLASS))\n",
    "    print(str(classes_run) + ' of ' + str(len(CLASS)) + ' classes run.')\n",
    "    \n",
    "    matched = {}\n",
    "    for i,j in EDGES:\n",
    "        if x[i,j].solution_value() == 1:\n",
    "            if c[i,j] in matched:\n",
    "                matched[c[i,j]] += 1\n",
    "            else:\n",
    "                matched.update({c[i,j] : 1})\n",
    "    \n",
    "    return matched       "
   ]
  },
  {
   "cell_type": "markdown",
   "metadata": {},
   "source": [
    "Take a careful look at the updates made to the decision variables and constraints. Do they make sense based on what you answered in the previous series of questions? (If you're confused, ask a TA before moving on!)"
   ]
  },
  {
   "cell_type": "markdown",
   "metadata": {},
   "source": [
    "**Q:** In our previous <code>Assign</code> function, we added a constraint to ensure that each student (besides the dummy) was assigned at most one class. In our <code>modifiedAssign</code> function, we change this to strict equality: now each student is assigned exactly one class. Why? (Hint: think about how our new decision variables impact the cost of a solution)\n",
    "\n",
    "**A:** <font color='blue'>If we did not update this constraint, the solver will opt to not assign any students by setting every $x[i,j]$ equal to zero (by way of setting every $y[k]$ equal to zero). That is, the cheapest solution (of cost 0) is to not run any classes!</font>"
   ]
  },
  {
   "cell_type": "markdown",
   "metadata": {},
   "source": [
    "One advantage of our modified assignment function is that it's flexible in the case that a class must be canceled for some reason. For instance, if the Knight Institute wanted to cancel the least popular class (section 1), we'd just put the following line of code in with our constraints: \n",
    "\n",
    "<code>m.Add(y[1] == 0)</code>"
   ]
  },
  {
   "cell_type": "markdown",
   "metadata": {},
   "source": [
    "Now, let's test out our new model! Run the cell below, which inputs the Knight Institute's constraints by setting the parameter 'minstudents' equal to 6 and 'csize' equal to 17. As a reminder, in our min-cost flow formulation (that is, before we included the ability to not run classes), this input returned \"Infeasible.\""
   ]
  },
  {
   "cell_type": "code",
   "execution_count": null,
   "metadata": {},
   "outputs": [],
   "source": [
    "modified_sol = modifiedAssign(students, classes, edges, 6, 17)\n",
    "print(modified_sol)"
   ]
  },
  {
   "cell_type": "markdown",
   "metadata": {},
   "source": [
    "Woohoo! We found a feasible solution! \n",
    "\n",
    "Let's see how it compares to the original model, which had no minimum class size."
   ]
  },
  {
   "cell_type": "code",
   "execution_count": null,
   "metadata": {},
   "outputs": [],
   "source": [
    "from fws_lab_ext import Histo\n",
    "\n",
    "print(\"Assign function solution: no minimum class size\")\n",
    "Histo(data_sol, 15)\n",
    "\n",
    "for pref in range(1,6):\n",
    "    print(pref, \":\", round(100*data_sol[pref]/2285, 2), \"%\")\n",
    "\n",
    "print(\"\")\n",
    "    \n",
    "print(\"Modified Assign function solution: minimum class size 6\")\n",
    "Histo(modified_sol, 15)\n",
    "\n",
    "for pref in range(1,6):\n",
    "    print(pref, \":\", round(100*modified_sol[pref]/2285, 2), \"%\")"
   ]
  },
  {
   "cell_type": "markdown",
   "metadata": {},
   "source": [
    "**Q:** Compare the objective values of these two solutions (you can use the cell below for computations if you'd like). What do you observe? Does this make sense? (Remember we set the cost of a student receiving their $k$th preference to be $k$; that is, a student receiving their top choice cost 1, second choice cost 2, and so forth. Ignore any contributions from dummy edges in the first solution.)\n",
    "\n",
    "**A:** <font color='blue'>The first (less constrained) solution has objective value $(1179)(1) + (634)(2) + (301)(3) + (116)(4) + (55)(5) = 4089$, and the second (more constrained) solution has objective value $(1188)(1) + (616)(2) + (302)(3) + (126)(4) + (53)(5) = 4095$. This should make sense, as adding more constraints to the model (i.e., shrinking the feasible region) can only maintain or worsen the objective value.</font>"
   ]
  },
  {
   "cell_type": "code",
   "execution_count": null,
   "metadata": {},
   "outputs": [],
   "source": [
    "### CELL FOR COMPUTATIONS ###\n"
   ]
  },
  {
   "cell_type": "markdown",
   "metadata": {},
   "source": [
    "**Q:** The Knight Institute is worried about money and so wants to know the least amount of classes they can offer while still having students get one of their top 5 preferences. To implement this, we can re-define the objective function in our model to the following:\n",
    "\n",
    "<code>m.Minimize(sum(y[j] for j in CLASS))</code>\n",
    "\n",
    "Doing this will give a feasible solution with an objective value of 135. We claim that this is optimal! Give an argument as to why they'll always need at least 135 sections. (Recall that there are 2285 students in total.)\n",
    "\n",
    "**A:** <font color='blue'>The objective value essentially says that we can never run less than 135 class sections if we want a feasible solution. Suppose we fill each classroom to the max, that is, assign 17 students per class for as many classes as possible. We can fill $\\frac{2285 - 2285\\bmod17}{17} = 134$ classes this way, with a remaining $2285\\bmod17 = 7$ students to put in the 135th class section.</font>"
   ]
  },
  {
   "cell_type": "markdown",
   "metadata": {},
   "source": [
    "(The fact that we're able to find a feasible assignment with exactly 135 sections open may seem pretty magical. Disclaimer: this is indeed a bit magical, and may not always happen; we managed to get lucky with the data!)"
   ]
  },
  {
   "cell_type": "markdown",
   "metadata": {},
   "source": [
    "**Q:** Do you expect this solution to be better or worse (for students) as the min-cost solutions above? Explain your answer. \n",
    "\n",
    "**A:** <font color='blue'>We'd expect this solution to be worse for students, because it just tries to minimize the number of sections run while each student gets one of their listed preferences (it doesn't matter which). In contrast, the min-cost solutions incorporate the extra step of ranking of students' preferences once a feasible solution (where each student gets one of their listed preferences) is guaranteed.</font>"
   ]
  },
  {
   "cell_type": "markdown",
   "metadata": {},
   "source": [
    "Run the cell below to get a visual of the \"least-classes\" solution!"
   ]
  },
  {
   "cell_type": "code",
   "execution_count": null,
   "metadata": {},
   "outputs": [],
   "source": [
    "from fws_lab_ext import minimizeNumClassesAssign\n",
    "least_classes_sol = minimizeNumClassesAssign(students, classes, edges, 6, 17)\n",
    "Histo(least_classes_sol,15)\n",
    "\n",
    "for pref in range(1,6):\n",
    "    print(pref, \":\", round(100*least_classes_sol[pref]/2285, 2), \"%\")"
   ]
  },
  {
   "cell_type": "markdown",
   "metadata": {},
   "source": [
    "Clearly, there's a trade-off here: by running fewer classes, the university saves money, but doing so might leave some students dissatisfied with their FWS assignment, and vice-versa. This is a peek into the messy world of *multi-objective optimization*! \n",
    "\n",
    "In a sense, we want the \"best of both worlds\"&mdash;that is, we want to both minimize the number of sections run and minimize student dissatisfaction. We already know how to find each of these solutions individually, as well as what the solutions actually are: a section-optimal solution runs 135 sections, while a student-optimal solution has cost 4095. To find a good intersection between the two, one strategy is to \"fix\" one of these values (by way of constraints) and optimize the other as much as possible. (Simplex, anyone?)"
   ]
  },
  {
   "cell_type": "markdown",
   "metadata": {},
   "source": [
    "**Q:** For our problem, we have two strategies: either fix the number of sections and minimize cost, or fix the cost and minimize number of sections. Give a reason why we might choose the first strategy.\n",
    "\n",
    "**A:** <font color='blue'>Trying to decrease the number of sections after fixing the cost (which, as we'll see, is just an arbitrary number) probably won't give us anything interesting, because decreasing the number of sections should just increase the cost.** On the other hand, there are likely several solutions (with varying costs) that run the same number of sections. \n",
    "\n",
    "** Sam made a good point that we could write an IP like \"How few sections can I have while staying within 5% as good a solution?\", which would motivate the second strategy.</font>"
   ]
  },
  {
   "cell_type": "markdown",
   "metadata": {},
   "source": [
    "**Q:** Write the constraint that our model must run exactly 135 classes, using the code from **Q17** as a guide. Your answer should look like this: m.Add(XXX)<br>(Don't worry, you don't need to paste your answer anywhere.)\n",
    "\n",
    "**A:** <font color='blue'><code>m.Add(sum(y[j] for j in CLASS) == 135)</code></font>"
   ]
  },
  {
   "cell_type": "markdown",
   "metadata": {},
   "source": [
    "In the cell below, we run the <code>modifiedAssign</code> function with the constraint you wrote above. Then we vary the number of classes that are run, minimizing cost (and thus student dissatisfaction) at each step. \n",
    "\n",
    "Look at the scatter plot. It compares the cost of these solutions with the cost of the student-optimal solution&mdash;the closer the cost, the better. Does this surprise you?"
   ]
  },
  {
   "cell_type": "code",
   "execution_count": null,
   "metadata": {},
   "outputs": [],
   "source": [
    "from fws_lab_ext import modifiedAssignWithNumClasses\n",
    "\n",
    "# Helper function: return the objective value of a solution dictionary of the form {edge cost : number of edges in solution}\n",
    "def objValue(sol):\n",
    "    keys = list(sol.keys())\n",
    "    vals = list(sol.values())\n",
    "    return sum(keys[i]*vals[i] for i in range(len(keys)))\n",
    "\n",
    "# Find optimal solutions when exactly 135, 136, ..., 141 class sections are running\n",
    "obj_values = {}\n",
    "for i in range(135,142):\n",
    "    print(str(i) + \" classes offered:\")    \n",
    "    class_sol = modifiedAssignWithNumClasses(students, classes, edges, 6, 17, i)    \n",
    "    if class_sol != None:\n",
    "        obj_values[i] = objValue(class_sol)\n",
    "        print(\"Objective value \" + str(objValue(class_sol)))\n",
    "    print(\"\")\n",
    "    \n",
    "# Display scatter plot of solution values compared to optimal solution value\n",
    "sectionsOffered = list(obj_values.keys())\n",
    "pctOptimal = [100 * objValue(modified_sol) / x for x in list(obj_values.values())]\n",
    "plt.scatter(sectionsOffered, pctOptimal)\n",
    "plt.xlabel('Number of Sections Offered')\n",
    "plt.ylabel('Optimality Metric (%)')\n",
    "plt.show()"
   ]
  },
  {
   "cell_type": "markdown",
   "metadata": {},
   "source": [
    "Take-homes from this section:\n",
    "* By updating our integer program model, we accounted for \"real-world\" scenarios: both a minimum class size and the possibility of cancelling classes. (Adding the flexibility to cancel class sections happened to let us turn an infeasible problem into a feasible one!)\n",
    "* With multiple feasible solutions, we may need to consider the trade-offs that come with prioritizing different objectives."
   ]
  },
  {
   "cell_type": "markdown",
   "metadata": {},
   "source": [
    "# Part 3: New Objectives\n",
    "*Adapted from previous versions of the FWS lab.* "
   ]
  },
  {
   "cell_type": "markdown",
   "metadata": {},
   "source": [
    "As you have probably noticed, there is more than one feasible solution to the FWS assignment problem&mdash;that is, there exist multiple (potentially many) matchings of students to FWS sections that ensures every student gets one of their top 5 picks. Having many solutions is great, but in a real-life scenario, we eventually have to pick one!\n",
    "\n",
    "Once we know we have feasible solutions, deciding which of the solutions is \"the best\" depends on what our goal is. For instance, our goal could be to find the solution that maximizes the number of students receiving their first choice, or to minimize the number of students receiving their fifth choice.\n",
    "\n",
    "It turns out we can achieve some complex behavior in our solutions by simply making some clever adjustments to our original objective function."
   ]
  },
  {
   "cell_type": "markdown",
   "metadata": {},
   "source": [
    "**Q:** In our original input for the FWS assignment problem, we set the unit cost of edges from the dummy node to be an absurdly high number (100,000). Why? \n",
    "\n",
    "**A:** <font color='blue'>In the FWS input, edge costs dictate how much you want the solver to select the corresponding edges. Since we are trying to minimize cost, an edge with a small cost has a higher likelihood of being in the solution while an edge with a large cost will potentially be avoided. (For instance, we want more first-choice than fifth-choice, so the cost of a first-choice edge is lower than the cost of a fifth-choice.) Applying this to the dummy, setting the edge cost to an enormous number like 100,000 essentially discourages the solver from ever choosing a dummy edge over a real student edge unless absolutely necessary to get a feasible solution. \n",
    "\n",
    "More technically, the cost of not assigning just *one* student to one of their top 5 choices (i.e., the cost of assigning a dummy student in place of a real student) is greater than the cost of assigning *all* 2285 students their fifth choice: $100,000 > 5(2285) = 11,425$. So we'd rather assign every student, if such an assignment exists, than fail to assign just one student! Using this strategy thus ensures we maximize the number of assigned students first before considering any notion of student preference.</font>"
   ]
  },
  {
   "cell_type": "markdown",
   "metadata": {},
   "source": [
    "Let's use this notion of \"weight adjustment\" to see how it plays into the solutions we come up with. Run the cell below, which creates a function to facilitate incorporating varied edge costs into our modified integer program. "
   ]
  },
  {
   "cell_type": "code",
   "execution_count": null,
   "metadata": {},
   "outputs": [],
   "source": [
    "from fws_lab_ext import updated_edge_costs\n",
    "\n",
    "def part3(prefcosts):\n",
    "    # Get the updated edge : cost dictionary\n",
    "    newedges = updated_edge_costs(edges,prefcosts)\n",
    "\n",
    "    # Assign students based on these new edge costs\n",
    "    part3_sol = modifiedAssign(students, classes, newedges, 6, 17)\n",
    "\n",
    "    # Format results\n",
    "    new_costs_to_prefs = dict(zip(list(prefcosts.values()),list(range(1,6))))\n",
    "\n",
    "    prefs_to_nums = {}\n",
    "    for key in part3_sol.keys():\n",
    "        prefs_to_nums[new_costs_to_prefs[key]] = part3_sol[key]   \n",
    "    \n",
    "    # See histogram\n",
    "    Histo(prefs_to_nums,15)\n",
    "    \n",
    "    for pref in range(1,6):\n",
    "        if pref in prefs_to_nums.keys():\n",
    "            print(pref, \":\", round(100*prefs_to_nums[pref]/2285, 2), \"%\")\n",
    "        else:\n",
    "            print(pref, \":\", \"0 %\")"
   ]
  },
  {
   "cell_type": "markdown",
   "metadata": {},
   "source": [
    "**Q:** If we decide to update the edge costs, what changes in our integer program? \n",
    "\n",
    "**A:** <font color='blue'>The cost matrix $c[i,j]$ will be updated with the new unit costs.</font>"
   ]
  },
  {
   "cell_type": "markdown",
   "metadata": {},
   "source": [
    "Going back to our example, let's find a solution that maximizes the number of students receiving their first choice. To do this, we need to somehow \"entice\" the solver into picking edges corresponding to students' first preference. This is just the opposite of what we did with the dummy node! \n",
    "\n",
    "In the cell below, we set the cost of edges between a student and their first-choice class to be an arbitrarily large *negative* number (-10,000). It's worth noting that edge costs can be positive or negative here, since we're not so much concerned about the actual cost of our solution as we are about the relationship between the costs of different types of edges."
   ]
  },
  {
   "cell_type": "code",
   "execution_count": null,
   "metadata": {},
   "outputs": [],
   "source": [
    "# Define new edge costs here\n",
    "prefcosts = {1:-10000,\n",
    "             2:2,\n",
    "             3:3,\n",
    "             4:4,\n",
    "             5:5}\n",
    "\n",
    "# Run the model with the new edge costs\n",
    "part3(prefcosts)"
   ]
  },
  {
   "cell_type": "markdown",
   "metadata": {},
   "source": [
    "**Q:** Just looking at the histogram, how does this solution compare to the original solution we found? (How does the number of first choices compare? Fifth choices?)\n",
    "\n",
    "**A:** <font color='blue'>This solution does better in terms of the number of first choices received (more than original), but worse in the number of fifth choices received (more than original).</font>"
   ]
  },
  {
   "cell_type": "markdown",
   "metadata": {},
   "source": [
    "Next, let's see a solution where the number of students receiving their fifth choice is minimized. \n",
    "\n",
    "In the cell below, modify the cost of edges from a student to their fifth-choice class to achieve this objective, then run it and see what you get! "
   ]
  },
  {
   "cell_type": "code",
   "execution_count": null,
   "metadata": {},
   "outputs": [],
   "source": [
    "# Define new edge costs here\n",
    "prefcosts = {1:1,\n",
    "             2:2,\n",
    "             3:3,\n",
    "             4:4,\n",
    "             5:5   ### CHANGE THIS VALUE ###\n",
    "            }\n",
    "\n",
    "# Run the model with the new edge costs\n",
    "part3(prefcosts)"
   ]
  },
  {
   "cell_type": "markdown",
   "metadata": {},
   "source": [
    "**Q:** Compare these two solutions (maximizing first choice versus minimizing fifth choice). If you had to present one of these solutions to the FWS assignment committee, which would you present? Give a reason for your choice.\n",
    "\n",
    "**A:** <font color='blue'>Answers may vary. One justification for the first solution is that nearly half the students receive their top choice. One justification for the second solution is that it has a lesser (meaning better) mean preference received, and no student receives their last choice (out of their top 5 choices, of course!).</font>"
   ]
  },
  {
   "cell_type": "markdown",
   "metadata": {},
   "source": [
    "What if we wanted to combine these approaches? For example, we could first maximize the number of students receiving their first preference, then maximize the number of students receiving their second preference, and so on. Or, we could first minimize the number of students receiving their fifth choice, then minimize the number of students receiving their fourth choice, etc. In both cases, there exists a notion of \"ranking\" or \"prioritizing\" different objectives.\n",
    "\n",
    "How can we encode a ranking of importance among our different objectives? We'll use weights of different orders of magnitude.\n",
    "\n",
    "For example, suppose we have two objective functions, $f_{1}$ and $f_{2}$. We'd like to first minimize $f_{1}$, and then minimize $f_{2}$. If we were to write out an expression such as $min\\:f_{1} + f_{2}$, then decreasing either $f_{1}$ or $f_{2}$ by some amount $\\delta$ would have the same effect; in essence, $f_{1}$ and $f_{2}$ have \"equal priority.\"\n",
    "\n",
    "However, if instead we write $min\\:10f_{1} + f_{2}$, then decreasing $f_{1}$ by $\\delta$ has 10 times the effect on lowering the cost of the solution as decreasing $f_{2}$ by the same amount&mdash;so minimizing $f_{1}$ has \"greater priority\" than minimizing $f_{2}$. \n",
    "\n",
    "We can apply similar reasoning to our problem; in fact, we already have! Take another look at our objective function:\n",
    "\n",
    "$min\\:\\sum_{(i,j) \\in A} c(i,j)x(i,j) = min\\:\\sum_{k=1}^{5} ($edge cost of preference $k)($number of students assigned preference $k)$<br>$= min\\:c_1 f_{1} + c_2 f_{2} + c_3 f_{3} + c_4 f_{4} + c_5 f_{5}$\n",
    "\n",
    "Our costs $c_k$ for each edge type $k$, enumerated in <code>prefcosts</code>, specify the \"weights\" (or \"priorities\") of each function $f_k$ in our overall objective function. For instance, specifying costs $c_k = k, k \\in \\{1,..,5\\}$, prioritizes minimizing $f_{5}$ before minimizing $f_{1}$. "
   ]
  },
  {
   "cell_type": "code",
   "execution_count": null,
   "metadata": {},
   "outputs": [],
   "source": [
    "## Begin Sam example"
   ]
  },
  {
   "cell_type": "markdown",
   "metadata": {},
   "source": [
    "**Example**\n",
    "\n",
    "Suppose we have 9 students to assign to FWS sections, and each student lists 4 preferences. We want to minimize the number of students receiving their fourth choice, then third choice, and so on. \n",
    "\n",
    "Let's set <code>prefcosts</code> so that the cost of each preference is a multiple of 10:\n",
    "\n",
    "<code>prefcosts = {1:1, 2:10, 3:100, 4:1000}</code>\n",
    "\n",
    "We might wonder if the IP solver could still assign someone their fourth choice in order to reduce the cost: for instance, maybe this allows us to give a lot more students their first choice. But this is impossible!\n",
    "\n",
    "Why? Consider the cost of an assignment where all 9 students are assigned to their first or second or third choice, that is, no students are assigned their fourth choice. This will cost at most $9(100) = 900 < 1000$ (the cost of assigning just one student their fourth choice). Thus the IP solver will never opt to assign someone their fourth choice unless this is the only way to achieve a feasible solution&mdash;otherwise, it's just too expensive. \n",
    "\n",
    "Using the same reasoning, you can justify that the IP will then minimize the number of third-choice assignments (and so on).\n",
    "\n",
    "More generally, if we have two objectives (e.g., number of third-choice and number of fourth-choice) that can take on values in the range $\\{0,...,9\\}$, then multiplying the weight of one objective by 10 would make it completely dominant over the other.\n",
    "\n",
    "Thus, by cleverly choosing our edge costs, we can make it so that our higher-priority objectives 'dominate' lower-priority objectives. This is known as a *lexicographic ordering*.\n",
    "\n",
    "**Q:** Would this approach (using multiples of 10) still work if we had 10 students to assign?\n",
    "\n",
    "**A:** <font color=blue>Yes. Consider the minimum cost of a solution in which at least one student is assigned their fourth choice: $9(1) + 1000 = 1009$. Now compare this to the maximum cost of a solution in which no student is assigned their fourth choice: $10(100) = 1000 < 1009$. So the solver will still never choose assigning a student their fourth choice if it can be avoided. </font> \n",
    "\n",
    "**Q:** Would this approach (using multiples of 10) still work if we had 11 students to assign?\n",
    "\n",
    "**A:** <font color=blue>No. For example, assigning 10 students their first choice and 1 student their fourth choice costs 1010, and assigning 1 student their second choice and 10 students their third choice would also cost 1010. So the solver might choose to assign a fourth choice when it could've avoided it.</font>\n",
    "\n",
    "**Q:** Now imagine we have $n$ students to assign. By what factor should the objective weights differ to ensure we get the ordering we want?\n",
    "\n",
    "**A:** <font color=blue>By a factor of $n$.</font>"
   ]
  },
  {
   "cell_type": "code",
   "execution_count": null,
   "metadata": {},
   "outputs": [],
   "source": [
    "## End Sam example"
   ]
  },
  {
   "cell_type": "markdown",
   "metadata": {},
   "source": [
    "Let's utilize this knowledge to implement the second approach outlined above.\n",
    "\n",
    "Run the following cell, which uses weights of different orders of magnitude to effectively \"rank\" our objectives in order of importance: first (most importantly), we minimize the number of fifth preferences assigned, second (most importantly), we minimize the number of fourth preferences assigned, and so forth until our least important objective, minimizing the number of first preferences."
   ]
  },
  {
   "cell_type": "code",
   "execution_count": null,
   "metadata": {},
   "outputs": [],
   "source": [
    "# Define new edge costs here\n",
    "prefcosts = {1:1,\n",
    "             2:10,\n",
    "             3:100,\n",
    "             4:1000,\n",
    "             5:10000}\n",
    "\n",
    "# Run the model with the new edge costs\n",
    "part3(prefcosts)"
   ]
  },
  {
   "cell_type": "markdown",
   "metadata": {},
   "source": [
    "As we've seen, there are a plethora of solutions to the FWS assignment problem! Choosing just one depends on how you define the \"best\" solution. \n",
    "\n",
    "The Knight Institute decided on the following criteria in determining the optimal solution:\n",
    "* First, the number of fifth, and then fourth, preferences should be minimized.\n",
    "* After that, the number of first, second, and then third preferences should be maximized.\n",
    "\n",
    "Below, try to implement these specifications, using weights with different orders of magnitude for each successive objective. (Hint: minimizing a negative expression is the same as maximizing that expression!)"
   ]
  },
  {
   "cell_type": "code",
   "execution_count": null,
   "metadata": {},
   "outputs": [],
   "source": [
    "# TODO: Fill in the missing edge costs to achieve the desired objectives\n",
    "# prefcosts = {1:XXX, 2:XXX, 3:-1, 4:XXX, 5:10000}\n",
    "\n",
    "### BEGIN SOLUTION\n",
    "prefcosts = {1:-100, 2:-10, 3:-1, 4:1000, 5:10000}\n",
    "### END SOLUTION\n",
    "\n",
    "# Run the model with the new edge costs\n",
    "part3(prefcosts)"
   ]
  },
  {
   "cell_type": "markdown",
   "metadata": {},
   "source": [
    "**Q:** Compare this solution to the previous solutions. Do you think the Knight Institute made the right decision? How would you have done it differently?\n",
    "\n",
    "**A:** <font color='blue'>Answers may vary.</font>"
   ]
  },
  {
   "cell_type": "markdown",
   "metadata": {},
   "source": [
    "### Supplemental Exercise"
   ]
  },
  {
   "cell_type": "markdown",
   "metadata": {},
   "source": [
    "In each of the previous models, we set the weights/unit costs of different types of edges at different orders of magnitude to essentially order our objectives. However, an order of magnitude seems pretty arbitrary. Can we be more precise in how we set our edge weights in order to prove the model is giving us the solution we want?\n",
    "\n",
    "Let's consider a simple example. Say that we have 50 students that must be assigned. Each student provides two preferences, so in a solution they are either (a) matched with their first preference, (b) matched with their second preference, or (c) left unmatched. We want to prove that our model will minimize the number of unmatched students. \n",
    "\n",
    "Suppose that matching a student with their first preference incurs a (nonnegative) cost $w_a$, matching a student with their second preference costs $w_b$, and not matching a student costs $w_c$. We want to minimize unmatched, then minimize second preference. It makes intuitive sense that we must order our costs so that $0 \\leq w_a < w_b < w_c$."
   ]
  },
  {
   "cell_type": "markdown",
   "metadata": {},
   "source": [
    "First, let's try using our order-of-magnitude strategy from before. We set $w_a = 1$, $w_b = 10$, and $w_c = 100$. \n",
    "\n",
    "Suppose there are two feasible solutions: Solution 1 assigns 5 students their first choice and 45 their second choice, while Solution 2 assigns 46 students their first choice and leaves 4 students unmatched."
   ]
  },
  {
   "cell_type": "markdown",
   "metadata": {},
   "source": [
    "**Q:** Does our order-of-magnitude strategy work here? Explain.\n",
    "\n",
    "**A:** <font color='blue'>We want the solution with less unmatched students (Solution 1), but with our current edge weights, the solver will pick Solution 2, which has cost 400 (compared to 455 for Solution 1). So our strategy doesn't work in this case.</font>"
   ]
  },
  {
   "cell_type": "markdown",
   "metadata": {},
   "source": [
    "Let's see if we can set our edge costs a little better."
   ]
  },
  {
   "cell_type": "markdown",
   "metadata": {},
   "source": [
    "**Q:** In terms of $w_a$, $w_b$, and $w_c$, give an upper bound on the cost of a solution that leaves no students unmatched.\n",
    "\n",
    "**A:** <font color='blue'>If every student is matched, the most costly scenario is that all 50 students are assigned their second choice, since $w_a < w_b$. The cost of the solution is then $50w_b$.</font>"
   ]
  },
  {
   "cell_type": "markdown",
   "metadata": {},
   "source": [
    "**Q:** In terms of $w_c$ alone, give a lower bound on the cost of a solution that does not match every student. (Hint: make $w_a$ as small as possible)\n",
    "\n",
    "**A:** <font color='blue'>Since $w_a < w_b < w_c$, the cheapest solution that does not match all 50 students is the one that matches 49 students with their first choice and leaves 1 student unmatched. This has cost $49w_a + w_c$. However, an even better lower bound assumes $w_a$ is minimized, i.e., $w_a = 0$. Then the cost is simply $w_c$.</font>"
   ]
  },
  {
   "cell_type": "markdown",
   "metadata": {},
   "source": [
    "**Q:** Using your answers to the previous two questions, write an inequality that ensures our solution minimizes the number of unmatched students.\n",
    "\n",
    "**A:** <font color='blue'>We want to set our weights such that the worst solution that matches all students is still better than a solution that leaves a student unmatched. So we simply combine our expressions from above: \n",
    "\n",
    "$50w_b < w_c \\iff \\frac{w_c}{w_b} > 50$\n",
    "</font>"
   ]
  },
  {
   "cell_type": "markdown",
   "metadata": {},
   "source": [
    "**Q:** Now suppose there are $n$ students. By what factor should the edge weights $w_b$ and $w_c$ differ to guarantee the number of unmatched students is minimized? \n",
    "\n",
    "**A:** <font color='blue'>By a factor of $n$; more specifically, $w_c > n \\cdot w_b$.</font>"
   ]
  },
  {
   "cell_type": "markdown",
   "metadata": {},
   "source": [
    "To summarize, we can set our edge weights in such a way so that the cost of assigning all of our $n$ students to a class section is less than the cost of leaving just *one* student unmatched! This guarantees that whatever solution the solver returns is minimizing the number of students unmatched before considering anything else.\n",
    "\n",
    "More generally, we can ensure our model focuses on our highest-priority objective first by setting our edge weights so that any solution that does better in terms of this objective is valued more than a solution that does worse in terms of this objective, regardless of how the solutions compare for lower-priority objectives. \n",
    "\n",
    "In multi-objective optimization, this strategy of ranking objectives (and objective functions) is referred to as the *lexicographic method*. We've simulated this by assigning different weights to the various smaller objective functions (minimize unmatched, minimize second-choice, minimize first-choice) and summing them up into a formulation with a single objective function, which is known as the *weighted-sum method*. "
   ]
  },
  {
   "cell_type": "markdown",
   "metadata": {},
   "source": [
    "**Q:** Suppose we know there exist solutions where every student can be matched. By similar reasoning to that described above, propose a relationship between $w_a$ and $w_b$ that ensures the number of students receiving their second choice is minimized. \n",
    "\n",
    "**A:** <font color='blue'>$n \\cdot w_a < w_b \\iff \\frac{w_b}{w_a} > n$</font>"
   ]
  },
  {
   "cell_type": "markdown",
   "metadata": {},
   "source": [
    "Let's apply what we've learned to the actual FWS input. Suppose we want to first minimize the number of students receiving their fifth preference, then minimize the number of students receiving their fourth preference, and so on. Fill in the missing edge costs (aka objective function weights!) below that will ensure we meet our goal."
   ]
  },
  {
   "cell_type": "code",
   "execution_count": null,
   "metadata": {},
   "outputs": [],
   "source": [
    "n = len(students)\n",
    "\n",
    "# TODO: Fill in the missing edge costs to achieve the desired objectives.\n",
    "# Hint: For exponentiation, we use the ** operator. For example, to calculate 2^10, we'd type 2**10.\n",
    "\n",
    "# prefcosts = {1:1, 2:XXX, 3:XXX, 4:n**3, 5:XXX}\n",
    "\n",
    "### BEGIN SOLUTION\n",
    "prefcosts = {1:1, 2:n, 3:n**2, 4:n**3, 5:n**4}\n",
    "### END SOLUTION"
   ]
  },
  {
   "cell_type": "code",
   "execution_count": null,
   "metadata": {},
   "outputs": [],
   "source": [
    "# Optional: run the model with the new edge costs as an initial sanity check\n",
    "part3(prefcosts)"
   ]
  },
  {
   "cell_type": "markdown",
   "metadata": {},
   "source": [
    "**Q:** An 1101 student sees the $n^4$ term in the edge costs above and is worried the computer they're using won't be able to handle such a big number. They decide to divide all the edge costs by $n^2$, so that the largest edge cost is now only $n^2$. Will this give the same solution? Explain.\n",
    "\n",
    "**A:** <font color='blue'>Yes! Scaling the edge costs by any scaling factor $k > 0$ preserves the relationship between them (that consecutive edge types' costs differ by a factor of $n$).</font>"
   ]
  },
  {
   "cell_type": "markdown",
   "metadata": {},
   "source": [
    "**Q:** Another 1101 student sets <code>prefcosts</code> to the following:\n",
    "\n",
    "<code>prefcosts = {1:0, 2:1, 3:n, 4:n\\*\\*2, 5:n\\*\\*3}</code>\n",
    "\n",
    "Will this give the solution we want? Explain.\n",
    "\n",
    "**A:** <font color='blue'>Yes! Comparing preferences 2-3, 3-4, and 4-5, the factor of $n$ separating the respective edge costs creates the \"ranking\" we want. For preferences 1-2, setting the cost of first-choice edges to 0 makes it \"infinitely\" more expensive to assign a student their second choice than to assign all $n$ students their first choice, since $\\frac{w_2}{w_1} = \\lim_{k \\to 0}\\frac{1}{k} = \\infty$. Since $\\infty > n$, this is fine.</font>"
   ]
  },
  {
   "cell_type": "markdown",
   "metadata": {},
   "source": [
    "# Part 4: A Note on Integrality"
   ]
  },
  {
   "cell_type": "markdown",
   "metadata": {},
   "source": [
    "The integer program we've developed so far has integer decision variables $x(i,j) \\in \\{0, 1, ...\\}$, corresponding to the amount of flow to send on an arc $(i,j)$ from a student node $i$ to a class node $j$. As an improvement, we added new binary decision variables $y(j) \\in \\{0, 1\\}$ that encode whether class $j$ runs or not. \n",
    "\n",
    "What happens if we remove (\"relax\") our integrality constraints on $x(i,j)$? (This is known as an *LP relaxation* of the integer program.) To find out, we'll use the following function, which is pretty much the same as the <code>modifiedAssign</code> function we've been using, except we can specify whether our $x(i,j)$ are restricted to only taking on integer values."
   ]
  },
  {
   "cell_type": "code",
   "execution_count": null,
   "metadata": {},
   "outputs": [],
   "source": [
    "# Same as function modifiedAssign, but with optional additional parameter:\n",
    "# integer_only: Boolean value (True/False), whether or not decision variables x[i,j] are constrained to integers (default: True)\n",
    "def integralityAssign(students, classes, edges, minstudents, csize, integer_only = True):\n",
    "    STUDENT = students              # create student list\n",
    "    CLASS = classes                 # create class list\n",
    "    EDGES = list(edges.keys())      # create edge list    \n",
    "    \n",
    "    c = edges.copy()                # define c[i,j]\n",
    "    \n",
    "    # define model\n",
    "    m = OR.Solver('assignFWS', OR.Solver.CBC_MIXED_INTEGER_PROGRAMMING)\n",
    "    \n",
    "    # decision variables\n",
    "    x = {}    \n",
    "    for i,j in EDGES:\n",
    "        # define x(i,j) here\n",
    "        if integer_only:\n",
    "            x[i,j] = m.IntVar(0, m.infinity(), ('(%d, %s)' % (i,j)))\n",
    "        else:\n",
    "            x[i,j] = m.NumVar(0, m.infinity(), ('(%d, %s)' % (i,j)))\n",
    "  \n",
    "    print('Decision variables constrained to integer values.' if integer_only else 'Decision variables unconstrained.')\n",
    "    \n",
    "    y = {}\n",
    "    for j in CLASS:\n",
    "        # define y_j here\n",
    "        y[j] = m.BoolVar('y_%s' % j) # A BoolVar or Boolean variable is similar to an integer variable,\n",
    "                                     # except that it can only take on values in {0,1}, where 0 represents \"false\"\n",
    "                                     # and 1 represents \"true.\" We could have also used an IntVar ranging from 0 to 1.\n",
    "               \n",
    "    # define objective function here\n",
    "    m.Minimize(sum(c[i,j]*x[i,j] for i,j in EDGES))\n",
    "       \n",
    "    # add constraint to ensure each student is assigned exactly one class\n",
    "    for k in students:\n",
    "        m.Add(sum(x[i,j] for i,j in EDGES if i==k) == 1)\n",
    "        \n",
    "    # add constraint to ensure each class that runs satisfies minimum and maximum class size\n",
    "    for k in classes:\n",
    "        m.Add(sum(x[i,j] for i,j in EDGES if j==k) <= csize*y[k])\n",
    "        m.Add(sum(x[i,j] for i,j in EDGES if j==k) >= minstudents*y[k])\n",
    "    \n",
    "    ### ANY OTHER CONSTRAINTS HERE\n",
    "    #m.Add(sum(x[i,j] for i,j in EDGES if c[i,j] == 1000) <= 102)\n",
    "    ###\n",
    "    \n",
    "    # solve\n",
    "    status = m.Solve()\n",
    "    \n",
    "    if status == OR.Solver.INFEASIBLE:\n",
    "        print('Infeasible')\n",
    "        return\n",
    "     \n",
    "    print('All students matched.')\n",
    "    \n",
    "    # test for non-integer values\n",
    "    if not integer_only:\n",
    "        nonint = False\n",
    "        for i,j in EDGES:\n",
    "            sol = round(x[i,j].solution_value(),2)\n",
    "            if sol > 0.0 and sol < 1.0:\n",
    "                # print(i,j,sol)\n",
    "                nonint = True\n",
    "        print('Non-integer values in solution.' if nonint else 'Only integer values in solution.')\n",
    "        print('') \n",
    "    \n",
    "    matched = {}\n",
    "    for i,j in EDGES:\n",
    "        sol = round(x[i,j].solution_value(),2)\n",
    "        if sol > 0.0:\n",
    "            if c[i,j] in matched:\n",
    "                matched[c[i,j]] += sol\n",
    "            else:\n",
    "                matched.update({c[i,j] : sol})\n",
    "    \n",
    "    return matched"
   ]
  },
  {
   "cell_type": "markdown",
   "metadata": {},
   "source": [
    "Additionally, let's add the ability to modify edge costs and print the results using the function below:"
   ]
  },
  {
   "cell_type": "code",
   "execution_count": null,
   "metadata": {},
   "outputs": [],
   "source": [
    "def part4(prefcosts, integeronly = True):\n",
    "    \n",
    "    # Get the updated edge : cost dictionary\n",
    "    newedges = updated_edge_costs(edges,prefcosts)\n",
    "\n",
    "    # Assign students based on these new edge costs\n",
    "    test_sol = integralityAssign(students, classes, newedges, 6, 17, integer_only=integeronly)\n",
    "\n",
    "    if test_sol == None: # infeasible\n",
    "        return\n",
    "    \n",
    "    # Format results\n",
    "    new_costs_to_prefs = dict(zip(list(prefcosts.values()),list(range(1,6))))\n",
    "\n",
    "    prefs_to_nums = {}\n",
    "    for key in test_sol.keys():\n",
    "        prefs_to_nums[new_costs_to_prefs[key]] = test_sol[key]   \n",
    "    \n",
    "    # See histogram\n",
    "    Histo(prefs_to_nums,15)\n",
    "    \n",
    "    for pref in range(1,6):\n",
    "        if pref in prefs_to_nums.keys():\n",
    "            print(pref, \":\", round(100*prefs_to_nums[pref]/2285, 2), \"%\")\n",
    "        else:\n",
    "            print(pref, \":\", \"0 %\")\n",
    "    print('')"
   ]
  },
  {
   "cell_type": "markdown",
   "metadata": {},
   "source": [
    "The Knight Institute saw our graphs from Part 3 and decided they still liked their approach the best: minimizing the number of students receiving their fifth choice, then minimizing fourth choice, then maximizing first, second, and then third choice. As a refresher, run the cell below to see what that solution looks like. (By setting the parameter 'integeronly' to <code>True</code>, we tell the model to create the decision variables as integer variables.)"
   ]
  },
  {
   "cell_type": "code",
   "execution_count": null,
   "metadata": {},
   "outputs": [],
   "source": [
    "# Define new edge costs here\n",
    "prefcosts = {1:-100,\n",
    "             2:-10,\n",
    "             3:-1,\n",
    "             4:1000,\n",
    "             5:10000}\n",
    "\n",
    "# Run the model with the new edge costs\n",
    "integer_only_sol = part4(prefcosts, integeronly = True)"
   ]
  },
  {
   "cell_type": "markdown",
   "metadata": {},
   "source": [
    "If all goes well, you should get the same solution you got in Part 3. \n",
    "\n",
    "Now, let's see if anything interesting happens when our $x(i,j)$ are no longer confined to the happy world of integers! We do this by setting our parameter 'integeronly' to <code>False</code>."
   ]
  },
  {
   "cell_type": "code",
   "execution_count": null,
   "metadata": {},
   "outputs": [],
   "source": [
    "not_only_integer_sol = part4(prefcosts, integeronly = False)"
   ]
  },
  {
   "cell_type": "markdown",
   "metadata": {},
   "source": [
    "Hmm, doesn't seem like much changed. Maybe we can just use our LP-relaxation from now on, since it's more efficient and cheaper to use an LP solver than an IP solver.\n",
    "\n",
    "The Knight Institute sees our solution and wants to know if we can drop the number of students with their fourth choice by one, from 103 to 102, so that the total percentage of students with their top three choices is above 96.5% (an A+!) \n",
    "\n",
    "To see if this is possible, **uncomment the following constraint in the** <code>integralityAssign</code> **function**, which caps the number of students receiving their fourth choice at 102:\n",
    "\n",
    "<code>m.Add(sum(x[i,j] for i,j in EDGES if c[i,j] == 1000) <= 102)</code>\n",
    "    \n",
    "Make sure you **run the cell containing the** <code>integralityAssign</code> **function** afterwards!"
   ]
  },
  {
   "cell_type": "markdown",
   "metadata": {},
   "source": [
    "Once you've done so, run the cell below to see if we can do as the Knight Institute says."
   ]
  },
  {
   "cell_type": "code",
   "execution_count": null,
   "metadata": {},
   "outputs": [],
   "source": [
    "not_only_integer_sol_add_constraint = part4(prefcosts, integeronly = False)"
   ]
  },
  {
   "cell_type": "markdown",
   "metadata": {},
   "source": [
    "Uh-oh...we broke integrality! It doesn't make much sense to be assigning half a student their fifth-choice FWS preference."
   ]
  },
  {
   "cell_type": "markdown",
   "metadata": {},
   "source": [
    "**Q:** The Knight Institute isn't too keen on splitting students in half. They argue that there must be some way to assign whole (integer) students where (a) no student gets their fifth-choice preference, (b) 102 students (or less) get their fourth-choice preference, and (c) the rest get one of their top three preferences. Explain why this is impossible.\n",
    "\n",
    "**A:** <font color='blue'>To satisfy this, we need an integer solution that is feasible (i.e., matches all students), has 102 (or less) fourth-choice, and has 0 fifth-choice. Such a solution would have to be better than the one we just found, which has 0.5 fifth-choice. But we know that we cannot find an integer solution better than this LP-relaxation solution, since the IP-feasible region is contained within the LP-feasible region (and thus the best solution for the IP can be no better than the best solution for the corresponding LP-relaxation).</font>"
   ]
  },
  {
   "cell_type": "markdown",
   "metadata": {},
   "source": [
    "You may be wondering why adding this constraint in particular broke integrality. As it turns out, we're lucky that none of the previous constraints we added broke it first! \n",
    "\n",
    "The moral of the story is that we can't rely on an LP relaxation if we're looking for integral solutions. Instead, we need to use an IP formulation and an IP solver. "
   ]
  }
 ],
 "metadata": {
  "language_info": {
   "name": "python"
  }
 },
 "nbformat": 4,
 "nbformat_minor": 2
}
