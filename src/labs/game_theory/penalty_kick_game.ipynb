{
 "cells": [
  {
   "cell_type": "markdown",
   "metadata": {},
   "source": [
    "<font color='red'> Penalty kick application based on 'Professionals Play Minimax' by Ignacio Palacios-Huerta (2003). </font>"
   ]
  },
  {
   "cell_type": "markdown",
   "metadata": {},
   "source": [
    "### Make Necessary Imports"
   ]
  },
  {
   "cell_type": "code",
   "execution_count": null,
   "metadata": {},
   "outputs": [],
   "source": [
    "from bokeh.io import show, output_notebook, save, output_file\n",
    "import penaltykickgame as game\n",
    "import asyncio"
   ]
  },
  {
   "cell_type": "markdown",
   "metadata": {},
   "source": [
    "### Configure Bokeh For Use In Jupyter Notebook"
   ]
  },
  {
   "cell_type": "code",
   "execution_count": null,
   "metadata": {},
   "outputs": [],
   "source": [
    "output_notebook()"
   ]
  },
  {
   "cell_type": "markdown",
   "metadata": {},
   "source": [
    "### Make Game"
   ]
  },
  {
   "cell_type": "code",
   "execution_count": null,
   "metadata": {},
   "outputs": [],
   "source": [
    "main_game_obj = game.main_game.MainGame()\n",
    "# Access the attributes of main_game_obj to make test changes to game components here:\n",
    "# main_game_obj.b_fig_configs[0].label = \"test change\"\n",
    "# main_game_obj.stats_fig_1.fig.title = \"test change\"\n",
    "# main_game_obj.stats_fig_2.hitbox_alpha=1"
   ]
  },
  {
   "cell_type": "code",
   "execution_count": null,
   "metadata": {},
   "outputs": [],
   "source": [
    "# Log_steps              Possible Vals: True, False.                                                         (default=False)\n",
    "# CPU_strategy           Possible Vals: 'Fictitious_Play', 'Mixed_Strategy', 'Random', 'Goalie_Cheats', None (default=None)\n",
    "# allow_fast_forward     Possible Vals: True, False                                                          (default=True)\n",
    "# force_fast_forward     Possible Vals: True, False                                                          (default=False)\n",
    "# force_fast_forward_spd Possible Vals: int >= 0, None                                                       (default=None)\n",
    "# iterations_to_run      Possible Vals: Int > 1, None                                                        (default=None)\n",
    "# stats_fig_1_enabled    Possible Vals: True, False                                                          (default=True)\n",
    "# stats_fig_2_enabled    Possible vals: True, False                                                          (default=True)\n",
    "# stats_fig_3_enabled    Possible vals: True, False                                                          (default=True)\n",
    "# stats_fig_4_enabled    Possible vals: True, False                                                          (default=True)\n",
    "# show_dist_table        Possible vals: True, False                                                          (default=False)\n",
    "\n",
    "grid1 = await main_game_obj.make_game(\n",
    "    log_steps = True, #Set to True if game creation progress logs are desired\n",
    "#     CPU_strategy = 'Goalie_Cheats', #Set to the strategy to use if goalie strategy should be forced to it. \n",
    "#     allow_fast_forward = False, #Set to False if auto advancing should be disabled.\n",
    "#     force_fast_forward = False, #If allow_fast_forward is not set to False, set to True to require auto advancing between iterations.\n",
    "#     force_fast_forward_spd = 50, #Set to a speed(int in milliseconds) if the auto advance speed should be forced to it.\n",
    "#     iterations_to_run = 10, #Set to an int to forcibly set the game to that many iterations.\n",
    "#     stats_fig_1_enabled = False, #Set to False to disable stats fig 1.\n",
    "#     stats_fig_2_enabled = False, #Set to False to disable stats fig 2.\n",
    "#     stats_fig_3_enabled = False, #Set to False to disable stats fig 3.\n",
    "#     stats_fig_4_enabled = False, #Set to False to disable stats fig 4.\n",
    "#     show_dist_table = True, #Set to True to show the distribution table.\n",
    ")"
   ]
  },
  {
   "cell_type": "markdown",
   "metadata": {},
   "source": [
    "### Show Game"
   ]
  },
  {
   "cell_type": "code",
   "execution_count": null,
   "metadata": {},
   "outputs": [],
   "source": [
    "show(grid1)"
   ]
  },
  {
   "cell_type": "markdown",
   "metadata": {},
   "source": [
    "### Create HTML File"
   ]
  },
  {
   "cell_type": "code",
   "execution_count": null,
   "metadata": {},
   "outputs": [],
   "source": [
    "output_file(\"penalty_kick_game.html\")\n",
    "save(grid1)"
   ]
  },
  {
   "cell_type": "code",
   "execution_count": null,
   "metadata": {},
   "outputs": [],
   "source": []
  }
 ],
 "metadata": {
  "language_info": {
   "name": "python"
  }
 },
 "nbformat": 4,
 "nbformat_minor": 4
}
