{
 "cells": [
  {
   "cell_type": "markdown",
   "metadata": {},
   "source": [
    "# Linear Program Formulations\n",
    "Based on Lab 9 of ENGRI 1101 Fall 2019\n",
    "\n",
    "<font color='red'> **Comments in red** </font>\n",
    "\n",
    "<font color='blue'> **Solutions in blue** </font>"
   ]
  },
  {
   "cell_type": "markdown",
   "metadata": {},
   "source": [
    "**Objectives:**\n",
    "- Practice formulating linear programming problems\n",
    "- Introduce the idea of linear relaxation\n",
    "- Demonstrate the relationship between an integer program and its linear relaxation"
   ]
  },
  {
   "cell_type": "markdown",
   "metadata": {},
   "source": [
    "**Brief description:**\n",
    "   In this lab we will see examples of modeling various problems as Linear Programs (LPs), coding and solving them with OR-Tools, and start considering the question of what can be done when the desired output of a mathematical model should be integer."
   ]
  },
  {
   "cell_type": "code",
   "execution_count": null,
   "metadata": {},
   "outputs": [],
   "source": [
    "# imports -- don't forget to run this cell!\n",
    "from IPython.display import Image\n",
    "from ortools.linear_solver import pywraplp as OR"
   ]
  },
  {
   "cell_type": "markdown",
   "metadata": {},
   "source": [
    "## Part 1: A Work-scheduling problem\n",
    "[Adapted from Hillier & Lieberman] A new company is being set up to take telephone orders. The phone lines are staffed around the clock. People are hired to work in 8-hour shifts, starting at 6AM, 8AM, 12PM, 4PM, or 10PM. From survey data, the management has concluded that there are minimum staffing requirements at certain times of the day, as given in the table below.\n",
    "\n",
    "| Time period   | Minimum Staff Size |\n",
    "|---------------|--------------------|\n",
    "| 6AM-8AM       | 48                 |\n",
    "| 8AM-10AM      | 79                 |\n",
    "| 10AM-Noon     | 65                 |\n",
    "| Noon-2PM      | 87                 |\n",
    "| 2PM-4PM       | 64                 |\n",
    "| 4PM-6PM       | 87                 |\n",
    "| 6PM-8PM       | 64                 |\n",
    "| 8PM-10PM      | 73                 |\n",
    "| 10PM-Midnight | 82                 |\n",
    "| Midnight-6AM  | 43                 |\n",
    "\n",
    "A person is paid differently, depending on their assigned shift, where the daily salary is 170, 160, 175, 180, and 195, for the five shifts, respectively. The management would like to decide the number of people to be hired for each shift so as to minimize the total salary costs.\n",
    "The first part of this lab is aimed at helping you to formulate this problem as a linear programming problem. As usual, the first step is to make a first attempt at stating the decision variables."
   ]
  },
  {
   "cell_type": "markdown",
   "metadata": {},
   "source": [
    "**Q:** Let’s call the variables $x_1, x_2, x_3, x_4,$ and $x_5$. Explain what each of these variables represents. (Hint: See question 6)\n",
    "\n",
    "**A:** <font color='blue'> See the table.\n",
    "\n",
    "| Variable      | Meaning                                |\n",
    "|---------------|----------------------------------------|\n",
    "| $x_1$         | # of people hired for 6AM - 2PM shift  |    \n",
    "| $x_2$         | # of people hired for 8AM - 4PM shift  | \n",
    "| $x_3$         | # of people hired for 12PM - 8PM shift | \n",
    "| $x_4$         | # of people hired for 4PM - 12AM shift | \n",
    "| $x_5$         | # of people hired for 10PM - 6AM shift | \n",
    "    \n",
    "</font>"
   ]
  },
  {
   "cell_type": "markdown",
   "metadata": {},
   "source": [
    "**Q:** In terms of these decision variables, express the objective function.\n",
    "\n",
    "**A:** <font color='blue'> $\\min [170x_1 + 160x_2 + 175x_3 + 180x_4 + 195x_5]$ </font>"
   ]
  },
  {
   "cell_type": "markdown",
   "metadata": {},
   "source": [
    "**Q:** In your own words (i.e., using sentences and not mathematical notation) briefly describe what conditions must be satisfied for a given assignment of values to your decision variables to correspond to a feasible solution.\n",
    "\n",
    "**A:** <font color='blue'> The number of people assigned at a given time period (all of the people whose shift contains that time period) must meet the required number of people to be staffed during that time. </font>"
   ]
  },
  {
   "cell_type": "markdown",
   "metadata": {},
   "source": [
    "**Q:** Now try to express these restrictions as linear constraints in your decision variables. As a start, consider the period from 6AM to 8AM. You are required to staff this period with at least 48 people. Which shifts work during this time? How should you write this as a constraint?\n",
    "\n",
    "**A:** <font color='blue'> The only shift that works at this time is the 6AM - 2PM shift represented by $x_1$. Hence, the constraint is $$x_1 \\geq 48$$  </font>"
   ]
  },
  {
   "cell_type": "markdown",
   "metadata": {},
   "source": [
    "**Q:** Now complete your linear programming formulation (write the rest of the constraints).\n",
    "\n",
    "**A:** <font color='blue'> See the table.\n",
    "\n",
    "|                           |\n",
    "|---------------------------|\n",
    "| $x_1 \\geq 48$             |\n",
    "| $x_1 + x_2 \\geq 79$       |\n",
    "| $x_1 + x_2 \\geq 65$       |\n",
    "| $x_1 + x_2 + x_3 \\geq 87$ |\n",
    "| $x_2 + x_3 \\geq 64$       |\n",
    "| $x_3 + x_4 \\geq 87$       |\n",
    "| $x_3 + x_4 \\geq 64$       |\n",
    "| $x_4 \\geq 73$             |\n",
    "| $x_4 + x_5 \\geq 82$       |\n",
    "| $x_5 \\geq 43$             | </font>"
   ]
  },
  {
   "cell_type": "markdown",
   "metadata": {},
   "source": [
    "**Q:** If deleting a constraint from an LP does not create any new feasible solutions, then the constraint is called *redundant*. Why is your constraint for the 10PM-midnight shift redundant? Feel free to cross it out.\n",
    "\n",
    "**A:** <font color='blue'> Because we already have the constraint that $x_4 \\geq 73$ and $x_5 \\geq 43$. It follows that $x_4 + x_5 \\geq 116$. Hence, $x_4 + x_5 \\geq 82$ is always satisifed and does not remove any feasible solutions. </font>"
   ]
  },
  {
   "cell_type": "markdown",
   "metadata": {},
   "source": [
    "Let’s look at the model for this problem in OR-Tools."
   ]
  },
  {
   "cell_type": "code",
   "execution_count": null,
   "metadata": {},
   "outputs": [],
   "source": [
    "def work_schedule(integer = False):\n",
    "    \"\"\"A linear program for solving a work scheduling problem.\"\"\"\n",
    "    # define the model\n",
    "    m = OR.Solver('work_sched', OR.Solver.CBC_MIXED_INTEGER_PROGRAMMING)\n",
    "\n",
    "    # decision variables\n",
    "    if integer:   \n",
    "        x = {i: m.IntVar(0, m.infinity(), 'x_'+str(i)) for i in range(1,6)}\n",
    "    else:\n",
    "        x = {i: m.NumVar(0, m.infinity(), 'x_'+str(i)) for i in range(1,6)}\n",
    "\n",
    "    # objective function\n",
    "    m.Minimize(170*x[1] + 160*x[2] + 175*x[3] + 180*x[4] + 195*x[5])\n",
    "\n",
    "    # constraints\n",
    "    m.Add(x[1]                             >= 48)\n",
    "    m.Add(x[1] + x[2]                      >= 79)\n",
    "    m.Add(x[1] + x[2]                      >= 65)\n",
    "    m.Add(x[1] + x[2] + x[3]               >= 87)\n",
    "    m.Add(       x[2] + x[3]               >= 64)\n",
    "    m.Add(              x[3] + x[4]        >= 87)\n",
    "    m.Add(              x[3] + x[4]        >= 64) \n",
    "    m.Add(                     x[4]        >= 73)\n",
    "    m.Add(                     x[4] + x[5] >= 82) \n",
    "    m.Add(                            x[5] >= 43)\n",
    "    \n",
    "    return m, x"
   ]
  },
  {
   "cell_type": "code",
   "execution_count": null,
   "metadata": {},
   "outputs": [],
   "source": [
    "def solve(m):\n",
    "    m.Solve()\n",
    "    print('Solution:')\n",
    "    print('Objective value =', m.Objective().Value())\n",
    "    for var in m.variables():\n",
    "        print(var.name(), ':',  var.solution_value())"
   ]
  },
  {
   "cell_type": "markdown",
   "metadata": {},
   "source": [
    "Study the model and ensure that you understand how it corresponds to the model you came up with."
   ]
  },
  {
   "cell_type": "markdown",
   "metadata": {},
   "source": [
    "**Q:** Did you write down the correct formulation? If not, what did you do wrong?\n",
    "\n",
    "**A:** <font color='blue'> Depends. </font>"
   ]
  },
  {
   "cell_type": "markdown",
   "metadata": {},
   "source": [
    "Now you will solve this model using OR-Tools. Run the cell below."
   ]
  },
  {
   "cell_type": "code",
   "execution_count": null,
   "metadata": {},
   "outputs": [],
   "source": [
    "m,x = work_schedule()\n",
    "solve(m)"
   ]
  },
  {
   "cell_type": "markdown",
   "metadata": {},
   "source": [
    "**Q:** What is the objective value of the optimal solution? What is the optimal solution (i.e., the values of the decision variables)?\n",
    "\n",
    "**A:**  <font color='blue'> The objective value is 40,135 and the solution is $x = (48, 50, 14, 73, 43)$ </font>"
   ]
  },
  {
   "cell_type": "markdown",
   "metadata": {},
   "source": [
    "Each staff member is also expected to take care of processing a number of mail-in orders when not on the telephone. Each person in the 6am, 8am, noon, 4pm and 10pm shifts can handle 30, 10, 10, 30, and 50 orders, respectively. The staffing is required to be sufficient to handle 6500 orders. "
   ]
  },
  {
   "cell_type": "markdown",
   "metadata": {},
   "source": [
    "**Q:** Add a constraint to the model to account for the mail-in orders in the cell below."
   ]
  },
  {
   "cell_type": "code",
   "execution_count": null,
   "metadata": {},
   "outputs": [],
   "source": [
    "m,x = work_schedule()\n",
    "# TODO: Add your constraint here\n",
    "# m.Add()\n",
    "\n",
    "### BEGIN SOLUTION\n",
    "m.Add(30*x[1] + 10*x[2] + 10*x[3] + 30*x[4] + 50*x[5] >= 6500)\n",
    "### END SOLUTION\n",
    "\n",
    "solve(m)"
   ]
  },
  {
   "cell_type": "markdown",
   "metadata": {},
   "source": [
    "**Q:** Report the new solution below.\n",
    "\n",
    "**A:**  <font color='blue'> The objective value is 40,447 and the solution is $x = (48, 50, 14, 73, 44.6)$ </font>"
   ]
  },
  {
   "cell_type": "markdown",
   "metadata": {},
   "source": [
    "**Q:** The solution to this model is not actually viable as a real-world hiring policy. Why not? Can you tweak the solution you found to give a viable (but not necessarily optimal) hiring plan? What is the total cost of your plan? \n",
    "\n",
    "**A:**  <font color='blue'> We can not hire $\\frac{6}{10}$ of a person so this solution is not viable. Instead, we can round up and let $x_5 = 45$ to give a feasible solution with a total cost of 40,525. </font>"
   ]
  },
  {
   "cell_type": "markdown",
   "metadata": {},
   "source": [
    "In effect, the issue in the previous question was that we have an integer programming (IP) problem, not a linear programming (LP) problem. Let's solve the same model with an integrality constraint."
   ]
  },
  {
   "cell_type": "code",
   "execution_count": null,
   "metadata": {},
   "outputs": [],
   "source": [
    "m,x = work_schedule(integer=True)\n",
    "# TODO: Add your mail-in order constraint from Q9\n",
    "\n",
    "### BEGIN SOLUTION\n",
    "m.Add(30*x[1] + 10*x[2] + 10*x[3] + 30*x[4] + 50*x[5] >= 6500)\n",
    "### END SOLUTION\n",
    "\n",
    "solve(m)"
   ]
  },
  {
   "cell_type": "markdown",
   "metadata": {},
   "source": [
    "**Q:** Write down the optimal solution and its value below. How does the optimal value of the integer program compare to the optimal value of the linear programming problem, its so-called linear relaxation? How does the optimal IP solution compare with the solution you proposed above?\n",
    "\n",
    "**A:**  <font color='blue'> The optimal solution is x = (48, 51, 13, 74, 44) with objective value 40,495 which is greater than it's linear program relaxation but less than the proprosed solution from rounding up.</font>"
   ]
  },
  {
   "cell_type": "markdown",
   "metadata": {},
   "source": [
    "## Part 2: A Production Process Model\n",
    "[from Winston] Sunco Oil has three different processes that can be used to manufacture various types of gasoline. Each process involves blending oils in the company’s catalytic cracker. \n",
    "- Running process 1 for an hour costs 5 dollars and requires 2 barrels of crude oil 1 and 3 barrels of crude oil 2. The output of running process 1 for an hour is 2 barrels of gas 1 and 1 barrel of gas 2. \n",
    "- Running process 2 for an hour costs 4 dollars and requires 1 barrel of crude 1 and 3 barrels of crude 2. The output from running process 2 for an hour is 3 barrels of gas 2. \n",
    "- Running process 3 for an hour costs 1 dollar and requires 2 barrels of crude 2 and 3 barrels of gas 2. The output from running process 3 for an hour is 2 barrels of gas 3. \n",
    "\n",
    "Each week, 200 barrels of crude 1, at 2 dollars/barrel, and 300 barrels of crude 2, at 3 dollars/barrel, may be purchased. All gas produced can be sold at the following per-barrel prices: gas 1, 9; gas 2, 10; gas 3, 24. The catalytic cracker can be used for only 95 hours each week. Sunco Oil wishes to devise a weekly production plan that maximizes the production’s profit (revenues minus costs)."
   ]
  },
  {
   "cell_type": "markdown",
   "metadata": {},
   "source": [
    "**Q:** The above paragraph is pretty dense. Draw a pictorial representation of the flow of materials in this problem: from crude oil, to processes, to barrels of gas for sale. It might help to have one picture for each process (e.g. one picture for process 1 indicating what materials it needs to run and what materials it spits out). You might also want a chart indicating how much each barrel of crude oil / each process costs, as well as how much we profit from each gas.\n",
    "\n",
    "**A:** <font color='blue'> Something like the following diagram: </font>"
   ]
  },
  {
   "cell_type": "code",
   "execution_count": null,
   "metadata": {},
   "outputs": [],
   "source": [
    "### BEGIN SOLUTION\n",
    "Image(\"images-key/process_model_diagram.png\")\n",
    "### END SOLUTION"
   ]
  },
  {
   "cell_type": "markdown",
   "metadata": {},
   "source": [
    "You’ll spend the rest of lab thinking about how to formulate this problem as a linear program. There are many ways to do this, but the most straightforward is to use 8 decision variables. Three of these are $\\text{proc}_1$,$\\text{proc}_2$ and $\\text{proc}_3$, the numbers of hours spent running processes 1, 2 and 3. "
   ]
  },
  {
   "cell_type": "markdown",
   "metadata": {},
   "source": [
    "**Q:** You should also have decision variables $\\text{crude}_1$, $\\text{crude}_2$, $\\text{gas}_1$, $\\text{gas}_2$, and $\\text{gas}_3$. What do $\\text{crude}_i$ and $\\text{gas}_j$ represent?\n",
    "\n",
    "**A:** <font color='blue'> $\\text{Crude}_i$ represents the number of barrels of crude oil $i$ purchased and $\\text{gas}_j$ represents the number of barrels of gas $j$ manufactured. </font>"
   ]
  },
  {
   "cell_type": "markdown",
   "metadata": {},
   "source": [
    "**Q:** State the objective function in terms of these variables: be sure to account for the cost of running processes and buying crude oil, as well as the profit from selling gas.\n",
    "\n",
    "**A:** <font color='blue'> $\\max [9\\text{gas}_1 + 10\\text{gas}_2 + 24\\text{gas}_3] - [2\\text{crude}_1 + 3\\text{crude}_2 + 5\\text{proc}_1 + 4\\text{proc}_2 + 1\\text{proc}_3]$ </font>"
   ]
  },
  {
   "cell_type": "markdown",
   "metadata": {},
   "source": [
    "In this problem, the primary decision variables are the $\\text{proc}_i$ variables. We’ll need constraints that enforce that the other decision variables (the $\\text{crude}_i$ and $\\text{gas}_j$) line up with how much of each process we use."
   ]
  },
  {
   "cell_type": "markdown",
   "metadata": {},
   "source": [
    "**Q:** For example, if we use two hours of process 1, five hours of process 2, and two hours of process 3, how much of each crude oil did we use? How much of each gas do we have to sell at the very end? (Hint: Be careful about the amount of gas 2 we have to sell at the end, since some of it will be used up in process 3.)\n",
    "\n",
    "**A:** <font color='blue'> \n",
    "$$\\text{crude}_1 = 2(2) + 1(5) = 9$$\n",
    "$$\\text{crude}_2 = 3(2) + 3(5) = 2(2) = 25$$\n",
    "$$\\text{gas}_1 = 2(2) = 4$$\n",
    "$$\\text{gas}_2 = 1(2) + 3(5) - 3(2) = 11$$\n",
    "$$\\text{gas}_3 = 2(2) = 4$$\n",
    "</font>"
   ]
  },
  {
   "cell_type": "markdown",
   "metadata": {},
   "source": [
    "**Q:** Based on the previous question, why does a constraint like the following make sense:\n",
    "$$\\text{crude}_1 = 2\\text{proc}_1 + \\text{proc}_2$$\n",
    "\n",
    "**A:** <font color='blue'> Because 2 barrels of crude 1 are used in process 1 and 1 barrel is used in process 2.</font>"
   ]
  },
  {
   "cell_type": "markdown",
   "metadata": {},
   "source": [
    "**Q:** Write four more equality constraints like the one above, one for each of $\\text{crude}_2$, $\\text{gas}_1$, $\\text{gas}_2$, and $\\text{gas}_3$ These constraints enforce that these extra decision variables represent what we want them two, based solely on how much time we spend on each process. (Hint: Your constraint for $\\text{gas}_2$ will be a little tricky. You want $\\text{gas}_2$ to represent the total amount of gas 2 that you have at the end of all processes, since this is what you sell for profit. However, some of gas 2 might be used up by process 3. Hence your gas 2 constraint will have three terms: two indicating how much you get from processes 1 and 2, and one indicating how much you lose from process 3.)\n",
    "\n",
    "**A:** <font color='blue'>\n",
    "$$\\text{crude}_2 = 3\\text{proc}_1 + 3\\text{proc}_1 + 2\\text{proc}_1$$\n",
    "$$\\text{gas}_1 = 2\\text{proc}_1$$\n",
    "$$\\text{gas}_2 = 1\\text{proc}_1 + 3\\text{proc}_2 - 3\\text{proc}_3$$\n",
    "$$\\text{gas}_3 = 2\\text{proc}_3$$    \n",
    "</font>"
   ]
  },
  {
   "cell_type": "markdown",
   "metadata": {},
   "source": [
    "**Q:** In addition to the five constraints written so far, we need 11 more: 8 of these are freebies (the non-negativity constraints on each of the eight decision variables). What other three constraints do we need? (Hint: what limits do we have from the problem statement?)\n",
    "\n",
    "**A:** <font color='blue'>\n",
    "$$\\text{crude}_1 \\leq 200$$\n",
    "$$\\text{crude}_2 \\leq 300$$\n",
    "$$\\text{proc}_1 + \\text{proc}_2 + \\text{proc}_3 \\leq 95$$\n",
    "</font>"
   ]
  },
  {
   "cell_type": "markdown",
   "metadata": {},
   "source": [
    "**Q:** Finish writing the model below and then solve it! As a sanity check to both your code and model, the optimal solution should leave you with a cost of 1,425 dollars and involve spending all time on process 2."
   ]
  },
  {
   "cell_type": "code",
   "execution_count": null,
   "metadata": {},
   "outputs": [],
   "source": [
    "def oil_production(integer = False):\n",
    "    \"\"\"A linear program for solving an oil production problem.\"\"\"\n",
    "    # define the model\n",
    "    m = OR.Solver('oil_production', OR.Solver.CBC_MIXED_INTEGER_PROGRAMMING)\n",
    "\n",
    "    # decision variables\n",
    "    proc = {i: m.NumVar(0, m.infinity(), 'proc_'+str(i)) for i in range(1,4)}\n",
    "    crude = {i: m.NumVar(0, m.infinity(), 'crude_'+str(i)) for i in range(1,3)}\n",
    "    gas = {i: m.NumVar(0, m.infinity(), 'gas_'+str(i)) for i in range(1,4)}\n",
    "    \n",
    "    # objective function\n",
    "    # TODO: Add the objective function\n",
    "    # m.Maximize()\n",
    "\n",
    "    ### BEGIN SOLUTION\n",
    "    m.Maximize((9*gas[1] + 10*gas[2] + 24*gas[3])     # revenue from selling\n",
    "               - (2*crude[1] + 3*crude[2])            # cost of crude oil\n",
    "               - (5*proc[1] + 4*proc[2] + 1*proc[3])) # cost of running processes\n",
    "    ### END SOLUTION\n",
    "    \n",
    "    # constraints\n",
    "    # TODO: Add the constraints. \n",
    "    # Hint: the syntax is m.Add(some expression)\n",
    "    # Hint: for equality constraints, use ==\n",
    "    \n",
    "    ### BEGIN SOLUTION\n",
    "\n",
    "    # subject to: extra decison variables definitions\n",
    "    m.Add(crude[1] == 2*proc[1] + proc[2])\n",
    "    m.Add(crude[2] == 3*proc[1] + 3*proc[2] + 2*proc[3])\n",
    "    m.Add(gas[1] == 2*proc[1])\n",
    "    m.Add(gas[2] == 1*proc[1] + 3*proc[2] - 3*proc[3])\n",
    "    m.Add(gas[3] == 2*proc[3])\n",
    "\n",
    "    # subject to: supply of oil\n",
    "    m.Add(crude[1] <= 200)\n",
    "    m.Add(crude[2] <= 300)\n",
    "\n",
    "    # subject to: time limit\n",
    "    m.Add(proc[1] + proc[2] + proc[3] <= 95);\n",
    "    \n",
    "    ### END SOLUTION\n",
    "    \n",
    "    return m, m.variables()"
   ]
  },
  {
   "cell_type": "markdown",
   "metadata": {},
   "source": [
    "Now solve it!"
   ]
  },
  {
   "cell_type": "code",
   "execution_count": null,
   "metadata": {},
   "outputs": [],
   "source": [
    "m,x = oil_production()\n",
    "solve(m)"
   ]
  }
 ],
 "metadata": {
  "language_info": {
   "name": "python"
  }
 },
 "nbformat": 4,
 "nbformat_minor": 4
}
