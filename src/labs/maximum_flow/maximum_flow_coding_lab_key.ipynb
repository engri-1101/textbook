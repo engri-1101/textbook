{
 "cells": [
  {
   "cell_type": "markdown",
   "metadata": {
    "colab_type": "text",
    "id": "pkXM36r5cTcg"
   },
   "source": [
    "# Max Flow Lab\n",
    "\n",
    "**Objectives:**\n",
    "* Understand Ford-Fulkerson algorithm, in particular \n",
    "    - (use of) residual graphs\n",
    "    - backward/forward edges\n",
    "    - path in residual graph and minimum residual capacity\n",
    "    - finding s,t-cut\n",
    "* Intro to using Python\n",
    "    - intro to NetworkX\n",
    "    - using functions    \n",
    "    \n",
    "<font color='red'> **Comments in red** </font>\n",
    "\n",
    "<font color='blue'> **Solutions in blue** </font>\n",
    "    "
   ]
  },
  {
   "cell_type": "markdown",
   "metadata": {
    "colab_type": "text",
    "id": "c30NLz3mcTci"
   },
   "source": [
    "## Part 1: Ford-Fulkerson (By Hand)"
   ]
  },
  {
   "cell_type": "markdown",
   "metadata": {
    "colab_type": "text",
    "id": "2YUmy7QZcTck"
   },
   "source": [
    "In the first part of the lab, we will solve a max flow instance using the algorithm you learned in class.  This will give you\n",
    "practice using the *residual graph*."
   ]
  },
  {
   "cell_type": "markdown",
   "metadata": {
    "colab_type": "text",
    "id": "rLDVU3ZycTcl"
   },
   "source": [
    "Consider the following instance. The source (where the flow\n",
    "comes from) is node 0 and the sink (where the flow goes to) is\n",
    "node 6. The numbers on the arcs are the capacities. We would\n",
    "like to push as much flow as we can from node 0 to node 6. So how do we start?"
   ]
  },
  {
   "cell_type": "markdown",
   "metadata": {
    "colab_type": "text",
    "id": "Vxw3Kl-VcTco"
   },
   "source": [
    "![title](images-lab/graph_1.png)"
   ]
  },
  {
   "cell_type": "markdown",
   "metadata": {
    "colab_type": "text",
    "id": "5tH46joccTcp"
   },
   "source": [
    "Let's pick a path that goes from 0  to 6 (if there is any), and push as much flow as possible through this path. Say we pick the path 0-1-4-6. "
   ]
  },
  {
   "cell_type": "markdown",
   "metadata": {},
   "source": [
    "**Q:** How many units of flow can be pushed through this path?\n",
    "\n",
    "**A:** <font color='blue'> The path is (0,1),(1,4),(4,6) which have capacities 4, 7, and 6. We can push flow up to the most restrictive capacity so 4 units of flow can be pushed. </font>"
   ]
  },
  {
   "cell_type": "markdown",
   "metadata": {
    "colab_type": "text",
    "id": "Hdxz_kSYcTcu"
   },
   "source": [
    "**Q:** Is there an arc which got *saturated* (that is, no more flow can go through it)?\n",
    "\n",
    "**A:** <font color='blue'> Yes, the arc (0,1) got saturated. </font>"
   ]
  },
  {
   "cell_type": "markdown",
   "metadata": {
    "colab_type": "text",
    "id": "DBuhqzhzcTcw"
   },
   "source": [
    "Now, we write down the flow on the arcs (the flow is the number inside a box, the other is the capacity of the arc)."
   ]
  },
  {
   "cell_type": "markdown",
   "metadata": {
    "colab_type": "text",
    "id": "bsNNZN-hcTcx"
   },
   "source": [
    "![title](images-lab/graph_2.png)"
   ]
  },
  {
   "cell_type": "markdown",
   "metadata": {
    "colab_type": "text",
    "id": "_jWl_LIrcTcz"
   },
   "source": [
    "What would be the next step? We might think that it's a reasonable\n",
    "idea to decrease the capacities on the arcs of the path by the amount\n",
    "of flow we have just pushed through them, and start anew with the\n",
    "resulting graph. But this greedy approach wouldn't let us reverse flow\n",
    "on the arcs, and reversing flow is an essential part of the algorithm\n",
    "as we have seen in lecture. So instead of just decreasing the\n",
    "capacities on arcs that are on the *augmenting path*, we will\n",
    "introduce new arcs that show how much flow can be sent in the reverse\n",
    "direction between the nodes. We will draw all the original arcs that\n",
    "are not yet saturated, and also reverse arcs between those nodes where\n",
    "there is positive flow --- this flow can potentially be reversed. The resulting graph is called the *residual graph*.\n",
    "\n",
    "So, for example, arc $(1,4)$ has remaining capacity\n",
    "$7-4=3$, so we write this capacity on the arc in the residual graph.\n",
    "Also, the flow of value 4 could be sent back from 4 to 1, so we draw the arc $(4,1)$ with capacity 4 in the\n",
    "residual graph. Capacities on the arcs in the residual graph are\n",
    "called *residual capacities*. Below is the residual graph that\n",
    "corresponds to the flow in the graph. "
   ]
  },
  {
   "cell_type": "markdown",
   "metadata": {
    "colab_type": "text",
    "id": "M0DMjz__cTc0"
   },
   "source": [
    "![title](images-lab/graph_3.png)"
   ]
  },
  {
   "cell_type": "markdown",
   "metadata": {},
   "source": [
    "**Q:** What are the residual capacities for arcs (2,4), (4,6), and (6,4)?\n",
    "    \n",
    "**A:** <font color='blue'> (2,4) has residual capacity $7-0 = 7$. (4,6) has residual capacity $6-4=2$ and (6,4) has residual capacity 4.</font>"
   ]
  },
  {
   "cell_type": "markdown",
   "metadata": {
    "colab_type": "text",
    "id": "tcmX33hicTc1"
   },
   "source": [
    "**Q:** Why is there no arc from 0 to 1 in the residual graph?\n",
    "\n",
    "**A:** <font color='blue'> Because arc (0,1) is saturated so no more flow can be sent from 0 to 1, only in the reverse direction. </font>"
   ]
  },
  {
   "cell_type": "markdown",
   "metadata": {
    "colab_type": "text",
    "id": "xx1ruBlCcTc3"
   },
   "source": [
    "The residual graph tells us which arcs can have more\n",
    "flow pushed through them and in what direction. At each iteration,\n",
    "we look for a path from the source to the sink in the residual graph. If we find\n",
    "one, we can decrease flow on backwards arcs and increase flow on forwards arcs\n",
    "along this path. Then, we redraw the residual graph, look for a\n",
    "new path, and so on. When do we stop? If we can't find a path from\n",
    "source to sink in the residual graph. Does this mean that we have\n",
    "an optimal flow?  Yes, and the last residual graph lets us read\n",
    "off a minimum cut that proves it."
   ]
  },
  {
   "cell_type": "markdown",
   "metadata": {},
   "source": [
    "**Q:** Use the blank graphs below to finish the algorithm for this problem. \n",
    "At each step pick a path from 0 to 6 in the\n",
    "residual graph (start with the residual graph above), determine how\n",
    "much flow you can push through this path, draw the new flow on the\n",
    "arcs of the graph on the left, and the residual graph into the \"empty\"\n",
    "graph on the right. "
   ]
  },
  {
   "cell_type": "markdown",
   "metadata": {
    "colab_type": "text",
    "id": "tu0zJE-XcTc5"
   },
   "source": [
    "![title](images-key/q5_graph_1.png)\n",
    "![title](images-key/q5_graph_2.png)\n",
    "![title](images-key/q5_graph_3.png)\n",
    "![title](images-key/q5_graph_4.png)"
   ]
  },
  {
   "cell_type": "markdown",
   "metadata": {
    "colab_type": "text",
    "id": "SZU2J-AvcTc7"
   },
   "source": [
    "**Q:** What is the value of the optimal flow? Did you use any reverse arcs to improve the flow?\n",
    "\n",
    "**A:** <font color='blue'> The value of the optimal flow is $4+7=11$. The reverse arc (4,1) was used to improve flow. </font>"
   ]
  },
  {
   "cell_type": "markdown",
   "metadata": {
    "colab_type": "text",
    "id": "MPR3IWmCcTdA"
   },
   "source": [
    "**Q:**. Take a look at the last residual graph. Why did you stop? Which nodes can be reached by a directed path from the source in the residual graph? \n",
    "\n",
    "**A:** <font color='blue'> Stopped because there was no $s-t$ path in the residual graph. The set of nodes reachable from $s$ in the residual graph are $\\{0,2\\}$.</font>"
   ]
  },
  {
   "cell_type": "markdown",
   "metadata": {
    "colab_type": "text",
    "id": "j2BRue2gcTdB"
   },
   "source": [
    "**Q:** Draw a *cut* in the last graph on the left between those nodes that are reachable from 0 and those that are not.\n",
    "\n",
    "**A:** <font color='blue'> The cut is $S = \\{0,2\\}$ </font>"
   ]
  },
  {
   "cell_type": "markdown",
   "metadata": {
    "colab_type": "text",
    "id": "JVdAgsmAcTdD"
   },
   "source": [
    "**Q:** Add up the capacities on the arcs that cross the cut from the \"source-side\" to the \"sink-side\" (in the original graph). How does this value compare with the maximum flow? What can you now conclude about the flow you found? Give a short explanation.\n",
    "\n",
    "**A:** <font color='blue'> The capacity of the cut is the capacity of the edges (0,1) and (2,4) which sums to 11. This value is equivalent to ther max flow. Hence, the flow must be the max flow and $\\{0,2\\}$ is a min-cut. This is because the flow must be less than or equal to any cut of the graph. </font>"
   ]
  },
  {
   "cell_type": "markdown",
   "metadata": {
    "colab_type": "text",
    "id": "1VBKC-XHcTdG"
   },
   "source": [
    "## Part 2: Ford-Fulkerson (Python)"
   ]
  },
  {
   "cell_type": "markdown",
   "metadata": {
    "colab_type": "text",
    "id": "1__lkeTYcTdG"
   },
   "source": [
    "You will now use Python to help you run the Ford-Fulkerson algorithm. This lab is meant to give you a flavor of Python. We hope that the comments in the code (the lines that start with `#`) are sufficient to give an idea of what the Python commands are doing --- you are not expected to be able to code this yourself from scratch. (If you major or minor in CS you will learn this soon enough.)\n",
    "\n",
    "Note that you can run Python code in this notebook by pressing Ctrl-Enter when you have highlighted the cell with the code you want to run. You can also press Shift-Enter, to run the code, and highlight the next cell.\n",
    "\n",
    "We start by defining the input in Python. We will use the package \"NetworkX\" to manipulate and display graphs. We will consider a new max flow instance. The nodes in this instance are numbered 1, 2, 3, 4, 5 and 6, and we want to find the Maximum Flow from node 1 to node 6.\n",
    "\n",
    "Read the code below, and run it."
   ]
  },
  {
   "cell_type": "code",
   "execution_count": null,
   "metadata": {},
   "outputs": [],
   "source": [
    "# REMINDER: Select this cell and press Shift+Enter to run it\n",
    "\n",
    "# To use a package, we use the command \"import\" in Python\n",
    "import networkx as nx\n",
    "\n",
    "# G is directed graph \n",
    "G = nx.DiGraph() \n",
    "\n",
    "# We define G based on the edges, and the capacity on each edge.\n",
    "# This is one way of doing this in Python: we give a list of the endpoints of each edge and its capacity,\n",
    "# for instance, edge (1,2) is defined to have capacity 2, (1,3) capacity 5, etc.\n",
    "edgeList = [(1,2,2),(1,3,5),(2,4,1),(3,2,1),(3,5,3),(4,6,6),(5,2,1),(5,4,2),(5,6,1)]\n",
    "\n",
    "# We then create the graph based on this list.\n",
    "G.add_weighted_edges_from( edgeList, 'cap' )\n",
    "\n",
    "# Each edge will have a flow associated with it. At the start of the algorithm the flow on each edge is 0.\n",
    "# We initialize this by going through the edges in a for-loop, and then get the attribute 'flow' for this \n",
    "# edge equal to 0.\n",
    "for i, j in G.edges:\n",
    "    G.edges[i,j]['flow'] = 0"
   ]
  },
  {
   "cell_type": "markdown",
   "metadata": {
    "colab_type": "text",
    "id": "ZSq5k9aEJYE0"
   },
   "source": [
    "NOTE: Pay attention to the white space in the code: in Python white space indentation is used to signal that these commands are part of the `for`-loop."
   ]
  },
  {
   "cell_type": "markdown",
   "metadata": {
    "colab_type": "text",
    "id": "FFAD0iCDcTdQ"
   },
   "source": [
    "The code above initializes the graph, but it does not display anything. Let's run some code that shows what we are doing --- run the code below."
   ]
  },
  {
   "cell_type": "code",
   "execution_count": null,
   "metadata": {},
   "outputs": [],
   "source": [
    "# We want to display the graph --- let's give the computer the coordinates of the nodes we want.    \n",
    "pos = ((0,0),(0,10),(10,20),(10,0),(30,20),(30,0),(40,10))\n",
    "\n",
    "# And then we use NetworkX to draw the graph.\n",
    "nx.draw_networkx(G,pos,node_size=500,node_color='darkorange')"
   ]
  },
  {
   "cell_type": "markdown",
   "metadata": {
    "colab_type": "text",
    "id": "25scIxv1cTdU"
   },
   "source": [
    "As you can see, the flows and capacities are not displayed on the graph. To do this, you can run the following code."
   ]
  },
  {
   "cell_type": "code",
   "execution_count": null,
   "metadata": {},
   "outputs": [],
   "source": [
    "# We create a label for each edge that will contain the string \"flow/cap\". \n",
    "label = {}\n",
    "for i, j in G.edges:\n",
    "    label[(i,j)] = str( G.edges[i,j][\"flow\"] ) + \" / \" + str( G.edges[i,j][\"cap\"] )\n",
    "    \n",
    "# Next we draw the graph again.    \n",
    "nx.draw_networkx(G,pos,node_size=500,node_color='darkorange')\n",
    "# And now add the labels to the edges.\n",
    "nx.draw_networkx_edge_labels(G,pos,edge_labels=label);"
   ]
  },
  {
   "cell_type": "markdown",
   "metadata": {
    "colab_type": "text",
    "id": "f7N9odfvcTdc"
   },
   "source": [
    "So this is the input that we want to run the Ford-Fulkerson algorithm on. As a reminder, every iteration of the algorithm works as follows:\n",
    "\n",
    "- Create the residual graph $G_x$ based on the current flow\n",
    "- Find a path in $G_x$ from $s$ to $t$ (here from 1 to 6)\n",
    "    * If a path exists, update the flow\n",
    "    * Otherwise you have found a Maximum Flow\n",
    "    \n",
    "So first we want to create the residual graph $G_x$. Recall that we create this graph by adding forward edges with residual capacity equal to the remaining capacity of the edge on which flow could be pushed and backward edges with residual capacity equal to the flow on that edge.\n",
    "\n",
    "You will now implement this logic in the framework below. The framework is set up to iterate over the edges in the input graph, and you will add edges to the residual graph based on each of these edges, the flow of the edge, and the capacity.\n",
    "\n",
    "The Python code for adding edge $(i,j)$ to the graph that is called \"residualGraph\" is\n",
    "\n",
    "`residualGraph.add_edge( i, j )`\n",
    "\n",
    "You can give the edge $(i,j)$ an attribute \"residual capacity\" with value 5 (for instance), using the code\n",
    "\n",
    "`residualGraph.edges[i,j][ \"residual capacity\" ] = 5`\n",
    "\n",
    "Please use the attribute \"residual capacity\" to denote the residual capacity on each edge, as this will be used to plot the residual graph. There is also the attribute \"forward edge\" that you need to set to `True` or `False`, depending on whether the edge you are adding to the residual graph is a forward edge (`True`) or a backward edge (`False`)."
   ]
  },
  {
   "cell_type": "markdown",
   "metadata": {},
   "source": [
    "**Q:** Finish the code below to create the residual graph."
   ]
  },
  {
   "cell_type": "code",
   "execution_count": null,
   "metadata": {},
   "outputs": [],
   "source": [
    "# First we create the residual graph in Python.\n",
    "residualGraph = nx.DiGraph()\n",
    "\n",
    "# Next we iterate over all edges\n",
    "for i, j in G.edges:\n",
    "# We store the capacity of edge (i,j) in the variable c, and the flow in the variable f\n",
    "    c = G.edges[ i,j ]['cap']\n",
    "    f = G.edges[ i,j ]['flow'] \n",
    "    \n",
    "    # UNCOMMENT AND FINISH THE CODE BELOW\n",
    "    if( c > f ):\n",
    "#         residualGraph.add_edge(i,j)\n",
    "#         residualGraph.edges[i,j]['residual capacity'] = XXX\n",
    "#         residualGraph.edges[i,j]['forward edge'] = XXX \n",
    "\n",
    "        # SOLUTION \n",
    "        residualGraph.add_edge(i,j)\n",
    "        residualGraph.edges[i,j]['residual capacity'] = c-f\n",
    "        residualGraph.edges[i,j]['forward edge'] = True \n",
    "    if ( f > 0 ):\n",
    "#         residualGraph.add_edge( XXX, XXX )\n",
    "#         residualGraph.edges[ XXX, XXX ]['residual capacity'] = XXX\n",
    "#         residualGraph.edges[ XXX, XXX ]['forward edge'] = XXX \n",
    "\n",
    "        # SOLUTION \n",
    "        residualGraph.add_edge(j,i)\n",
    "        residualGraph.edges[j,i]['residual capacity'] = f\n",
    "        residualGraph.edges[j,i]['forward edge'] = False "
   ]
  },
  {
   "cell_type": "markdown",
   "metadata": {
    "colab_type": "text",
    "id": "l5vBpi9vcTdg"
   },
   "source": [
    "We would like to make sure our code is working as expected, so let's plot the residual graph. Run the cell below."
   ]
  },
  {
   "cell_type": "code",
   "execution_count": null,
   "metadata": {},
   "outputs": [],
   "source": [
    "nx.draw_networkx(residualGraph,pos,node_size=500,node_color='limegreen',connectionstyle='arc3, rad=0.1')\n",
    "residualcap = nx.get_edge_attributes( residualGraph, 'residual capacity' )        \n",
    "nx.draw_networkx_edge_labels(residualGraph,pos,edge_labels=residualcap,label_pos=0.66);"
   ]
  },
  {
   "cell_type": "markdown",
   "metadata": {
    "colab_type": "text",
    "id": "JjU-TI53cTdm"
   },
   "source": [
    "The nodes are drawn in green as a visual reminder that we are looking at the residual graph. Also, the edges are drawn with a slight bend, because we know there will often be both an arc $(i,j)$ and $(j,i)$ in the residual graph. The residual capacities are given closer to the tail of the edges.\n",
    "\n",
    "Let's now do an iteration of Ford-Fulkerson. \n",
    "\n",
    "**Q:** Find a path from 1 to 6 in the residual graph, and define delta to be the minimum residual capacity of the edges in this path.\n",
    "\n",
    "You can define a path in Python by listing the edges in the path as follows:\n",
    "\n",
    "`path = [(1,2),(2,3)]` \n",
    "\n",
    "defines the path with edges (1,2) and (2,3)."
   ]
  },
  {
   "cell_type": "code",
   "execution_count": null,
   "metadata": {},
   "outputs": [],
   "source": [
    "# UNCOMMENT AND FINISH THIS CODE\n",
    "# flowpath = []\n",
    "# delta = \n",
    "\n",
    "#SOLUTION\n",
    "flowpath = [(1,3),(3,5),(5,6)]\n",
    "delta = 1"
   ]
  },
  {
   "cell_type": "markdown",
   "metadata": {
    "colab_type": "text",
    "id": "A5ji3iTfcTdr"
   },
   "source": [
    "**Q:** Let's update the flow according to what you found above. \n",
    "\n",
    "Recall that updating the flow in $G$ is different for forward and backwards edges in the residual graph."
   ]
  },
  {
   "cell_type": "code",
   "execution_count": null,
   "metadata": {},
   "outputs": [],
   "source": [
    " # FINISH THE CODE BELOW\n",
    "for i, j in flowpath:\n",
    "    if residualGraph.edges[i,j]['forward edge']:\n",
    "        G.edges[i,j]['flow'] = G.edges[i,j]['flow'] + delta\n",
    "    else:\n",
    "        G.edges[j,i]['flow'] = G.edges[j,i]['flow'] - delta"
   ]
  },
  {
   "cell_type": "markdown",
   "metadata": {
    "colab_type": "text",
    "id": "i9lj4yTkcTdy"
   },
   "source": [
    "Let's plot the graph with the current flow."
   ]
  },
  {
   "cell_type": "code",
   "execution_count": null,
   "metadata": {},
   "outputs": [],
   "source": [
    "label = {}\n",
    "for i, j in G.edges:\n",
    "    label[(i,j)] = str( G.edges[i,j][\"flow\"] ) + \" / \" + str( G.edges[i,j][\"cap\"] ) \n",
    "nx.draw_networkx(G,pos,node_size=500,node_color='darkorange')\n",
    "nx.draw_networkx_edge_labels(G,pos,edge_labels=label);"
   ]
  },
  {
   "cell_type": "markdown",
   "metadata": {
    "colab_type": "text",
    "id": "URnoHJtxcTd2"
   },
   "source": [
    "This concludes the first iteration of the Ford-Fulkerson Algorithm! Let's do this again! Did you notice we used the same code to plot the flow graph? When we have code we want to reuse, we should make a \"function\". You can do this in Python using the command \"def\". As an example, let's define a function to plot the graph with the current flow, called PlotFlow():"
   ]
  },
  {
   "cell_type": "code",
   "execution_count": null,
   "metadata": {},
   "outputs": [],
   "source": [
    "def PlotFlow():\n",
    "    label = {}\n",
    "    for i, j in G.edges:\n",
    "        label[(i,j)] = str( G.edges[i,j][\"flow\"] ) + \" / \" + str( G.edges[i,j][\"cap\"] )\n",
    "    nx.draw_networkx(G,pos,node_size=500,node_color='darkorange')\n",
    "    nx.draw_networkx_edge_labels(G,pos,edge_labels=label);"
   ]
  },
  {
   "cell_type": "markdown",
   "metadata": {
    "colab_type": "text",
    "id": "3GTyno-TcTd8"
   },
   "source": [
    "After running the code in the cell above, it now suffices to just type\n",
    "\n",
    "`PlotFlow()`\n",
    "\n",
    "to see the current flow.\n",
    "\n",
    "**Q:** Try this in the next cell."
   ]
  },
  {
   "cell_type": "code",
   "execution_count": null,
   "metadata": {},
   "outputs": [],
   "source": [
    "#SOLUTION\n",
    "PlotFlow()"
   ]
  },
  {
   "cell_type": "markdown",
   "metadata": {},
   "source": [
    "Great! Let's do the same thing for plotting the residual graph. "
   ]
  },
  {
   "cell_type": "markdown",
   "metadata": {
    "colab_type": "text",
    "id": "YtdvijC7cTeB"
   },
   "source": [
    "**Q:** Finish the code below, by copying the appropriate code from cells above. \n",
    "\n",
    "The function should first determine the residual graph, and then plot it. (The declaration `global residualGraph` is there to make sure that the variable residualGraph in the workbook is updated, and not just a new variable that only exists inside the function.)"
   ]
  },
  {
   "cell_type": "code",
   "execution_count": null,
   "metadata": {},
   "outputs": [],
   "source": [
    "def PlotResidualGraph():\n",
    "\n",
    "    global residualGraph\n",
    "    \n",
    "    # COPY AND PASTE THE APPROPRIATE CODE HERE\n",
    "\n",
    "    # SOLUTION\n",
    "    residualGraph = nx.DiGraph()\n",
    "\n",
    "    # Next we iterate over all edges\n",
    "    for i, j in G.edges:\n",
    "    # We store the capacity of edge (i,j) in the variable c, and the flow in the variable f\n",
    "        c = G.edges[ i,j ]['cap']\n",
    "        f = G.edges[ i,j ]['flow'] \n",
    "\n",
    "        if( c > f ):\n",
    "            residualGraph.add_edge( i, j )\n",
    "            residualGraph.edges[i,j]['residual capacity'] = c - f\n",
    "            residualGraph.edges[i,j]['forward edge'] = True \n",
    "\n",
    "        if ( f > 0 ):\n",
    "            residualGraph.add_edge( j, i )\n",
    "            residualGraph.edges[j,i]['residual capacity'] = f\n",
    "            residualGraph.edges[j,i]['forward edge'] = False \n",
    "\n",
    "    nx.draw_networkx(residualGraph,pos,node_size=500,node_color='limegreen',connectionstyle='arc3, rad=0.1')\n",
    "    residualcap = nx.get_edge_attributes( residualGraph, 'residual capacity' )        \n",
    "    nx.draw_networkx_edge_labels(residualGraph,pos,edge_labels=residualcap,label_pos=0.66);"
   ]
  },
  {
   "cell_type": "markdown",
   "metadata": {},
   "source": [
    "You can check that your function is working by running the cell below."
   ]
  },
  {
   "cell_type": "code",
   "execution_count": null,
   "metadata": {},
   "outputs": [],
   "source": [
    "PlotResidualGraph()"
   ]
  },
  {
   "cell_type": "markdown",
   "metadata": {
    "colab_type": "text",
    "id": "C9L9XJQZNMgM"
   },
   "source": [
    "As a reminder: The residual capacities are given closer to the tail of the edges than the head, again, because there will often be two edges between $i$ and $j$."
   ]
  },
  {
   "cell_type": "markdown",
   "metadata": {
    "colab_type": "text",
    "id": "XU0c3TXRcTeJ"
   },
   "source": [
    "**Q:** Find another 1 to 6 path in the residual graph, and find the minimum residual capacity of the edges on this path."
   ]
  },
  {
   "cell_type": "code",
   "execution_count": null,
   "metadata": {},
   "outputs": [],
   "source": [
    "# flowpath = []\n",
    "# delta = \n",
    "\n",
    "#SOLUTION\n",
    "flowpath = [(1,2),(2,4),(4,6)]\n",
    "delta = 1"
   ]
  },
  {
   "cell_type": "markdown",
   "metadata": {
    "colab_type": "text",
    "id": "p9udBRBAcTeN"
   },
   "source": [
    "Let's update the flow again but this time make a function.\n",
    "\n",
    "**Q:** Copy your code from Q12 to create a function that updates the flow according to the variables flowpath and delta"
   ]
  },
  {
   "cell_type": "code",
   "execution_count": null,
   "metadata": {},
   "outputs": [],
   "source": [
    "def UpdateFlow():\n",
    "    # COPY YOUR CODE HERE\n",
    "    \n",
    "    # SOLUTION\n",
    "    for i, j in flowpath:\n",
    "        if residualGraph.edges[i,j]['forward edge']:\n",
    "            G.edges[i,j]['flow'] = G.edges[i,j]['flow'] + delta\n",
    "        else:\n",
    "            G.edges[j,i]['flow'] = G.edges[j,i]['flow'] - delta"
   ]
  },
  {
   "cell_type": "markdown",
   "metadata": {
    "colab_type": "text",
    "id": "NcjvDy1TcTeS"
   },
   "source": [
    "Run this cell to update the flow."
   ]
  },
  {
   "cell_type": "code",
   "execution_count": null,
   "metadata": {},
   "outputs": [],
   "source": [
    "UpdateFlow()"
   ]
  },
  {
   "cell_type": "markdown",
   "metadata": {
    "colab_type": "text",
    "id": "Uz86KsuGcTeW"
   },
   "source": [
    "And run this cell to view the new flow graph."
   ]
  },
  {
   "cell_type": "code",
   "execution_count": null,
   "metadata": {},
   "outputs": [],
   "source": [
    "PlotFlow()"
   ]
  },
  {
   "cell_type": "markdown",
   "metadata": {
    "colab_type": "text",
    "id": "3hDKkgHccTea"
   },
   "source": [
    "Let's do another iteration!"
   ]
  },
  {
   "cell_type": "code",
   "execution_count": null,
   "metadata": {},
   "outputs": [],
   "source": [
    "PlotResidualGraph()"
   ]
  },
  {
   "cell_type": "markdown",
   "metadata": {
    "colab_type": "text",
    "id": "h_-cOBdlcTee"
   },
   "source": [
    "**Q:** Find another path."
   ]
  },
  {
   "cell_type": "code",
   "execution_count": null,
   "metadata": {},
   "outputs": [],
   "source": [
    "# flowpath = []\n",
    "# delta = \n",
    "\n",
    "#SOLUTION\n",
    "flowpath = [(1,3),(3,5),(5,4),(4,6)]\n",
    "delta = 2"
   ]
  },
  {
   "cell_type": "code",
   "execution_count": null,
   "metadata": {},
   "outputs": [],
   "source": [
    "UpdateFlow()"
   ]
  },
  {
   "cell_type": "code",
   "execution_count": null,
   "metadata": {},
   "outputs": [],
   "source": [
    "PlotFlow()"
   ]
  },
  {
   "cell_type": "code",
   "execution_count": null,
   "metadata": {},
   "outputs": [],
   "source": [
    "PlotResidualGraph()"
   ]
  },
  {
   "cell_type": "markdown",
   "metadata": {},
   "source": [
    "Did we find an optimal flow?  If you did the previous iterations correctly, there is no longer a path from 1 to 6 in the residual graph. Recall that this means that the flow is optimal, and you can show this by exhibiting a cut that has capacity equal to the flow value. This cut can be found using a \"Labeling algorithm\" that maintains a list of checked nodes that it still needs to process. "
   ]
  },
  {
   "cell_type": "markdown",
   "metadata": {},
   "source": [
    "<font color='red'> ---------------This may serve as a good place to split lab----------------------</font>"
   ]
  },
  {
   "cell_type": "markdown",
   "metadata": {},
   "source": [
    "## Part 3: Labeling Algorithm "
   ]
  },
  {
   "cell_type": "markdown",
   "metadata": {
    "colab_type": "text",
    "id": "wQYXgnJMcTer"
   },
   "source": [
    "### Labeling algorithm \n",
    "- Mark $s$ with a $\\checkmark$. Let the list initially contain just node $s$.\n",
    "- Until the list is empty:\n",
    "    * Take any node (e.g., the first one) off of the list. Suppose that $i$ is the name of this node. For each arc leaving $i$, that is, each $(i,j) \\in E_x$, if $j$ is unchecked, check it and add it to the list.\n",
    "\n",
    "The nodes that have been checked are those nodes that are reachable from $s$ by a path in $G_x$.\n",
    "\n",
    "Let's implement this \"labeling algorithm\"."
   ]
  },
  {
   "cell_type": "code",
   "execution_count": null,
   "metadata": {},
   "outputs": [],
   "source": [
    "# we first make all nodes except node 1 unchecked\n",
    "for i in G.nodes:\n",
    "    G.nodes[i][\"check\"] = False\n",
    "G.nodes[1][\"check\"] = True\n",
    "\n",
    "# then we initialize the list of checked nodes that we still need to process\n",
    "list = { 1 }\n",
    "\n",
    "# until the list is empty\n",
    "while ( len( list ) > 0 ):\n",
    "    # take any node off of the list\n",
    "    i = list.pop() \n",
    "    \n",
    "    # for each arc leaving i, that is (i,j) in the edge set of the residual graph\n",
    "    for j in residualGraph.neighbors(i):\n",
    "        # if j is unchecked        \n",
    "        if not G.nodes[j][\"check\"]:\n",
    "            # check it\n",
    "            G.nodes[j][\"check\"] = True\n",
    "            # and add it to the list\n",
    "            list.add( j )\n",
    "\n",
    "# finally we output the checked nodes\n",
    "for i in G.nodes:\n",
    "    if G.nodes[i][\"check\"]:\n",
    "        print( i )"
   ]
  },
  {
   "cell_type": "markdown",
   "metadata": {
    "colab_type": "text",
    "id": "EXP9OuyEcTev"
   },
   "source": [
    "**Q:** What is the cut that the \"labeling algorithm\" finds? What is the capacity of the cut?\n",
    "\n",
    "**A:** <font color='blue'> The cut the labeling algorithm finds is $S = \\{1,2,3\\}$ with capacity 4. </font>"
   ]
  },
  {
   "cell_type": "markdown",
   "metadata": {
    "colab_type": "text",
    "id": "hzfOGrlLcTex"
   },
   "source": [
    "We can modify the code to find a path in the residual graph if there is one, by keeping track of the node $i$ we came from when we first check a node $j$. We can do this by adding another attribute to the nodes, called \"prev\", and defining this in the algorithm. As soon as we encounter node 6 we can backtrack using \"prev\" to find the path.\n",
    "\n",
    "**Q:** Modify the code to include this idea.\n",
    "Add the missing line in the following function."
   ]
  },
  {
   "cell_type": "code",
   "execution_count": null,
   "metadata": {},
   "outputs": [],
   "source": [
    "def LabelingAlgorithm():\n",
    "    # we first make all nodes except node 1 unchecked\n",
    "    for i in G.nodes:\n",
    "        G.nodes[i][\"check\"] = False\n",
    "    G.nodes[1][\"check\"] = True\n",
    "\n",
    "    # then we initialize the list of checked nodes that we still need to process\n",
    "    list = { 1 }\n",
    "\n",
    "    # until the list is empty\n",
    "    while ( len( list ) > 0 ):\n",
    "        # take any node off of the list\n",
    "        i = list.pop() \n",
    "\n",
    "        # for each arc leaving i, that is (i,j) in the edge set of the residual graph\n",
    "        for j in residualGraph.neighbors(i):\n",
    "            # if j is unchecked        \n",
    "            if not G.nodes[j][\"check\"]:\n",
    "                # check it\n",
    "                G.nodes[j][\"check\"] = True\n",
    "                \n",
    "                # ADD YOUR CODE HERE\n",
    "                G.nodes[j][\"prev\"] = i\n",
    "                  \n",
    "                # and add it to the list\n",
    "                list.add( j )"
   ]
  },
  {
   "cell_type": "markdown",
   "metadata": {
    "colab_type": "text",
    "id": "mfdg1FWDcTe2"
   },
   "source": [
    "Let's start with the same graph again."
   ]
  },
  {
   "cell_type": "code",
   "execution_count": null,
   "metadata": {},
   "outputs": [],
   "source": [
    "G = nx.DiGraph()  # Create a directed graph\n",
    "edgeList = [(1,2,2),(1,3,5),(2,4,1),(3,2,1),(3,5,3),(4,6,6),(5,2,1),(5,4,2),(5,6,1)]  # create edges / capacities\n",
    "G.add_weighted_edges_from( edgeList, 'cap' )  # add edges / capacities to graph\n",
    "for i, j in G.edges:\n",
    "    G.edges[i,j]['flow'] = 0 # set flows to zero"
   ]
  },
  {
   "cell_type": "markdown",
   "metadata": {
    "colab_type": "text",
    "id": "4v2VwLubcTe5"
   },
   "source": [
    "Let's plot the flow and the residual graphs."
   ]
  },
  {
   "cell_type": "code",
   "execution_count": null,
   "metadata": {},
   "outputs": [],
   "source": [
    "PlotFlow()"
   ]
  },
  {
   "cell_type": "code",
   "execution_count": null,
   "metadata": {},
   "outputs": [],
   "source": [
    "PlotResidualGraph()"
   ]
  },
  {
   "cell_type": "markdown",
   "metadata": {
    "colab_type": "text",
    "id": "EmxoTdJOcTfB"
   },
   "source": [
    "Run the labeling algorithm."
   ]
  },
  {
   "cell_type": "code",
   "execution_count": null,
   "metadata": {},
   "outputs": [],
   "source": [
    "LabelingAlgorithm()"
   ]
  },
  {
   "cell_type": "markdown",
   "metadata": {
    "colab_type": "text",
    "id": "bCynevo2cTfD"
   },
   "source": [
    "We can now use the atribute \"check\" to see whether node 6 is reachable from node 1 in the residual graph.\n",
    "\n",
    "**Q:** Print the attribute \"check\" of node 6."
   ]
  },
  {
   "cell_type": "code",
   "execution_count": null,
   "metadata": {},
   "outputs": [],
   "source": [
    "# print()\n",
    "\n",
    "#SOLUTION\n",
    "print(G.nodes[6][\"check\"])"
   ]
  },
  {
   "cell_type": "markdown",
   "metadata": {
    "colab_type": "text",
    "id": "TSk8J4nvcTfG"
   },
   "source": [
    "Let's use the \"prev\" attribute to find a path from 1 to 6 in the residual graph. Run the cell to generate the augmenting path in the residual graph."
   ]
  },
  {
   "cell_type": "code",
   "execution_count": null,
   "metadata": {},
   "outputs": [],
   "source": [
    "j = 6\n",
    "flowpath = []\n",
    "while j != 1:\n",
    "    i = G.nodes[j][\"prev\"]\n",
    "    flowpath.insert( 0, (i,j) )\n",
    "    j = i\n",
    "print(flowpath)"
   ]
  },
  {
   "cell_type": "markdown",
   "metadata": {
    "colab_type": "text",
    "id": "LkxaLiNtcTfK"
   },
   "source": [
    "And let's find the minimum residual capacity on this path. You can use ```math.min(a,b)``` to get the minimum of the numbers ```a``` and ```b```. A nice trick is starting off by defining delta to be ```math.inf```.\n",
    "\n",
    "**Q:** Finish the code below to find the minimum residual capacity on path."
   ]
  },
  {
   "cell_type": "code",
   "execution_count": null,
   "metadata": {},
   "outputs": [],
   "source": [
    "import math\n",
    "\n",
    "delta = math.inf\n",
    "for i, j in flowpath:\n",
    "    # UNCOMMENT AND FINISH THIS CODE\n",
    "    # delta = min( XXX, XXX )\n",
    "\n",
    "    # SOLUTION\n",
    "    delta = min( delta, residualGraph.edges[i,j]['residual capacity'] )\n",
    "    \n",
    "print( delta )"
   ]
  },
  {
   "cell_type": "markdown",
   "metadata": {
    "colab_type": "text",
    "id": "joOCQlFccTfM"
   },
   "source": [
    "Now we can use the function defined earlier to update the flow!"
   ]
  },
  {
   "cell_type": "code",
   "execution_count": null,
   "metadata": {},
   "outputs": [],
   "source": [
    "UpdateFlow()\n",
    "PlotFlow()"
   ]
  },
  {
   "cell_type": "code",
   "execution_count": null,
   "metadata": {},
   "outputs": [],
   "source": [
    "PlotResidualGraph()"
   ]
  },
  {
   "cell_type": "markdown",
   "metadata": {
    "colab_type": "text",
    "id": "f-TdlBtscTfR"
   },
   "source": [
    "Let's run the labelling algorithm again."
   ]
  },
  {
   "cell_type": "code",
   "execution_count": null,
   "metadata": {},
   "outputs": [],
   "source": [
    "LabelingAlgorithm()"
   ]
  },
  {
   "cell_type": "markdown",
   "metadata": {
    "colab_type": "text",
    "id": "ldvEa3YacTfV"
   },
   "source": [
    "Let's make a new function to find and print an $s-t$ path in the residual graph and its corresponding delta.\n",
    "\n",
    "**Q:** Finish the code by copy and pasting code from earlier in this workbook."
   ]
  },
  {
   "cell_type": "code",
   "execution_count": null,
   "metadata": {},
   "outputs": [],
   "source": [
    "def PrintPathAndDelta():\n",
    "    global flowpath, delta\n",
    "    \n",
    "    # ADD YOUR CODE HERE\n",
    "\n",
    "    # SOLUTION\n",
    "    j = 6\n",
    "    flowpath = []\n",
    "    while j != 1:\n",
    "        i = G.nodes[j][\"prev\"]\n",
    "        flowpath.insert( 0, (i,j) )\n",
    "        j = i\n",
    "    print(flowpath)\n",
    "    \n",
    "    delta = math.inf\n",
    "    for i, j in flowpath:\n",
    "        delta = min( delta, residualGraph.edges[i,j]['residual capacity'] )\n",
    "    print( delta )"
   ]
  },
  {
   "cell_type": "markdown",
   "metadata": {
    "colab_type": "text",
    "id": "tQJO9Bt_cTfY"
   },
   "source": [
    "Run this cell to make sure your function works as expected."
   ]
  },
  {
   "cell_type": "code",
   "execution_count": null,
   "metadata": {},
   "outputs": [],
   "source": [
    "PrintPathAndDelta()"
   ]
  },
  {
   "cell_type": "markdown",
   "metadata": {
    "colab_type": "text",
    "id": "xblHSCCdcTfc"
   },
   "source": [
    "Let's update the flow again."
   ]
  },
  {
   "cell_type": "code",
   "execution_count": null,
   "metadata": {},
   "outputs": [],
   "source": [
    "UpdateFlow()\n",
    "PlotFlow()"
   ]
  },
  {
   "cell_type": "code",
   "execution_count": null,
   "metadata": {},
   "outputs": [],
   "source": [
    "PlotResidualGraph()"
   ]
  },
  {
   "cell_type": "markdown",
   "metadata": {},
   "source": [
    "# Part 4: Putting Everything Together"
   ]
  },
  {
   "cell_type": "markdown",
   "metadata": {
    "colab_type": "text",
    "id": "_zNjfih7cTfg"
   },
   "source": [
    "You're probably getting a bit sick from pressing Ctrl-Enter every time. Let's automate the procedure!"
   ]
  },
  {
   "cell_type": "code",
   "execution_count": null,
   "metadata": {},
   "outputs": [],
   "source": [
    "import matplotlib.pyplot as plt # use this to prevent graphs from displaying on top of eachother\n",
    "\n",
    "# Define the input graph\n",
    "G = nx.DiGraph() \n",
    "edgeList = [(1,2,2),(1,3,5),(2,4,1),(3,2,1),(3,5,3),(4,6,6),(5,2,1),(5,4,2),(5,6,1)]\n",
    "G.add_weighted_edges_from( edgeList, 'cap' )\n",
    "for i, j in G.edges:\n",
    "    G.edges[i,j]['flow'] = 0\n",
    "\n",
    "PlotResidualGraph() # plot the residual graph\n",
    "LabelingAlgorithm() # run the labeling algorithm to find a s-t path in the residual graph\n",
    "while G.nodes[6][\"check\"]: # while there is an s-t path in the residual graph\n",
    "    plt.figure()\n",
    "    PrintPathAndDelta() # show it\n",
    "    UpdateFlow() # update the flow\n",
    "    PlotResidualGraph() # plot the new residual graph\n",
    "    LabelingAlgorithm() # run the labeling algorithm to find a s-t path in the new residual graph"
   ]
  },
  {
   "cell_type": "markdown",
   "metadata": {
    "colab_type": "text",
    "id": "MW-ce1NwcTfl"
   },
   "source": [
    "Let's have a look at the maximum flow."
   ]
  },
  {
   "cell_type": "code",
   "execution_count": null,
   "metadata": {},
   "outputs": [],
   "source": [
    "PlotFlow()"
   ]
  },
  {
   "cell_type": "markdown",
   "metadata": {
    "colab_type": "text",
    "id": "kb4TekNdcTf0"
   },
   "source": [
    "And let's also display the cut.\n",
    "\n",
    "**Q:** Use the code from earlier to print the nodes that are \"checked\"."
   ]
  },
  {
   "cell_type": "code",
   "execution_count": null,
   "metadata": {},
   "outputs": [],
   "source": [
    "# SOLUTION\n",
    "for i in G.nodes:\n",
    "    if G.nodes[i][\"check\"]:\n",
    "        print( i )"
   ]
  },
  {
   "cell_type": "markdown",
   "metadata": {
    "colab_type": "text",
    "id": "OmXmdV9FcTf4"
   },
   "source": [
    "You now have implemented the Ford-Fulkerson algorithm in Python! With a few more tweaks you could use this on any graph."
   ]
  },
  {
   "cell_type": "markdown",
   "metadata": {
    "colab_type": "text",
    "id": "RzYirUzccTf4"
   },
   "source": [
    "**Bonus:** You have seen all the ingredients necessary to also implement Dijkstra's algorithm for the Shortest Path Problem. Implement this algorithm in Python."
   ]
  }
 ],
 "metadata": {
  "language_info": {
   "name": "python"
  }
 },
 "nbformat": 4,
 "nbformat_minor": 1
}
