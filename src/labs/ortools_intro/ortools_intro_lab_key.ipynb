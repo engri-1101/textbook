{
 "cells": [
  {
   "cell_type": "markdown",
   "metadata": {},
   "source": [
    "# Introduction to OR-Tools \n",
    "\n",
    "In this recitation, we will learn how to solve simple linear and integer programs using OR-Tools.\n",
    "\n",
    "You can work in pairs or individually. Answer the questions in the blank Markdown cells, and turn this notebook in on Gradescope. If you work with a partner, you and your partner need only turn in one copy.\n",
    "\n",
    "<font color='blue'>**Solutions in blue.**</font>"
   ]
  },
  {
   "cell_type": "code",
   "execution_count": null,
   "metadata": {},
   "outputs": [],
   "source": [
    "# Run this cell to import necessary packages!\n",
    "import pandas as pd\n",
    "from ortools.linear_solver import pywraplp as OR"
   ]
  },
  {
   "cell_type": "markdown",
   "metadata": {},
   "source": [
    "## Part 1: Solving an LP using OR-Tools"
   ]
  },
  {
   "cell_type": "markdown",
   "metadata": {},
   "source": [
    "We will model our use of OR-Tools after AMPL. AMPL describes linear programs using model files: files that have the suffix `.mod`. The model file is a general model, which might not include actual numbers or “data”. The data for the AMPL model can be included in a separate file, a data file, which are files with the suffix `.dat`. In OR-Tools, model files will be implemented as functions which take data in the form of numbers, lists, CSV files, etc.."
   ]
  },
  {
   "cell_type": "markdown",
   "metadata": {},
   "source": [
    "Let's begin by examining the following model:"
   ]
  },
  {
   "cell_type": "code",
   "execution_count": null,
   "metadata": {},
   "outputs": [],
   "source": [
    "def net1(cities, links):\n",
    "    \"\"\"An example OR-Tools `model` file.\"\"\"\n",
    "    CITIES = list(cities.index)             \n",
    "    LINKS = list(links.index) \n",
    "    \n",
    "    supply = cities['supply'].to_dict()     # amounts available at cities\n",
    "    demand = cities['demand'].to_dict()     # amounts required at cities\n",
    "    \n",
    "    assert sum(supply[i] for i in CITIES) == sum(demand[j] for j in CITIES)\n",
    "    \n",
    "    cost = links['cost'].to_dict()          # shipment costs/1000 packages\n",
    "    capacity = links['capacity'].to_dict()  # max packages that can be shipped\n",
    "    \n",
    "    # define model\n",
    "    m = OR.Solver('net1', OR.Solver.CBC_MIXED_INTEGER_PROGRAMMING)\n",
    "    \n",
    "    # decision variables\n",
    "    x = {}  # packages to be shipped\n",
    "    for i,j in LINKS:\n",
    "        x[i,j] = m.NumVar(0, capacity[i,j], ('(%s, %s)' % (i,j)))\n",
    "            \n",
    "    # objective function : Total_Cost\n",
    "    m.Minimize(sum(cost[i,j] * x[i,j] for i,j in LINKS))\n",
    "    \n",
    "    # subject to: Balance\n",
    "    for k in CITIES:\n",
    "        m.Add(supply[k] + sum(x[i,j] for i,j in LINKS if j == k) ==\n",
    "              demand[k] + sum(x[i,j] for i,j in LINKS if i == k))\n",
    "        \n",
    "    \n",
    "    return m, x"
   ]
  },
  {
   "cell_type": "markdown",
   "metadata": {},
   "source": [
    "**Q1:** Try to understand what this model is doing. Write the analogous linear program in standard mathematical notation. Clearly specify what the decision variables, the objective function, and the constraints are.\n",
    "\n",
    "**A:** <font color='blue'> Let $x_{ij}$ be the number of units shipped from $i$ to $j$, for each $(i, j) \\in E$.\n",
    "Then, our linear program is: \n",
    "    \n",
    "$$\\begin{align*}\n",
    "\\min \\quad & \\sum_{(i,j) \\in E} c_{ij}x_{ij}\\\\\n",
    "\\text{s.t.} \\quad & s_k + \\sum_{(i,k) \\in E} x_{ik} = d_k + \\sum_{(k,j) \\in E} x_{kj} \\quad \\forall k \\in N \\\\\n",
    "\\quad & 0 \\leq x_{ij} \\leq u_{ij} \\quad \\forall (i,j) \\in E\n",
    "\\end{align*}$$\n",
    "\n",
    "</font> "
   ]
  },
  {
   "cell_type": "markdown",
   "metadata": {},
   "source": [
    "Notice that the model does not contain the actual numbers, but the data file supply this concrete information. Let's load the data and view it now."
   ]
  },
  {
   "cell_type": "code",
   "execution_count": null,
   "metadata": {},
   "outputs": [],
   "source": [
    "cities = pd.read_csv('data/net1_cities.csv', index_col=0)\n",
    "display(cities)\n",
    "links = pd.read_csv('data/net1_links.csv')\n",
    "links['link'] = list(zip(links['i'],links['j']))\n",
    "links = links.set_index('link')\n",
    "display(links)"
   ]
  },
  {
   "cell_type": "markdown",
   "metadata": {},
   "source": [
    "**Q2:** Convert this input to a graph that you should draw below.\n",
    "\n",
    "**A:** <font color='blue'> <img src=\"images-key/net1_graph.png\" width=\"600\" height=\"450\" /> </font> "
   ]
  },
  {
   "cell_type": "markdown",
   "metadata": {},
   "source": [
    "**Q3:** Try to figure out the optimal solution by hand. Do not use the simplex method, but try to guess\n",
    "a solution and try to reason that it is optimal. Draw the solution (flow values on each edge) on\n",
    "your graph above. (This exercise is meant to build up your intuition, which is important. Do not\n",
    "worry if your solution here does not turn out to be the “correct” one.)\n",
    "\n",
    "**A:** <font color='blue'> Will vary. </font> "
   ]
  },
  {
   "cell_type": "markdown",
   "metadata": {},
   "source": [
    "If we wish to solve this input, we can load the data into the model by running the following line:"
   ]
  },
  {
   "cell_type": "code",
   "execution_count": null,
   "metadata": {},
   "outputs": [],
   "source": [
    "m, x = net1(cities, links)"
   ]
  },
  {
   "cell_type": "markdown",
   "metadata": {},
   "source": [
    "We can then define this solve function to solve the input, print the objective value, and display the decision variables."
   ]
  },
  {
   "cell_type": "code",
   "execution_count": null,
   "metadata": {},
   "outputs": [],
   "source": [
    "def solve(m):\n",
    "    m.Solve()\n",
    "    print('Solution:')\n",
    "    print('Objective value =', m.Objective().Value())\n",
    "    for var in m.variables():\n",
    "        print(var.name(), ':',  var.solution_value())"
   ]
  },
  {
   "cell_type": "code",
   "execution_count": null,
   "metadata": {},
   "outputs": [],
   "source": [
    "solve(m)"
   ]
  },
  {
   "cell_type": "markdown",
   "metadata": {},
   "source": [
    "**Q4:** Run the cell above to solve the model. Write down the optimal solution and the corresponding objective value in the space below. Did you get the right solution before?\n",
    "\n",
    "**A:**  <font color='blue'> Optimal objective value is 1819.\n",
    "   \n",
    "| variable     | value |\n",
    "|-----------|-------|\n",
    "| (PITT, NE) | 250.0 |\n",
    "| (PITT, SE) | 200.0 |\n",
    "| (NE, BOS)  | 90.0 |\n",
    "| (NE, EWR)  | 100.0 |\n",
    "| (NE, BWI)  | 60.0 |\n",
    "| (SE, EWR)  | 20.0 |\n",
    "| (SE, BWI)  | 60.0 |\n",
    "| (SE, ATL)  | 70.0 |\n",
    "| (SE, MCO)  | 50.0 |\n",
    "\n",
    "</font> "
   ]
  },
  {
   "cell_type": "markdown",
   "metadata": {},
   "source": [
    "## Part 2: Writing your own OR-Tools model\n",
    "\n",
    "In this section, we will review the structure of the OR-Tools model and data files. We will do this by writing\n",
    "an OR-Tools model for the following simple minimum-cost network flow problem. The number next to\n",
    "each node is the supply value of the node. The first number next to each edge is the edge cost while the\n",
    "second number is the edge capacity."
   ]
  },
  {
   "cell_type": "markdown",
   "metadata": {},
   "source": [
    "<img src=\"images-lab/graph.png\" width=\"500\" height=\"380\" />"
   ]
  },
  {
   "cell_type": "markdown",
   "metadata": {},
   "source": [
    "**Q5:** First, write a linear program for this problem in standard mathematical notation. Clearly specify\n",
    "what the decision variables, the objective function, and the constraints are.\n",
    "In particular, for each of the four nodes, write the flow-conservation constraint explicitly.\n",
    "\n",
    "**A:** <font color='blue'> Let $x_{ij}$ be the flow from $i$ to $j$, for each $(i,j) \\in E$.\n",
    "Then, our linear program is: \n",
    "    \n",
    "$$\\begin{align*}\n",
    "\\min \\quad & \\sum_{(i,j) \\in E} c_{ij}x_{ij}\\\\\n",
    "\\text{s.t.} \\quad & x_{12} + x_{13} = 10 \\\\\n",
    "\\quad & x_{24} + x_{23} - (x_{12} + x_{32})= 0  \\\\\n",
    "\\quad & x_{34} + x_{32} - (x_{13} + x_{23})= 0 \\\\\n",
    "\\quad & -(x_{24} + x_{34}) = -10 \\\\\n",
    "\\quad & 0 \\leq x_{ij} \\leq u_{ij} \\quad \\forall (i,j) \\in E \\\\\n",
    "\\end{align*}$$\n",
    "\n",
    "</font> "
   ]
  },
  {
   "cell_type": "markdown",
   "metadata": {},
   "source": [
    "The remainder of this section will guide you step-by-step how to model this problem in OR-Tools. Please write your model in the blank function `rec1` before **Q10**. If\n",
    "you feel comfortable with OR-Tools, feel free to work on this on your own and skip ahead to **Q10**.\n",
    "\n",
    "**Note that although this model will be similar to `net1`, we advise that you to start from scratch, typing everything by hand.**\n",
    "\n",
    "Next, based on the above linear program, we will write the model file, which describe a general\n",
    "minimum-cost network flow problem. (So, this model file should not specifically mention the\n",
    "four nodes and six edges in the above graph.)\n",
    "\n",
    "The following are the basic components of an OR-Tools model. (It is best, for now, that you write\n",
    "the components your OR-Tools model file in this order to avoid potential errors.)\n",
    "\n",
    "    a) Set declarations\n",
    "    b) Parameter declarations\n",
    "    c) Input checks\n",
    "    d) Define model\n",
    "    e) Variable declarations\n",
    "    f) Objective function\n",
    "    g) Constraints\n",
    "    \n",
    "We will elaborate each of the components below:"
   ]
  },
  {
   "cell_type": "markdown",
   "metadata": {},
   "source": [
    "**Set declarations:** Here, you tell OR-Tools what sets you will be using. In our problem, we deal with the set of nodes and the set of edges in the graph. By convention, you should name sets in UPPERCASE. The way you define a set will depend on the type of data coming in to your model. Here are the two most common cases:\n",
    "\n",
    "Your data is a pandas table (`pd.DataFrame`) indexed by the items in the set:\n",
    "\n",
    "    NODES = list(nodes.index)             \n",
    "    EDGES = list(edges.index) \n",
    "\n",
    "Your data is an array/list (`List`) containing the items in the set:\n",
    "\n",
    "    NODES = list(nodes)             \n",
    "    EDGES = list(edges) "
   ]
  },
  {
   "cell_type": "markdown",
   "metadata": {},
   "source": [
    "**Parameter declarations:** Parameters are the constants that appear in your linear program. In this case, our parameters are the supply values for each node, and the edge costs and edge capacities for each edge. Here are two possible ways you may declare a parameter supply for each element of the set Nodes:\n",
    "\n",
    "Your data is a column of a pandas table (`pd.DataFrame`) indexed by the items in the set:\n",
    "\n",
    "    supply = nodes['supply'].to_dict()           \n",
    "\n",
    "Your data is a dictionary (`Dict`) where the keys are items in the set:\n",
    "\n",
    "    supply = dict(supply) "
   ]
  },
  {
   "cell_type": "markdown",
   "metadata": {},
   "source": [
    "**Q6:** In the space below (as well as your model), declare parameters cost and capacity for each element of the set `EDGES`.\n",
    "\n",
    "**A:** <font color='blue'>\n",
    "    \n",
    "    cost = edges['cost'].to_dict()\n",
    "    capacity = edges['capacity'].to_dict()  \n",
    "\n",
    "</font> "
   ]
  },
  {
   "cell_type": "markdown",
   "metadata": {},
   "source": [
    "**Input checks:** Sometimes, we want our input (which we’ll specify in the data file) to satisfy certain model assumptions. For example, in our problem, we want the edge capacities to be nonnegative numbers:\n",
    "\n",
    "    for i,j in EDGES:\n",
    "        assert capacity[i,j] >= 0\n",
    "\n",
    "We also want to make sure that total supply is equal to total demand. I.e. the sum of the supply values is zero.\n",
    "In standard mathematical notation, if $s_i$ is the supply at node $i$, then we want $\\sum_{i \\in \\text{NODES}} s_i = 0$. The OR-Tools notation is similar:\n",
    "\n",
    "    assert sum(supply[i] for i in NODES) == 0"
   ]
  },
  {
   "cell_type": "markdown",
   "metadata": {},
   "source": [
    "**Define model:** Before defining the model, we need to create a blank OR-Tools model:\n",
    "\n",
    "    m = OR.Solver(<Name>, <Solver>)\n",
    "    \n",
    "By convention, you should name your model the same as the function name. For the solver, you have the following options:\n",
    "\n",
    "- `OR.Solver.GLOP_LINEAR_PROGRAMMING`: An open-source LP solver (DO NOT USE FOR IPs)\n",
    "- `OR.Solver.CBC_MIXED_INTEGER_PROGRAMMING`: An open-source MIP solver\n",
    "- `OR.Solver.GUROBI_MIXED_INTEGER_PROGRAMMING`: A leading commercial MIP solver (Must have Gurobi installed)\n",
    "\n",
    "In this example, you should define your model as:\n",
    "\n",
    "    m = OR.Solver('rec1', OR.Solver.CBC_MIXED_INTEGER_PROGRAMMING)"
   ]
  },
  {
   "cell_type": "markdown",
   "metadata": {},
   "source": [
    "**Variable declarations:** We need a decision variable for the flow on each edge. Suppose that we call our decision variables $x$. Variables are declared using one of:\n",
    "\n",
    "    m.NumVar(<lb>, <ub>, <name>)\n",
    "    m.IntVar(<lb>, <ub>, <name>)\n",
    "    \n",
    "It is important that the names for each variable are distinct. In our example, we want a variable for each edge that is between 0 and the capcaity on that edge:\n",
    "\n",
    "    x = {}\n",
    "    for i,j in EDGES:\n",
    "        x[i,j] = m.NumVar(0, capacity[i,j], ('(%s, %s)' % (i,j)))"
   ]
  },
  {
   "cell_type": "markdown",
   "metadata": {},
   "source": [
    "**Objective function:** The general form of the objective function is as follows.\n",
    "\n",
    "     m.Minimize(<function expression>) \n",
    "     m.Maximize(<function expression>)\n",
    "\n",
    " \n",
    "where `<function expression>` will involve some (or all of) your decision variables.\n",
    "\n",
    "We will review the OR-Tools summation notation one more time. In your mathematical formulation of the LP, you should have the following objective:\n",
    "\n",
    "$$\\min c_{12}x_{12} + c_{13}x_{13} + c_{23}x_{23} + c_{32}x_{32} + c_{24}x_{24} + c_{34}x_{34}$$\n",
    "\n",
    "or more succinctly\n",
    "\n",
    "$$\\min \\sum_{(i,j) \\in E}c_{ij}x_{ij}$$\n",
    "\n",
    "where $c_{ij}$ denote the cost on the edge $(i, j)$. The OR-Tools notation is similar:\n",
    "\n",
    "    sum(cost[i,j] * x[i,j] for i,j in EDGES) "
   ]
  },
  {
   "cell_type": "markdown",
   "metadata": {},
   "source": [
    "**Q7:** Based on this, in the space below, write the complete line to specify your objective function.\n",
    "\n",
    "**A:** <font color='blue'>\n",
    "    \n",
    "    m.Minimize(sum(cost[i,j] * x[i,j] for i,j in EDGES)) \n",
    "\n",
    "</font> "
   ]
  },
  {
   "cell_type": "markdown",
   "metadata": {},
   "source": [
    "**Constraints:** While you can only have one objective function, you can have a lot of constraints.\n",
    "The general form of a constraint is as follows.\n",
    "\n",
    "    m.Add(<function expression>)\n",
    "\n",
    "Sometimes, though, you might also want to write a few very similar constraints. For example, you would like to write the ”same” constraint for each element in a set. In this case, your constraint will take the form:\n",
    "\n",
    "    for i in SET:\n",
    "        m.Add(<function expression, in terms of i>)"
   ]
  },
  {
   "cell_type": "markdown",
   "metadata": {},
   "source": [
    "**Q8:** In the space provided below, write the flow conservation constraints; recall that there is one\n",
    "constraint for each element of the set Nodes.\n",
    "\n",
    "**A:** <font color='blue'>\n",
    "    \n",
    "    for k in NODES:\n",
    "        m.Add(sum(x[i,j] for i,j in EDGES if i == k) - \n",
    "              sum(x[i,j] for i,j in EDGES if j == k) == supply[k])\n",
    "\n",
    "</font> "
   ]
  },
  {
   "cell_type": "markdown",
   "metadata": {},
   "source": [
    "Now, define the data corresponding to the above graph. You will specify the nodes, edges, supply values, edge costs, and edge capacities. There are two main approaches: define with a CSV file or define the objects directly. Both approaches have been implemented for the nodes and supply values."
   ]
  },
  {
   "cell_type": "code",
   "execution_count": null,
   "metadata": {},
   "outputs": [],
   "source": [
    "# Approach 1: Define with a CSV file\n",
    "nodes = pd.read_csv('data/rec1_nodes.csv', index_col=0)\n",
    "display(nodes)"
   ]
  },
  {
   "cell_type": "code",
   "execution_count": null,
   "metadata": {},
   "outputs": [],
   "source": [
    "# Approach 2: Define objects directly\n",
    "nodes = [1,2,3,4]\n",
    "supply = {1:10, 2:0, 3:0, 4:-10}"
   ]
  },
  {
   "cell_type": "markdown",
   "metadata": {},
   "source": [
    "**Q9:** Choose an approach and define the remaining data. Be sure to define your model appropriately for the approach you choose."
   ]
  },
  {
   "cell_type": "code",
   "execution_count": null,
   "metadata": {},
   "outputs": [],
   "source": [
    "# TODO: Define the remaining data.\n",
    "\n",
    "### BEGIN SOLUTION\n",
    "nodes = pd.read_csv('data/rec1_nodes.csv', index_col=0)\n",
    "display(nodes)\n",
    "\n",
    "edges = pd.read_csv('data/rec1_edges.csv')\n",
    "edges['edges'] = list(zip(edges['i'],edges['j']))\n",
    "edges = edges.set_index('edges')\n",
    "display(edges)\n",
    "### END SOLUTION"
   ]
  },
  {
   "cell_type": "code",
   "execution_count": null,
   "metadata": {},
   "outputs": [],
   "source": [
    "# HINT: If you use Approach 2, you will have more data to pass to this model\n",
    "def rec1(nodes, edges):\n",
    "    # TODO: Implement your model here.\n",
    "    \n",
    "    ### BEGIN SOLUTION\n",
    "    NODES = list(nodes.index)             \n",
    "    EDGES = list(edges.index) \n",
    "    \n",
    "    supply = nodes['supply'].to_dict()\n",
    "    cost = edges['cost'].to_dict()\n",
    "    capacity = edges['capacity'].to_dict() \n",
    "   \n",
    "    for i,j in EDGES:\n",
    "        assert capacity[i,j] >= 0\n",
    "    assert sum(supply[i] for i in NODES) == 0\n",
    "    \n",
    "    # define model\n",
    "    m = OR.Solver('rec1', OR.Solver.CBC_MIXED_INTEGER_PROGRAMMING)\n",
    "    \n",
    "    # define variables\n",
    "    x = {}  # flow on edge (i,j)\n",
    "    for i,j in EDGES:\n",
    "        x[i,j] = m.NumVar(0, capacity[i,j], ('(%s, %s)' % (i,j)))\n",
    "        \n",
    "    # Minimize: total cost\n",
    "    m.Minimize(sum(cost[i,j] * x[i,j] for i,j in EDGES)) \n",
    "    \n",
    "    # subject to: flow conservation\n",
    "    for k in NODES:\n",
    "        m.Add(sum(x[i,j] for i,j in EDGES if i == k) - \n",
    "              sum(x[i,j] for i,j in EDGES if j == k) == supply[k])\n",
    "    ### END SOLUTION\n",
    "\n",
    "    return m,x"
   ]
  },
  {
   "cell_type": "code",
   "execution_count": null,
   "metadata": {},
   "outputs": [],
   "source": [
    "# HINT: If you use Approach 2, you will have more data to pass to this model\n",
    "m,x = rec1(nodes, edges)\n",
    "solve(m)"
   ]
  },
  {
   "cell_type": "markdown",
   "metadata": {},
   "source": [
    "**Q10:** Having finished your OR-Tools model (model and data files), use the cell above to solve it. Write down your optimal objective value and the corresponding optimal solution.\n",
    "\n",
    "**A:** <font color='blue'> Optimal objective value is 41.\n",
    "   \n",
    "| variable     | value |\n",
    "|-----------|-------|\n",
    "| (1, 2) | 2.0 |\n",
    "| (1, 3) | 8.0 |\n",
    "| (3, 2)  | 0.0 |\n",
    "| (2, 3)  | 0.0 |\n",
    "| (2, 4)  | 2.0 |\n",
    "| (3, 4)  | 8.0 |\n",
    "\n",
    "</font> "
   ]
  }
 ],
 "metadata": {
  "language_info": {
   "name": "python"
  }
 },
 "nbformat": 4,
 "nbformat_minor": 4
}
