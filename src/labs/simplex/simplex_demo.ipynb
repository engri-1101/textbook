{
 "cells": [
  {
   "cell_type": "code",
   "execution_count": null,
   "metadata": {},
   "outputs": [],
   "source": [
    "import gilp\n",
    "import numpy as np"
   ]
  },
  {
   "cell_type": "markdown",
   "metadata": {},
   "source": [
    "## Linear Program Examples"
   ]
  },
  {
   "cell_type": "markdown",
   "metadata": {},
   "source": [
    "Recall our 2D linear program example from class:\n",
    "\n",
    "$$\\begin{align*}\n",
    "\\max \\quad & 3x_1+2x_2\\\\\n",
    "\\text{s.t.} \\quad & x_1 \\leq 4 \\\\\n",
    "& x_2 \\leq 2 \\\\\n",
    "& 2x_1 + x_2 \\leq 6 \\\\\n",
    "& -x_1 + x_2 \\leq 1 \\\\\n",
    "& x_1, x_2 \\geq 0\n",
    "\\end{align*}$$"
   ]
  },
  {
   "cell_type": "code",
   "execution_count": null,
   "metadata": {},
   "outputs": [],
   "source": [
    "# Create the LP object\n",
    "lp_2d = gilp.LP(A=np.array([[1,0],\n",
    "                            [0,1],\n",
    "                            [2,1],\n",
    "                            [-1,1]]),\n",
    "                b=np.array([4,2,6,1]),\n",
    "                c=np.array([3,2]))"
   ]
  },
  {
   "cell_type": "code",
   "execution_count": null,
   "metadata": {},
   "outputs": [],
   "source": [
    "# Manually select a variable with a positive coefficent in the objective function\n",
    "gilp.simplex_visual(lp_2d, rule='manual', initial_solution=np.array([[0],[0]]))"
   ]
  },
  {
   "cell_type": "code",
   "execution_count": null,
   "metadata": {},
   "outputs": [],
   "source": [
    "# Select the variable with the largest positive coefficent\n",
    "gilp.simplex_visual(lp_2d, rule='dantzig', initial_solution=np.array([[0],[0]]))"
   ]
  },
  {
   "cell_type": "code",
   "execution_count": null,
   "metadata": {},
   "outputs": [],
   "source": [
    "# Select the variable with the smallet index among ones with positive coefficents\n",
    "gilp.simplex_visual(lp_2d, rule='bland', initial_solution=np.array([[0],[0]]))"
   ]
  },
  {
   "cell_type": "code",
   "execution_count": null,
   "metadata": {},
   "outputs": [],
   "source": [
    "# Select the variable which increases the objective the highest\n",
    "gilp.simplex_visual(lp_2d, rule='greatest_ascent', initial_solution=np.array([[0],[0]]))"
   ]
  },
  {
   "cell_type": "markdown",
   "metadata": {},
   "source": [
    "Recall our 3D linear program example from class:\n",
    "\n",
    "$$\\begin{align*}\n",
    "\\max \\quad & 2x_1+x_2+x_3\\\\\n",
    "\\text{s.t.} \\quad & x_1 \\leq 4 \\\\\n",
    "& x_2 \\leq 4 \\\\\n",
    "& x_1 + x_2 \\leq 6 \\\\\n",
    "& -x_1+2x_3 \\leq 4 \\\\\n",
    "& x_1, x_2, x_3 \\geq 0.\n",
    "\\end{align*}$$"
   ]
  },
  {
   "cell_type": "code",
   "execution_count": null,
   "metadata": {},
   "outputs": [],
   "source": [
    "# Create the LP object\n",
    "lp_3d = gilp.LP(A=np.array([[1,0,0],\n",
    "                            [0,1,0],\n",
    "                            [1,1,0],\n",
    "                            [-1,0,2]]),\n",
    "                b=np.array([4,4,6,4]),\n",
    "                c=np.array([2,1,1]))"
   ]
  },
  {
   "cell_type": "code",
   "execution_count": null,
   "metadata": {},
   "outputs": [],
   "source": [
    "# Manually select a variable with a positive coefficent in the objective function\n",
    "gilp.simplex_visual(lp_3d, rule='manual', initial_solution=np.array([[0],[0],[0]]))"
   ]
  },
  {
   "cell_type": "code",
   "execution_count": null,
   "metadata": {},
   "outputs": [],
   "source": [
    "# Select the variable with the largest positive coefficent\n",
    "gilp.simplex_visual(lp_3d, rule='dantzig', initial_solution=np.array([[0],[0],[0]]))"
   ]
  },
  {
   "cell_type": "code",
   "execution_count": null,
   "metadata": {},
   "outputs": [],
   "source": [
    "# Select the variable with the smallet index among ones with positive coefficents\n",
    "gilp.simplex_visual(lp_3d, rule='bland', initial_solution=np.array([[0],[0],[0]]))"
   ]
  },
  {
   "cell_type": "code",
   "execution_count": null,
   "metadata": {},
   "outputs": [],
   "source": [
    "# Select the variable which increases the objective the highest\n",
    "gilp.simplex_visual(lp_3d, rule='greatest_ascent', initial_solution=np.array([[0],[0],[0]]))"
   ]
  }
 ],
 "metadata": {
  "language_info": {
   "name": "python"
  }
 },
 "nbformat": 4,
 "nbformat_minor": 4
}
