{
 "cells": [
  {
   "cell_type": "markdown",
   "metadata": {},
   "source": [
    "# The Transportation Problem\n",
    "\n",
    "**Objectives**\n",
    "- Get familiar with transportation problem input.\n",
    "- Use sensitivity analysis to explore how solutions change under different conditions.\n",
    "\n",
    "**Key Ideas**\n",
    "- Supply point and supply constraints\n",
    "- Demand point and demand constraints\n",
    "- Balanced transportation problem\n",
    "- Bipartite graph\n",
    "- Integrality property\n",
    "- Sensitivity analysis\n",
    "\n",
    "**Reading Assignment**\n",
    "- Read the first part of Handout 7 on the transportation problem (first 4 pages)\n",
    "\n",
    "**Brief description:** In this lab, we will consider several examples of problems that can be modeled as a transportation problem. We will also learn how Python and OR-Tools can help us represent and solve mathematical programming problems."
   ]
  },
  {
   "cell_type": "code",
   "execution_count": null,
   "metadata": {},
   "outputs": [],
   "source": [
    "# imports\n",
    "import pandas as pd\n",
    "import numpy as np\n",
    "import math, itertools\n",
    "import matplotlib.pyplot as plt\n",
    "import networkx as nx\n",
    "from IPython.display import Image\n",
    "from networkx.algorithms import bipartite\n",
    "from ortools.linear_solver import pywraplp as OR"
   ]
  },
  {
   "cell_type": "markdown",
   "metadata": {},
   "source": [
    "## Part 1: The Clicker Problem\n",
    "*Adapted from Winston, page 390* \n",
    "\n",
    "Each fall, Cornell engineering faculty present to incoming freshmen about \n",
    "the various majors within the College of Engineering. \n",
    "\n",
    "Professor Quack (not from the ORIE department) decides to conduct information \n",
    "sessions on four consecutive days. The expected attendance for each day is as follows:\n",
    "\n",
    "|day |attendees|\n",
    "|----|---------|\n",
    "| 1  |    15   |\n",
    "| 2  |    12   |\n",
    "| 3  |    18   |\n",
    "| 4  |     6   |\n",
    "\n",
    "P.Q., as her students call her, really loves iClickers for taking attendance and making people \n",
    "pay attention. Thankfully, she doesn't require attendees to bring their own; instead, she loans out \n",
    "iClickers from her private stash at each session, and has students return them at the end \n",
    "so she can use them in the future. (Of course, all Cornell students are perfect angels and return the clickers.)\n",
    "\n",
    "After each session, any used iClicker must be reset by one of the following methods:\n",
    "* Option 1: P.Q. \"knows a guy\" who resets iClickers in a day for \\$10 apiece.\n",
    "* Option 2: P.Q. can enlist ECE students to reset iClickers for \\$6 per clicker. This takes two days.\n",
    "\n",
    "As a last resort, P.Q. can just buy brand-new iClickers from the Cornell Store immediately for \\$20 each.\n",
    "\n",
    "It's the night before Day 1, and P.Q. can't find her secret stash! She asks us ENGRI 1101 students \n",
    "to come up with a plan for meeting the demand for clickers that minimizes her expenses.\n",
    "\n",
    "Let's see how we can model this (very strange) situation as a balanced transportation problem!"
   ]
  },
  {
   "cell_type": "markdown",
   "metadata": {},
   "source": [
    "**Q:** First, think about the demand points. \"Where\" are clickers being demanded? What is the demand at each of these points? (Hint: there are four)\n",
    "\n",
    "**A:** <font color='blue'> There are four demand points: one for each of the next four days. From the table, we see that these days have demand 15, 12, 18, and 6 clickers, respectively.</font>"
   ]
  },
  {
   "cell_type": "markdown",
   "metadata": {},
   "source": [
    "**Q:** Now think about the supply points. Clearly, one supply point is the Cornell Store. What are all the supply points? (Hint: what are all the ways we can supply clickers for the start of day 2? Day 3? Day 4?) What is the supply at each of these points?\n",
    "\n",
    "**A:** <font color='blue'>Taking the hint, we might think about how we can supply clickers for day 2. One option is to buy them from the Cornell Store. However, we could also just reuse the clickers from day 1, if we reset them using Option 1! So another supply point might be the end of day 1. Now, for day 3, we can buy new clickers, or we can do Option 1 and reset clickers from Day 2, or we can do Option 2 and reset clickers from Day 1! So another supply point is the end of day 2. Following this reasoning for day 4, we see that the end of day 3 is also a supply point. \n",
    "    \n",
    "Now we have our four supply points (the Cornell Store, and the ends of days 1, 2, and 3). What are their supplies? Well, the Cornell Store essentially has infinite supply. At the end of day 1, we have the clickers used for day 1, so the supply at this supply point is 15. Likewise, the \"end of day 2\" point has supply 12, and the \"end of day 3\" point has supply 18.</font>  "
   ]
  },
  {
   "cell_type": "markdown",
   "metadata": {},
   "source": [
    "**Q:** What is the per-unit shipping cost between each supply point and each demand point?\n",
    "\n",
    "**A:** <font color='blue'> We obtain these vales from the text blob. The per-unit shipping cost between the Cornell Store supply node and every demand node is 20. The per-unit shipping cost between the supply node representing the end of day $i$ and the demand node representing day $i+1$ is 10, while the PUSC from this same supply node to the demand node for day $i+2$ is 6. </font>"
   ]
  },
  {
   "cell_type": "markdown",
   "metadata": {},
   "source": [
    "**Q:** Create a graphical representation of this input by combining your answers from Q1-Q3. Then, upload it as an image into the following (markdown) cell by entering the image name between the parentheses, if it is in the same folder as this lab. Make sure that your graph displays properly within the notebook before moving on!"
   ]
  },
  {
   "cell_type": "code",
   "execution_count": null,
   "metadata": {},
   "outputs": [],
   "source": [
    "### BEGIN SOLUTION\n",
    "Image(\"images-key/q4_graph.png\")\n",
    "### END SOLUTION"
   ]
  },
  {
   "cell_type": "code",
   "execution_count": null,
   "metadata": {},
   "outputs": [],
   "source": [
    "### BEGIN SOLUTION\n",
    "'''\n",
    "Run this cell for a NetworkX visualization of the solution graph for Q4. \n",
    "\n",
    "Note: in the student version, students will see two cells: a markdown cell, \n",
    "where they should upload their image, and an empty code cell (this cell) \n",
    "containing only the message \"# don't use this cell\".\n",
    "\n",
    "If this cell doesn't work properly, the solution can be viewed by running\n",
    "the following line in the MARKDOWN cell above, assuming notebook can\n",
    "access the 'images-key' folder:\n",
    "\n",
    "![q4-graph-key](images-key/q4_graph.png)\n",
    "'''\n",
    "from transportation import q4_graph\n",
    "q4_graph()\n",
    "\n",
    "# students will only see \"# don't use this cell\"\n",
    "### END SOLUTION\n",
    "# don't use this cell"
   ]
  },
  {
   "cell_type": "markdown",
   "metadata": {},
   "source": [
    "We came up with the following formulation for the clicker problem, where the demand points are the four days $(1, 2, 3, 4)$ and the supply points are the Cornell Store ($s$) and the ends of the first three days $(1’, 2’, 3’)$. The supplies/demands and costs are summarized in the table below. Did you get a similar formulation?\n",
    "\n",
    "|            | 1  | 2  | 3  | 4  | supply   |\n",
    "|------------|----|----|----|----|----------|\n",
    "| $s$        | 20 | 20 | 20 | 20 | $\\infty$ |\n",
    "| $1'$       | -  | 10 | 6  | -  | 15       |\n",
    "| $2'$       | -  | -  | 10 | 6  | 12       |\n",
    "| $3'$       | -  | -  | -  | 10 | 18       |\n",
    "| **demand** | 15 | 12 | 18 | 6  |          |"
   ]
  },
  {
   "cell_type": "markdown",
   "metadata": {},
   "source": [
    "**Q:** Since we don't usually deal with infinity&mdash;although the Cornell Store probably does have an infinite supply of iClickers&mdash;can you posit a large enough value for the supply at $s$ that will allow us to always meet demand? (Hint: what if we need to buy new clickers every day?)\n",
    "\n",
    "**A:** <font color='blue'> If we buy new clickers every day, then we'll need $15+12+18+6 = 51$ clickers from the store.</font>"
   ]
  },
  {
   "cell_type": "markdown",
   "metadata": {},
   "source": [
    "**Q:** As it stands, is our formulation balanced? If not, how could you convert it into a balanced transportation problem?\n",
    "\n",
    "**A:** <font color='blue'> This formulation is not balanced because the total supply is $51 + 15 + 12 + 18 = 96$ while the total demand is only $15 + 12 + 18 + 6 = 51$. We can add a dummy demand node to make the formulation balanced. </font>"
   ]
  },
  {
   "cell_type": "markdown",
   "metadata": {},
   "source": [
    "**Q:** How might we interpret a dummy demand point in terms of clickers? (What clickers end up here, and what happens to them?)\n",
    "\n",
    "**A:** <font color='red'>Wording on this question might be confusing</font>\n",
    "\n",
    "<font color='blue'>Clickers that come to the dummy demand node are neither reset nor used; they're just stored away. We assume it costs nothing to store the clickers.</font>"
   ]
  },
  {
   "cell_type": "markdown",
   "metadata": {},
   "source": [
    "**Q:** Fill out the missing values (XXX) in the table below. (We substituted the dashes from above with a big enough number like 1000.)\n",
    "\n",
    "|         | 1    | 2    | 3    | 4    | dummy | supplies |\n",
    "|---------|------|------|------|------|-------|----------|\n",
    "| $s$     | 20   | 20   | 20   | 20   | XXX   | 51       |\n",
    "| 1'      | 1000 | 10   | 6    | 1000 | XXX   | 15       |\n",
    "| 2'      | 1000 | 1000 | 10   | 6    | XXX   | 12       |\n",
    "| 3'      | 1000 | 1000 | 1000 | 10   | XXX   | 18       |\n",
    "| demands | 15   | 12   | 18   | 6    | XXX   |          |\n",
    "\n",
    "<font color='blue'>\n",
    "\n",
    "|         | 1    | 2    | 3    | 4    | dummy | supplies |\n",
    "|---------|------|------|------|------|-------|----------|\n",
    "| $s$     | 20   | 20   | 20   | 20   | 0     | 51       |\n",
    "| 1'      | 1000 | 10   | 6    | 1000 | 0     | 15       |\n",
    "| 2'      | 1000 | 1000 | 10   | 6    | 0     | 12       |\n",
    "| 3'      | 1000 | 1000 | 1000 | 10   | 0     | 18       |\n",
    "| demands | 15   | 12   | 18   | 6    | 45    |          |\n",
    "    \n",
    "</font>"
   ]
  },
  {
   "cell_type": "markdown",
   "metadata": {},
   "source": [
    "## Part 2: Solving Using a Computer\n",
    "\n",
    "The next cell contains our model. In later labs, you will practice writing your own models, but for now, read through the code and run it."
   ]
  },
  {
   "cell_type": "code",
   "execution_count": null,
   "metadata": {},
   "outputs": [],
   "source": [
    "def transportation(data, integer=False):\n",
    "    \"\"\"A model for solving the transportation problem.\n",
    "    \n",
    "    Args:\n",
    "        data (pd.DataFrame): Dataframe with demand, supplies, and cost matrix.\n",
    "    \"\"\"\n",
    "    ORIG = list(data.index)[:-1]                                # origins\n",
    "    DEST = list(data.columns)[:-1]                              # destinations\n",
    "    supply = data['supply'][:-1].to_dict()                      # supply\n",
    "    demand = data.transpose()['demand'][:-1].to_dict()          # demand\n",
    "    cost = data.iloc[:-1,:-1].transpose().to_dict()\n",
    "    cost = {(i,j) : cost[i][j] for i in cost for j in cost[i]}  # cost\n",
    "    ARCS = list(cost)                                           # arcs\n",
    "    \n",
    "    # define model\n",
    "    m = OR.Solver('transportation', OR.Solver.CBC_MIXED_INTEGER_PROGRAMMING)\n",
    "    \n",
    "    # decision variables\n",
    "    x = {}  # units to be shipped on each edge\n",
    "    for i,j in ARCS:\n",
    "        if integer:\n",
    "            x[i,j] = m.IntVar(0, m.infinity(), ('(%s, %s)' % (i,j))) \n",
    "        else:\n",
    "            x[i,j] = m.NumVar(0, m.infinity(), ('(%s, %s)' % (i,j)))\n",
    "        \n",
    "    # objective function\n",
    "    m.Minimize(sum(cost[i,j]*x[i,j] for i,j in ARCS))\n",
    "        \n",
    "    # subject to: all supply delivered at each origin node\n",
    "    for i in ORIG:\n",
    "        m.Add(sum(x[i,j] for j in DEST) == supply[i])\n",
    "        \n",
    "    # subject to: demand met at each demand node\n",
    "    for j in DEST:\n",
    "        m.Add(sum(x[i,j] for i in ORIG) == demand[j])\n",
    "    \n",
    "    return m, x"
   ]
  },
  {
   "cell_type": "code",
   "execution_count": null,
   "metadata": {},
   "outputs": [],
   "source": [
    "def solve(m):\n",
    "    m.Solve()\n",
    "    print('Solution:')\n",
    "    print('Objective value =', m.Objective().Value())\n",
    "    for var in m.variables():\n",
    "        print(var.name(), ':',  var.solution_value())"
   ]
  },
  {
   "cell_type": "code",
   "execution_count": null,
   "metadata": {},
   "outputs": [],
   "source": [
    "steel_data = pd.read_csv('data/transportation_steel.csv', index_col=0)\n",
    "display(steel_data)"
   ]
  },
  {
   "cell_type": "markdown",
   "metadata": {},
   "source": [
    "Here is an example set of data you can solve using this model. The `supply` column gives the tons of steel produced by three different steel mills. The `demand` row gives the tons of steel requested by each car manufacturer. The remaining portion of the dataframe gives the shipping cost per ton from each steel mill to each car manufacturer.\n",
    "\n",
    "Run the next cell to solve this transportation problem!"
   ]
  },
  {
   "cell_type": "code",
   "execution_count": null,
   "metadata": {},
   "outputs": [],
   "source": [
    "m, x = transportation(steel_data) # create transportation model using given input\n",
    "solve(m) # solve the model"
   ]
  },
  {
   "cell_type": "markdown",
   "metadata": {},
   "source": [
    "Now, let's use this model to solve the clicker problem! (Hint: the dummy node is labeled `d`)"
   ]
  },
  {
   "cell_type": "code",
   "execution_count": null,
   "metadata": {},
   "outputs": [],
   "source": [
    "clicker_data = pd.read_csv('data/transportation_caterer.csv', index_col=0)\n",
    "display(clicker_data)"
   ]
  },
  {
   "cell_type": "markdown",
   "metadata": {},
   "source": [
    "**Q:** Does the table above match what you found in **Q8?** What did you get wrong?\n",
    "\n",
    "**A:** <font color='blue'> Answers may vary. </font>"
   ]
  },
  {
   "cell_type": "markdown",
   "metadata": {},
   "source": [
    "Run the cell below to create the transportation model and solve it."
   ]
  },
  {
   "cell_type": "code",
   "execution_count": null,
   "metadata": {},
   "outputs": [],
   "source": [
    "m, x = transportation(clicker_data)\n",
    "solve(m)\n",
    "from transportation import visualize_clicker_sol\n",
    "visualize_clicker_sol(m)"
   ]
  },
  {
   "cell_type": "markdown",
   "metadata": {},
   "source": [
    "**Q:** Interpret the solution in words. How should P.Q. get clickers for each day?\n",
    "\n",
    "**A:** <font color='blue'> The first day, she just has to buy all her clickers (15). She should then get 9 reset using Option 1 and 6 reset using Option 2. The 9 in addition to 3 new clickers satisfy the demand for the second day. After this, all 12 are reset using Option 1. These, along with 6 from the end of day 1, satisfy the demand for the third day. Lastly, 6 clickers are reset using Option 1 to be ready for the final day.</font>"
   ]
  },
  {
   "cell_type": "markdown",
   "metadata": {},
   "source": [
    "**Q:** How much cheaper is this plan than just buying new clickers every day?\n",
    "\n",
    "**A:** <font color='blue'>Buying new clickers every day would cost P.Q. $(\\$20)(15+12+18+6) = \\$1020$, whereas this plan only costs $\\$666$. So this plan reduces P.Q.'s expenses by $\\$354$ (about 35%)!</font>"
   ]
  },
  {
   "cell_type": "markdown",
   "metadata": {},
   "source": [
    "## Part 3: Exploring the Optimal Solution\n",
    "\n",
    "We will start by solving a new problem. The Olive Oyl Oil Company imports crude oil from three different sources and refines it at five different refineries. Sources 1, 2, 3 can ship 20, 50, 20 barrels of crude oil each week, respectively. Refineries 1-5 need 10, 24, 6, 20, 30 barrels of crude oil each week, respectively. The table below contains the unit shipping costs from the sources to the refineries. The entry in the $i$th row and $j$th column gives the cost to ship from source $i$ to refinery $j$.\n",
    "\n",
    "|    |    |    |    |    |\n",
    "|----|----|----|----|----|\n",
    "| 30 | 30 | 10 | 27 | 15 |\n",
    "| 15 | 15 | 8  | 13 | 5  |\n",
    "| 25 | 21 | 5  | 15 | 21 |"
   ]
  },
  {
   "cell_type": "code",
   "execution_count": null,
   "metadata": {},
   "outputs": [],
   "source": [
    "oil_data = pd.read_csv('data/transportation_oil.csv', index_col=0)\n",
    "display(oil_data)"
   ]
  },
  {
   "cell_type": "code",
   "execution_count": null,
   "metadata": {},
   "outputs": [],
   "source": [
    "m, x = transportation(oil_data)\n",
    "solve(m)"
   ]
  },
  {
   "cell_type": "markdown",
   "metadata": {},
   "source": [
    "Now, consider the values $u(1) = 25$, $u(2) = 15$, $u(3) = 17$, $v(1) = 0$, $v(2) = 0$, $v(3) = -15$, $v(4) = -2$, and $v(5) = -10$.  "
   ]
  },
  {
   "cell_type": "markdown",
   "metadata": {},
   "source": [
    "**Q:** Write down the modified cost matrix, where as shown in class, we subtract $u(i)$ from every  entries in row $i$, and similarly we subtract $v(j)$ from each entry of column $j$. Argue as to why the solution computed above is indeed optimal for the original input.\n",
    "\n",
    "**A:**\n",
    "\n",
    "|    |    |    |    |    |\n",
    "|----|----|----|----|----|\n",
    "|    |    |    |    |    |\n",
    "|    |    |    |    |    |\n",
    "|    |    |    |    |    |\n",
    "\n",
    "<font color='blue'> \n",
    "    \n",
    "|    |    |    |    |    |\n",
    "|----|----|----|----|----|\n",
    "| 5  | 5  | 0  | 4  | 0  |\n",
    "| 0  | 0  | 8  | 0  | 0  |\n",
    "| 8  | 4  | 3  | 0  | 14 |\n",
    "\n",
    "In the solution above, all non-zero $x_{ij}$ have modified cost equal to zero. Hence, the solution must be optimal. </font>"
   ]
  },
  {
   "cell_type": "markdown",
   "metadata": {},
   "source": [
    "Now suppose that we anticipate the per-barrel shipping cost from source 1 to refinery 1 (currently 30) to go down. Observe that in the current optimal solution, we do not ship anything from source 1 to refinery 1. One interesting question we might ask is, \"By how much can $c(1,1)$ decrease before we consider shipping some positive amount of barrels along that path?\"\n",
    "\n",
    "**Q:** Try the following values for $c(1,1)$: 28, 26, 25, 24. Record the optimal solutions in the table. Also include the value $\\overline{c}(1,1)$ from the matrix of modified costs (recall $\\overline{c}(1,1) = c(1,1) - u(1) - v(1)$). What conclusions can you draw from this?"
   ]
  },
  {
   "cell_type": "code",
   "execution_count": null,
   "metadata": {},
   "outputs": [],
   "source": [
    "# change the value of c(1,1) here\n",
    "oil_data.loc['S1','R1'] = 30\n",
    "\n",
    "# re-solve\n",
    "m, x = transportation(oil_data)\n",
    "solve(m)"
   ]
  },
  {
   "cell_type": "markdown",
   "metadata": {},
   "source": [
    "**A:** \n",
    "\n",
    "|                     | 28          | 26          | 25         | 24 |\n",
    "|---------------------|-------------|-------------|------------|----|\n",
    "|                     | x(1,3) = XXX  | XXX | XXX | x(1,1) = XXX |   \n",
    "|                     | x(1,5) = XXX |             |            | x(1,3) = XXX  |\n",
    "|                     | x(2,1) = XXX |             |            | x(1,5) = XXX   |\n",
    "|                     | x(2,2) = XXX |             |            | x(2,2) = XXX   |\n",
    "|                     | x(2,5) = XXX |             |            | x(2,5) = XXX   |\n",
    "|                     | x(3,4) = XXX |             |            | x(3,4) = XXX   |\n",
    "| $\\overline{c}$(1,1) |  XXX          |  XXX          |    XXX    | XXX |\n",
    "\n",
    "<font color='blue'>\n",
    "\n",
    "|                     | 28          | 26          | 25         | 24 |\n",
    "|---------------------|-------------|-------------|------------|----|\n",
    "|                     | x(1,3) = 6  | same as 28  | same as 28 | x(1,1) = 10 |   \n",
    "|                     | x(1,5) = 14 |             |            | x(1,3) = 6  |\n",
    "|                     | x(2,1) = 10 |             |            | x(1,5) = 4   |\n",
    "|                     | x(2,2) = 24 |             |            | x(2,2) = 24   |\n",
    "|                     | x(2,5) = 16 |             |            | x(2,5) = 26   |\n",
    "|                     | x(3,4) = 20 |             |            | x(3,4) = 20   |\n",
    "| $\\overline{c}$(1,1) |  3          |  1          |      0     | -1 |\n",
    "\n",
    "Once the modified cost becomes negative, the edge will enter the solution. (It could enter when the modified cost is zero, though.)</font>"
   ]
  },
  {
   "cell_type": "markdown",
   "metadata": {},
   "source": [
    "Now consider the original model with $c(1,1) = 30$. Make sure to run the cell below to reset the value."
   ]
  },
  {
   "cell_type": "code",
   "execution_count": null,
   "metadata": {},
   "outputs": [],
   "source": [
    "oil_data.loc['S1','R1'] = 30"
   ]
  },
  {
   "cell_type": "markdown",
   "metadata": {},
   "source": [
    "**Q:** Is it possible to use the modified cost matrix from above to answer the same kind of question for changes in any single $c(i,j)$ parameter? Using your observations, try to figure out by how much the value of $c(2,3)$ needs to be reduced for us to consider shipping from source 2 to refinery 3. \n",
    "\n",
    "**A:** <font color='blue'> From the modified cost matrix, we see that the value of $c(2,3)$ needs to be decreased by at least 8 for the edge to enter the solution.</font>"
   ]
  },
  {
   "cell_type": "code",
   "execution_count": null,
   "metadata": {},
   "outputs": [],
   "source": [
    "# run this cell to check your answer (optional)\n",
    "oil_data.loc['S2','R3'] = 8 - 0 # replace 0 with your answer\n",
    "m, x = transportation(oil_data)\n",
    "solve(m)"
   ]
  },
  {
   "cell_type": "markdown",
   "metadata": {},
   "source": [
    "Let's return to the original model and data. \n",
    "\n",
    "The Olive Oyl Oil Company imports its oil from the two dominant oil suppliers in the region: Sinbad's Slightly Crude Oil, which controls sources 1 and 3, and its archrival Popeye's Pretty Crude Oil, which controls source 2.\n",
    "\n",
    "The OOOC enters into a trade agreement with Sinbad's that imposes the following restriction: the amount of crude oil shipped from Popeye's source (source 2) to refinery 5 cannot exceed the amount that Sinbad's sources (sources 1 and 3) combined ship to refinery 5 by more than 1 barrel. \n",
    "\n",
    "In the cell below, we add this constraint to the model before solving. Run it to see what happens!"
   ]
  },
  {
   "cell_type": "code",
   "execution_count": null,
   "metadata": {},
   "outputs": [],
   "source": [
    "# reset cost matrix if necessary \n",
    "oil_data.loc['S1','R1'] = 30\n",
    "oil_data.loc['S2','R3'] = 8\n",
    "\n",
    "# solve model with added constraint\n",
    "m, x = transportation(oil_data)\n",
    "m.Add(x['S2','R5'] <= x['S1','R5'] + x['S3','R5'] + 1)\n",
    "solve(m)"
   ]
  },
  {
   "cell_type": "markdown",
   "metadata": {},
   "source": [
    "**Q:** How does the objective value of this solution compare to that of previous solutions? After adding the trade agreement constraint, what property no longer holds?\n",
    "\n",
    "**A:** <font color='blue'> The objective value is higher (worse) than previous solutions, and the integrality property no longer holds.</font>"
   ]
  },
  {
   "cell_type": "markdown",
   "metadata": {},
   "source": [
    "Since the shipping is done in barrels, we'd like the optimal solution to have only integer flow values. To enforce this, we'll set the model parameter `integer` to `True`. Again, we include our new trade agreement constraint before solving."
   ]
  },
  {
   "cell_type": "code",
   "execution_count": null,
   "metadata": {},
   "outputs": [],
   "source": [
    "m, x = transportation(oil_data, integer=True)\n",
    "m.Add(x['S2','R5'] <= x['S1','R5'] + x['S3','R5'] + 1)\n",
    "solve(m)"
   ]
  },
  {
   "cell_type": "markdown",
   "metadata": {},
   "source": [
    "**Q:** Note that the optimal objective value here (1163.0) is higher than it was before we added the integrality constraint (1161.5). Explain why this value can never be lower than 1161.5, the optimal value before we added the constraint that the number of barrels shipped along each path must be integer."
   ]
  },
  {
   "cell_type": "markdown",
   "metadata": {},
   "source": [
    "**A:** <font color='blue'> By constraining our decision variables to be integer, we decrease the feasible region of our problem. Doing so tightens the number of feasible solutions, so our optimal solution here will never be better/lower in cost (i.e., it will always be equal or worse/higher in cost) than the original problem's optimal solution.</font>"
   ]
  }
 ],
 "metadata": {
  "language_info": {
   "name": "python"
  }
 },
 "nbformat": 4,
 "nbformat_minor": 2
}
