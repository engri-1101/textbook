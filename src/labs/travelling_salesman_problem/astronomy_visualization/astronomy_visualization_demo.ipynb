{
 "cells": [
  {
   "cell_type": "markdown",
   "id": "d333a49c",
   "metadata": {},
   "source": [
    "## 3D Astronomy Demo\n",
    "This notebook creates a localhost server to view the astronomy demo. The demo may be served from a website hosting solution like GitHub Pages instead.\n",
    "\n",
    "The hosted website takes five parameters, solution, day, minstar, maxstar, and light. \n",
    "\n",
    "Solution controls which file to read the tour from, the valid inputs are data/solution_infeasible.csv, data/solution_feasible.csv, and data/solution.csv\n",
    "\n",
    "Day controls how long a full day takes, in seconds. Any float number is valid for day.\n",
    "\n",
    "Minstar controls how far from the center of the Earth (radius 1) should the closest star be. Any float number is valid for minstar.\n",
    "\n",
    "Maxstar controls how much farther away is the furthest star than the closest star. Any float number is valid for maxstar.\n",
    "\n",
    "Light controls the default brightness for the night side of the Earth. The day side of the Earth will be brightened additively with this value. Any float number is valid for light.\n",
    "\n",
    "The default value for solution is data/solution.csv and the default value for day is 120.0. The default value for minstar is 2, the default value for maxstar is 0.25, and the default value for light is 1.25.\n",
    "\n",
    "An example url to open the website using default parameters would be \"http://localhost:8080/?solution=data/solution.csv&day=120&minstar=2.0&maxstar=0.25&light=1.25\" (but this only works once the website is hosted locally using the code below).\n",
    "\n",
    "Note that the demo has a slight stutter when transitioning from one day to the next.\n",
    "\n",
    "Leaving the demo tab may cause the day to play incorrectly. If there are issues refresh the tab (if the demo is running on another tab) or restart the notebook."
   ]
  },
  {
   "cell_type": "code",
   "execution_count": null,
   "id": "e093b1a0",
   "metadata": {},
   "outputs": [],
   "source": [
    "import threading\n",
    "from IPython.display import IFrame\n",
    "import webbrowser\n",
    "from time import sleep\n",
    "import http"
   ]
  },
  {
   "cell_type": "code",
   "execution_count": null,
   "id": "4a8acb24",
   "metadata": {},
   "outputs": [],
   "source": [
    "class StoppableHTTPServer(http.server.HTTPServer):\n",
    "    def run(self):\n",
    "        try:\n",
    "            self.serve_forever()\n",
    "        except KeyboardInterrupt:\n",
    "            pass\n",
    "        finally:\n",
    "            # Clean-up server (close socket, etc.)\n",
    "            self.server_close()"
   ]
  },
  {
   "cell_type": "code",
   "execution_count": null,
   "id": "3f908267",
   "metadata": {},
   "outputs": [],
   "source": [
    "class CustomHttpRequestHandler(http.server.SimpleHTTPRequestHandler):\n",
    "    def do_GET(self):\n",
    "        if self.path == '/':\n",
    "            self.path = 'index.html'\n",
    "        return http.server.SimpleHTTPRequestHandler.do_GET(self)"
   ]
  },
  {
   "cell_type": "code",
   "execution_count": null,
   "id": "3424bd62",
   "metadata": {},
   "outputs": [],
   "source": [
    "server = StoppableHTTPServer((\"127.0.0.1\", 8080),\n",
    "                             CustomHttpRequestHandler)\n",
    "\n",
    "# Start processing requests\n",
    "thread = threading.Thread(None, server.run)\n",
    "thread.start()\n",
    "sleep(0.5)"
   ]
  },
  {
   "cell_type": "markdown",
   "id": "e7003b69",
   "metadata": {},
   "source": [
    "This displays the demo using the tour of optimal length ignoring time of day"
   ]
  },
  {
   "cell_type": "code",
   "execution_count": null,
   "id": "24e25555",
   "metadata": {},
   "outputs": [],
   "source": [
    "# Uncomment one and only one of Option 1 and Option 2\n",
    "\n",
    "# Option 1: This line will display the demo embedded in the notebook\n",
    "IFrame(src='http://localhost:8080/?solution=data/solution_infeasible.csv&day=120', width=700, height=700)\n",
    "\n",
    "# # Option 2: This line will display the demo in a new tab\n",
    "# webbrowser.open('http://localhost:8080/?solution=data/solution_infeasible.csv&day=120')"
   ]
  },
  {
   "cell_type": "markdown",
   "id": "16ad934e",
   "metadata": {},
   "source": [
    "This displays the demo using the naive approach at a feasible tour"
   ]
  },
  {
   "cell_type": "code",
   "execution_count": null,
   "id": "9892a1aa",
   "metadata": {},
   "outputs": [],
   "source": [
    "# Uncomment one and only one of Option 1 and Option 2\n",
    "\n",
    "# Option 1: This line will display the demo embedded in the notebook\n",
    "IFrame(src='http://localhost:8080/?solution=data/solution_feasible.csv&day=120', width=700, height=700)\n",
    "\n",
    "# # Option 2: This line will display the demo in a new tab\n",
    "# webbrowser.open('http://localhost:8080/?solution=data/solution_feasible.csv&day=120')"
   ]
  },
  {
   "cell_type": "markdown",
   "id": "d4770771",
   "metadata": {},
   "source": [
    "This displays the demo using the tour that takes time of day into account"
   ]
  },
  {
   "cell_type": "code",
   "execution_count": null,
   "id": "a91716e1",
   "metadata": {},
   "outputs": [],
   "source": [
    "# Uncomment one and only one of Option 1 and Option 2\n",
    "\n",
    "# Option 1: This line will display the demo embedded in the notebook\n",
    "IFrame(src='http://localhost:8080/?solution=data/solution.csv&day=120', width=700, height=700)\n",
    "\n",
    "# # Option 2: This line will display the demo in a new tab\n",
    "# webbrowser.open('http://localhost:8080/?solution=data/solution.csv&day=120')"
   ]
  },
  {
   "cell_type": "code",
   "execution_count": null,
   "id": "3179272b",
   "metadata": {},
   "outputs": [],
   "source": [
    "# Shutdown server\n",
    "sleep(3) # Ensures that server shuts down AFTER the iFrame is served\n",
    "server.shutdown()\n",
    "server.server_close()\n",
    "server.socket.close()\n",
    "thread.join()"
   ]
  }
 ],
 "metadata": {
  "kernelspec": {
   "display_name": "engri_1101",
   "language": "python",
   "name": "engri_1101"
  },
  "language_info": {
   "codemirror_mode": {
    "name": "ipython",
    "version": 3
   },
   "file_extension": ".py",
   "mimetype": "text/x-python",
   "name": "python",
   "nbconvert_exporter": "python",
   "pygments_lexer": "ipython3",
   "version": "3.8.8"
  }
 },
 "nbformat": 4,
 "nbformat_minor": 2
}