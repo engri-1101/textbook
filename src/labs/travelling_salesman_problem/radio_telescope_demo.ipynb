{
 "cells": [
  {
   "cell_type": "code",
   "execution_count": null,
   "metadata": {},
   "outputs": [],
   "source": [
    "# import packages\n",
    "import numpy as np\n",
    "import pandas as pd\n",
    "import matplotlib.pyplot as plt\n",
    "from math import acos, sin, cos, radians, atan\n",
    "from ortools.constraint_solver import pywrapcp"
   ]
  },
  {
   "cell_type": "markdown",
   "metadata": {},
   "source": [
    "Current research to find an optimal tour of 2,079,471 stars: [gaia2079471](http://www.math.uwaterloo.ca/tsp/star/gaia1.html)"
   ]
  },
  {
   "cell_type": "markdown",
   "metadata": {},
   "source": [
    "### Load Data"
   ]
  },
  {
   "cell_type": "code",
   "execution_count": null,
   "metadata": {},
   "outputs": [],
   "source": [
    "# load dataframe\n",
    "data = pd.read_csv('data-demo/hygdata_v3.csv').set_index('id') # read a CSV file\n",
    "data = data[~data['proper'].isna()][['proper', 'dist', 'ra', 'dec', 'pmra', 'pmdec']].dropna()\n",
    "data = data.reset_index()\n",
    "\n",
    "# unit conversions\n",
    "data['dist'] = data['dist'].apply(lambda x: x*3.262) # convert from parsecs to lightyears\n",
    "data['ra'] = data['ra'].apply(lambda x: x*15) # convert from hours to degrees \n",
    "data['pmra'] = data['pmra'].apply(lambda x: x*2.7777776630942*10**(-7)) # convert to degrees per year\n",
    "data['pmdec'] = data['pmdec'].apply(lambda x: x*2.7777776630942*10**(-7)) # convert to degrees per year\n",
    "\n",
    "# rename fields\n",
    "data = data.rename(columns={'ra' : 'ra_2000', 'dec' : 'dec_2000'})\n",
    "\n",
    "# calcualte 2020 right ascension and declination\n",
    "data['ra_2020'] = data['ra_2000'] + 20*data['pmra']\n",
    "data['dec_2020'] = data['dec_2000'] + 20*data['pmdec']\n",
    "\n",
    "data.head() # preview"
   ]
  },
  {
   "cell_type": "markdown",
   "metadata": {},
   "source": [
    "### Create and Solve Model"
   ]
  },
  {
   "cell_type": "code",
   "execution_count": null,
   "metadata": {},
   "outputs": [],
   "source": [
    "# Create a distance matrix (great-circle distance on unit circle)\n",
    "\n",
    "# parameters\n",
    "alpha = 1 \n",
    "beta = 0\n",
    "\n",
    "# get normal vectors\n",
    "theta = data['ra_2020'].apply(lambda x: radians(x)).to_dict()\n",
    "phi = data['dec_2020'].apply(lambda x: radians(x+90)).to_dict()\n",
    "dist = data['dist'].apply(lambda x: radians(x)).to_dict()\n",
    "n = {}\n",
    "\n",
    "for i in range(len(data)):\n",
    "    x = cos(theta[i])*sin(phi[i])\n",
    "    y = sin(theta[i])*sin(phi[i])\n",
    "    z = cos(phi[i])\n",
    "    n[i] = np.array([x,y,z])\n",
    "    \n",
    "d = np.zeros((len(data),len(data)))\n",
    "for i in range(len(data)):\n",
    "    for j in range(len(data)): \n",
    "        if i < j:\n",
    "            rot_dist = atan(np.linalg.norm(np.cross(n[i],n[j]))/np.dot(n[i],n[j]))\n",
    "            zoom_dist = abs(dist[i] - dist[j])\n",
    "            total = alpha*rot_dist + beta*zoom_dist\n",
    "            d[i,j] = total\n",
    "            d[j,i] = total"
   ]
  },
  {
   "cell_type": "code",
   "execution_count": null,
   "metadata": {},
   "outputs": [],
   "source": [
    "# Create TSP model for OR-Tools\n",
    "\n",
    "# number of locations, number of vehicles, start location\n",
    "manager = pywrapcp.RoutingIndexManager(len(d), 1, 0)\n",
    "routing = pywrapcp.RoutingModel(manager)\n",
    "\n",
    "def distance_callback(from_index, to_index):\n",
    "    \"\"\"Returns the distance between the two nodes.\"\"\"\n",
    "    from_node = manager.IndexToNode(from_index)\n",
    "    to_node = manager.IndexToNode(to_index)\n",
    "    return d[from_node, to_node]*1000\n",
    "\n",
    "transit_callback_index = routing.RegisterTransitCallback(distance_callback)\n",
    "routing.SetArcCostEvaluatorOfAllVehicles(transit_callback_index)\n",
    "\n",
    "def get_routes(solution, routing, manager):\n",
    "    \"\"\"Get vehicle routes from a solution and store them in an array.\"\"\"\n",
    "    routes = []\n",
    "    for route_nbr in range(routing.vehicles()):\n",
    "        index = routing.Start(route_nbr)\n",
    "        route = [manager.IndexToNode(index)]\n",
    "        while not routing.IsEnd(index):\n",
    "            index = solution.Value(routing.NextVar(index))\n",
    "            route.append(manager.IndexToNode(index))\n",
    "        routes.append(route)\n",
    "    return routes\n",
    "\n",
    "solution = routing.Solve()\n",
    "tour = get_routes(solution, routing, manager)[0]"
   ]
  },
  {
   "cell_type": "markdown",
   "metadata": {
    "colab_type": "text",
    "id": "3ESNoxHIlCJE"
   },
   "source": [
    "### Visualizations"
   ]
  },
  {
   "cell_type": "code",
   "execution_count": null,
   "metadata": {},
   "outputs": [],
   "source": [
    "# generate a visualization of the star locations\n",
    "plt.figure(figsize=(20,10))\n",
    "ax = plt.axes()\n",
    "ax.set_facecolor('black')\n",
    "plt.scatter(data.ra_2020,data.dec_2020, marker='*', color='white', s=70)\n",
    "for index, row in data.iterrows():\n",
    "    plt.annotate(row['proper'], \n",
    "                 (row['ra_2020'],row['dec_2020']),\n",
    "                 textcoords=\"offset points\", \n",
    "                 xytext=(5,10),\n",
    "                 color= 'white',\n",
    "                 ha='center')\n",
    "plt.title('The Locations of 146 Stars', fontsize= 20)\n",
    "plt.xlabel('Right Ascension (Degrees)', fontsize= 15)\n",
    "plt.ylabel('Declination (Degrees)', fontsize= 15)\n",
    "plt.show()"
   ]
  },
  {
   "cell_type": "code",
   "execution_count": null,
   "metadata": {},
   "outputs": [],
   "source": [
    "# Generate scatter plot of star locations\n",
    "plt.figure(figsize=(20,10))\n",
    "ax = plt.axes()\n",
    "ax.set_facecolor('black')\n",
    "plt.scatter(data.ra_2020,data.dec_2020, marker='*', color='white', s=70)\n",
    "for index, row in data.iterrows():\n",
    "    plt.annotate(row['proper'], \n",
    "                 (row['ra_2020'],row['dec_2020']),\n",
    "                 textcoords=\"offset points\", \n",
    "                 xytext=(5,10),\n",
    "                 color= 'white',\n",
    "                 ha='center')\n",
    "    \n",
    "# Add path through these stars\n",
    "tour_proper = [data.iloc[i].proper for i in tour]\n",
    "tour_proper.append(tour_proper[0])\n",
    "tour_ra = [data[data.proper == proper].ra_2020.to_list()[0] for proper in tour_proper]\n",
    "tour_dec = [data[data.proper == proper].dec_2020.to_list()[0] for proper in tour_proper]\n",
    "plt.plot(tour_ra, tour_dec, color='white')\n",
    "\n",
    "# Set axes titles and display\n",
    "plt.title('An Optimal Tour of 146 Stars', fontsize= 20)\n",
    "plt.xlabel('Right Ascension (Degrees)', fontsize= 15)\n",
    "plt.ylabel('Declination (Degrees)', fontsize= 15)\n",
    "plt.show()"
   ]
  }
 ],
 "metadata": {
  "language_info": {
   "name": "python"
  }
 },
 "nbformat": 4,
 "nbformat_minor": 1
}
