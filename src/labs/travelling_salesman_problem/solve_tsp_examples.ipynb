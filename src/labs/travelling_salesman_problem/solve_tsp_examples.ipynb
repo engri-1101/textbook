{
 "cells": [
  {
   "cell_type": "code",
   "execution_count": null,
   "metadata": {},
   "outputs": [],
   "source": [
    "# imports\n",
    "import pandas as pd\n",
    "import pickle\n",
    "import networkx as nx\n",
    "from vinal.build import grid_instance, distance_matrix\n",
    "from concorde.tsp import TSPSolver # requires pyconcorde and mac\n",
    "from InvokeLKH import * # requires LKH solver\n",
    "import concorde"
   ]
  },
  {
   "cell_type": "code",
   "execution_count": null,
   "metadata": {},
   "outputs": [],
   "source": [
    "# Multiply by 1000 because EUC_2D rounds to nearest integer\n",
    "grid6x6 = grid_instance(6,6,manhattan=False)\n",
    "df = pd.DataFrame()\n",
    "df['x'] = nx.get_node_attributes(grid6x6,'x').values()\n",
    "df['y'] = nx.get_node_attributes(grid6x6,'y').values()\n",
    "grid6x6 = df*1000\n",
    "us_cities_23 = pd.read_csv('data/us_cities_23.csv', index_col=0)*1000\n",
    "xqf131 = pd.read_csv('data/xqf131.csv', index_col=0)*1000\n",
    "pcb442 = pd.read_csv('data/pcb442.csv', index_col=0)*1000"
   ]
  },
  {
   "cell_type": "code",
   "execution_count": null,
   "metadata": {},
   "outputs": [],
   "source": [
    "solver = TSPSolver.from_data(list(grid6x6.x), list(grid6x6.y), norm='EUC_2D')\n",
    "grid6x6_tour = list(solver.solve().tour)\n",
    "grid6x6_tour.append(grid6x6_tour[0])\n",
    "\n",
    "solver = TSPSolver.from_data(list(us_cities_23.x), list(us_cities_23.y), norm='EUC_2D')\n",
    "us_cities_23_tour = list(solver.solve().tour)\n",
    "us_cities_23_tour.append(us_cities_23_tour[0])\n",
    "\n",
    "solver = TSPSolver.from_data(list(xqf131.x), list(xqf131.y), norm='EUC_2D')\n",
    "xqf131_tour = list(solver.solve().tour)\n",
    "xqf131_tour.append(xqf131_tour[0])\n",
    "\n",
    "solver = TSPSolver.from_data(list(pcb442.x), list(pcb442.y), norm='EUC_2D')\n",
    "pcb442_tour = list(solver.solve().tour)\n",
    "pcb442_tour.append(pcb442_tour[0])"
   ]
  },
  {
   "cell_type": "code",
   "execution_count": null,
   "metadata": {},
   "outputs": [],
   "source": [
    "# use LKH to solve asymmetric TSP problem\n",
    "xqf131_etching = pd.read_csv('data/xqf131_etching.csv', index_col=0)*1000\n",
    "xqf131_etching_dm = distance_matrix(xqf131_etching, False, 'x_start', 'y_start', 'x_end', 'y_end').astype(int)\n",
    "writeTSPLIBfile_FE('xqf131_etching', xqf131_etching_dm, 'An ATSP instance for solving a PCB etching problem.')\n",
    "run_LKHsolver_cmd('xqf131_etching')\n",
    "xqf131_etching_tour = [int(i[:-1])-1 for i in open('xqf131_etching.txt').readlines()[6:-2]]\n",
    "xqf131_etching_tour.append(xqf131_etching_tour[0])\n",
    "rm_solution_file_cmd('xqf131_etching')"
   ]
  },
  {
   "cell_type": "code",
   "execution_count": null,
   "metadata": {},
   "outputs": [],
   "source": [
    "# remove pyconcorde generated files\n",
    "os.system('rm Oname.res')\n",
    "os.system('rm name.res')\n",
    "os.system('rm name.sol')"
   ]
  },
  {
   "cell_type": "code",
   "execution_count": null,
   "metadata": {},
   "outputs": [],
   "source": [
    "# create dictionary of optimal tours\n",
    "optimal_tours = {}\n",
    "optimal_tours['6x6_grid'] = grid6x6_tour\n",
    "optimal_tours['us_cities_23'] = us_cities_23_tour\n",
    "optimal_tours['xqf131'] = xqf131_tour\n",
    "optimal_tours['pcb442'] = pcb442_tour\n",
    "optimal_tours['xqf131_etching'] = xqf131_etching_tour"
   ]
  },
  {
   "cell_type": "code",
   "execution_count": null,
   "metadata": {},
   "outputs": [],
   "source": [
    "with open('data/optimal_tours.pickle', 'wb') as f:\n",
    "    pickle.dump(optimal_tours, f)"
   ]
  }
 ],
 "metadata": {
  "language_info": {
   "name": "python"
  }
 },
 "nbformat": 4,
 "nbformat_minor": 4
}
