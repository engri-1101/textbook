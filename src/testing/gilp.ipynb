{
 "cells": [
  {
   "cell_type": "markdown",
   "metadata": {
    "colab_type": "text",
    "id": "RBv5APyAuHlF"
   },
   "source": [
    "# Simplex Visualization"
   ]
  },
  {
   "cell_type": "code",
   "execution_count": null,
   "metadata": {},
   "outputs": [],
   "source": [
    "import gilp\n",
    "lp = gilp.examples.ALL_INTEGER_2D_LP\n",
    "gilp.simplex_visual(lp, initial_solution=[0,0]).show()"
   ]
  },
  {
   "cell_type": "code",
   "execution_count": null,
   "metadata": {},
   "outputs": [],
   "source": [
    "lp = gilp.examples.ALL_INTEGER_3D_LP\n",
    "gilp.simplex_visual(lp, initial_solution=[0,0,0]).show()"
   ]
  }
 ],
 "metadata": {
  "language_info": {
   "name": "python"
  }
 },
 "nbformat": 4,
 "nbformat_minor": 2
}
