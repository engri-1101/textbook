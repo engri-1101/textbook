{
 "cells": [
  {
   "cell_type": "markdown",
   "id": "bcb9e966",
   "metadata": {},
   "source": [
    "# Vinal"
   ]
  },
  {
   "cell_type": "code",
   "execution_count": null,
   "id": "67cfd38b",
   "metadata": {},
   "outputs": [],
   "source": [
    "import pandas as pd\n",
    "import vinal as vl\n",
    "from bokeh.io import output_notebook, show\n",
    "output_notebook()"
   ]
  },
  {
   "cell_type": "code",
   "execution_count": null,
   "id": "d5f444c3",
   "metadata": {},
   "outputs": [],
   "source": [
    "# Define a 6x8 grid network\n",
    "G = vl.grid_instance(6, 8, manhattan=True)"
   ]
  },
  {
   "cell_type": "code",
   "execution_count": null,
   "id": "3b2023b3",
   "metadata": {},
   "outputs": [],
   "source": [
    "# Walk through the random neighbor heuristic\n",
    "show(vl.tsp_heuristic_plot(G, 'random_neighbor', i=0))"
   ]
  },
  {
   "cell_type": "code",
   "execution_count": null,
   "id": "d06ff56c",
   "metadata": {},
   "outputs": [],
   "source": [
    "# Walk through the furthest insertion heuristic\n",
    "G = vl.grid_instance(9, 9, manhattan=True)\n",
    "tour = vl.furthest_insertion(G, initial_tour = [0,80,0])\n",
    "show(vl.tour_plot(G, tour))"
   ]
  },
  {
   "cell_type": "code",
   "execution_count": null,
   "id": "bbf15f56",
   "metadata": {},
   "outputs": [],
   "source": [
    "# Walk through the 2-OPT algorithm\n",
    "G = vl.grid_instance(9,9, manhattan=False)\n",
    "tour = vl.nearest_neighbor(G)\n",
    "show(vl.tsp_heuristic_plot(G, '2-OPT', tour=list(tour)))"
   ]
  },
  {
   "cell_type": "code",
   "execution_count": null,
   "id": "ce334b64",
   "metadata": {},
   "outputs": [],
   "source": [
    "# Defines the Cornell pizza network\n",
    "nodes = pd.read_csv('data/cornell_pizza_nodes.csv', index_col=0)\n",
    "edges = pd.read_csv('data/cornell_pizza_edges.csv', index_col=0)\n",
    "G = vl.create_network(nodes, edges)"
   ]
  },
  {
   "cell_type": "code",
   "execution_count": null,
   "id": "8343fefb",
   "metadata": {},
   "outputs": [],
   "source": [
    "show(vl.assisted_dijkstras_plot(G, s=0, width=500, height=500, show_cost=False))"
   ]
  },
  {
   "cell_type": "code",
   "execution_count": null,
   "id": "e0ae9f6c",
   "metadata": {},
   "outputs": [],
   "source": [
    "# Defines the fiber optic network\n",
    "nodes = pd.read_csv('data/fiber_optic_nodes.csv', index_col=0)\n",
    "edges = pd.read_csv('data/fiber_optic_edges.csv', index_col=0)\n",
    "G = vl.create_network(nodes, edges)"
   ]
  },
  {
   "cell_type": "code",
   "execution_count": null,
   "id": "fa2b4bb3",
   "metadata": {},
   "outputs": [],
   "source": [
    "# Walk through Prim's algorithm\n",
    "show(vl.mst_algorithm_plot(G, i=0, algorithm='prims', width=900, height=600))"
   ]
  },
  {
   "cell_type": "code",
   "execution_count": null,
   "id": "9e98a16c",
   "metadata": {},
   "outputs": [],
   "source": [
    "# Try running Kruskal's algorithm\n",
    "show(vl.assisted_mst_algorithm_plot(G, algorithm='kruskals', s=0, width=900, height=600))"
   ]
  }
 ],
 "metadata": {
  "language_info": {
   "name": "python"
  }
 },
 "nbformat": 4,
 "nbformat_minor": 5
}
